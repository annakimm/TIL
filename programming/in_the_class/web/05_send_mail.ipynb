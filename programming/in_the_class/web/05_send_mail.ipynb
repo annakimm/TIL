{
 "cells": [
  {
   "cell_type": "code",
   "execution_count": 1,
   "metadata": {},
   "outputs": [],
   "source": [
    "import smtplib, os, pickle\n",
    "from email import encoders\n",
    "from email.mime.text import MIMEText\n",
    "from email.mime.multipart import MIMEMultipart\n",
    "from email.mime.base import MIMEBase"
   ]
  },
  {
   "cell_type": "code",
   "execution_count": 2,
   "metadata": {},
   "outputs": [],
   "source": [
    "toAddr = [\"1221pdj@naver.com\", \"pdj1224@daum.net\", \"radajin1224@gmail.com\"]"
   ]
  },
  {
   "cell_type": "code",
   "execution_count": 7,
   "metadata": {},
   "outputs": [],
   "source": [
    "# radajin1224@gmail.com - testqwer!\n",
    "# 비밀번호 저장\n",
    "pw = \"testqwer!\"\n",
    "pickle.dump(pw, open(\"../pw.pickle\", 'wb'))"
   ]
  },
  {
   "cell_type": "code",
   "execution_count": 8,
   "metadata": {},
   "outputs": [
    {
     "data": {
      "text/plain": [
       "(235, b'2.7.0 Accepted')"
      ]
     },
     "execution_count": 8,
     "metadata": {},
     "output_type": "execute_result"
    }
   ],
   "source": [
    "# Access smtp server\n",
    "smtp = smtplib.SMTP('smtp.gmail.com', 587)\n",
    "smtp.ehlo()\n",
    "smtp.starttls()\n",
    "smtp.login('radajin1224@gmail.com', pickle.load( open('../pw.pickle', 'rb') ))"
   ]
  },
  {
   "cell_type": "code",
   "execution_count": 9,
   "metadata": {},
   "outputs": [],
   "source": [
    "# make msg\n",
    "msg = MIMEMultipart()\n",
    "msg['subject'] = \"SMTP 전송 테스트(제목)\""
   ]
  },
  {
   "cell_type": "code",
   "execution_count": 10,
   "metadata": {},
   "outputs": [],
   "source": [
    "part = MIMEText(\"SMTP TEXT 메시지 보내기\")\n",
    "msg.attach(part)"
   ]
  },
  {
   "cell_type": "code",
   "execution_count": 15,
   "metadata": {},
   "outputs": [
    {
     "data": {
      "text/plain": [
       "<email.mime.multipart.MIMEMultipart at 0x116685400>"
      ]
     },
     "execution_count": 15,
     "metadata": {},
     "output_type": "execute_result"
    }
   ],
   "source": [
    "msg # 제목, 본문이 추가됨"
   ]
  },
  {
   "cell_type": "code",
   "execution_count": 18,
   "metadata": {},
   "outputs": [],
   "source": [
    "# send mail \n",
    "for addr in toAddr:\n",
    "    msg[\"To\"] = addr\n",
    "    # (보내는 사람 메일, 받는 사람 메일, 메세지)    \n",
    "    smtp.sendmail('radajin1224@gmail.com', addr, msg.as_string())"
   ]
  },
  {
   "cell_type": "code",
   "execution_count": 19,
   "metadata": {},
   "outputs": [
    {
     "data": {
      "text/plain": [
       "(221, b'2.0.0 closing connection t67-v6sm7059758pfg.51 - gsmtp')"
      ]
     },
     "execution_count": 19,
     "metadata": {},
     "output_type": "execute_result"
    }
   ],
   "source": [
    "# close smtp object\n",
    "smtp.quit()"
   ]
  },
  {
   "cell_type": "markdown",
   "metadata": {},
   "source": [
    "##### send html"
   ]
  },
  {
   "cell_type": "code",
   "execution_count": 30,
   "metadata": {},
   "outputs": [],
   "source": [
    "def get_smtp():\n",
    "    smtp = smtplib.SMTP('smtp.gmail.com', 587)\n",
    "    smtp.ehlo()\n",
    "    smtp.starttls()\n",
    "    smtp.login('radajin1224@gmail.com', pickle.load( open('../pw.pickle', 'rb') ))\n",
    "    return smtp"
   ]
  },
  {
   "cell_type": "code",
   "execution_count": 31,
   "metadata": {},
   "outputs": [
    {
     "data": {
      "text/plain": [
       "<smtplib.SMTP at 0x116d1fc18>"
      ]
     },
     "execution_count": 31,
     "metadata": {},
     "output_type": "execute_result"
    }
   ],
   "source": [
    "smtp = get_smtp()\n",
    "smtp"
   ]
  },
  {
   "cell_type": "code",
   "execution_count": 32,
   "metadata": {},
   "outputs": [
    {
     "data": {
      "text/plain": [
       "<email.mime.multipart.MIMEMultipart at 0x11670f908>"
      ]
     },
     "execution_count": 32,
     "metadata": {},
     "output_type": "execute_result"
    }
   ],
   "source": [
    "msg = MIMEMultipart()\n",
    "\n",
    "# 제목\n",
    "msg['subject'] = \"HTML 전송 테스트\"\n",
    "\n",
    "# 내용\n",
    "part = MIMEText(\"Html 코드 보내기\")\n",
    "msg.attach(part)\n",
    "\n",
    "# HTML\n",
    "part_html = MIMEText('<br><a href=\"http://www.fastcampus.co.kr/\">\\\n",
    "패스트캠퍼스</a>', 'html')\n",
    "msg.attach(part_html)\n",
    "\n",
    "msg # 제목, 내용, html"
   ]
  },
  {
   "cell_type": "code",
   "execution_count": 33,
   "metadata": {},
   "outputs": [],
   "source": [
    "# 전송\n",
    "def send_mails(smtp, toAddr, msg):\n",
    "    for addr in toAddr:\n",
    "        msg[\"To\"] = addr\n",
    "        smtp.sendmail(\"radajin1224@gmail.com\", addr, msg.as_string())\n",
    "    smtp.quit()"
   ]
  },
  {
   "cell_type": "code",
   "execution_count": 34,
   "metadata": {},
   "outputs": [
    {
     "data": {
      "text/plain": [
       "(<smtplib.SMTP at 0x116d1fc18>,\n",
       " ['1221pdj@naver.com', 'pdj1224@daum.net', 'radajin1224@gmail.com'],\n",
       " <email.mime.multipart.MIMEMultipart at 0x11670f908>)"
      ]
     },
     "execution_count": 34,
     "metadata": {},
     "output_type": "execute_result"
    }
   ],
   "source": [
    "smtp, toAddr, msg"
   ]
  },
  {
   "cell_type": "code",
   "execution_count": 35,
   "metadata": {},
   "outputs": [],
   "source": [
    "send_mails(smtp, toAddr, msg)"
   ]
  },
  {
   "cell_type": "markdown",
   "metadata": {},
   "source": [
    "##### send file"
   ]
  },
  {
   "cell_type": "code",
   "execution_count": 60,
   "metadata": {},
   "outputs": [],
   "source": [
    "smtp = get_smtp()"
   ]
  },
  {
   "cell_type": "code",
   "execution_count": 61,
   "metadata": {},
   "outputs": [],
   "source": [
    "msg = MIMEMultipart()\n",
    "msg[\"subject\"] = \"Send file test\"\n",
    "part = MIMEText(\"파일 전송 테스트\")\n",
    "msg.attach(part)"
   ]
  },
  {
   "cell_type": "code",
   "execution_count": 62,
   "metadata": {},
   "outputs": [],
   "source": [
    "# file attach - pdf\n",
    "# file_name = \"iPhone8.mp4\"\n",
    "file_name = \"img.png\"\n",
    "maintype, subtype = \"application\", \"octet-steam\"\n",
    "with open(file_name, \"rb\") as fp:\n",
    "    part = MIMEBase(maintype, subtype)\n",
    "    part.set_payload(fp.read()) # part - mp4\n",
    "    encoders.encode_base64(part) # 문자열\n",
    "    \n",
    "part.add_header(\"Content-Disposition\", \"attachment\", filename=file_name)\n",
    "msg.attach(part)"
   ]
  },
  {
   "cell_type": "code",
   "execution_count": 63,
   "metadata": {},
   "outputs": [
    {
     "data": {
      "text/plain": [
       "<email.mime.multipart.MIMEMultipart at 0x10f73dc18>"
      ]
     },
     "execution_count": 63,
     "metadata": {},
     "output_type": "execute_result"
    }
   ],
   "source": [
    "msg # 본문, 파일"
   ]
  },
  {
   "cell_type": "code",
   "execution_count": 64,
   "metadata": {},
   "outputs": [],
   "source": [
    "send_mails(smtp, toAddr, msg)"
   ]
  }
 ],
 "metadata": {
  "kernelspec": {
   "display_name": "Python 3",
   "language": "python",
   "name": "python3"
  },
  "language_info": {
   "codemirror_mode": {
    "name": "ipython",
    "version": 3
   },
   "file_extension": ".py",
   "mimetype": "text/x-python",
   "name": "python",
   "nbconvert_exporter": "python",
   "pygments_lexer": "ipython3",
   "version": "3.6.4"
  }
 },
 "nbformat": 4,
 "nbformat_minor": 2
}
