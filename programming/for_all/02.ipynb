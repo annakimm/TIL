{
 "cells": [
  {
   "cell_type": "markdown",
   "metadata": {},
   "source": [
    "#### 최대값 찾기"
   ]
  },
  {
   "cell_type": "code",
   "execution_count": 1,
   "metadata": {},
   "outputs": [
    {
     "data": {
      "text/plain": [
       "92"
      ]
     },
     "execution_count": 1,
     "metadata": {},
     "output_type": "execute_result"
    }
   ],
   "source": [
    "def find_max(a):\n",
    "    list_f = a[0]\n",
    "    for i in range(len(a)):\n",
    "        if a[i] > list_f:\n",
    "            list_f = a[i]\n",
    "    return list_f\n",
    "v = [17, 92, 18, 33, 58, 7, 33, 42]\n",
    "find_max(v)"
   ]
  },
  {
   "cell_type": "markdown",
   "metadata": {},
   "source": [
    "리스트에 숫자가 n개 있을 때 가장 큰 값이 있는 위치 번호를 돌려주는 알고리즘"
   ]
  },
  {
   "cell_type": "code",
   "execution_count": 2,
   "metadata": {},
   "outputs": [
    {
     "data": {
      "text/plain": [
       "1"
      ]
     },
     "execution_count": 2,
     "metadata": {},
     "output_type": "execute_result"
    }
   ],
   "source": [
    "# 입력 : 숫자가 n개 들어있는 리스트\n",
    "# 출력 : 숫자 n개 중에서 최대값의 위치(0부터 n-1의 값)\n",
    "def max_s(a):\n",
    "    list_l = 0\n",
    "    for i in range(1, len(a)):\n",
    "        if a[i] > a[list_l]:\n",
    "            list_l = i\n",
    "    return list_l\n",
    "v = [17, 92, 18, 33, 58, 7, 33, 42]    \n",
    "max_s(v)"
   ]
  },
  {
   "cell_type": "markdown",
   "metadata": {},
   "source": [
    "숫자 n개를 리스트로 입력 받아 최소값을 구하는 프로그램을 만들어 보세요"
   ]
  },
  {
   "cell_type": "code",
   "execution_count": 3,
   "metadata": {},
   "outputs": [
    {
     "data": {
      "text/plain": [
       "7"
      ]
     },
     "execution_count": 3,
     "metadata": {},
     "output_type": "execute_result"
    }
   ],
   "source": [
    "# 입력 : 숫자가 n개 들어있는 리스트\n",
    "# 출력 : 숫자 n개 중에서 최대값\n",
    "def min_l(a):\n",
    "    min_i = a[0]\n",
    "    for i in range(1, len(a)):\n",
    "        if a[i] < min_i:\n",
    "            min_i = a[i]\n",
    "    return min_i\n",
    "v = [17, 92, 18, 33, 58, 7, 33, 42]  \n",
    "min_l(v)"
   ]
  },
  {
   "cell_type": "markdown",
   "metadata": {},
   "source": [
    "#### 동명이인 찾기\n",
    "n명의 사람 이름 중에서 같은 이름을 찾아 집합으로 만들어 돌려주는 알고리즘 만들기"
   ]
  },
  {
   "cell_type": "markdown",
   "metadata": {},
   "source": [
    "##### 집합(set)의 기능\n",
    "- `add(x)` : 집합에 성분 x를 추가\n",
    "- `discard(x)` : 집합에 성분 x가 들어있다면 삭제(없으면 변화 없음)\n",
    "- `clear()` : 집합의 모든 성분 제거"
   ]
  },
  {
   "cell_type": "code",
   "execution_count": 4,
   "metadata": {},
   "outputs": [
    {
     "data": {
      "text/plain": [
       "{'Mike', 'Tom'}"
      ]
     },
     "execution_count": 4,
     "metadata": {},
     "output_type": "execute_result"
    }
   ],
   "source": [
    "# 입력 : n개의 이름이 들어있는 리스트\n",
    "# 출력 : 중복된 이름의 집합(set)\n",
    "def find_same_name(a):\n",
    "    result = set()\n",
    "    for i in range(len(a)-1):\n",
    "        for j in range(i+1, len(a)):\n",
    "            if a[i] == a[j]:\n",
    "                result.add(a[i])\n",
    "    return result\n",
    "\n",
    "name = ['Tom', 'Jerry', 'Mike', 'Tom', 'James', 'Tom', 'Mike']\n",
    "find_same_name(name)"
   ]
  },
  {
   "cell_type": "code",
   "execution_count": 15,
   "metadata": {},
   "outputs": [
    {
     "ename": "AttributeError",
     "evalue": "'list' object has no attribute 'sub'",
     "output_type": "error",
     "traceback": [
      "\u001b[1;31m---------------------------------------------------------------------------\u001b[0m",
      "\u001b[1;31mAttributeError\u001b[0m                            Traceback (most recent call last)",
      "\u001b[1;32m<ipython-input-15-cf19ccca8918>\u001b[0m in \u001b[0;36m<module>\u001b[1;34m()\u001b[0m\n\u001b[1;32m----> 1\u001b[1;33m \u001b[0mname\u001b[0m\u001b[1;33m.\u001b[0m\u001b[0msub\u001b[0m\u001b[1;33m(\u001b[0m\u001b[0mset\u001b[0m\u001b[1;33m(\u001b[0m\u001b[0mname\u001b[0m\u001b[1;33m)\u001b[0m\u001b[1;33m)\u001b[0m\u001b[1;33m\u001b[0m\u001b[0m\n\u001b[0m",
      "\u001b[1;31mAttributeError\u001b[0m: 'list' object has no attribute 'sub'"
     ]
    }
   ],
   "source": []
  },
  {
   "cell_type": "code",
   "execution_count": null,
   "metadata": {},
   "outputs": [],
   "source": []
  }
 ],
 "metadata": {
  "kernelspec": {
   "display_name": "Python 3",
   "language": "python",
   "name": "python3"
  },
  "language_info": {
   "codemirror_mode": {
    "name": "ipython",
    "version": 3
   },
   "file_extension": ".py",
   "mimetype": "text/x-python",
   "name": "python",
   "nbconvert_exporter": "python",
   "pygments_lexer": "ipython3",
   "version": "3.6.4"
  }
 },
 "nbformat": 4,
 "nbformat_minor": 2
}
