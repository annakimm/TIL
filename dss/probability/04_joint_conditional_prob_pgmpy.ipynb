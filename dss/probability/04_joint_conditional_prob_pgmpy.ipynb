{
 "cells": [
  {
   "cell_type": "markdown",
   "metadata": {
    "school_cell_uuid": "a836639742b343e88103d308f7c04a63"
   },
   "source": [
    "# 결합 확률과 조건부 확률"
   ]
  },
  {
   "cell_type": "markdown",
   "metadata": {
    "school_cell_uuid": "b30f7e360ea64872a3dc6d6d296b3784"
   },
   "source": [
    "## 범인 찾기 문제"
   ]
  },
  {
   "cell_type": "markdown",
   "metadata": {
    "school_cell_uuid": "d9adfad68d5f4e3aa07c2489b7a4a16d"
   },
   "source": [
    "살인 사건이 발생하였다고 가정하자. 경찰은 전체 용의자 목록을 가지고 있다. 베이지안 확률론 관점에서 전체 용의자 목록은 바로 표본 공간이다. 우리가 알고 싶은 것은 전체 용의자 목록(표본 공간)에서 누가 범인(선택된 표본)인가 하는 점이다. 현재 표본 공간은 20명의 용의자로 구성되어 있으며 이 중 남자가 12명, 여자가 8명이라고 가정한다.\n",
    "\n",
    "만약 담당 형사가 범인은 남자라고 생각한다면, \"범인이 남자이다.\"라는 주장은 확률론적 관점에서 남성인 용의자(표본)로만 이루어진 사건(표본 공간의 부분 집합)이 된다. 이를 사건 $A$ 라고 하자.\n",
    "\n",
    "이 때 우리가 관심을 가지는 것은 \"범인이 남자\"라는 사건 $A$의 신뢰도 즉, 사건 $A$의 확률 $P(A)$ 이다. 아무런 추가 정보가 없다면 모든 사람이 범인일 가능성이 같기 때문에 범인이 남자일 확률 $P(A)$는 다음과 같이 전체 용의자의 수로 남자 용의자의 수를 나눈\n",
    " 값이 된다.\n",
    "\n",
    "$$ P(A) = \\dfrac{12}{12 + 8} = \\dfrac{12}{20} = 0.6 $$"
   ]
  },
  {
   "cell_type": "markdown",
   "metadata": {
    "school_cell_uuid": "4d71a5ecd7bc4a7cabe05ccfb39cdfdf"
   },
   "source": [
    "이 때 새로운 사건 $B$ 가 발생하였다고 하자. 범인의 머리카락이 발견된 것이다. 발견된 범인의 머리카락에서 범인은 머리가 길다는 사실을 알게되었다."
   ]
  },
  {
   "cell_type": "markdown",
   "metadata": {
    "school_cell_uuid": "9c5cd83cc0174171850c1ae678a86718"
   },
   "source": [
    "<img src=\"https://datascienceschool.net/upfiles/56d3472588664eca851f098acda40e54.jpeg\" style=\"width:60%\">"
   ]
  },
  {
   "cell_type": "markdown",
   "metadata": {
    "school_cell_uuid": "825f53e148a24e6484433e56a9af4eaf"
   },
   "source": [
    "이 새로운 사건 $B$ 은 확률론적으로는 새로운 용의자 목록, 즉 머리카락이 긴 사람의 목록이라는 표본 공간의 새로운 부분 집합을 의미한다. 그리고 사건 $B$가 발생했다는 것은 이 용의자 목록에 진짜로 범인이 포함되었다는 뜻이다. \n",
    "\n",
    "현재 표본 공간 즉, 전체 용의자 목록에는 머리가 긴 사람이 10 명, 머리가 짧은 사람이 10 명이 있다. 만약 이 사건이 진실이라는 보장이 없다면, 사건 $B$에 대한 확률 $P(B)$, 즉 머리가 긴 사람이 범인이라는 주장의 신뢰도는 다음과 같다.\n",
    "\n",
    "$$ P(B) = \\dfrac{10}{10 + 10} = \\dfrac{10}{20} = 0.5 $$"
   ]
  },
  {
   "cell_type": "markdown",
   "metadata": {
    "school_cell_uuid": "686a007aed70417cba029015ff904bac"
   },
   "source": [
    "지금까지의 상황을 요약하면 다음과 같다."
   ]
  },
  {
   "cell_type": "markdown",
   "metadata": {
    "bootstrap": {
     "panel": {
      "class": "panel-danger",
      "heading": ""
     }
    },
    "school_cell_uuid": "b759564c730a4502898f4eb1130f6e4e"
   },
   "source": [
    "* 살인 사건 발생. 용의자는 20명\n",
    "    * 남자 12명, 여자 8명\n",
    "    * 머리가 긴 사람 10명, 머리가 짧은 사람 10명\n",
    "* 범인이 남자일 확률 \n",
    "    * 남자의 집합(사건) $A$에 범인(선택된 표본)이 속해 있다는 주장의 신뢰도: $P(A) = 0.6$\n",
    "* 범인이 머리가 길 확률 \n",
    "    * 머리가 긴 사람의 집합(사건) $B$에 범인(선택된 표본)이 속해 있다는 주장의 신뢰도: $P(B) = 0.5$ "
   ]
  },
  {
   "cell_type": "markdown",
   "metadata": {
    "school_cell_uuid": "bbe38d0b38f64ee2b204c0507a6e155c"
   },
   "source": [
    "## 결합 확률과 조건부 확률"
   ]
  },
  {
   "cell_type": "markdown",
   "metadata": {
    "school_cell_uuid": "7bb10fdb8f564e6a91af5e396d4b69f2"
   },
   "source": [
    "베이지안 확률론은 두 사건 $A$와 $B$의 관계를 알고 있다면 사건 $B$가 발생하였다는 사실로부터 기존에 알고 있는 사건 $A$에 대한 확률 $P(A)$를 좀 더 정확한 확률로 바꿀 수 있는 방법을 알려준다. 이를 위해서는 결합 확률과 조건부 확률이라는 두 가지 개념을 정의해야 한다."
   ]
  },
  {
   "cell_type": "markdown",
   "metadata": {
    "school_cell_uuid": "385fb2e70165424cbb06903808b6ddf7"
   },
   "source": [
    "**결합 확률(joint probability)**은 **사건 $A$와 $B$가 동시에 발생할 확률**이다. 즉, 사건(명제/주장) $A$도 진실이고 사건(명제/주장) $\n",
    "B$도 진실이므로 사건 $A$와 $B$의 교집합의 확률을 계산하는 것과 같다.\n",
    "\n",
    "$$ P(A \\cap B) \\text{ 또는 } P(A, B) $$\n",
    "\n",
    "결합 확률과 대비되는 개념으로 결합되지 않는 개별 사건의 확률 $P(A)$ 또는 $P(B)$를 **주변 확률(marginal probability)**라고 한다."
   ]
  },
  {
   "cell_type": "markdown",
   "metadata": {
    "school_cell_uuid": "78e2f0207b0d42afbe108b8d86521c97"
   },
   "source": [
    "또한 $B$가 사실일 경우의 사건 $A$에 대한 확률을\n",
    " **사건 $B$에 대한 사건 $A$의 조건부 확률(conditional probability)**이라고 하며 다음과 같이 표기한다.\n",
    "\n",
    "\n",
    "$$ P(A | B) $$"
   ]
  },
  {
   "cell_type": "markdown",
   "metadata": {
    "school_cell_uuid": "b754ce8a59494a9d920215a6ceab6fd9"
   },
   "source": [
    "조건부 확률은 다음처럼 정의한다.\n",
    "\n",
    "$$ P(A|B) = \\dfrac{P(A,B)}{P(B)} $$"
   ]
  },
  {
   "cell_type": "markdown",
   "metadata": {
    "school_cell_uuid": "b5c360f040e246b09b3dc9198a269af4"
   },
   "source": [
    "조건부 확률이 위와 같이 정의된 근거는 다음과 같다.\n",
    "\n",
    "1. 사건 $B$가 사실이므로 모든 가능한 표본은 사건 $B$에 포함되어야 한다. 즉,  표본 공간 $\\Omega \\rightarrow B$가 된다.\n",
    "1. 사건 $A$의 원소는 모두 사건 $B$의 원소도 되므로 사실상 사건 $A \\cap B$의 원소가 된다. 즉, $A \\rightarrow A \\cap B$가 된다.\n",
    "1. 따라서 사건 $A$의 확률 즉, 신뢰도는 원래의 신뢰도(결합 확률)를 새로운 표본 공간의 신뢰도(확률)로 정규화(normalize)한 값이라고 할 수 있다."
   ]
  },
  {
   "cell_type": "markdown",
   "metadata": {
    "bootstrap": {
     "panel": {
      "class": "panel-danger",
      "heading": ""
     }
    },
    "school_cell_uuid": "e2112d9afc2f46e6bee06be847ad6994"
   },
   "source": [
    "\n",
    "* 조건부 확률 $P(A|B)$ \n",
    "  * 사건 B가 발생한 경우의 사건 A의 확률\n",
    "  * 표본이 이벤트 B에 속한다는 새로운 **사실**을 알게 되었을 때, \n",
    "  * 이 표본이 사건 A에 속한다는 사실의 정확성(신뢰도)이 어떻게 변하는지를 알려준다.\n",
    "\n",
    "\n",
    "* 예를 들어, 범인 찾기 문제에서\n",
    "  * $P(A)$: 범인이 남자일 확률\n",
    "  * $P(B)$: 범인이 머리가 길 확률\n",
    "  * $P(A|B)$: 범인이 머리가 길다는 **사실**을 알게 되었을 때, 달라진(갱신된) \"범인이 남자일 확률\"\n",
    "\n",
    "\n",
    "* 조건부 확률의 값\n",
    "\n",
    "$$ P(A|B) = \\dfrac{P(A,B)}{P(B)} $$"
   ]
  },
  {
   "cell_type": "markdown",
   "metadata": {
    "school_cell_uuid": "f34648ec225547a69eed05b78f05c9ff"
   },
   "source": [
    "여기서 주의할 점은 사건 $A$와 사건 $B$의 결합 확률의 값 $P(A,B)$은 기존의 사건 $A$의 확률 $P(A)$나 사건 $B$의 확률 $P(B)$와는 전혀 무관한 별개의 정보이다. 즉, 수학적으로 계산하여 구할 수 있는 값이 아니라 외부에서 주어지지 않으면 안되는 정보인 것이다."
   ]
  },
  {
   "cell_type": "markdown",
   "metadata": {
    "school_cell_uuid": "ac7a32c2dfb749cf89aec6353700f4ed"
   },
   "source": [
    "앞서 예를 들었던 범인 찾기의 경우에도 이미 주어진 정보 $P(A)$, $P(B)$와 관계없이 $P(A,B)$는 여러 가지 경우가 있을 수 있다. \n",
    "\n",
    "한 예를 들어 12명의 남자 중 머리가 긴 사람이 다음과 같이 3명일 수도 있고\n",
    "\n",
    "<table class=\"table-bordered\" style=\"width:90%\">\n",
    "  <tr>\n",
    "    <td></td>\n",
    "    <td>범인이 머리가 길다: $P(B)=0.5$</td>\n",
    "    <td>범인이 머리가 길지 않다: $P(B^C)=0.5$</td> \n",
    "    <td>계</td> \n",
    "  </tr>\n",
    "  <tr>\n",
    "    <td>범인이 남자다: $P(A)=0.6$</td>\n",
    "    <td>3명 $\\;\\;\\;P(A,B) = \\dfrac{3}{20}$</td>\n",
    "    <td>9명 $\\;\\;\\;P(A,B^C) = \\dfrac{9}{20}$</td>\n",
    "    <td>12명</td>\n",
    "  </tr>\n",
    "  <tr>\n",
    "    <td>범인이 여자다: $P(A^C)=0.4$</td> \n",
    "    <td>7명 $\\;\\;\\;P(A^C,B) = \\dfrac{7}{20}$</td>\n",
    "    <td>1명 $\\;\\;\\;P(A^C,B^C) = \\dfrac{1}{20}$</td> \n",
    "    <td>8명</td> \n",
    "  </tr>\n",
    "  <tr>\n",
    "    <td>계</td> \n",
    "    <td>10명 </td>\n",
    "    <td>10명</td> \n",
    "    <td></td> \n",
    "  </tr>\n",
    "</table>\n",
    "\n",
    "또 다른 경우에는 12명의 남자 중 머리가 긴 사람이 다음과 같이 6명일 수도 있다.\n",
    "\n",
    "<table class=\"table-bordered\" style=\"width:90%\">\n",
    "  <tr>\n",
    "    <td></td>\n",
    "    <td>범인이 머리가 길다: $P(B)=0.5$</td>\n",
    "    <td>범인이 머리가 길지 않다: $P(B^C)=0.5$</td> \n",
    "    <td>계</td> \n",
    "  </tr>\n",
    "  <tr>\n",
    "    <td>범인이 남자다: $P(A)=0.6$</td>\n",
    "    <td>6명 $\\;\\;\\;P(A,B) = \\dfrac{6}{20}$</td>\n",
    "    <td>6명 $\\;\\;\\;P(A,B^C) = \\dfrac{6}{20}$</td>\n",
    "    <td>12명</td>\n",
    "  </tr>\n",
    "  <tr>\n",
    "    <td>범인이 여자다: $P(A^C)=0.4$</td> \n",
    "    <td>4명 $\\;\\;\\;P(A^C,B) = \\dfrac{4}{20}$</td>\n",
    "    <td>4명 $\\;\\;\\;P(A,B^C) = \\dfrac{4}{20}$</td> \n",
    "    <td>8명</td> \n",
    "  </tr>\n",
    "  <tr>\n",
    "    <td>계</td> \n",
    "    <td>10명 </td>\n",
    "    <td>10명</td> \n",
    "    <td></td> \n",
    "  </tr>\n",
    "</table>"
   ]
  },
  {
   "cell_type": "markdown",
   "metadata": {
    "school_cell_uuid": "eb64ca97040a42af8ede43efa4a68332"
   },
   "source": [
    "이 두가지 경우에 대해 조건부 확률 $P(A|B)$를 구해보자."
   ]
  },
  {
   "cell_type": "markdown",
   "metadata": {
    "school_cell_uuid": "a8d3844a20c14359910f01d225471c8d"
   },
   "source": [
    "만약 머리가 긴 남자가 3명이라면\n",
    "\n",
    "$$ P(A|B) = \\dfrac{P(A, B)}{P(B)} = \\dfrac{3/20}{10/20}  = \\dfrac{3}{10} $$ \n",
    "\n",
    "이 된다. 원래 사건 $A$의 확률 $P(A)$가 0.6 즉 60% 였으므로 범인이 머리카락이 길다는 정보로 인해 남자가 범인일 확률은 절반으로 뚝 떨어졌다."
   ]
  },
  {
   "cell_type": "markdown",
   "metadata": {
    "school_cell_uuid": "5755c9a8980e4abab635d369769eee7b"
   },
   "source": [
    "만약 머리가 긴 남자가 6명이라면\n",
    "\n",
    "$$ P(A|B) = \\dfrac{P(A, B)}{P(B)} = \\dfrac{6/20}{10/20}  = \\dfrac{6}{10} $$ \n",
    "\n",
    "이 된다.\n",
    "\n",
    "이 경우에는 새로운 정보(사건 $B$)가 주어지든 주어지지 않았든 남자가 범인일 확률은 변함없다. 이러한 경우에는 사건 $A$가 사건 $B$와 서로 독립(independent)이라고 한다."
   ]
  },
  {
   "cell_type": "markdown",
   "metadata": {
    "school_cell_uuid": "ab957c6c4ad241c7ad3d55b8aa3cd02a"
   },
   "source": [
    "## 독립"
   ]
  },
  {
   "cell_type": "markdown",
   "metadata": {},
   "source": [
    "사건 A의 발생여부가 사건 B의 발생여부에 대한 정보(혹은 그 반대로)를 제공한다면 두사건 E와 F는 종속사건(dependent events)으로 볼 수 있다. 그렇지 않다면 두 사건은 독립사건(independent events)이다.\n",
    "\n",
    "예를 들어 동전을 두 번 던졌을 때 첫번째 동전에서 앞면이 나왔더라도 두 번째 동전에서 마찬가지로 앞면이 나올 것인지는 아무도 알 수 없다. 이 두 사건은 독립사건이다. 하지만 첫번째 동전에서 앞면이 나왔다면 두 동전에서 모두 뒷면이 나오는 경우의 발생여부에 대해서는 알 수 없다. (만약 첫번째 동전에서 앞면이 나왔다면, 두 동전에서 모두 뒷면이 나올 경우는 사라지기 때문이다.) 그렇다면 두 사건은 종속사건이다."
   ]
  },
  {
   "cell_type": "markdown",
   "metadata": {
    "school_cell_uuid": "d80ff2183d1f4f07b463da041950fd95"
   },
   "source": [
    "수학적으로는 사건 $A$와 사건 $B$의 결합 확률의 값이 다음과 같은 관계가 성립하면 두 사건 $A$와 $B$는 서로 독립(independent)라고 정의한다. \n",
    "\n",
    "$$ P(A,B) = P(A)P(B) $$\n",
    "\n",
    "동전던지기 예시를 다시 살펴보면 첫번째 동전에서 앞면이 나올 확률은 1/2이고 두 동전이 모두 뒷면일 확률은 1/4이다. 하지만 첫번째 동전이 앞면이고 두 동전이 뒷면일 확률은 0 이기 때문에 두 사건은 종속사건이다. $1/2 * 1/4 \\neq 0$"
   ]
  },
  {
   "cell_type": "markdown",
   "metadata": {
    "school_cell_uuid": "28184569515d445c8056fe0302d09283"
   },
   "source": [
    "독립인 경우 조건부 확률과 원래의 확률이 같아짐을 알 수 있다. 즉, $B$ 라는 사건이 발생하든 말든 사건 $A$ 에는 전혀 영향을 주지 않는 다는 것이다.\n",
    "\n",
    "\n",
    "$$ P(A|B) = \\dfrac{P(A,B)}{P(B)} = \\dfrac{P(A)P(B)}{P(B)} = P(A) $$"
   ]
  },
  {
   "cell_type": "markdown",
   "metadata": {
    "school_cell_uuid": "7175be88c6fe4b01b928750ab94ee8e0"
   },
   "source": [
    "## 원인과 결과, 근거과 추론, 가정과 조건부 결론"
   ]
  },
  {
   "cell_type": "markdown",
   "metadata": {
    "school_cell_uuid": "24415ec66b78427a971af3cec63b4d07"
   },
   "source": [
    "조건부 확률 $P(A|B)$에서 사건(주장/명제) $B$, $A$는 각각 \n",
    "\n",
    "* \"가정과 그 가정에 따른 조건부 결론\" 또는\n",
    "* \"원인과 결과\" 또는 \n",
    "* \"근거와 추론\"  \n",
    "\n",
    "으로 생각할 수도 있다.\n",
    "\n",
    "또 조건부 확률의 정의를 바꿔 쓰면 다음과 같이 되는데,\n",
    "\n",
    "$$ P(A,B) = P(A|B) P(B)$$\n",
    "\n",
    "이 식은 다음과 같은 관점에서 볼 수 있다.\n",
    "\n",
    "> $A,B$가 모두 발생할 확률은 $B$라는 사건이 발생할 확률과 그 사건이 발생한 경우 다시 $A$가 발생할 경우의 곱\n",
    "\n",
    "\n",
    "\n"
   ]
  },
  {
   "cell_type": "markdown",
   "metadata": {
    "school_cell_uuid": "34e7d4afdbff4413a2a503afc42e5af3"
   },
   "source": [
    "## pgmpy 패키지"
   ]
  },
  {
   "cell_type": "markdown",
   "metadata": {
    "school_cell_uuid": "b57973b5dd1d4a8790cc6f2866168757"
   },
   "source": [
    "pgmpy(Probabilistic Graphical Models in Python) 패키지를 사용하면 이산 확률 모형을 쉽게 구현할 수 있다. pgmpy 패키지의 `JointProbabilityDistribution` 클래스는 결합 확률 모형을 만들기 위한 클래스이다. 사용법은 다음과 같다.\n",
    "\n",
    "```\n",
    "JointProbabilityDistribution(variables, cardinality, values)\n",
    "```\n",
    "\n",
    "* `variables`: 확률 변수의 이름 문자열의 리스트\n",
    "* `cardinality`: 각 확률 변수의 경우의 수(cardinality)의 리스트\n",
    "* `values`: 각 확률 변수의 모든 경우의 조합에 대한 확률 값의 리스트\n",
    "\n",
    "`variables`에 들어가는 인수가 사건의 이름이 아니라 확률 변수의 이름이라는 점에 주의하라. "
   ]
  },
  {
   "cell_type": "markdown",
   "metadata": {
    "school_cell_uuid": "fd9e3c1dc4b347f2896fa65d986ed8e9"
   },
   "source": [
    "배타적이면서 합집합이 전체 집합이 되는 사건은 하나의 확률변수로 표현할 수 있다. **확률 변수**가 특정한 값을 가지면 하나의 사건이 된다.  위의 범인 찾기 문제에서는  두 개의 확률 변수 $X$, $Y$를 정의할 수 있다. 확률 변수 $X$는 성별을 나타내고 확률 변수 $Y$는 머리가 긴지 짧은지를 나타낸다.\n",
    "\n",
    "* $X=0$인 경우가 사건 $A$ (남자인 사건)\n",
    "* $X=1$인 경우가 사건 $A^C$ (여자인 사건)\n",
    "* $Y=0$인 경우가 사건 $B$ (머리가 긴 사건)\n",
    "* $Y=1$인 경우가 사건 $B^C$ (머리가 짧은 사건)"
   ]
  },
  {
   "cell_type": "code",
   "execution_count": 1,
   "metadata": {
    "school_cell_uuid": "2ea26da96d8245c1af21bb416297e74e"
   },
   "outputs": [],
   "source": [
    "from pgmpy.factors.discrete import JointProbabilityDistribution as JPD"
   ]
  },
  {
   "cell_type": "code",
   "execution_count": 2,
   "metadata": {
    "school_cell_uuid": "9c1f2be27cd64710b9ec7eff5d4b932c"
   },
   "outputs": [
    {
     "name": "stdout",
     "output_type": "stream",
     "text": [
      "╒═════╤═════╤══════════╕\n",
      "│ X   │ Y   │   P(X,Y) │\n",
      "╞═════╪═════╪══════════╡\n",
      "│ X_0 │ Y_0 │   0.1500 │\n",
      "├─────┼─────┼──────────┤\n",
      "│ X_0 │ Y_1 │   0.4500 │\n",
      "├─────┼─────┼──────────┤\n",
      "│ X_1 │ Y_0 │   0.3500 │\n",
      "├─────┼─────┼──────────┤\n",
      "│ X_1 │ Y_1 │   0.0500 │\n",
      "╘═════╧═════╧══════════╛\n"
     ]
    }
   ],
   "source": [
    "j1 = JPD(['X', 'Y'], [2, 2], np.array([3, 9, 7, 1]) / 20)\n",
    "print(j1)"
   ]
  },
  {
   "cell_type": "markdown",
   "metadata": {
    "bootstrap": {
     "panel": {
      "class": "panel-default"
     }
    },
    "school_cell_uuid": "2044410e8baf42bca5a655e2b21aba59"
   },
   "source": [
    "#### 연습 문제 1\n",
    "\n",
    "위의 범인 찾기 문제의 예에서  12명의 남자 중 머리가 긴 사람이 6명인 경우의 결합 확률 모형을 `JointProbabilityDistribution` 클래스 객체 `j2`로 구현하라.\n"
   ]
  },
  {
   "cell_type": "code",
   "execution_count": 11,
   "metadata": {},
   "outputs": [
    {
     "name": "stdout",
     "output_type": "stream",
     "text": [
      "╒═════╤═════╤══════════╕\n",
      "│ A   │ B   │   P(A,B) │\n",
      "╞═════╪═════╪══════════╡\n",
      "│ A_0 │ B_0 │   0.3000 │\n",
      "├─────┼─────┼──────────┤\n",
      "│ A_0 │ B_1 │   0.3000 │\n",
      "├─────┼─────┼──────────┤\n",
      "│ A_1 │ B_0 │   0.2000 │\n",
      "├─────┼─────┼──────────┤\n",
      "│ A_1 │ B_1 │   0.2000 │\n",
      "╘═════╧═════╧══════════╛\n"
     ]
    }
   ],
   "source": [
    "j2 = JPD([\"A\", \"B\"], [2, 2], np.array([6, 6, 4, 4])/20)\n",
    "print(j2)"
   ]
  },
  {
   "cell_type": "markdown",
   "metadata": {
    "school_cell_uuid": "d42587f06b0b49e28843b8d0b7b7971d"
   },
   "source": [
    "`JointProbabilityDistribution` 클래스는 결합 확률로부터 주변 확률을 계산하는 `marginal_distribution` 메서드와 조건부 확률을 계산하는 `conditional_distribution` 메서드를 제공한다. \n",
    "\n",
    "```\n",
    "marginal_distribution(values, inplace=True)\n",
    "```\n",
    "* `values`: 주변 확률을 구할 변수 이름 문자열 리스트\n",
    "* `inplace`: `True`이면 객체 자신을 주변 확률 모형으로 변화시킨다. `False`면 주변 확률 모형 객체를 반환한다.\n",
    "\n",
    "```\n",
    "conditional_distribution(values, inplace=True)\n",
    "```\n",
    "* `values`: 주변 확률을 구할 변수 이름 문자열과 값을 묶은 튜플의 리스트\n",
    "* `inplace`: `True`이면 객체 자신을 조건부 확률 모형으로 변화시킨다. `False`면 조건부 확률 모형 객체를 반환한다.\n"
   ]
  },
  {
   "cell_type": "markdown",
   "metadata": {
    "school_cell_uuid": "71fc3cbc8a3942a0be592e5108e0e90b"
   },
   "source": [
    "다음 코드는 결합 확률로부터 주변 확률 $P(A)$, $P(A^C)$를 계산한다."
   ]
  },
  {
   "cell_type": "code",
   "execution_count": 3,
   "metadata": {
    "school_cell_uuid": "98d10a1ccc724d2eb40d1699dd2e2a2d"
   },
   "outputs": [
    {
     "name": "stdout",
     "output_type": "stream",
     "text": [
      "╒═════╤════════╕\n",
      "│ X   │   P(X) │\n",
      "╞═════╪════════╡\n",
      "│ X_0 │ 0.6000 │\n",
      "├─────┼────────┤\n",
      "│ X_1 │ 0.4000 │\n",
      "╘═════╧════════╛\n"
     ]
    }
   ],
   "source": [
    "m1x = j1.marginal_distribution(['X'], inplace=False)\n",
    "print(m1x)"
   ]
  },
  {
   "cell_type": "markdown",
   "metadata": {
    "school_cell_uuid": "cfefc77b81464968955bd8e8e692ab72"
   },
   "source": [
    "다음 코드는 결합 확률로부터 주변 확률 $P(B)$, $P(B^C)$를 계산한다."
   ]
  },
  {
   "cell_type": "code",
   "execution_count": 4,
   "metadata": {
    "school_cell_uuid": "38bc19330a50444ba3038e7a98944eae"
   },
   "outputs": [
    {
     "name": "stdout",
     "output_type": "stream",
     "text": [
      "╒═════╤════════╕\n",
      "│ Y   │   P(Y) │\n",
      "╞═════╪════════╡\n",
      "│ Y_0 │ 0.5000 │\n",
      "├─────┼────────┤\n",
      "│ Y_1 │ 0.5000 │\n",
      "╘═════╧════════╛\n"
     ]
    }
   ],
   "source": [
    "m1y = j1.marginal_distribution(['Y'], inplace=False)\n",
    "print(m1y)"
   ]
  },
  {
   "cell_type": "markdown",
   "metadata": {
    "school_cell_uuid": "e6f8bc0afcac4e1396f7d3282ffa8625"
   },
   "source": [
    "다음 코드는 결합 확률로부터 조건부 확률 $P(B|A)$, $P(B^C|A)$를 계산한다."
   ]
  },
  {
   "cell_type": "code",
   "execution_count": 5,
   "metadata": {
    "school_cell_uuid": "59f9a539ffac4f798bdac9994ef22d66"
   },
   "outputs": [
    {
     "name": "stdout",
     "output_type": "stream",
     "text": [
      "╒═════╤════════╕\n",
      "│ Y   │   P(Y) │\n",
      "╞═════╪════════╡\n",
      "│ Y_0 │ 0.2500 │\n",
      "├─────┼────────┤\n",
      "│ Y_1 │ 0.7500 │\n",
      "╘═════╧════════╛\n"
     ]
    }
   ],
   "source": [
    "c1x0 = j1.conditional_distribution([('X', 0)], inplace=False)  # 사건 A에 대한 조건부 확률\n",
    "print(c1x0)"
   ]
  },
  {
   "cell_type": "markdown",
   "metadata": {
    "school_cell_uuid": "6a4c76ec8e5b456983719cb7ecd8e9e4"
   },
   "source": [
    "다음 코드는 결합 확률로부터 조건부 확률 $P(B|A^C)$, $P(B^C|A^C)$를 계산한다."
   ]
  },
  {
   "cell_type": "code",
   "execution_count": 6,
   "metadata": {
    "school_cell_uuid": "31be5dcc343c40eea1da8a0be831228d"
   },
   "outputs": [
    {
     "name": "stdout",
     "output_type": "stream",
     "text": [
      "╒═════╤════════╕\n",
      "│ Y   │   P(Y) │\n",
      "╞═════╪════════╡\n",
      "│ Y_0 │ 0.8750 │\n",
      "├─────┼────────┤\n",
      "│ Y_1 │ 0.1250 │\n",
      "╘═════╧════════╛\n"
     ]
    }
   ],
   "source": [
    "c1x1 = j1.conditional_distribution([('X', 1)], inplace=False)  \n",
    "print(c1x1)"
   ]
  },
  {
   "cell_type": "markdown",
   "metadata": {
    "school_cell_uuid": "e6c012a8fa2d4a4a9a97f817f0688e1d"
   },
   "source": [
    "다음 코드는 결합 확률로부터 조건부 확률 $P(A|B)$, $P(A^C|B)$를 계산한다."
   ]
  },
  {
   "cell_type": "code",
   "execution_count": 7,
   "metadata": {
    "school_cell_uuid": "3f1fd436ec06449fa9724f7f723b2eb8"
   },
   "outputs": [
    {
     "name": "stdout",
     "output_type": "stream",
     "text": [
      "╒═════╤════════╕\n",
      "│ X   │   P(X) │\n",
      "╞═════╪════════╡\n",
      "│ X_0 │ 0.3000 │\n",
      "├─────┼────────┤\n",
      "│ X_1 │ 0.7000 │\n",
      "╘═════╧════════╛\n"
     ]
    }
   ],
   "source": [
    "c1y0 = j1.conditional_distribution([('Y', 0)], inplace=False) # 사건 B에 대한 조건부 확률\n",
    "print(c1y0)"
   ]
  },
  {
   "cell_type": "markdown",
   "metadata": {
    "school_cell_uuid": "c5ae84f31a2442c8ba7d7d001b45cf9d"
   },
   "source": [
    "다음 코드는 결합 확률로부터 조건부 확률 $P(A|B^C)$, $P(A^C|B^C)$를 계산한다."
   ]
  },
  {
   "cell_type": "code",
   "execution_count": 8,
   "metadata": {
    "school_cell_uuid": "202bddf9c9e646f0a9b0555cd4a44ec4"
   },
   "outputs": [
    {
     "name": "stdout",
     "output_type": "stream",
     "text": [
      "╒═════╤════════╕\n",
      "│ X   │   P(X) │\n",
      "╞═════╪════════╡\n",
      "│ X_0 │ 0.9000 │\n",
      "├─────┼────────┤\n",
      "│ X_1 │ 0.1000 │\n",
      "╘═════╧════════╛\n"
     ]
    }
   ],
   "source": [
    "c1y1 = j1.conditional_distribution([('Y', 1)], inplace=False)\n",
    "print(c1y1)"
   ]
  },
  {
   "cell_type": "markdown",
   "metadata": {
    "school_cell_uuid": "8bf45193dbb94ebbab7a252e090fc1d1"
   },
   "source": [
    "`check_independence` 메서드를 이용하면 두 확률 변수간의 독립도 확인할 수 있다. 두 확률 변수가 가질 수 있는 모든 사건의 조합에 대해 그 사건들이 독립이면 확률 변수가 독립이라고 한다."
   ]
  },
  {
   "cell_type": "code",
   "execution_count": 9,
   "metadata": {
    "school_cell_uuid": "1c5775afe03a44b3bf424ab2db07baa2"
   },
   "outputs": [
    {
     "data": {
      "text/plain": [
       "False"
      ]
     },
     "execution_count": 9,
     "metadata": {},
     "output_type": "execute_result"
    }
   ],
   "source": [
    "j1.check_independence(['X'], ['Y'])"
   ]
  },
  {
   "cell_type": "markdown",
   "metadata": {
    "bootstrap": {
     "panel": {
      "class": "panel-default"
     }
    },
    "school_cell_uuid": "2044410e8baf42bca5a655e2b21aba59"
   },
   "source": [
    "#### 연습 문제 2\n",
    "\n",
    "위에서 구현한 `JointProbabilityDistribution` 클래스 객체 `j2`로부터 주변 확률 모형 및 조건부 확률 모형을 구하라. 또 `check_independence` 메서드를 이용하여 사건 A, B의 독립을 확인하라."
   ]
  },
  {
   "cell_type": "code",
   "execution_count": 13,
   "metadata": {},
   "outputs": [
    {
     "name": "stdout",
     "output_type": "stream",
     "text": [
      "╒═════╤════════╕\n",
      "│ A   │   P(A) │\n",
      "╞═════╪════════╡\n",
      "│ A_0 │ 0.6000 │\n",
      "├─────┼────────┤\n",
      "│ A_1 │ 0.4000 │\n",
      "╘═════╧════════╛\n"
     ]
    }
   ],
   "source": [
    "# A의 주변확률 P(A)\n",
    "madis = j2.marginal_distribution(['A'], inplace=False) # inplace를 True로 하면 j2객체가 주변확률모형으로 변화\n",
    "print(madis)"
   ]
  },
  {
   "cell_type": "code",
   "execution_count": 14,
   "metadata": {},
   "outputs": [
    {
     "name": "stdout",
     "output_type": "stream",
     "text": [
      "╒═════╤════════╕\n",
      "│ B   │   P(B) │\n",
      "╞═════╪════════╡\n",
      "│ B_0 │ 0.5000 │\n",
      "├─────┼────────┤\n",
      "│ B_1 │ 0.5000 │\n",
      "╘═════╧════════╛\n"
     ]
    }
   ],
   "source": [
    "# B의 주변확률 P(B)\n",
    "madis = j2.marginal_distribution(['B'], inplace=False)\n",
    "print(madis)"
   ]
  },
  {
   "cell_type": "code",
   "execution_count": 15,
   "metadata": {},
   "outputs": [
    {
     "name": "stdout",
     "output_type": "stream",
     "text": [
      "╒═════╤════════╕\n",
      "│ B   │   P(B) │\n",
      "╞═════╪════════╡\n",
      "│ B_0 │ 0.5000 │\n",
      "├─────┼────────┤\n",
      "│ B_1 │ 0.5000 │\n",
      "╘═════╧════════╛\n"
     ]
    }
   ],
   "source": [
    "# P(B|A) , P(B*C|A)\n",
    "condis = j2.conditional_distribution([('A', 0)], inplace=False)\n",
    "print(condis)"
   ]
  },
  {
   "cell_type": "code",
   "execution_count": 16,
   "metadata": {},
   "outputs": [
    {
     "name": "stdout",
     "output_type": "stream",
     "text": [
      "╒═════╤════════╕\n",
      "│ A   │   P(A) │\n",
      "╞═════╪════════╡\n",
      "│ A_0 │ 0.6000 │\n",
      "├─────┼────────┤\n",
      "│ A_1 │ 0.4000 │\n",
      "╘═════╧════════╛\n"
     ]
    }
   ],
   "source": [
    "# P(A|B) , P(A*C|B)\n",
    "condis2 = j2.conditional_distribution([('B', 0)], inplace=False)\n",
    "print(condis2)"
   ]
  },
  {
   "cell_type": "code",
   "execution_count": 17,
   "metadata": {},
   "outputs": [
    {
     "name": "stdout",
     "output_type": "stream",
     "text": [
      "╒═════╤════════╕\n",
      "│ A   │   P(A) │\n",
      "╞═════╪════════╡\n",
      "│ A_0 │ 0.6000 │\n",
      "├─────┼────────┤\n",
      "│ A_1 │ 0.4000 │\n",
      "╘═════╧════════╛\n"
     ]
    }
   ],
   "source": [
    "# P(A|B*C) , P(A*C|B*C)\n",
    "condis3 = j2.conditional_distribution([('B', 1)], inplace=False)\n",
    "print(condis3)"
   ]
  },
  {
   "cell_type": "code",
   "execution_count": 18,
   "metadata": {},
   "outputs": [
    {
     "data": {
      "text/plain": [
       "True"
      ]
     },
     "execution_count": 18,
     "metadata": {},
     "output_type": "execute_result"
    }
   ],
   "source": [
    "# 사건 A, B의 독립여부\n",
    "j2.check_independence(['A'], ['B'])"
   ]
  }
 ],
 "metadata": {
  "celltoolbar": "Edit Metadata",
  "kernelspec": {
   "display_name": "Python 3",
   "language": "python",
   "name": "python3"
  },
  "language_info": {
   "codemirror_mode": {
    "name": "ipython",
    "version": 3
   },
   "file_extension": ".py",
   "mimetype": "text/x-python",
   "name": "python",
   "nbconvert_exporter": "python",
   "pygments_lexer": "ipython3",
   "version": "3.6.4"
  }
 },
 "nbformat": 4,
 "nbformat_minor": 1
}
