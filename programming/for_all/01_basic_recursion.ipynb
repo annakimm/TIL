{
 "cells": [
  {
   "cell_type": "markdown",
   "metadata": {},
   "source": [
    "#### 최대값 찾기"
   ]
  },
  {
   "cell_type": "code",
   "execution_count": 45,
   "metadata": {},
   "outputs": [
    {
     "data": {
      "text/plain": [
       "92"
      ]
     },
     "execution_count": 45,
     "metadata": {},
     "output_type": "execute_result"
    }
   ],
   "source": [
    "def find_max(a):\n",
    "    list_f = a[0]\n",
    "    for i in range(len(a)):\n",
    "        if a[i] > list_f:\n",
    "            list_f = a[i]\n",
    "    return list_f\n",
    "v = [17, 92, 18, 33, 58, 7, 33, 42]\n",
    "find_max(v)"
   ]
  },
  {
   "cell_type": "markdown",
   "metadata": {},
   "source": [
    "리스트에 숫자가 n개 있을 때 가장 큰 값이 있는 위치 번호를 돌려주는 알고리즘"
   ]
  },
  {
   "cell_type": "code",
   "execution_count": 2,
   "metadata": {},
   "outputs": [
    {
     "data": {
      "text/plain": [
       "1"
      ]
     },
     "execution_count": 2,
     "metadata": {},
     "output_type": "execute_result"
    }
   ],
   "source": [
    "# 입력 : 숫자가 n개 들어있는 리스트\n",
    "# 출력 : 숫자 n개 중에서 최대값의 위치(0부터 n-1의 값)\n",
    "def max_s(a):\n",
    "    list_l = 0\n",
    "    for i in range(1, len(a)):\n",
    "        if a[i] > a[list_l]:\n",
    "            list_l = i\n",
    "    return list_l\n",
    "v = [17, 92, 18, 33, 58, 7, 33, 42]    \n",
    "max_s(v)"
   ]
  },
  {
   "cell_type": "markdown",
   "metadata": {},
   "source": [
    "숫자 n개를 리스트로 입력 받아 최소값을 구하는 프로그램"
   ]
  },
  {
   "cell_type": "code",
   "execution_count": 3,
   "metadata": {},
   "outputs": [
    {
     "data": {
      "text/plain": [
       "7"
      ]
     },
     "execution_count": 3,
     "metadata": {},
     "output_type": "execute_result"
    }
   ],
   "source": [
    "# 입력 : 숫자가 n개 들어있는 리스트\n",
    "# 출력 : 숫자 n개 중에서 최대값\n",
    "def min_l(a):\n",
    "    min_i = a[0]\n",
    "    for i in range(1, len(a)):\n",
    "        if a[i] < min_i:\n",
    "            min_i = a[i]\n",
    "    return min_i\n",
    "v = [17, 92, 18, 33, 58, 7, 33, 42]  \n",
    "min_l(v)"
   ]
  },
  {
   "cell_type": "markdown",
   "metadata": {},
   "source": [
    "#### 동명이인 찾기\n",
    "n명의 사람 이름 중에서 같은 이름을 찾아 집합으로 만들어 돌려주는 알고리즘 만들기"
   ]
  },
  {
   "cell_type": "markdown",
   "metadata": {},
   "source": [
    "##### 집합(set)의 기능\n",
    "- `add(x)` : 집합에 성분 x를 추가\n",
    "- `discard(x)` : 집합에 성분 x가 들어있다면 삭제(없으면 변화 없음)\n",
    "- `clear()` : 집합의 모든 성분 제거"
   ]
  },
  {
   "cell_type": "code",
   "execution_count": 4,
   "metadata": {},
   "outputs": [
    {
     "data": {
      "text/plain": [
       "{'Mike', 'Tom'}"
      ]
     },
     "execution_count": 4,
     "metadata": {},
     "output_type": "execute_result"
    }
   ],
   "source": [
    "# 입력 : n개의 이름이 들어있는 리스트\n",
    "# 출력 : 중복된 이름의 집합(set)\n",
    "def find_same_name(a):\n",
    "    result = set()\n",
    "    for i in range(len(a)-1):\n",
    "        for j in range(i+1, len(a)):\n",
    "            if a[i] == a[j]:\n",
    "                result.add(a[i])\n",
    "    return result\n",
    "\n",
    "name = ['Tom', 'Jerry', 'Mike', 'Tom', 'James', 'Tom', 'Mike']\n",
    "find_same_name(name)"
   ]
  },
  {
   "cell_type": "markdown",
   "metadata": {},
   "source": [
    "### 재귀호출\n",
    "- 재귀 호출 프로그램이 정상적으로 작동하려면 '종료조건'이 필요, 그렇지 않으면 계속 반복하다가 재귀에러(ResursionError)발생\n",
    "- 재귀 호출 함수가 계산 결과를 돌려줄 때는 return 명령을 사용해서 종료 조건(마지막 호출 함수)의 결과값부터 돌려줌\n",
    "```\n",
    "def func(입력값):\n",
    "    if 입력값이 충분히 작으면:     # 종료조건\n",
    "        return 결과값\n",
    "    ...    \n",
    "    func(더 작은 입력값)\n",
    "    ...\n",
    "    return 결과값 \n",
    "```    \n",
    "#### 팩토리얼 구하기\n",
    "1부터 n까지 연속한 정수의 곱을 구하는 알고리즘 만들기"
   ]
  },
  {
   "cell_type": "code",
   "execution_count": 4,
   "metadata": {},
   "outputs": [],
   "source": [
    "# 일반적인 방법 O(n)\n",
    "def facto(n):\n",
    "    f = 1\n",
    "    for i in range(1, n+1):\n",
    "        f = f * i\n",
    "    return f"
   ]
  },
  {
   "cell_type": "code",
   "execution_count": 6,
   "metadata": {},
   "outputs": [
    {
     "name": "stdout",
     "output_type": "stream",
     "text": [
      "120\n",
      "3628800\n"
     ]
    }
   ],
   "source": [
    "print(facto(5))\n",
    "print(facto(10))"
   ]
  },
  {
   "cell_type": "code",
   "execution_count": 13,
   "metadata": {},
   "outputs": [],
   "source": [
    "# 재귀호출 방식 O(n)\n",
    "def facto(n):\n",
    "    if n <= 1:                    # 종료조건\n",
    "        return 1\n",
    "    return n * facto(n-1)         #  5 * 4! \\n 4 * 3! \\n 3 * 2! \\n 2 * 1 \\n 1"
   ]
  },
  {
   "cell_type": "code",
   "execution_count": 14,
   "metadata": {},
   "outputs": [
    {
     "name": "stdout",
     "output_type": "stream",
     "text": [
      "120\n",
      "3628800\n"
     ]
    }
   ],
   "source": [
    "print(facto(5))\n",
    "print(facto(10))"
   ]
  },
  {
   "cell_type": "code",
   "execution_count": 15,
   "metadata": {},
   "outputs": [],
   "source": [
    "# 1부터 n까지의 합구하기\n",
    "def sum_n(n):\n",
    "    if n <= 1:\n",
    "        return 1\n",
    "    return n + sum_n(n-1)"
   ]
  },
  {
   "cell_type": "code",
   "execution_count": 17,
   "metadata": {
    "scrolled": true
   },
   "outputs": [
    {
     "name": "stdout",
     "output_type": "stream",
     "text": [
      "10\n",
      "55\n"
     ]
    }
   ],
   "source": [
    "print(sum_n(4))\n",
    "print(sum_n(10))"
   ]
  },
  {
   "cell_type": "markdown",
   "metadata": {},
   "source": [
    "```\n",
    "4!\n",
    "= 4 * 3!\n",
    "= 4 * 3 * 2!\n",
    "= 4 * 3 * 2 * 1!\n",
    "= 4 * 3 * 2 * 1(1은 종료 조건이므로 재귀 호출을 멈춤) 맨 마지막 원소와 수식을 생각하고 거꾸로 처음까지 거슬러 생각\n",
    "= 4 * 3 * 2\n",
    "= 4 * 6\n",
    "= 24\n",
    "```"
   ]
  },
  {
   "cell_type": "code",
   "execution_count": 26,
   "metadata": {},
   "outputs": [],
   "source": [
    "# 최대값 찾기\n",
    "def f_max(a):\n",
    "    if len(a) == 1:\n",
    "        return a[0]\n",
    "    m = f_max(a[1:])\n",
    "    if m > a[0]:\n",
    "        return m\n",
    "    else:\n",
    "        return a[0]"
   ]
  },
  {
   "cell_type": "code",
   "execution_count": 43,
   "metadata": {},
   "outputs": [],
   "source": [
    "def f_max(a):\n",
    "    if len(a) == 1:\n",
    "        return a[0]\n",
    "    print(\"prior\", end=\" \"), print(a)\n",
    "    m = f_max(a[1:])\n",
    "    print(a, m)\n",
    "    return m if m > a[0] else a[0]"
   ]
  },
  {
   "cell_type": "code",
   "execution_count": 44,
   "metadata": {},
   "outputs": [
    {
     "name": "stdout",
     "output_type": "stream",
     "text": [
      "prior [17, 92, 18, 33, 58, 7, 33, 42]\n",
      "prior [92, 18, 33, 58, 7, 33, 42]\n",
      "prior [18, 33, 58, 7, 33, 42]\n",
      "prior [33, 58, 7, 33, 42]\n",
      "prior [58, 7, 33, 42]\n",
      "prior [7, 33, 42]\n",
      "prior [33, 42]\n",
      "[33, 42] 42\n",
      "[7, 33, 42] 42\n",
      "[58, 7, 33, 42] 42\n",
      "[33, 58, 7, 33, 42] 58\n",
      "[18, 33, 58, 7, 33, 42] 58\n",
      "[92, 18, 33, 58, 7, 33, 42] 58\n",
      "[17, 92, 18, 33, 58, 7, 33, 42] 92\n"
     ]
    },
    {
     "data": {
      "text/plain": [
       "92"
      ]
     },
     "execution_count": 44,
     "metadata": {},
     "output_type": "execute_result"
    }
   ],
   "source": [
    "v = [17, 92, 18, 33, 58, 7, 33, 42]\n",
    "f_max(v)"
   ]
  },
  {
   "cell_type": "code",
   "execution_count": null,
   "metadata": {},
   "outputs": [],
   "source": []
  }
 ],
 "metadata": {
  "kernelspec": {
   "display_name": "Python 3",
   "language": "python",
   "name": "python3"
  },
  "language_info": {
   "codemirror_mode": {
    "name": "ipython",
    "version": 3
   },
   "file_extension": ".py",
   "mimetype": "text/x-python",
   "name": "python",
   "nbconvert_exporter": "python",
   "pygments_lexer": "ipython3",
   "version": "3.6.4"
  }
 },
 "nbformat": 4,
 "nbformat_minor": 2
}
