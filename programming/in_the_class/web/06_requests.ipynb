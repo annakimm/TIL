{
 "cells": [
  {
   "cell_type": "code",
   "execution_count": 1,
   "metadata": {},
   "outputs": [],
   "source": [
    "# $ pip3 install requests\n",
    "import requests"
   ]
  },
  {
   "cell_type": "code",
   "execution_count": 3,
   "metadata": {},
   "outputs": [],
   "source": [
    "# $ pip3 install bs4\n",
    "from bs4 import BeautifulSoup"
   ]
  },
  {
   "cell_type": "code",
   "execution_count": 4,
   "metadata": {},
   "outputs": [],
   "source": [
    "# $ pip3 install python-forecastio\n",
    "import forecastio"
   ]
  },
  {
   "cell_type": "markdown",
   "metadata": {},
   "source": [
    "- api json을 사용 : 네이버 주식 데이터 크롤링\n",
    "- api json을 사용, forecastio : dark sky api로 날씨 데이터를 수집\n",
    "- bs4 : 네이버 실시간 키워드, 다음 실시간 키워드 크롤링\n",
    "- web file url로 파일을 다운로드 받는 방법"
   ]
  },
  {
   "cell_type": "code",
   "execution_count": 61,
   "metadata": {},
   "outputs": [],
   "source": [
    "from pandas.io.json import json_normalize"
   ]
  },
  {
   "cell_type": "markdown",
   "metadata": {},
   "source": [
    "##### 네이버 주식데이터 가져오기"
   ]
  },
  {
   "cell_type": "code",
   "execution_count": 5,
   "metadata": {},
   "outputs": [
    {
     "data": {
      "text/plain": [
       "'http://m.stock.naver.com/api/json/sise/siseListJson.nhn?menu=market_sum&sosok=0&pageSize=10&page=1'"
      ]
     },
     "execution_count": 5,
     "metadata": {},
     "output_type": "execute_result"
    }
   ],
   "source": [
    "# url 만들기\n",
    "def make_url(pageSize=10, page=1):\n",
    "    return \"http://m.stock.naver.com/api/json/sise/siseListJson.nhn?\\\n",
    "menu=market_sum&sosok=0&pageSize=\" + str(pageSize) + \"&page=\" + str(page)\n",
    "make_url()"
   ]
  },
  {
   "cell_type": "code",
   "execution_count": 62,
   "metadata": {},
   "outputs": [],
   "source": [
    "# 데이터를 가져와서 판다스의 데이터프레임으로 만드는 함수\n",
    "def get_data(url):\n",
    "    response = requests.get(url)\n",
    "    json_info = response.json()\n",
    "    companys = json_info[\"result\"][\"itemList\"]\n",
    "    return json_normalize(companys)    \n",
    "\n",
    "#     df = pd.DataFrame(columns=[\"종목\",\"시세\",\"전일비\",\"등락율\",\"시가총액\",\"거래량\"])\n",
    "#     for company in companys:\n",
    "#         df.loc[len(df)] = {\n",
    "#             \"종목\":company[\"nm\"],\n",
    "#             \"시세\":company[\"nv\"],\n",
    "#             \"전일비\":company[\"cv\"],\n",
    "#             \"등락율\":company[\"cr\"],\n",
    "#             \"시가총액\":company[\"mks\"],\n",
    "#             \"거래량\":company[\"aq\"],\n",
    "#         }\n",
    "#     return df"
   ]
  },
  {
   "cell_type": "code",
   "execution_count": 63,
   "metadata": {},
   "outputs": [
    {
     "data": {
      "text/html": [
       "<div>\n",
       "<style scoped>\n",
       "    .dataframe tbody tr th:only-of-type {\n",
       "        vertical-align: middle;\n",
       "    }\n",
       "\n",
       "    .dataframe tbody tr th {\n",
       "        vertical-align: top;\n",
       "    }\n",
       "\n",
       "    .dataframe thead th {\n",
       "        text-align: right;\n",
       "    }\n",
       "</style>\n",
       "<table border=\"1\" class=\"dataframe\">\n",
       "  <thead>\n",
       "    <tr style=\"text-align: right;\">\n",
       "      <th></th>\n",
       "      <th>aa</th>\n",
       "      <th>aq</th>\n",
       "      <th>cd</th>\n",
       "      <th>cr</th>\n",
       "      <th>cv</th>\n",
       "      <th>mks</th>\n",
       "      <th>mt</th>\n",
       "      <th>nm</th>\n",
       "      <th>nv</th>\n",
       "      <th>pcv</th>\n",
       "      <th>rf</th>\n",
       "    </tr>\n",
       "  </thead>\n",
       "  <tbody>\n",
       "    <tr>\n",
       "      <th>1453</th>\n",
       "      <td>79</td>\n",
       "      <td>8033</td>\n",
       "      <td>284990</td>\n",
       "      <td>-0.10</td>\n",
       "      <td>-10</td>\n",
       "      <td>22</td>\n",
       "      <td>0</td>\n",
       "      <td>KBSTAR 200에너지화학</td>\n",
       "      <td>9875</td>\n",
       "      <td>9885</td>\n",
       "      <td>5</td>\n",
       "    </tr>\n",
       "    <tr>\n",
       "      <th>1454</th>\n",
       "      <td>2</td>\n",
       "      <td>225</td>\n",
       "      <td>284980</td>\n",
       "      <td>-1.78</td>\n",
       "      <td>-175</td>\n",
       "      <td>21</td>\n",
       "      <td>0</td>\n",
       "      <td>KBSTAR 200금융</td>\n",
       "      <td>9680</td>\n",
       "      <td>9855</td>\n",
       "      <td>5</td>\n",
       "    </tr>\n",
       "    <tr>\n",
       "      <th>1455</th>\n",
       "      <td>0</td>\n",
       "      <td>50</td>\n",
       "      <td>295820</td>\n",
       "      <td>-0.80</td>\n",
       "      <td>-80</td>\n",
       "      <td>15</td>\n",
       "      <td>0</td>\n",
       "      <td>ARIRANG 200동일가중</td>\n",
       "      <td>9940</td>\n",
       "      <td>10020</td>\n",
       "      <td>5</td>\n",
       "    </tr>\n",
       "    <tr>\n",
       "      <th>1456</th>\n",
       "      <td>280</td>\n",
       "      <td>28489</td>\n",
       "      <td>295860</td>\n",
       "      <td>-1.11</td>\n",
       "      <td>-110</td>\n",
       "      <td>15</td>\n",
       "      <td>0</td>\n",
       "      <td>ARIRANG 200모멘텀</td>\n",
       "      <td>9770</td>\n",
       "      <td>9880</td>\n",
       "      <td>5</td>\n",
       "    </tr>\n",
       "    <tr>\n",
       "      <th>1457</th>\n",
       "      <td>278</td>\n",
       "      <td>28667</td>\n",
       "      <td>295890</td>\n",
       "      <td>-1.23</td>\n",
       "      <td>-120</td>\n",
       "      <td>14</td>\n",
       "      <td>0</td>\n",
       "      <td>ARIRANG 200로우볼</td>\n",
       "      <td>9665</td>\n",
       "      <td>9785</td>\n",
       "      <td>5</td>\n",
       "    </tr>\n",
       "  </tbody>\n",
       "</table>\n",
       "</div>"
      ],
      "text/plain": [
       "       aa     aq      cd    cr   cv  mks mt               nm    nv    pcv rf\n",
       "1453   79   8033  284990 -0.10  -10   22  0  KBSTAR 200에너지화학  9875   9885  5\n",
       "1454    2    225  284980 -1.78 -175   21  0     KBSTAR 200금융  9680   9855  5\n",
       "1455    0     50  295820 -0.80  -80   15  0  ARIRANG 200동일가중  9940  10020  5\n",
       "1456  280  28489  295860 -1.11 -110   15  0   ARIRANG 200모멘텀  9770   9880  5\n",
       "1457  278  28667  295890 -1.23 -120   14  0   ARIRANG 200로우볼  9665   9785  5"
      ]
     },
     "execution_count": 63,
     "metadata": {},
     "output_type": "execute_result"
    }
   ],
   "source": [
    "url = make_url(1500, 1)\n",
    "df = get_data(url)\n",
    "df.tail()"
   ]
  },
  {
   "cell_type": "markdown",
   "metadata": {},
   "source": [
    "##### dark sky api\n",
    "- 위도와 경도를 입력하면 날씨 정보를 보내주는 api\n",
    "- https://api.darksky.net/"
   ]
  },
  {
   "cell_type": "code",
   "execution_count": 25,
   "metadata": {},
   "outputs": [],
   "source": [
    "FORECAST_TOKEN = \"c259d4aeb593bc5e83d0c3f7ed916f5d\""
   ]
  },
  {
   "cell_type": "code",
   "execution_count": 37,
   "metadata": {},
   "outputs": [],
   "source": [
    "def forecast(lat, lng):\n",
    "    url = \"https://api.darksky.net/forecast/{}/{},{}\"\\\n",
    ".format(FORECAST_TOKEN, lat, lng)\n",
    "    response = requests.get(url)\n",
    "    json_info = response.json()\n",
    "    return json_info[\"timezone\"], json_info[\"hourly\"][\"summary\"]"
   ]
  },
  {
   "cell_type": "code",
   "execution_count": 38,
   "metadata": {},
   "outputs": [
    {
     "data": {
      "text/plain": [
       "('Asia/Seoul', 'Mostly cloudy throughout the day.')"
      ]
     },
     "execution_count": 38,
     "metadata": {},
     "output_type": "execute_result"
    }
   ],
   "source": [
    "lat = 37.512\n",
    "lng = 126.954\n",
    "forecast(lat, lng)"
   ]
  },
  {
   "cell_type": "code",
   "execution_count": 39,
   "metadata": {},
   "outputs": [],
   "source": [
    "def forecast2(lat, lng):\n",
    "    forecast = forecastio.load_forecast(FORECAST_TOKEN, lat, lng)\n",
    "    byHourly = forecast.hourly()\n",
    "    return byHourly.summary"
   ]
  },
  {
   "cell_type": "code",
   "execution_count": 40,
   "metadata": {},
   "outputs": [
    {
     "data": {
      "text/plain": [
       "'Mostly cloudy throughout the day.'"
      ]
     },
     "execution_count": 40,
     "metadata": {},
     "output_type": "execute_result"
    }
   ],
   "source": [
    "lat = 37.512\n",
    "lng = 126.954\n",
    "forecast2(lat, lng)"
   ]
  },
  {
   "cell_type": "markdown",
   "metadata": {},
   "source": [
    "##### bs4\n",
    "- 네이버 키워드 랭킹 데이터 크롤링\n",
    "- 다음 키워드 랭킹 데이터 크롤링"
   ]
  },
  {
   "cell_type": "code",
   "execution_count": 75,
   "metadata": {},
   "outputs": [
    {
     "data": {
      "text/plain": [
       "0          이집트 우루과이\n",
       "1              뮤직뱅크\n",
       "2              블랙핑크\n",
       "3              광주날씨\n",
       "4             포항 약국\n",
       "5                쌈디\n",
       "6            모로코 이란\n",
       "7                살라\n",
       "8     러시아 사우디 하이라이트\n",
       "9               민갑룡\n",
       "10        한국예술인복지재단\n",
       "11              심영은\n",
       "12              강혁민\n",
       "13              ksl\n",
       "14         포르투갈 스페인\n",
       "15              박기량\n",
       "16             경찰청장\n",
       "17            국가장학금\n",
       "18           프로듀스48\n",
       "19            하트시그널\n",
       "Name: keyword, dtype: object"
      ]
     },
     "execution_count": 75,
     "metadata": {},
     "output_type": "execute_result"
    }
   ],
   "source": [
    "# dom.select - 여러개의 html 엘리먼트를 셀렉팅 할때 사용, 결과로 리스트 데이터를 리턴\n",
    "# dom.select_one - 하나의 html 엘리먼트를 셀렉팅 할때 사용, 결과로 문자열 데이터를 리턴\n",
    "\n",
    "def naver():\n",
    "    df = pd.DataFrame(columns=[\"rank\",\"keyword\"])\n",
    "    \n",
    "    response = requests.get(\"https://www.naver.com/\")\n",
    "    dom = BeautifulSoup(response.content, \"html.parser\")\n",
    "    keywords = dom.select(\".ah_roll_area > .ah_l > .ah_item\")\n",
    "    \n",
    "    for keyword in keywords:\n",
    "        df.loc[len(df)] = {\n",
    "            \"rank\": keyword.select_one(\".ah_r\").text,\n",
    "            \"keyword\": keyword.select_one(\".ah_k\").text,\n",
    "        }\n",
    "        \n",
    "    return df\n",
    "    \n",
    "naver_df = naver()    \n",
    "naver_df[\"keyword\"]"
   ]
  },
  {
   "cell_type": "code",
   "execution_count": 53,
   "metadata": {},
   "outputs": [
    {
     "name": "stdout",
     "output_type": "stream",
     "text": [
      "0\n",
      "1\n",
      "2\n"
     ]
    }
   ],
   "source": [
    "import time\n",
    "ls = []\n",
    "for idx in range(3):\n",
    "    print(idx)\n",
    "    ls.append(naver())\n",
    "    time.sleep(5)"
   ]
  },
  {
   "cell_type": "code",
   "execution_count": 64,
   "metadata": {},
   "outputs": [],
   "source": [
    "# 다음의 실시간 이슈 검색어 10개 수집\n",
    "# 네이버 20개 데이터와 다음 10개 데이터에서 중복되는 데이터를 출력"
   ]
  },
  {
   "cell_type": "code",
   "execution_count": 76,
   "metadata": {},
   "outputs": [
    {
     "data": {
      "text/plain": [
       "0       민갑룡\n",
       "1      경찰청장\n",
       "2     국가장학금\n",
       "3    한국장학재단\n",
       "4       조현배\n",
       "5      블랙핑크\n",
       "6       심영은\n",
       "7       안희정\n",
       "8       김무성\n",
       "9       이찬오\n",
       "Name: keyword, dtype: object"
      ]
     },
     "execution_count": 76,
     "metadata": {},
     "output_type": "execute_result"
    }
   ],
   "source": [
    "def daum():\n",
    "    df = pd.DataFrame()\n",
    "    response = requests.get(\"https://www.daum.net\")\n",
    "    dom = BeautifulSoup(response.content, 'html.parser')\n",
    "    keywords = dom.select(\".realtime_part .list_hotissue.issue_row > li\")\n",
    "    rank = [ keyword.select_one(\".ir_wa\").text[:-1] for keyword in keywords ]\n",
    "    keywords = [ keyword.select_one(\".link_issue\").text for keyword in keywords ]\n",
    "    df[\"rank\"] = rank\n",
    "    df[\"keyword\"] = keywords\n",
    "    return df\n",
    "\n",
    "daum_df = daum()\n",
    "daum_df[\"keyword\"]"
   ]
  },
  {
   "cell_type": "code",
   "execution_count": 83,
   "metadata": {},
   "outputs": [
    {
     "data": {
      "text/plain": [
       "['블랙핑크', '민갑룡', '심영은', '경찰청장', '국가장학금']"
      ]
     },
     "execution_count": 83,
     "metadata": {},
     "output_type": "execute_result"
    }
   ],
   "source": [
    "# naver_df[\"keyword\"], daum_df[\"keyword\"]\n",
    "result = [\n",
    "    keyword \n",
    "    for keyword in naver_df[\"keyword\"] \n",
    "    if daum_df[\"keyword\"].str.contains(keyword).any()\n",
    "]\n",
    "result"
   ]
  },
  {
   "cell_type": "markdown",
   "metadata": {},
   "source": [
    "##### file down load : requests\n",
    "- file의 url을 받아서 해당 url의 file을 다운로드 하는 방법"
   ]
  },
  {
   "cell_type": "code",
   "execution_count": 89,
   "metadata": {},
   "outputs": [],
   "source": [
    "def download(title, download_link):\n",
    "    response = requests.get(download_link, stream=True)\n",
    "    file_size = 0\n",
    "    with open(title, 'wb') as f:\n",
    "        for chunk in response.iter_content(chunk_size=1024): # byte\n",
    "            if chunk:\n",
    "                file_size += 1024\n",
    "                f.write(chunk)\n",
    "    return file_size"
   ]
  },
  {
   "cell_type": "code",
   "execution_count": 92,
   "metadata": {},
   "outputs": [],
   "source": [
    "# url = \"https://r1---sn-a5meknes.googlevideo.com/videoplayback?sparams=dur%2Cei%2Cid%2Cip%2Cipbits%2Citag%2Clmt%2Cmime%2Cmm%2Cmn%2Cms%2Cmv%2Cpl%2Cratebypass%2Crequiressl%2Csource%2Cexpire&requiressl=yes&mt=1529051193&expire=1529073303&itag=22&lmt=1529039497166480&ei=N3ojW4nHKMKz-AP295aoCw&fvip=4&ratebypass=yes&ip=23.80.157.92&pl=16&mime=video%2Fmp4&dur=34.342&mv=u&source=youtube&ms=au%2Crdu&c=WEB&mn=sn-a5meknes%2Csn-a5mlrnel&mm=31%2C29&ipbits=0&key=yt6&id=o-AI8QABbxxbajaC8XwEjgsjsDso7ZX19oANOhqxPDFYir&signature=91530523B732709286CB08EF9E999994BCB05EC3.1F3B0C7848839521DDC0CA4D1296183AAB0DC568&video_id=ShQZhdjqjsw&title=iPhone+X+%E2%80%94+How+to+shoot+using+backlight+%E2%80%94+Apple\"\n",
    "download_link = \"https://bit.ly/2tbDDMN\"\n",
    "title = \"video.mp4\"\n",
    "file_size = download(title, download_link)"
   ]
  },
  {
   "cell_type": "code",
   "execution_count": 94,
   "metadata": {},
   "outputs": [
    {
     "data": {
      "text/plain": [
       "'2.19Mb'"
      ]
     },
     "execution_count": 94,
     "metadata": {},
     "output_type": "execute_result"
    }
   ],
   "source": [
    "str(round(file_size/1024/1024,2)) + \"Mb\""
   ]
  }
 ],
 "metadata": {
  "kernelspec": {
   "display_name": "Python 3",
   "language": "python",
   "name": "python3"
  },
  "language_info": {
   "codemirror_mode": {
    "name": "ipython",
    "version": 3
   },
   "file_extension": ".py",
   "mimetype": "text/x-python",
   "name": "python",
   "nbconvert_exporter": "python",
   "pygments_lexer": "ipython3",
   "version": "3.6.4"
  }
 },
 "nbformat": 4,
 "nbformat_minor": 2
}
