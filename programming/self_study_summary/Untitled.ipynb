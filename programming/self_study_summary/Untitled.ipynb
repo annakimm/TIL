{
 "cells": [
  {
   "cell_type": "code",
   "execution_count": 1,
   "metadata": {},
   "outputs": [],
   "source": [
    "import scrapy"
   ]
  },
  {
   "cell_type": "markdown",
   "metadata": {},
   "source": [
    "#### xpath 문법\n",
    "네이버 영화제목 xpath - `//*[@id=\"content\"]/div[1]/div[2]/div[1]/h3/a[1]`\n",
    "- `//` : 가장 상위 엘리먼트를 의미\n",
    "- `*` : css selector에서 하위 엘리먼트를 선택할때 \"div a\"와 같음, 즉 모든 하위 엘리먼트를 검색\n",
    "- `[@<key>=<value>]` : @ 속성값 attribute를 의미\n",
    "    - `[@id=\"content\"]` : id가 content인 엘리먼트를 선택\n",
    "- `/` : css selector에서 `>`와 동일, 1단계 하위 엘리먼트를 검색\n",
    "- div : element 이름\n",
    "- `[<number>]` : number 번째의 엘리먼트를 선택(0부터 시작이 아니라 1부터 시작)\n",
    "- `not` : `not(조건)`, `not(@class='test')` - class test가 아닌 엘리먼트 선택\n",
    "- `.` : 현재 엘리먼트를 의미"
   ]
  },
  {
   "cell_type": "markdown",
   "metadata": {},
   "source": [
    "#### scrapy shell을 이용\n",
    "- `$ scrapy shell \"<url>\"` : cmd에서 입력하면 python scrapy로 naver에 접근\n",
    "- 네이버 실시간 검색어\n",
    "- 다음 실시간 검색어\n",
    "- gmarket 베스트 아이템"
   ]
  },
  {
   "cell_type": "markdown",
   "metadata": {},
   "source": [
    "- 네이버 실시간 검색어 1위 xpath 객체 가져오기\n",
    "- 개발자 모드를 열고 해당 구역 선택 : 오른쪽 클릭 > copy > copy Xpath\n",
    "- `//*[@id=\"PM_ID_ct\"]/div[1]/div[2]/div[2]/div[2]/ul[1]/li[1]/a[1]/span[2]`"
   ]
  },
  {
   "cell_type": "markdown",
   "metadata": {},
   "source": [
    "#### jupyter notebook에서 사용할 때"
   ]
  },
  {
   "cell_type": "code",
   "execution_count": 2,
   "metadata": {},
   "outputs": [],
   "source": [
    "import requests\n",
    "from scrapy.http import TextResponse"
   ]
  },
  {
   "cell_type": "code",
   "execution_count": 3,
   "metadata": {},
   "outputs": [],
   "source": [
    "# cmd에서 `$ scrapy shell \"<url>\"`한 것과 동일\n",
    "# 다른 홈페이지 접속할 때마다 객체 재설정 필요\n",
    "req = requests.get(\"http://naver.com\")\n",
    "response = TextResponse(req.url, body=req.text, encoding=\"utf-8\")"
   ]
  },
  {
   "cell_type": "code",
   "execution_count": 4,
   "metadata": {},
   "outputs": [
    {
     "data": {
      "text/plain": [
       "[<Selector xpath='//*[@id=\"PM_ID_ct\"]/div[1]/div[2]/div[2]/div[2]/ul[1]/li/a/span[2]' data='<span class=\"ah_k\">대구 수돗물</span>'>,\n",
       " <Selector xpath='//*[@id=\"PM_ID_ct\"]/div[1]/div[2]/div[2]/div[2]/ul[1]/li/a/span[2]' data='<span class=\"ah_ico_datagraph\"></span>'>,\n",
       " <Selector xpath='//*[@id=\"PM_ID_ct\"]/div[1]/div[2]/div[2]/div[2]/ul[1]/li/a/span[2]' data='<span class=\"ah_k\">거미</span>'>,\n",
       " <Selector xpath='//*[@id=\"PM_ID_ct\"]/div[1]/div[2]/div[2]/div[2]/ul[1]/li/a/span[2]' data='<span class=\"ah_ico_datagraph\"></span>'>,\n",
       " <Selector xpath='//*[@id=\"PM_ID_ct\"]/div[1]/div[2]/div[2]/div[2]/ul[1]/li/a/span[2]' data='<span class=\"ah_k\">조정석</span>'>,\n",
       " <Selector xpath='//*[@id=\"PM_ID_ct\"]/div[1]/div[2]/div[2]/div[2]/ul[1]/li/a/span[2]' data='<span class=\"ah_ico_datagraph\"></span>'>,\n",
       " <Selector xpath='//*[@id=\"PM_ID_ct\"]/div[1]/div[2]/div[2]/div[2]/ul[1]/li/a/span[2]' data='<span class=\"ah_k\">아르헨티나 크로아티아</span>'>,\n",
       " <Selector xpath='//*[@id=\"PM_ID_ct\"]/div[1]/div[2]/div[2]/div[2]/ul[1]/li/a/span[2]' data='<span class=\"ah_ico_datagraph\"></span>'>,\n",
       " <Selector xpath='//*[@id=\"PM_ID_ct\"]/div[1]/div[2]/div[2]/div[2]/ul[1]/li/a/span[2]' data='<span class=\"ah_k\">월드컵 조별순위</span>'>,\n",
       " <Selector xpath='//*[@id=\"PM_ID_ct\"]/div[1]/div[2]/div[2]/div[2]/ul[1]/li/a/span[2]' data='<span class=\"ah_ico_datagraph\"></span>'>,\n",
       " <Selector xpath='//*[@id=\"PM_ID_ct\"]/div[1]/div[2]/div[2]/div[2]/ul[1]/li/a/span[2]' data='<span class=\"ah_k\">아르헨티나</span>'>,\n",
       " <Selector xpath='//*[@id=\"PM_ID_ct\"]/div[1]/div[2]/div[2]/div[2]/ul[1]/li/a/span[2]' data='<span class=\"ah_ico_datagraph\"></span>'>,\n",
       " <Selector xpath='//*[@id=\"PM_ID_ct\"]/div[1]/div[2]/div[2]/div[2]/ul[1]/li/a/span[2]' data='<span class=\"ah_k\">에브라</span>'>,\n",
       " <Selector xpath='//*[@id=\"PM_ID_ct\"]/div[1]/div[2]/div[2]/div[2]/ul[1]/li/a/span[2]' data='<span class=\"ah_ico_datagraph\"></span>'>,\n",
       " <Selector xpath='//*[@id=\"PM_ID_ct\"]/div[1]/div[2]/div[2]/div[2]/ul[1]/li/a/span[2]' data='<span class=\"ah_k\">크로아티아</span>'>,\n",
       " <Selector xpath='//*[@id=\"PM_ID_ct\"]/div[1]/div[2]/div[2]/div[2]/ul[1]/li/a/span[2]' data='<span class=\"ah_ico_datagraph\"></span>'>,\n",
       " <Selector xpath='//*[@id=\"PM_ID_ct\"]/div[1]/div[2]/div[2]/div[2]/ul[1]/li/a/span[2]' data='<span class=\"ah_k\">아르헨티나 크로아티아 하이라이트</sp'>,\n",
       " <Selector xpath='//*[@id=\"PM_ID_ct\"]/div[1]/div[2]/div[2]/div[2]/ul[1]/li/a/span[2]' data='<span class=\"ah_ico_datagraph\"></span>'>,\n",
       " <Selector xpath='//*[@id=\"PM_ID_ct\"]/div[1]/div[2]/div[2]/div[2]/ul[1]/li/a/span[2]' data='<span class=\"ah_k\">밥블레스유</span>'>,\n",
       " <Selector xpath='//*[@id=\"PM_ID_ct\"]/div[1]/div[2]/div[2]/div[2]/ul[1]/li/a/span[2]' data='<span class=\"ah_ico_datagraph\"></span>'>]"
      ]
     },
     "execution_count": 4,
     "metadata": {},
     "output_type": "execute_result"
    }
   ],
   "source": [
    "# 네이버 실시간 검색어 1위 객체 선택(Xpath를 이용)\n",
    "response.xpath('//*[@id=\"PM_ID_ct\"]/div[1]/div[2]/div[2]/div[2]/ul[1]/li/a/span[2]')"
   ]
  },
  {
   "cell_type": "code",
   "execution_count": 5,
   "metadata": {},
   "outputs": [
    {
     "data": {
      "text/plain": [
       "[<Selector xpath='//*[@id=\"PM_ID_ct\"]/div[1]/div[2]/div[2]/div[2]/ul[1]/li/a/span[2]/text()' data='대구 수돗물'>,\n",
       " <Selector xpath='//*[@id=\"PM_ID_ct\"]/div[1]/div[2]/div[2]/div[2]/ul[1]/li/a/span[2]/text()' data='거미'>,\n",
       " <Selector xpath='//*[@id=\"PM_ID_ct\"]/div[1]/div[2]/div[2]/div[2]/ul[1]/li/a/span[2]/text()' data='조정석'>,\n",
       " <Selector xpath='//*[@id=\"PM_ID_ct\"]/div[1]/div[2]/div[2]/div[2]/ul[1]/li/a/span[2]/text()' data='아르헨티나 크로아티아'>,\n",
       " <Selector xpath='//*[@id=\"PM_ID_ct\"]/div[1]/div[2]/div[2]/div[2]/ul[1]/li/a/span[2]/text()' data='월드컵 조별순위'>,\n",
       " <Selector xpath='//*[@id=\"PM_ID_ct\"]/div[1]/div[2]/div[2]/div[2]/ul[1]/li/a/span[2]/text()' data='아르헨티나'>,\n",
       " <Selector xpath='//*[@id=\"PM_ID_ct\"]/div[1]/div[2]/div[2]/div[2]/ul[1]/li/a/span[2]/text()' data='에브라'>,\n",
       " <Selector xpath='//*[@id=\"PM_ID_ct\"]/div[1]/div[2]/div[2]/div[2]/ul[1]/li/a/span[2]/text()' data='크로아티아'>,\n",
       " <Selector xpath='//*[@id=\"PM_ID_ct\"]/div[1]/div[2]/div[2]/div[2]/ul[1]/li/a/span[2]/text()' data='아르헨티나 크로아티아 하이라이트'>,\n",
       " <Selector xpath='//*[@id=\"PM_ID_ct\"]/div[1]/div[2]/div[2]/div[2]/ul[1]/li/a/span[2]/text()' data='밥블레스유'>]"
      ]
     },
     "execution_count": 5,
     "metadata": {},
     "output_type": "execute_result"
    }
   ],
   "source": [
    "# 20개 객체 선택, 문자열 선택\n",
    "response.xpath('//*[@id=\"PM_ID_ct\"]/div[1]/div[2]/div[2]/div[2]/ul[1]/li/a/span[2]/text()')"
   ]
  },
  {
   "cell_type": "code",
   "execution_count": 6,
   "metadata": {},
   "outputs": [
    {
     "data": {
      "text/plain": [
       "['대구 수돗물',\n",
       " '거미',\n",
       " '조정석',\n",
       " '아르헨티나 크로아티아',\n",
       " '월드컵 조별순위',\n",
       " '아르헨티나',\n",
       " '에브라',\n",
       " '크로아티아',\n",
       " '아르헨티나 크로아티아 하이라이트',\n",
       " '밥블레스유']"
      ]
     },
     "execution_count": 6,
     "metadata": {},
     "output_type": "execute_result"
    }
   ],
   "source": [
    "# 문자열만 출력\n",
    "response.xpath('//*[@id=\"PM_ID_ct\"]/div[1]/div[2]/div[2]/div[2]/ul[1]/li/a/span[2]/text()').extract()"
   ]
  },
  {
   "cell_type": "code",
   "execution_count": 7,
   "metadata": {},
   "outputs": [],
   "source": [
    "# 다음 10개 검색어 문자열 리스트 출력\n",
    "req = requests.get('http://daum.net/')\n",
    "response = TextResponse(req.url, body=req.text, encoding=\"utf-8\")"
   ]
  },
  {
   "cell_type": "code",
   "execution_count": 8,
   "metadata": {},
   "outputs": [
    {
     "data": {
      "text/plain": [
       "['거미',\n",
       " '조정석',\n",
       " '대구 수돗물',\n",
       " '진에어',\n",
       " '릴리',\n",
       " '크로아티아',\n",
       " '아르헨티나',\n",
       " '모드리치',\n",
       " '아이린',\n",
       " '경상남도 교육청']"
      ]
     },
     "execution_count": 8,
     "metadata": {},
     "output_type": "execute_result"
    }
   ],
   "source": [
    "response.xpath('//*[@id=\"mArticle\"]/div[2]/div[2]/div[3]/div[2]/ol/li/div/div[1]/span[2]/a/text()').extract()"
   ]
  },
  {
   "cell_type": "code",
   "execution_count": 9,
   "metadata": {},
   "outputs": [],
   "source": [
    "# gmarket\n",
    "req = requests.get('http://www.gmarket.co.kr/')\n",
    "response = TextResponse(req.url, body=req.text, encoding=\"utf-8\")"
   ]
  },
  {
   "cell_type": "code",
   "execution_count": 11,
   "metadata": {},
   "outputs": [
    {
     "data": {
      "text/plain": [
       "[]"
      ]
     },
     "execution_count": 11,
     "metadata": {},
     "output_type": "execute_result"
    }
   ],
   "source": [
    "response.xpath('//*[@id=\"gBestWrap\"]/div/div[3]/div[2]/ul/li[@class=\"first\"]/a')"
   ]
  },
  {
   "cell_type": "code",
   "execution_count": null,
   "metadata": {},
   "outputs": [],
   "source": []
  },
  {
   "cell_type": "code",
   "execution_count": null,
   "metadata": {},
   "outputs": [],
   "source": []
  },
  {
   "cell_type": "markdown",
   "metadata": {},
   "source": [
    "##### Scrapy Project\n",
    "- 프로젝트 생성\n",
    "    - cmd에서 프로젝트 생성 라이브러리에서 `$ scrapy startproject <프로젝트명>`\n",
    "    - 내부에 `__init__.py  __pycache__/  items.py  middlewares.py  pipelines.py  settings.py  spiders/` 파일 및 폴더 생성\n",
    "        - crawler 디렉토리 : 프로젝트 디렉토리\n",
    "        - spiders 디렉토리 : 크롤링 실행할 클래스와 함수가 모여있는 디렉토리\n",
    "            - URL, link 리스트 등 포함\n",
    "            - items.py에 있는 클래스와 변수에 대해 객체 생성 후 pipeline.py로 보냄(loading 시간 때문에 순서대로 저장되지는 않음)\n",
    "            - 여러개 존재 가능\n",
    "        - items.py : 크롤링을 할 때 가져오는 데이터 (MVC - Model), 안에 클래스가 있고, 변수가 정의되어 있음\n",
    "        - pipeline.py : 여러 개의 링크에서 데이터를 가져올 때 실행하는 함수를 정의하는 클래스(save csv 기능을 가짐), 출력하기 전에 중간에 저장(중간에 작업하고 싶을 때\n",
    "        - settings.py : 스크래핑을 할 때 정책과 같은 설정을 할 수 있는 파일\n",
    "            (robots.txt 정책을 따를 것인지 아닌지를 결정할 수 있음)\n",
    "        - middlewares.py : 메모리는 어떻게 할지 등을 결정\n",
    "- 프로젝트 파일 설명\n",
    "- 네이버에서 현재 상영 중인 영화의 제목과 누적 관객수 데이터를 크롤링"
   ]
  },
  {
   "cell_type": "markdown",
   "metadata": {},
   "source": [
    "spiders 내에 파이썬 파일 생성\n",
    "\n",
    "# 변수설정\n",
    "항상name = \"NaverMovie\"\n",
    "    allow_domain = [\"\"]\n",
    "    start_urls = [] 작성해야함\n",
    "    \n",
    "    #링크를 가져오는 함수"
   ]
  },
  {
   "cell_type": "code",
   "execution_count": null,
   "metadata": {},
   "outputs": [],
   "source": []
  },
  {
   "cell_type": "code",
   "execution_count": 120,
   "metadata": {},
   "outputs": [],
   "source": [
    "import requests\n",
    "from scrapy.http import TextResponse"
   ]
  },
  {
   "cell_type": "code",
   "execution_count": 18,
   "metadata": {},
   "outputs": [],
   "source": [
    "req = requests.get('https://movie.naver.com/movie/running/current.nhn')\n",
    "response = TextResponse(req.url, body=req.text, encoding=\"utf-8\")"
   ]
  },
  {
   "cell_type": "code",
   "execution_count": 19,
   "metadata": {},
   "outputs": [
    {
     "data": {
      "text/plain": [
       "['/movie/bi/mi/basic.nhn?code=159892',\n",
       " '/movie/bi/mi/basic.nhn?code=154285',\n",
       " '/movie/bi/mi/basic.nhn?code=153675',\n",
       " '/movie/bi/mi/basic.nhn?code=158178',\n",
       " '/movie/bi/mi/basic.nhn?code=168405',\n",
       " '/movie/bi/mi/basic.nhn?code=168017',\n",
       " '/movie/bi/mi/basic.nhn?code=143416',\n",
       " '/movie/bi/mi/basic.nhn?code=150097',\n",
       " '/movie/bi/mi/basic.nhn?code=172420',\n",
       " '/movie/bi/mi/basic.nhn?code=162854']"
      ]
     },
     "execution_count": 19,
     "metadata": {},
     "output_type": "execute_result"
    }
   ],
   "source": [
    "links = response.xpath('//*[@id=\"content\"]/div[1]/div[1]/div[3]/ul/li/dl/dt/a/@href')[:10].extract()\n",
    "links"
   ]
  },
  {
   "cell_type": "code",
   "execution_count": null,
   "metadata": {},
   "outputs": [],
   "source": [
    "# yield \n",
    "# 제너레이터"
   ]
  },
  {
   "cell_type": "code",
   "execution_count": 112,
   "metadata": {},
   "outputs": [],
   "source": [
    "def numbers():\n",
    "    return [0,1,2]"
   ]
  },
  {
   "cell_type": "code",
   "execution_count": 113,
   "metadata": {},
   "outputs": [
    {
     "data": {
      "text/plain": [
       "[0, 1, 2]"
      ]
     },
     "execution_count": 113,
     "metadata": {},
     "output_type": "execute_result"
    }
   ],
   "source": [
    "numbers()"
   ]
  },
  {
   "cell_type": "code",
   "execution_count": 114,
   "metadata": {},
   "outputs": [],
   "source": [
    "def numbers():\n",
    "    yield 0\n",
    "    yield 1\n",
    "    yield 2    "
   ]
  },
  {
   "cell_type": "code",
   "execution_count": 115,
   "metadata": {},
   "outputs": [],
   "source": [
    "n = numbers()"
   ]
  },
  {
   "cell_type": "code",
   "execution_count": 116,
   "metadata": {},
   "outputs": [
    {
     "data": {
      "text/plain": [
       "<generator object numbers at 0x000000000C21AC50>"
      ]
     },
     "execution_count": 116,
     "metadata": {},
     "output_type": "execute_result"
    }
   ],
   "source": [
    "n"
   ]
  },
  {
   "cell_type": "code",
   "execution_count": 117,
   "metadata": {},
   "outputs": [
    {
     "data": {
      "text/plain": [
       "0"
      ]
     },
     "execution_count": 117,
     "metadata": {},
     "output_type": "execute_result"
    }
   ],
   "source": [
    "n.__next__()"
   ]
  },
  {
   "cell_type": "code",
   "execution_count": 118,
   "metadata": {},
   "outputs": [
    {
     "data": {
      "text/plain": [
       "1"
      ]
     },
     "execution_count": 118,
     "metadata": {},
     "output_type": "execute_result"
    }
   ],
   "source": [
    "n.__next__()"
   ]
  },
  {
   "cell_type": "code",
   "execution_count": null,
   "metadata": {},
   "outputs": [],
   "source": []
  },
  {
   "cell_type": "code",
   "execution_count": null,
   "metadata": {},
   "outputs": [],
   "source": [
    "scrapy crawl NaverMovie -o movie.csv"
   ]
  },
  {
   "cell_type": "code",
   "execution_count": null,
   "metadata": {},
   "outputs": [],
   "source": []
  },
  {
   "cell_type": "code",
   "execution_count": null,
   "metadata": {},
   "outputs": [],
   "source": []
  },
  {
   "cell_type": "code",
   "execution_count": null,
   "metadata": {},
   "outputs": [],
   "source": []
  },
  {
   "cell_type": "code",
   "execution_count": null,
   "metadata": {},
   "outputs": [],
   "source": []
  },
  {
   "cell_type": "code",
   "execution_count": null,
   "metadata": {},
   "outputs": [],
   "source": []
  }
 ],
 "metadata": {
  "kernelspec": {
   "display_name": "Python 3",
   "language": "python",
   "name": "python3"
  },
  "language_info": {
   "codemirror_mode": {
    "name": "ipython",
    "version": 3
   },
   "file_extension": ".py",
   "mimetype": "text/x-python",
   "name": "python",
   "nbconvert_exporter": "python",
   "pygments_lexer": "ipython3",
   "version": "3.6.4"
  }
 },
 "nbformat": 4,
 "nbformat_minor": 2
}
