{
 "cells": [
  {
   "cell_type": "markdown",
   "metadata": {},
   "source": [
    "##### Celery\n",
    "- python에서 사용하는 비동기 작업큐(작업툴)\n",
    "- dask나 spark를 사용할 때\n",
    "- message broker 가 python process를 연결해서 process를 컨트롤해 줌\n",
    "- message broker(asynchronous queue) - redis\n",
    "- install package\n",
    "    - mac\n",
    "        - `$ pip3 install celery redis`\n",
    "    - windows\n",
    "        - 관리자 권한으로 cmd 창에서 실행\n",
    "        - celery 4.x 버전은 windows를 지원하지 않습니다.\n",
    "        - `> conda install -c conda-forge celery==3.1.25`\n",
    "        - `> conda install -c conda-forge redis-py`\n",
    "- reference : http://www.celeryproject.org/"
   ]
  },
  {
   "cell_type": "markdown",
   "metadata": {},
   "source": [
    "- python은 싱글코어이고, multi threading 사용시 각 작업이 언제 끝나는지 알 수 없지만 Celery를 사용하면 task의 상태를 계속 체크해서 언제 끝나는 지 알 수 있음"
   ]
  },
  {
   "cell_type": "markdown",
   "metadata": {},
   "source": [
    "##### Redis\n",
    "- mac\n",
    "    - `$ brew install redis`\n",
    "    - `$ redis-server`\n",
    "- window\n",
    "    - https://github.com/MSOpenTech/redis/releases download\n",
    "        - radis-x64-3.x.msi\n",
    "        - 설치후 재부팅\n",
    "    - `C:\\ProgramFiles\\Redis> redis-cli.exe`\n",
    "    - `127.0.0.1:6379> shutdown`\n",
    "    - `not connected> exit`\n",
    "    - `C:\\ProgramFiles\\Redis> redis-server.exe`"
   ]
  },
  {
   "cell_type": "markdown",
   "metadata": {},
   "source": [
    "- Redis 서버 번호는 6379\n",
    "- SQL과 달리 RAM을 사용해 빠른 대신 많은 정보를 담을 수 없으므로 빠른 전송이 필요한 데이터만 Redis에 올려놓고 사용"
   ]
  },
  {
   "cell_type": "code",
   "execution_count": 4,
   "metadata": {},
   "outputs": [],
   "source": [
    "import redis\n",
    "\n",
    "r = redis.StrictRedis(host='localhost', port=6379, db=0)"
   ]
  },
  {
   "cell_type": "markdown",
   "metadata": {},
   "source": [
    "RAM 영역에 저장되기 때문에 컴퓨터를 끄면 삭제되므로 항상 데이터를 가져오는 코드가 필요"
   ]
  },
  {
   "cell_type": "code",
   "execution_count": 5,
   "metadata": {},
   "outputs": [
    {
     "name": "stdout",
     "output_type": "stream",
     "text": [
      "set True\n"
     ]
    }
   ],
   "source": [
    "# set key and value\n",
    "result = r.set('foo', 'bar')\n",
    "print(\"set\", result)"
   ]
  },
  {
   "cell_type": "markdown",
   "metadata": {},
   "source": [
    "get은 해당되는 데이터를 가져옴"
   ]
  },
  {
   "cell_type": "code",
   "execution_count": 6,
   "metadata": {},
   "outputs": [
    {
     "name": "stdout",
     "output_type": "stream",
     "text": [
      "get b'bar'\n"
     ]
    }
   ],
   "source": [
    "# get value \n",
    "result = r.get('foo')\n",
    "print(\"get\", result)"
   ]
  },
  {
   "cell_type": "code",
   "execution_count": 7,
   "metadata": {},
   "outputs": [
    {
     "name": "stdout",
     "output_type": "stream",
     "text": [
      "get(after decode) bar\n"
     ]
    }
   ],
   "source": [
    "# decode ascii\n",
    "result = result.decode('ascii')\n",
    "print(\"get(after decode)\", result)"
   ]
  },
  {
   "cell_type": "markdown",
   "metadata": {},
   "source": [
    "##### start celery\n",
    "- make task.py : 파이썬 실행파일\n",
    "- start celery\n",
    "    - mac\n",
    "        - `$ celery -A task worker`\n",
    "    - windows\n",
    "        - `$ celery -A task worker -l info`\n",
    "- run celery"
   ]
  },
  {
   "cell_type": "markdown",
   "metadata": {},
   "source": [
    "- make task.py"
   ]
  },
  {
   "cell_type": "code",
   "execution_count": 8,
   "metadata": {},
   "outputs": [
    {
     "name": "stdout",
     "output_type": "stream",
     "text": [
      "Wall time: 4.2 s\n"
     ]
    }
   ],
   "source": [
    "%%time\n",
    "# prime_number\n",
    "def prime_number(n):\n",
    "    prime_list = []\n",
    "    for num1 in range(1, n+1):\n",
    "        is_prime = True\n",
    "        for num2 in range(2, num1):\n",
    "            if num1 % num2 == 0:\n",
    "                is_prime = False\n",
    "        if is_prime:\n",
    "            prime_list.append(num1)\n",
    "    return prime_list\n",
    "\n",
    "len(prime_number(10000))"
   ]
  },
  {
   "cell_type": "code",
   "execution_count": 9,
   "metadata": {},
   "outputs": [
    {
     "name": "stdout",
     "output_type": "stream",
     "text": [
      "Overwriting task.py\n"
     ]
    }
   ],
   "source": [
    "%%writefile task.py\n",
    "\n",
    "from celery import Celery\n",
    "\n",
    "BROKER_URL = 'redis://localhost:6379/0'\n",
    "CELERY_RESULT_BACKEND = 'redis://localhost:6379/0'\n",
    "\n",
    "app = Celery('task', broker=BROKER_URL, backend=CELERY_RESULT_BACKEND)\n",
    "\n",
    "@app.task                           # decorator로 꼭 감싸야 함\n",
    "def prime_number(n):                # 함수는 필요한 대로 작성\n",
    "    prime_count = 0\n",
    "    for num1 in range(1, n+1):\n",
    "        is_prime = True\n",
    "        for num2 in range(2, num1):\n",
    "            if num1 % num2 == 0:\n",
    "                is_prime = False\n",
    "        if is_prime:\n",
    "            prime_count += 1\n",
    "    return prime_count"
   ]
  },
  {
   "cell_type": "markdown",
   "metadata": {},
   "source": [
    "- run celery"
   ]
  },
  {
   "cell_type": "code",
   "execution_count": 10,
   "metadata": {},
   "outputs": [],
   "source": [
    "import task"
   ]
  },
  {
   "cell_type": "code",
   "execution_count": 11,
   "metadata": {},
   "outputs": [],
   "source": [
    "result_1 = task.prime_number.delay(20000)\n",
    "result_2 = task.prime_number.delay(10000)"
   ]
  },
  {
   "cell_type": "code",
   "execution_count": 12,
   "metadata": {},
   "outputs": [
    {
     "name": "stdout",
     "output_type": "stream",
     "text": [
      "1 sec : done1-False, done2-False, r_1-0, r_2-0\n",
      "2 sec : done1-False, done2-False, r_1-0, r_2-0\n",
      "3 sec : done1-False, done2-False, r_1-0, r_2-0\n",
      "4 sec : done1-False, done2-False, r_1-0, r_2-0\n",
      "5 sec : done1-False, done2-False, r_1-0, r_2-0\n",
      "6 sec : done1-False, done2-False, r_1-0, r_2-0\n",
      "7 sec : done1-False, done2-False, r_1-0, r_2-0\n",
      "8 sec : done1-False, done2-False, r_1-0, r_2-0\n",
      "9 sec : done1-False, done2-False, r_1-0, r_2-0\n",
      "10 sec : done1-False, done2-False, r_1-0, r_2-0\n",
      "11 sec : done1-False, done2-False, r_1-0, r_2-0\n",
      "12 sec : done1-False, done2-False, r_1-0, r_2-0\n",
      "13 sec : done1-False, done2-False, r_1-0, r_2-0\n",
      "14 sec : done1-False, done2-False, r_1-0, r_2-0\n",
      "15 sec : done1-False, done2-False, r_1-0, r_2-0\n",
      "16 sec : done1-False, done2-False, r_1-0, r_2-0\n",
      "17 sec : done1-False, done2-False, r_1-0, r_2-0\n",
      "18 sec : done1-False, done2-False, r_1-0, r_2-0\n",
      "19 sec : done1-False, done2-False, r_1-0, r_2-0\n",
      "20 sec : done1-False, done2-False, r_1-0, r_2-0\n",
      "21 sec : done1-False, done2-False, r_1-0, r_2-0\n",
      "22 sec : done1-False, done2-False, r_1-0, r_2-0\n",
      "23 sec : done1-False, done2-False, r_1-0, r_2-0\n",
      "24 sec : done1-False, done2-False, r_1-0, r_2-0\n",
      "25 sec : done1-False, done2-False, r_1-0, r_2-0\n",
      "26 sec : done1-False, done2-False, r_1-0, r_2-0\n",
      "27 sec : done1-False, done2-False, r_1-0, r_2-0\n",
      "28 sec : done1-False, done2-False, r_1-0, r_2-0\n",
      "29 sec : done1-False, done2-False, r_1-0, r_2-0\n",
      "30 sec : done1-False, done2-False, r_1-0, r_2-0\n",
      "31 sec : done1-False, done2-False, r_1-0, r_2-0\n",
      "32 sec : done1-False, done2-False, r_1-0, r_2-0\n",
      "33 sec : done1-False, done2-False, r_1-0, r_2-0\n",
      "34 sec : done1-False, done2-False, r_1-0, r_2-0\n",
      "35 sec : done1-False, done2-False, r_1-0, r_2-0\n",
      "36 sec : done1-False, done2-False, r_1-0, r_2-0\n",
      "37 sec : done1-False, done2-False, r_1-0, r_2-0\n",
      "38 sec : done1-False, done2-False, r_1-0, r_2-0\n",
      "39 sec : done1-False, done2-False, r_1-0, r_2-0\n",
      "40 sec : done1-False, done2-False, r_1-0, r_2-0\n",
      "41 sec : done1-False, done2-False, r_1-0, r_2-0\n",
      "42 sec : done1-False, done2-False, r_1-0, r_2-0\n",
      "43 sec : done1-False, done2-False, r_1-0, r_2-0\n",
      "44 sec : done1-False, done2-False, r_1-0, r_2-0\n",
      "45 sec : done1-False, done2-False, r_1-0, r_2-0\n",
      "46 sec : done1-False, done2-False, r_1-0, r_2-0\n",
      "47 sec : done1-False, done2-False, r_1-0, r_2-0\n",
      "48 sec : done1-False, done2-False, r_1-0, r_2-0\n",
      "49 sec : done1-False, done2-False, r_1-0, r_2-0\n",
      "50 sec : done1-False, done2-False, r_1-0, r_2-0\n",
      "51 sec : done1-False, done2-False, r_1-0, r_2-0\n",
      "52 sec : done1-False, done2-False, r_1-0, r_2-0\n",
      "53 sec : done1-False, done2-False, r_1-0, r_2-0\n",
      "54 sec : done1-False, done2-False, r_1-0, r_2-0\n",
      "55 sec : done1-False, done2-False, r_1-0, r_2-0\n",
      "56 sec : done1-False, done2-False, r_1-0, r_2-0\n",
      "57 sec : done1-False, done2-False, r_1-0, r_2-0\n",
      "58 sec : done1-False, done2-False, r_1-0, r_2-0\n",
      "59 sec : done1-False, done2-False, r_1-0, r_2-0\n",
      "60 sec : done1-False, done2-False, r_1-0, r_2-0\n",
      "61 sec : done1-False, done2-False, r_1-0, r_2-0\n",
      "62 sec : done1-False, done2-False, r_1-0, r_2-0\n",
      "63 sec : done1-False, done2-False, r_1-0, r_2-0\n",
      "64 sec : done1-False, done2-False, r_1-0, r_2-0\n",
      "65 sec : done1-False, done2-False, r_1-0, r_2-0\n",
      "66 sec : done1-False, done2-False, r_1-0, r_2-0\n",
      "67 sec : done1-False, done2-False, r_1-0, r_2-0\n",
      "68 sec : done1-False, done2-False, r_1-0, r_2-0\n",
      "69 sec : done1-False, done2-False, r_1-0, r_2-0\n",
      "70 sec : done1-False, done2-False, r_1-0, r_2-0\n",
      "71 sec : done1-False, done2-False, r_1-0, r_2-0\n",
      "72 sec : done1-False, done2-False, r_1-0, r_2-0\n",
      "73 sec : done1-False, done2-False, r_1-0, r_2-0\n",
      "74 sec : done1-False, done2-False, r_1-0, r_2-0\n",
      "75 sec : done1-False, done2-False, r_1-0, r_2-0\n",
      "76 sec : done1-False, done2-False, r_1-0, r_2-0\n",
      "77 sec : done1-False, done2-False, r_1-0, r_2-0\n",
      "78 sec : done1-False, done2-False, r_1-0, r_2-0\n",
      "79 sec : done1-False, done2-False, r_1-0, r_2-0\n",
      "80 sec : done1-False, done2-False, r_1-0, r_2-0\n",
      "81 sec : done1-False, done2-False, r_1-0, r_2-0\n",
      "82 sec : done1-False, done2-False, r_1-0, r_2-0\n",
      "83 sec : done1-False, done2-False, r_1-0, r_2-0\n",
      "84 sec : done1-False, done2-False, r_1-0, r_2-0\n",
      "85 sec : done1-False, done2-False, r_1-0, r_2-0\n",
      "86 sec : done1-False, done2-False, r_1-0, r_2-0\n",
      "87 sec : done1-False, done2-False, r_1-0, r_2-0\n",
      "88 sec : done1-False, done2-False, r_1-0, r_2-0\n",
      "89 sec : done1-False, done2-False, r_1-0, r_2-0\n",
      "90 sec : done1-False, done2-False, r_1-0, r_2-0\n",
      "91 sec : done1-False, done2-False, r_1-0, r_2-0\n",
      "92 sec : done1-False, done2-False, r_1-0, r_2-0\n",
      "93 sec : done1-False, done2-False, r_1-0, r_2-0\n",
      "94 sec : done1-False, done2-False, r_1-0, r_2-0\n",
      "95 sec : done1-False, done2-False, r_1-0, r_2-0\n",
      "96 sec : done1-False, done2-False, r_1-0, r_2-0\n",
      "97 sec : done1-False, done2-False, r_1-0, r_2-0\n",
      "98 sec : done1-False, done2-False, r_1-0, r_2-0\n",
      "99 sec : done1-False, done2-False, r_1-0, r_2-0\n",
      "100 sec : done1-False, done2-False, r_1-0, r_2-0\n",
      "101 sec : done1-False, done2-False, r_1-0, r_2-0\n",
      "102 sec : done1-False, done2-False, r_1-0, r_2-0\n"
     ]
    },
    {
     "ename": "KeyboardInterrupt",
     "evalue": "",
     "output_type": "error",
     "traceback": [
      "\u001b[1;31m---------------------------------------------------------------------------\u001b[0m",
      "\u001b[1;31mKeyboardInterrupt\u001b[0m                         Traceback (most recent call last)",
      "\u001b[1;32m<ipython-input-12-b750abe9cb4e>\u001b[0m in \u001b[0;36m<module>\u001b[1;34m()\u001b[0m\n\u001b[0;32m      8\u001b[0m     \u001b[0mis_done_1\u001b[0m \u001b[1;33m=\u001b[0m \u001b[0mresult_1\u001b[0m\u001b[1;33m.\u001b[0m\u001b[0mready\u001b[0m\u001b[1;33m(\u001b[0m\u001b[1;33m)\u001b[0m\u001b[1;33m\u001b[0m\u001b[0m\n\u001b[0;32m      9\u001b[0m     \u001b[0mis_done_2\u001b[0m \u001b[1;33m=\u001b[0m \u001b[0mresult_2\u001b[0m\u001b[1;33m.\u001b[0m\u001b[0mready\u001b[0m\u001b[1;33m(\u001b[0m\u001b[1;33m)\u001b[0m\u001b[1;33m\u001b[0m\u001b[0m\n\u001b[1;32m---> 10\u001b[1;33m     \u001b[0mtime\u001b[0m\u001b[1;33m.\u001b[0m\u001b[0msleep\u001b[0m\u001b[1;33m(\u001b[0m\u001b[1;36m1\u001b[0m\u001b[1;33m)\u001b[0m\u001b[1;33m\u001b[0m\u001b[0m\n\u001b[0m\u001b[0;32m     11\u001b[0m     \u001b[0mcount\u001b[0m \u001b[1;33m+=\u001b[0m \u001b[1;36m1\u001b[0m\u001b[1;33m\u001b[0m\u001b[0m\n\u001b[0;32m     12\u001b[0m \u001b[1;33m\u001b[0m\u001b[0m\n",
      "\u001b[1;31mKeyboardInterrupt\u001b[0m: "
     ]
    }
   ],
   "source": [
    "import time\n",
    "\n",
    "is_done_1, is_done_2 = False, False\n",
    "r_1, r_2 = 0, 0\n",
    "count = 0\n",
    "\n",
    "while (not is_done_1) or (not is_done_2):   # 둘다 True가 되는 순간 빠져나옴\n",
    "    is_done_1 = result_1.ready()\n",
    "    is_done_2 = result_2.ready()\n",
    "    time.sleep(1)\n",
    "    count += 1\n",
    "    \n",
    "    if is_done_1:\n",
    "        r_1 = result_1.get()\n",
    "    if is_done_2:\n",
    "        r_2 = result_2.get()\n",
    "        \n",
    "    print(\"{} sec : done1-{}, done2-{}, r_1-{}, r_2-{}\".format(count, is_done_1, is_done_2, r_1, r_2))\n",
    "\n",
    "result_1.get(), result_2.get()"
   ]
  },
  {
   "cell_type": "markdown",
   "metadata": {},
   "source": [
    "time.sleep으로 언제 task가 완료되었는지 알 수 있음"
   ]
  },
  {
   "cell_type": "code",
   "execution_count": 13,
   "metadata": {},
   "outputs": [],
   "source": [
    "29 sec : done1-True, done2-False, r_1-1230, r_2-0   # done1은 작업이 완료했으므로 r-1에 대해서는 다른 작업을 하면 됨"
   ]
  },
  {
   "cell_type": "code",
   "execution_count": null,
   "metadata": {},
   "outputs": [],
   "source": []
  }
 ],
 "metadata": {
  "kernelspec": {
   "display_name": "Python 3",
   "language": "python",
   "name": "python3"
  },
  "language_info": {
   "codemirror_mode": {
    "name": "ipython",
    "version": 3
   },
   "file_extension": ".py",
   "mimetype": "text/x-python",
   "name": "python",
   "nbconvert_exporter": "python",
   "pygments_lexer": "ipython3",
   "version": "3.6.4"
  }
 },
 "nbformat": 4,
 "nbformat_minor": 2
}
