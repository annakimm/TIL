{
 "cells": [
  {
   "cell_type": "code",
   "execution_count": 1,
   "metadata": {
    "hidden": "all",
    "school_cell_uuid": "b13c1c8dbbb54803838e0471df3b04ab"
   },
   "outputs": [],
   "source": [
    "import warnings\n",
    "warnings.simplefilter(\"ignore\")"
   ]
  },
  {
   "cell_type": "markdown",
   "metadata": {
    "school_cell_uuid": "500a9f5de6cc4c0399e6351020882484"
   },
   "source": [
    "# 나이브 베이즈 분류 모형"
   ]
  },
  {
   "cell_type": "markdown",
   "metadata": {
    "school_cell_uuid": "b2c97d48f89f41b6b8f932c2ff703a50"
   },
   "source": [
    "## 나이브 가정"
   ]
  },
  {
   "cell_type": "markdown",
   "metadata": {
    "school_cell_uuid": "783a90b5ba2f4ae6bc01f0e2b8e4e6d3"
   },
   "source": [
    "독립 변수 $x$가 다차원이면 즉, $x = (x_1, \\ldots, x_D)$이면 likelihood $P(x \\mid y = C_k)$로 모든 $x=(x_1, \\ldots, x_D)$에 대한 결합 확률(joint probability) $P(x_1, \\ldots, x_D \\mid y = C_k)$ 을 사용해야 한다. 그러나 차원이 높아질 수록 이러한 다차원 결합 확률은 실제로 구하기 어렵기 때문에 모든 차원의 개별 독립 변수 요소들이 서로 조건부 독립(conditional independent)이라는 가정을 흔히 사용한다. 공분산이 0이 아닌데도 다 0이라고 가정하는 것이다. 이러한 가정을 베이즈 분류 모형에 적용한 모형을 **나이브 베이즈 분류 모형(Naive Bayes classification model)**이라고 한다.\n",
    "\n",
    "**나이브 베이즈 분류 모형에서는 $x$ 벡터의 결합 확률이 개별 원소 $x_d$의 확률의 곱**으로 나타난다.\n",
    "\n",
    "$$\n",
    "P(x_1, \\ldots, x_D \\mid y = C_k) = \\prod_{d=1}^D P(x_d \\mid y = C_k)\n",
    "$$\n",
    "\n",
    "$$\n",
    "P(y = C_k \\mid x) \\;\\; \\propto \\;\\; \\prod_{d=1}^D P(x_{d} \\mid y = C_k)\\; P(y = C_k)\n",
    "$$\n",
    "\n",
    "$x$에 대해서는 모든 분포가 가능하지만 scikit-learn에서는 가우시안, 베르누이, 다항분포일 경우만 제공한다. \n",
    "\n",
    "$**$ 조건부 독립 : $y$가 $k$번째 클래스에 한해서만 독립이다.\n",
    "\n",
    "$**$ 무조건부 독립 : $y$가 증가하면 $x_1$도 증가할 수 있다. 클래스에 상관없이 x값끼리 독립이다.?"
   ]
  },
  {
   "cell_type": "markdown",
   "metadata": {
    "school_cell_uuid": "4f0e50a2ceb94cc38f184cd3541648af"
   },
   "source": [
    "## 가우시안 정규 분포 Likelihood 모형"
   ]
  },
  {
   "cell_type": "markdown",
   "metadata": {
    "school_cell_uuid": "e4053db0a93a476488b5899eeed601bf"
   },
   "source": [
    "$x$ 벡터의 원소가 모두 실수이고 클래스마다 특정한 값 주변에서 발생한다고 하면 가우시안 정규 분포 likelihood 모형을 사용한다.\n",
    "각 독립 변수 $x_d$마다, 그리고 클래스 $k$마다 정규 분포의 기댓값 $\\mu_{d,k}$, 표준 편차 $\\sigma_{d,k}^2$가 달라진다. QDA 모형과는 달리 모든 독립 변수들이 서로 조건부 독립이라고 가정한다.\n",
    "\n",
    "$$ P(x_d \\mid y = C_k) = \\dfrac{1}{\\sqrt{2\\pi\\sigma_{d,k}^2}} \\exp \\left(-\\dfrac{(x_d-\\mu_{d,k})^2}{2\\sigma_{d,k}^2}\\right) $$\n",
    "  "
   ]
  },
  {
   "cell_type": "markdown",
   "metadata": {
    "school_cell_uuid": "db88a20caddb42f7aa5deda97cbd98d8"
   },
   "source": [
    "## 베르누이 분포 Likelihood 모형"
   ]
  },
  {
   "cell_type": "markdown",
   "metadata": {
    "school_cell_uuid": "cb8185c4c5fe41eca58dc192d437d512"
   },
   "source": [
    "종속변수와 독립변수가 0,1 값만 있을 때 사용가능하다.\n",
    "\n",
    "베르누이 분포 Likelihood 모형에서는 각각의 $x = (x_1,\\ldots, x_D)$의 각 원소 $x_d$가 0 또는 1이라는 값만을 가질 수 있다. 즉 독립 변수는 $D$개의 독립적인 베르누이 확률 변수, 즉 동전으로 구성된 동전 세트로 표현할 수 있다. 이 동전들의 모수 $\\theta_{d}$는 동전 $d$마다 다르다.\n",
    "\n",
    "그런데 클래스 $y = C_k$ $(k=1,\\ldots,K)$마다도 $x_d$가 1이 될 확률이 다르다. 즉, **동전의 모수 $\\theta_{d,k}$는 동전 $d$마다 다르고 클래스 $k$마다도 다르다. 즉, 전체 $D \\times K$의 동전이 존재하며 같은 클래스에 속하는 $D$개의 동전이 하나의 동전 세트를 구성하고 이러한 동전 세트가 $K$개 있다고 생각할 수 있다.**\n",
    "\n",
    "$$ P(x_d \\mid y = C_k) = \\theta_{d,k}^x (1-\\theta_{d,k})^{(1-x_d)} $$\n",
    "\n",
    "이러한 동전 세트마다 확률 특성이 다르므로 베르누이 분포 Likelihood 모형을 기반으로 하는 나이브 베이즈 모형은 동전 세트를 $N$번 던진 결과로부터 $1,\\ldots,K$ 중 어느 동전 세트를 던졌는지를 찾아내는 모형이라고 할 수 있다."
   ]
  },
  {
   "cell_type": "markdown",
   "metadata": {
    "school_cell_uuid": "7931942b725c4df3ae5a6bc845ca8f15"
   },
   "source": [
    "## 다항 분포 Likelihood 모형"
   ]
  },
  {
   "cell_type": "markdown",
   "metadata": {
    "school_cell_uuid": "e4053db0a93a476488b5899eeed601bf"
   },
   "source": [
    "변수간 상대적인 비율이 중요한 경우에 사용하고, $x$값이 실수여도 가능하다. \n",
    "\n",
    "다항 분포 모형에서는 $x$ 벡터가 다항 확률 분포의 샘플이라고 가정한다. 즉, $D$개의 면을 가지는 주사위를 $\\sum_{d=1}^D x_d$번 던져서 나온 결과로 본다.\n",
    "예를 들어 $x$가 다음과 같다면,\n",
    "\n",
    "$$ x = (1, 4, 0, 5) $$\n",
    "\n",
    "4면체 주사위를 10번 던져서 1인 면이 1번, 2인 면이 4번, 4인 면이 5번 나온 결과로 해석한다. $x_1, ~, x_d$를 하나의 차원인 것으로 취급한다. 각각의 주사위 면이 독립이지만 앞의 모형들과 다른 건 하나로 묶어서 생각한다는 점이다. \n",
    "\n",
    "각 클래스마다 주사위가 다르다고 가정하므로 $K$개의 클래스를 구분하는 문제에서는 $D$개의 면을 가진 주사위가  $K$개 있다고 본다. \n",
    "\n",
    "$$ P(x_1, \\ldots, x_D \\mid y = C_k) = \\prod_{d=1}^D \\theta_{d,k}^{x_d}$$\n",
    "\n",
    "$$ \\sum_{d=1}^{D} \\theta_{d,k} = 1 $$\n",
    "\n",
    "따라서 다항 분포 Likelihood 모형을 기반으로 하는 나이브 베이즈 모형은 주사위를 던진 결과로부터  $1,\\ldots,K$ 중 어느 주사위를 던졌는지를 찾아내는 모형이라고 할 수 있다."
   ]
  },
  {
   "cell_type": "markdown",
   "metadata": {
    "school_cell_uuid": "a4b7130ea20444c98c864aaa223fb549"
   },
   "source": [
    "## Scikit-Learn에서 제공하는 나이브 베이즈 모형"
   ]
  },
  {
   "cell_type": "markdown",
   "metadata": {
    "school_cell_uuid": "2045e32ec50b497c94a452ecfbbe58e0"
   },
   "source": [
    "Scikit-Learn의 naive_bayes 서브패키지에서는 다음과 같은 세가지 나이브 베이즈 모형 클래스를 제공한다.\n",
    "\n",
    "* [`BernoulliNB`](http://scikit-learn.org/stable/modules/generated/sklearn.naive_bayes.BernoulliNB.html): 베르누이 분포 나이브 베이즈\n",
    "* [`MultinomialNB`](http://scikit-learn.org/stable/modules/generated/sklearn.naive_bayes.MultinomialNB.html): 다항 분포 나이브 베이즈\n",
    "* [`GaussianNB`](http://scikit-learn.org/stable/modules/generated/sklearn.naive_bayes.GaussianNB.html):\t가우시안 정규 분포 나이브 베이즈\n",
    "\n",
    "이 클래스들은 다음과 같은 속성값 및 메서드를 가진다."
   ]
  },
  {
   "cell_type": "markdown",
   "metadata": {
    "school_cell_uuid": "0fa963d8ecde4b89ba939b656b75e0b1"
   },
   "source": [
    "### 사전 확률과 관련된 속성"
   ]
  },
  {
   "cell_type": "markdown",
   "metadata": {
    "school_cell_uuid": "678f2b881c6a43ec98ebfac8ac1b9d35"
   },
   "source": [
    "* `classes_`\n",
    "\n",
    " * 종속 변수 Y의 클래스(라벨)\n",
    "\n",
    "\n",
    "* `class_count_`\n",
    "\n",
    " * 종속 변수 Y의 값이 특정한 클래스인 표본 데이터의 수(사전확률 계산할 때 사용됨)\n",
    "\n",
    "\n",
    "* `class_prior_`\n",
    "\n",
    " * 종속 변수 Y의 무조건부 확률 분포 $ P(Y) $ (가우시안 정규 분포의 경우에만) => **사전확률**\n",
    " * $x$가 없을 때 $y$의 클래스로 확률을 예측하는 것\n",
    " \n",
    "\n",
    "* `class_log_prior_`\n",
    "\n",
    " * 종속 변수 Y의 무조건부 확률 분포의 로그 $ \\log P(Y) $ (베르누이 분포나 다항 분포의 경우에만) => **log(사전확률)**\n",
    " "
   ]
  },
  {
   "cell_type": "markdown",
   "metadata": {
    "school_cell_uuid": "72a68b2357bd4a07a2a623d9d72c3ebf"
   },
   "source": [
    "### Likelihood 추정 속성"
   ]
  },
  {
   "cell_type": "markdown",
   "metadata": {
    "school_cell_uuid": "b01b3906ef6748c2a59f622b99f399db"
   },
   "source": [
    "\n",
    "* `theta_ `, `sigma_` \n",
    "\n",
    " * 가우시안 정규 분포의 기댓값 $\\mu$ 과 분산 $\\sigma^2$ (가우시안 정규 분포의 경우에만) : matrix 형태($k$번째 클래스에서 각각 $x$의 평균과 분산, 즉 모든 클래스에서 모든 $x$ 차원에 대해 $P$를 구함\n",
    " \n",
    "* `feature_count_`\n",
    " * 베르누이 분포에서는 각각의 클래스 $k$에 대해 $d$번째 동전이 앞면이 나온 횟수 $N_{d,k}$을 저장한 행렬\n",
    " * 다항 분포에서는 각각의 클래스 $k$에서 $d$번째 면이 나온 횟수 $N_{d,k}$을 저장한 행렬\n",
    "\n",
    "* `feature_log_prob_ `\n",
    "\n",
    " * 베르누이 분포 혹은 다항 분포의 모수 벡터의 로그값\n",
    " * 각 $y$ 클래스와 $x$차원에 해당하는 데이터가 나올 확률\n",
    " \n",
    " $$ \\log \\theta_k = (\\log \\theta_{1,k}, \\ldots, \\log \\theta_{D, k}) = \\left( \\log \\dfrac{N_{1,k}}{N_k}, \\ldots, \\log \\dfrac{N_{D,k}}{N_k} \\right)$$\n",
    " \n",
    "여기에서 $N_k$은 클래스 $k$에 대해 $D$번째 동전을 던진 총 횟수(베르누이 분포의 경우) 또는 주사위를 던진 총 횟수(다항 분포의 경우)이고, $N_{D, k}$는 클래스 $k$에 대해 $D$번째 동전을 던져 앞면이 나온 횟수(베르누이 분포의 경우) 또는 주사위를 던져 $D$번째 면이 나온 횟수(다항 분포의 경우)이다.\n",
    "\n",
    "표본 데이터의 수가 적은 경우에는 모수에 대해 다음처럼 스무딩(smoothing)을 할 수도 있다."
   ]
  },
  {
   "cell_type": "markdown",
   "metadata": {
    "school_cell_uuid": "bf2b5e8399514d799c9e769d70f849b9"
   },
   "source": [
    "### 스무딩"
   ]
  },
  {
   "cell_type": "markdown",
   "metadata": {
    "school_cell_uuid": "a84e179bcba246c8b6dca1650fa8733f"
   },
   "source": [
    "표본 데이터의 수가 적은 경우에는 베르누이 모수가 0 또는 1이라는 극단적인 모수 추정값이 나올 수도 있다. 하지만 현실적으로는 실제 모수값이 이런 극단적인 값이 나올 가능성이 적다. 따라서 베르누이 모수가 0.5인 가장 일반적인 경우를 가정하여 0이 나오는 경우와 1이 나오는 경우, 두 개의 가상 표본 데이터를 추가한다. 그러면 0이나 1과 같은 극단적인 추정값이 0.5에 가까운 다음과 값으로 변한다. 이를 라플라스 스무딩(Laplace smoothing) 또는 Add-One 스무딩이라고 한다.\n",
    "만약 카테고리의 수가 2개가 아니라 $D$개이면 각각의 카테고리 값이 나오는 $D$개의 가상 표본 데이터를 추가한다.\n",
    "\n",
    " $$ \\hat{\\theta}_{d,k} = \\frac{ N_{d,k} + \\alpha}{N_k + \\alpha D} $$ \n",
    "\n",
    "또 가상 표본 데이터를 추가할 때 가중치 $\\alpha$를 사용하여 스무딩의 정도를 조절할 수도 있다."
   ]
  },
  {
   "cell_type": "markdown",
   "metadata": {
    "school_cell_uuid": "808bc7b0424841e9bab1de642e78712a"
   },
   "source": [
    "## 가우시안 정규 분포 나이브 베이즈 모형"
   ]
  },
  {
   "cell_type": "markdown",
   "metadata": {
    "school_cell_uuid": "347e5c13f52042ed8de936676d96f8ed"
   },
   "source": [
    "먼저 실수인 두 개의 독립 변수 $x_1, x_2$와 두 종류의 클래스 $y=0,1$을 가지는 분류 모형을 생각하자. 독립 변수는 $y$의 클래스에 따라 다음처럼 분포가 달라진다. $\\mu_0, \\sigma_0$은 $y$클래스가 0일 때 $x_1, x_2$의 평균벡터, 공분산벡터이고, $\\mu_1, \\sigma_1$은 $y$클래스가 1일 때 $x_1, x_2$의 평균벡터, 공분산벡터이다. 여기에서 나이브 베이즈 모형은 0.9와 -0.8이 0이라고 가정해서, [[1, 2], [1.2, 2]]와 같은 형태로 근접한 값이 추출될 것이다.\n",
    "\n",
    "$$ \n",
    "\\mu_0 = \\begin{bmatrix} -2 \\\\ -2 \\end{bmatrix},\n",
    "\\;\\; \n",
    "\\Sigma_0 = \\begin{bmatrix} 1 & 0.9 \\\\ 0.9 & 2 \\end{bmatrix} \n",
    "$$\n",
    "$$ \n",
    "\\mu_1 = \\begin{bmatrix} 2 \\\\ 2 \\end{bmatrix},\n",
    "\\;\\; \n",
    "\\Sigma_1 = \\begin{bmatrix} 1.2 & -0.8 \\\\ -0.8 & 2 \\end{bmatrix} \n",
    "$$\n"
   ]
  },
  {
   "cell_type": "code",
   "execution_count": 10,
   "metadata": {
    "school_cell_uuid": "97da9bf6a85847cba4d7f1bd2f8ac7f4"
   },
   "outputs": [],
   "source": [
    "np.random.seed(0)\n",
    "rv0 = sp.stats.multivariate_normal([-2, -2], [[1, 0.9], [0.9, 2]])\n",
    "rv1 = sp.stats.multivariate_normal([2, 2], [[1.2, -0.8], [-0.8, 2]])\n",
    "X0 = rv0.rvs(40)\n",
    "X1 = rv1.rvs(60)\n",
    "X = np.vstack([X0, X1])\n",
    "y = np.hstack([np.zeros(40), np.ones(60)])"
   ]
  },
  {
   "cell_type": "code",
   "execution_count": 12,
   "metadata": {
    "school_cell_uuid": "3d15a2bc8f0245ff89cdf4ecf587ddd7"
   },
   "outputs": [
    {
     "data": {
      "image/png": "[encoded data removed]",
      "text/plain": [
       "<Figure size 432x288 with 1 Axes>"
      ]
     },
     "metadata": {},
     "output_type": "display_data"
    }
   ],
   "source": [
    "%matplotlib inline\n",
    "xx1 = np.linspace(-5, 5, 100)\n",
    "xx2 = np.linspace(-5, 5, 100)\n",
    "XX1, XX2 = np.meshgrid(xx1, xx2)\n",
    "plt.grid(False)\n",
    "plt.contour(XX1, XX2, rv0.pdf(np.dstack([XX1, XX2])), cmap=mpl.cm.cool)\n",
    "plt.contour(XX1, XX2, rv1.pdf(np.dstack([XX1, XX2])), cmap=mpl.cm.hot)\n",
    "plt.scatter(X0[:, 0], X0[:, 1], c='b')\n",
    "plt.scatter(X1[:, 0], X1[:, 1], c='r')\n",
    "plt.axis(\"equal\")\n",
    "plt.show()"
   ]
  },
  {
   "cell_type": "markdown",
   "metadata": {
    "school_cell_uuid": "2448e59410c04a9f87d48769cede8535"
   },
   "source": [
    "이 데이터를 가우시안 나이브 베이즈 모형으로 다음처럼 풀 수 있다. 실제 데이터는 위 그래프 모양이지만 아래 그림으로 데이터가 분포해 있다고 가정하고 푼다."
   ]
  },
  {
   "cell_type": "code",
   "execution_count": 13,
   "metadata": {
    "school_cell_uuid": "9864b77938cb40d3835c5f4937748b39"
   },
   "outputs": [],
   "source": [
    "from sklearn.naive_bayes import GaussianNB\n",
    "model_norm = GaussianNB().fit(X, y)"
   ]
  },
  {
   "cell_type": "markdown",
   "metadata": {
    "school_cell_uuid": "97b890e3f3554881a4fa73676d55a452"
   },
   "source": [
    "y 클래스의 종류와 각 클래스에 속하는 샘플의 수, 그리고 그 값으로부터 구한 사전 확률의 값은 다음과 같다."
   ]
  },
  {
   "cell_type": "code",
   "execution_count": 14,
   "metadata": {
    "school_cell_uuid": "cb9eeb04ad184d57bc9dddfa1e3b877c"
   },
   "outputs": [
    {
     "data": {
      "text/plain": [
       "array([0., 1.])"
      ]
     },
     "execution_count": 14,
     "metadata": {},
     "output_type": "execute_result"
    }
   ],
   "source": [
    "model_norm.classes_"
   ]
  },
  {
   "cell_type": "code",
   "execution_count": 15,
   "metadata": {
    "school_cell_uuid": "b6ad1ddc9e1d40dcb78b998e3eaf68e4"
   },
   "outputs": [
    {
     "data": {
      "text/plain": [
       "array([40., 60.])"
      ]
     },
     "execution_count": 15,
     "metadata": {},
     "output_type": "execute_result"
    }
   ],
   "source": [
    "model_norm.class_count_"
   ]
  },
  {
   "cell_type": "code",
   "execution_count": 16,
   "metadata": {
    "school_cell_uuid": "02fc24bc8b1f4ff68e5c32fb2b744a28"
   },
   "outputs": [
    {
     "data": {
      "text/plain": [
       "array([0.4, 0.6])"
      ]
     },
     "execution_count": 16,
     "metadata": {},
     "output_type": "execute_result"
    }
   ],
   "source": [
    "model_norm.class_prior_"
   ]
  },
  {
   "cell_type": "markdown",
   "metadata": {
    "school_cell_uuid": "06ffcc043ea447ff83dc234a09150fdf"
   },
   "source": [
    "각 클래스에 따라 $x$가 이루는 확률 분포의 모수를 계산하면 다음과 같다."
   ]
  },
  {
   "cell_type": "code",
   "execution_count": 17,
   "metadata": {
    "school_cell_uuid": "b4e89ebfafd748a0b6000bdc29b59592"
   },
   "outputs": [
    {
     "data": {
      "text/plain": [
       "(array([-1.96197643, -2.00597903]), array([1.02398854, 2.31390497]))"
      ]
     },
     "execution_count": 17,
     "metadata": {},
     "output_type": "execute_result"
    }
   ],
   "source": [
    "model_norm.theta_[0], model_norm.sigma_[0]"
   ]
  },
  {
   "cell_type": "code",
   "execution_count": 18,
   "metadata": {
    "school_cell_uuid": "b4e89ebfafd748a0b6000bdc29b59592"
   },
   "outputs": [
    {
     "data": {
      "text/plain": [
       "(array([2.19130701, 2.12626716]), array([1.25429371, 1.93742544]))"
      ]
     },
     "execution_count": 18,
     "metadata": {},
     "output_type": "execute_result"
    }
   ],
   "source": [
    "model_norm.theta_[1], model_norm.sigma_[1]"
   ]
  },
  {
   "cell_type": "code",
   "execution_count": 19,
   "metadata": {
    "school_cell_uuid": "256c33e9a3f046adbcf4d1440db0ee81"
   },
   "outputs": [
    {
     "data": {
      "image/png": "[encoded data removed]",
      "text/plain": [
       "<Figure size 432x288 with 1 Axes>"
      ]
     },
     "metadata": {},
     "output_type": "display_data"
    }
   ],
   "source": [
    "rv0 = sp.stats.multivariate_normal(model_norm.theta_[0], model_norm.sigma_[0])\n",
    "rv1 = sp.stats.multivariate_normal(model_norm.theta_[1], model_norm.sigma_[1])\n",
    "\n",
    "xx1 = np.linspace(-5, 5, 100)\n",
    "xx2 = np.linspace(-5, 5, 100)\n",
    "XX1, XX2 = np.meshgrid(xx1, xx2)\n",
    "plt.grid(False)\n",
    "plt.contour(XX1, XX2, rv0.pdf(np.dstack([XX1, XX2])), cmap=mpl.cm.cool)\n",
    "plt.contour(XX1, XX2, rv1.pdf(np.dstack([XX1, XX2])), cmap=mpl.cm.hot)\n",
    "plt.scatter(X0[:, 0], X0[:, 1], c='b')\n",
    "plt.scatter(X1[:, 0], X1[:, 1], c='r')\n",
    "plt.axis(\"equal\")\n",
    "plt.show()"
   ]
  },
  {
   "cell_type": "markdown",
   "metadata": {
    "school_cell_uuid": "ccb8d6219ec04253a779ecc9e3bac42f"
   },
   "source": [
    "이 모형을 사용해보자. 각 클래스값이 나올 확률은 `predict_proba` 메서드로 구할 수 있다. 결과는 y=0일 확률이 0.98, y=1일 확률이 0.02이다."
   ]
  },
  {
   "cell_type": "code",
   "execution_count": 20,
   "metadata": {
    "school_cell_uuid": "04d31d13bfc449179be9f30efeea2a99"
   },
   "outputs": [
    {
     "data": {
      "text/plain": [
       "array([[0.98300323, 0.01699677]])"
      ]
     },
     "execution_count": 20,
     "metadata": {},
     "output_type": "execute_result"
    }
   ],
   "source": [
    "x_new = [-0.7, -0.8]\n",
    "model_norm.predict_proba([x_new])"
   ]
  },
  {
   "cell_type": "markdown",
   "metadata": {
    "school_cell_uuid": "9923fb103a0b448291f9632d47b4a772"
   },
   "source": [
    "이 값이 나오게 된 중간 과정을 살펴보자. 우선 추정된 독립 변수의 모수와 정규 분포의 확률 밀도 함수를 사용하여 likelihood를 구할 수 있다.\n",
    "나이브 베이즈 가정에 따라 두 입력 변수의 곱을 결합 확률로 계산한다."
   ]
  },
  {
   "cell_type": "code",
   "execution_count": 21,
   "metadata": {
    "school_cell_uuid": "c75dd6bc72314b7ea7c735e319616c9f"
   },
   "outputs": [
    {
     "data": {
      "text/plain": [
       "[0.0346968402917242, 0.0003999540815189114]"
      ]
     },
     "execution_count": 21,
     "metadata": {},
     "output_type": "execute_result"
    }
   ],
   "source": [
    "# 각 클래스에서 두 변수가 독립이므로 x1과 x2의 pdf값을 곱해주면(prod()) 각 클래스의\n",
    "# likelihood가 나온다\n",
    "likelihood = [\n",
    "    sp.stats.norm(model_norm.theta_[0], np.sqrt(model_norm.sigma_[0])).pdf(x_new).prod(),\n",
    "    sp.stats.norm(model_norm.theta_[1], np.sqrt(model_norm.sigma_[1])).pdf(x_new).prod()]\n",
    "likelihood"
   ]
  },
  {
   "cell_type": "markdown",
   "metadata": {
    "school_cell_uuid": "59e15904002a4507ac17412cb811e0b5"
   },
   "source": [
    "여기에 사전 확률을 곱하면 사후 확률에 비례하는 값이 나온다. 아직 정규화 상수로 나누어주지 않았으므로 두 값의 합이 1이 아니다. 즉, 확률이라고 부를 수는 없다. 하지만 크기를 비교하면 y=0일 확률이 y=1일 확률보다 훨씬 크다는 것을 알 수 있다."
   ]
  },
  {
   "cell_type": "code",
   "execution_count": 13,
   "metadata": {
    "school_cell_uuid": "fe76b76db88749ffb597e83fb53ce034"
   },
   "outputs": [
    {
     "data": {
      "text/plain": [
       "array([0.01387874, 0.00023997])"
      ]
     },
     "execution_count": 13,
     "metadata": {},
     "output_type": "execute_result"
    }
   ],
   "source": [
    "posterior = likelihood * model_norm.class_prior_\n",
    "posterior"
   ]
  },
  {
   "cell_type": "markdown",
   "metadata": {
    "school_cell_uuid": "8fe5a350c68242c0be0a9e07dbdea8e1"
   },
   "source": [
    "이 값을 정규화하면 `predict_proba` 메서드로 구한 것과 같은 값이 나온다."
   ]
  },
  {
   "cell_type": "code",
   "execution_count": 14,
   "metadata": {
    "school_cell_uuid": "158f3adf5dd54fcf9ac9a58cd30b9138"
   },
   "outputs": [
    {
     "data": {
      "text/plain": [
       "array([0.98300323, 0.01699677])"
      ]
     },
     "execution_count": 14,
     "metadata": {},
     "output_type": "execute_result"
    }
   ],
   "source": [
    "posterior / posterior.sum()"
   ]
  },
  {
   "cell_type": "markdown",
   "metadata": {
    "bootstrap": {
     "panel": {
      "class": "panel-default"
     }
    },
    "school_cell_uuid": "73844b3bb0214e2fb14916793354f0a9"
   },
   "source": [
    "#### 연습 문제 1\n",
    "\n",
    "붓꽃 분류 문제를 가우시안 나이브 베이즈 모형을 사용하여 풀고 다음을 구하라.\n",
    "\n",
    "* confusion matrix\n",
    "* classification report\n",
    "* ROC curve\n",
    "* AUC"
   ]
  },
  {
   "cell_type": "code",
   "execution_count": 3,
   "metadata": {},
   "outputs": [],
   "source": [
    "from sklearn.datasets import load_iris\n",
    "iris = load_iris()\n",
    "iris_raw = iris.data"
   ]
  },
  {
   "cell_type": "code",
   "execution_count": 4,
   "metadata": {},
   "outputs": [
    {
     "name": "stdout",
     "output_type": "stream",
     "text": [
      "[[50  0  0]\n",
      " [ 0 47  3]\n",
      " [ 0  3 47]]\n",
      "             precision    recall  f1-score   support\n",
      "\n",
      "          0       1.00      1.00      1.00        50\n",
      "          1       0.94      0.94      0.94        50\n",
      "          2       0.94      0.94      0.94        50\n",
      "\n",
      "avg / total       0.96      0.96      0.96       150\n",
      "\n"
     ]
    }
   ],
   "source": [
    "from sklearn.naive_bayes import GaussianNB\n",
    "from sklearn.metrics import confusion_matrix\n",
    "from sklearn.metrics import classification_report\n",
    "\n",
    "model_norm = GaussianNB().fit(iris_raw, iris.target)\n",
    "predict_norm = model_norm.predict(iris_raw)\n",
    "print(confusion_matrix(iris.target, predict_norm))\n",
    "print(classification_report(iris.target, predict_norm))"
   ]
  },
  {
   "cell_type": "markdown",
   "metadata": {
    "school_cell_uuid": "9d769771b57c4db99bc33668b8fb955e"
   },
   "source": [
    "## 베르누이 분포 나이브 베이즈 모형"
   ]
  },
  {
   "cell_type": "markdown",
   "metadata": {
    "school_cell_uuid": "80ccb839cfd649d5b4f6d24323fd3f44"
   },
   "source": [
    "베르누이 나이브 베이즈 모형에서는 타겟 변수뿐 아니라 독립 변수도 0 또는 1의 값을 가져야 한다. 예를 들어 전자우편과 같은 문서 내에 특정한 단어가 포함되어 있는지의 여부는 베르누이 확률 변수로 모형화할 수 있으므로 스팸 필터링에 사용할 수 있다."
   ]
  },
  {
   "cell_type": "code",
   "execution_count": 25,
   "metadata": {
    "school_cell_uuid": "d59b398d0a72413f96f1a665b485fbad"
   },
   "outputs": [],
   "source": [
    "np.random.seed(0)\n",
    "X = np.random.randint(2, size=(10, 4))\n",
    "y = np.array([0,0,0,0,1,1,1,1,1,1])"
   ]
  },
  {
   "cell_type": "code",
   "execution_count": 26,
   "metadata": {
    "school_cell_uuid": "8ca948d5026d4aad9e631c3a1546a37e"
   },
   "outputs": [
    {
     "data": {
      "text/plain": [
       "array([[0, 1, 1, 0],\n",
       "       [1, 1, 1, 1],\n",
       "       [1, 1, 1, 0],\n",
       "       [0, 1, 0, 0],\n",
       "       [0, 0, 0, 1],\n",
       "       [0, 1, 1, 0],\n",
       "       [0, 1, 1, 1],\n",
       "       [1, 0, 1, 0],\n",
       "       [1, 0, 1, 1],\n",
       "       [0, 1, 1, 0]])"
      ]
     },
     "execution_count": 26,
     "metadata": {},
     "output_type": "execute_result"
    }
   ],
   "source": [
    "X"
   ]
  },
  {
   "cell_type": "code",
   "execution_count": 27,
   "metadata": {
    "school_cell_uuid": "46c6640a09834a6ea0600310f29ab180"
   },
   "outputs": [
    {
     "data": {
      "text/plain": [
       "array([0, 0, 0, 0, 1, 1, 1, 1, 1, 1])"
      ]
     },
     "execution_count": 27,
     "metadata": {},
     "output_type": "execute_result"
    }
   ],
   "source": [
    "y"
   ]
  },
  {
   "cell_type": "markdown",
   "metadata": {
    "school_cell_uuid": "2b7c9608b9d748129747694579f6d42f"
   },
   "source": [
    "이 데이터는 4개의 키워드를 사용하여 정상 메일 4개와 스팸 메일 6개를 BOW 인코딩한 행렬이다. 예를 들어 첫번째 메일은 정상 메일이고 1번, 4번 키워드는 포함하지 않지만 2번, 3번 키워드를 포함한다고 볼 수 있다. 정리하여 표로 만들면 다음과 같다. 아래 표에서 2번 키워드는 1로 정상메일에 꼭 들어간다는 의미지만 데이터 수가 적어서 신뢰할 수 없으므로 fair coin과 혼합하여 모수를 산정한다(smoothing). 즉, 각 성분의 분모에 2, 분자에 1을 더해준다. 정상메일의 첫번째 키워드의 모수($\\theta$)는 $\\frac{2+1}{4+2}$가 되고, 다른 성분에도 동일하게 적용된다.\n",
    "\n",
    "|| $x_1$ | $x_2$ | $x_3$ | $x_4$ |\n",
    "|-| - | -| -| -|\n",
    "|$y_0$(정상메일)| $\\frac{2}{4}$ | $\\frac{4}{4}$ | $\\frac{3}{4}$ | $\\frac{1}{4}$ |\n",
    "|$y_1$(스팸메일)| $\\frac{2}{6}$ | $\\frac{3}{6}$ | $\\frac{5}{6}$ | $\\frac{3}{6}$ |\n",
    "\n",
    "\n",
    "이 데이터를 베르누이 나이브 베이즈 모형으로 예측해 보자."
   ]
  },
  {
   "cell_type": "code",
   "execution_count": 28,
   "metadata": {
    "school_cell_uuid": "17debdb4ac894e6c9c7320033b0aafd6"
   },
   "outputs": [],
   "source": [
    "from sklearn.naive_bayes import BernoulliNB\n",
    "model_bern = BernoulliNB().fit(X, y)"
   ]
  },
  {
   "cell_type": "markdown",
   "metadata": {
    "school_cell_uuid": "593d3240e885478bbc62e983a54e2c10"
   },
   "source": [
    "y 클래스의 종류와 각 클래스에 속하는 샘플의 수, 그리고 그 값으로부터 구한 사전 확률의 값은 다음과 같다."
   ]
  },
  {
   "cell_type": "code",
   "execution_count": 29,
   "metadata": {
    "school_cell_uuid": "b250bc72b41a43388acbecf8e2cf1193"
   },
   "outputs": [
    {
     "data": {
      "text/plain": [
       "array([0, 1])"
      ]
     },
     "execution_count": 29,
     "metadata": {},
     "output_type": "execute_result"
    }
   ],
   "source": [
    "model_bern.classes_"
   ]
  },
  {
   "cell_type": "code",
   "execution_count": 30,
   "metadata": {
    "school_cell_uuid": "2b17bfa4b4064d55a67bb51267c76d87"
   },
   "outputs": [
    {
     "data": {
      "text/plain": [
       "array([4., 6.])"
      ]
     },
     "execution_count": 30,
     "metadata": {},
     "output_type": "execute_result"
    }
   ],
   "source": [
    "model_bern.class_count_"
   ]
  },
  {
   "cell_type": "code",
   "execution_count": 31,
   "metadata": {
    "school_cell_uuid": "f7938005b3944566bbe67ce51cce144f"
   },
   "outputs": [
    {
     "data": {
      "text/plain": [
       "array([0.4, 0.6])"
      ]
     },
     "execution_count": 31,
     "metadata": {},
     "output_type": "execute_result"
    }
   ],
   "source": [
    "np.exp(model_bern.class_log_prior_)"
   ]
  },
  {
   "cell_type": "markdown",
   "metadata": {
    "school_cell_uuid": "8dca6b5149434919858b944697279c98"
   },
   "source": [
    "각 클래스 $k$ 별로, 그리고 각 독립 변수 $d$ 별로, 각각 다른 베르누이 확률 변수라고 가정하여 모두 8개의 베르누이 확률 변수의 모수를 구하면 다음과 같다."
   ]
  },
  {
   "cell_type": "code",
   "execution_count": 32,
   "metadata": {
    "school_cell_uuid": "7b33caf4498147fba8973eaf55c6a3be"
   },
   "outputs": [
    {
     "data": {
      "text/plain": [
       "array([[2., 4., 3., 1.],\n",
       "       [2., 3., 5., 3.]])"
      ]
     },
     "execution_count": 32,
     "metadata": {},
     "output_type": "execute_result"
    }
   ],
   "source": [
    "fc = model_bern.feature_count_\n",
    "fc"
   ]
  },
  {
   "cell_type": "code",
   "execution_count": 33,
   "metadata": {},
   "outputs": [
    {
     "data": {
      "text/plain": [
       "array([[4., 4., 4., 4.],\n",
       "       [6., 6., 6., 6.]])"
      ]
     },
     "execution_count": 33,
     "metadata": {},
     "output_type": "execute_result"
    }
   ],
   "source": [
    "np.repeat(model_bern.class_count_[:, np.newaxis], 4, axis=1)"
   ]
  },
  {
   "cell_type": "code",
   "execution_count": 34,
   "metadata": {
    "school_cell_uuid": "47a95af371fc45fc83306f34fd77016e"
   },
   "outputs": [
    {
     "data": {
      "text/plain": [
       "array([[0.5       , 1.        , 0.75      , 0.25      ],\n",
       "       [0.33333333, 0.5       , 0.83333333, 0.5       ]])"
      ]
     },
     "execution_count": 34,
     "metadata": {},
     "output_type": "execute_result"
    }
   ],
   "source": [
    "fc / np.repeat(model_bern.class_count_[:, np.newaxis], 4, axis=1)"
   ]
  },
  {
   "cell_type": "markdown",
   "metadata": {
    "school_cell_uuid": "1b680c6e26db460ba8367ca34f9307be"
   },
   "source": [
    "그런데 이 값은 모형 내에서 구한 값과 다르다. 모형 내에서 스무딩(smoothing)이 이루어지기 때문이다. 스무딩은 동전의 각 면 즉, 0과 1이 나오는 가상의 데이터를 추가함으로서 추정한 모수의 값이 좀 더 0.5에 가까워지도록 하는 방법이다. 이 때 사용한 스무딩 가중치 값은 다음처럼 확인할 수 있다."
   ]
  },
  {
   "cell_type": "code",
   "execution_count": 24,
   "metadata": {
    "school_cell_uuid": "cc7a3dcb830140a39ebf244b7c53ef4d"
   },
   "outputs": [
    {
     "data": {
      "text/plain": [
       "1.0"
      ]
     },
     "execution_count": 24,
     "metadata": {},
     "output_type": "execute_result"
    }
   ],
   "source": [
    "model_bern.alpha"
   ]
  },
  {
   "cell_type": "markdown",
   "metadata": {
    "school_cell_uuid": "fef5866f97194a899ac55f514f138bac"
   },
   "source": [
    "스무딩이 적용된 베르누이 모수값은 다음과 같다."
   ]
  },
  {
   "cell_type": "code",
   "execution_count": 25,
   "metadata": {
    "school_cell_uuid": "f49afd97c9774a45be9804af159db458"
   },
   "outputs": [
    {
     "data": {
      "text/plain": [
       "array([[0.5       , 0.83333333, 0.66666667, 0.33333333],\n",
       "       [0.375     , 0.5       , 0.75      , 0.5       ]])"
      ]
     },
     "execution_count": 25,
     "metadata": {},
     "output_type": "execute_result"
    }
   ],
   "source": [
    "# 스무딩 가중치가 베르누이에서 1.0이면 fair coin이기 때문에\n",
    "#각 성분의 확률이 0.5에 가까워진다.\n",
    "theta = np.exp(model_bern.feature_log_prob_)\n",
    "theta"
   ]
  },
  {
   "cell_type": "markdown",
   "metadata": {
    "school_cell_uuid": "49d33ec196ab43a4bc92aad50eb158c1"
   },
   "source": [
    "이에 모형이 완성되었으니 테스트 데이터를 사용하여 예측을 해 본다. 예를 들어 1번, 2번 키워드를 포함한 메일이 정상 메일인지 스팸 메일인지 알아보자."
   ]
  },
  {
   "cell_type": "code",
   "execution_count": 26,
   "metadata": {
    "school_cell_uuid": "207f35ab3e8148fcbbb04d65ba9d0420"
   },
   "outputs": [],
   "source": [
    "x_new = np.array([1, 1, 0, 0])"
   ]
  },
  {
   "cell_type": "code",
   "execution_count": 27,
   "metadata": {
    "school_cell_uuid": "8f9d6ded36204b71af7119d93808b86a"
   },
   "outputs": [
    {
     "data": {
      "text/plain": [
       "array([[0.72480181, 0.27519819]])"
      ]
     },
     "execution_count": 27,
     "metadata": {},
     "output_type": "execute_result"
    }
   ],
   "source": [
    "model_bern.predict_proba([x_new])"
   ]
  },
  {
   "cell_type": "markdown",
   "metadata": {
    "school_cell_uuid": "137ebdb3445e4fd0ba122ef040d48ab0"
   },
   "source": [
    "위 결과에서 정상 메일일 가능성이 약 3배임을 알 수 있다. 이 값은 다음처럼 구할 수도 있다."
   ]
  },
  {
   "cell_type": "code",
   "execution_count": 28,
   "metadata": {
    "school_cell_uuid": "d5fc364f318c4f91970b7f693a94acfe"
   },
   "outputs": [
    {
     "data": {
      "text/plain": [
       "array([0.72480181, 0.27519819])"
      ]
     },
     "execution_count": 28,
     "metadata": {},
     "output_type": "execute_result"
    }
   ],
   "source": [
    "p = ((theta ** x_new) * (1 - theta) ** (1 - x_new)).prod(axis=1)\\\n",
    "    * np.exp(model_bern.class_log_prior_)\n",
    "p / p.sum()"
   ]
  },
  {
   "cell_type": "markdown",
   "metadata": {
    "school_cell_uuid": "e4cecf45f1c04a5b8c5fa1838d8c9638"
   },
   "source": [
    "반대로 3번, 4번 키워드가 포함된 메일은 스팸일 가능성이 약 90%이다."
   ]
  },
  {
   "cell_type": "code",
   "execution_count": 29,
   "metadata": {
    "school_cell_uuid": "25680b0ae84a495d910df725671553fc"
   },
   "outputs": [],
   "source": [
    "x_new = np.array([0, 0, 1, 1])"
   ]
  },
  {
   "cell_type": "code",
   "execution_count": 30,
   "metadata": {
    "school_cell_uuid": "1179f8ffe37b48369308c94d38d117b6"
   },
   "outputs": [
    {
     "data": {
      "text/plain": [
       "array([[0.09530901, 0.90469099]])"
      ]
     },
     "execution_count": 30,
     "metadata": {},
     "output_type": "execute_result"
    }
   ],
   "source": [
    "model_bern.predict_proba([x_new])"
   ]
  },
  {
   "cell_type": "code",
   "execution_count": 31,
   "metadata": {
    "school_cell_uuid": "866dcc436af342fda4ffd91f1abc4a4e"
   },
   "outputs": [
    {
     "data": {
      "text/plain": [
       "array([0.09530901, 0.90469099])"
      ]
     },
     "execution_count": 31,
     "metadata": {},
     "output_type": "execute_result"
    }
   ],
   "source": [
    "p = ((theta ** x_new) * (1 - theta) ** (1 - x_new)).prod(axis=1)\\\n",
    "    *np.exp(model_bern.class_log_prior_)\n",
    "p / p.sum()"
   ]
  },
  {
   "cell_type": "markdown",
   "metadata": {
    "bootstrap": {
     "panel": {
      "class": "panel-default"
     }
    },
    "school_cell_uuid": "bbe614022004420c854b05504a2bfd69"
   },
   "source": [
    "#### 연습 문제 2\n",
    "\n",
    "1. MNIST Digit 분류 문제에서 `sklearn.preprocessing.Binarizer`로 x값을 0, 1로 바꾼다(값이 8 이상이면 1, 8 미만이면 0). 즉 흰색과 검은색 픽셀로만 구성된 이미지로 만든다. 이 이미지에 대해 베르누이 나이브 베이즈 모형을 적용한다.\n",
    "2. `BernoulliNB` 클래스의 `binarize` 인수를 사용하여 같은 문제를 풀어본다.\n",
    "3. 계산된 모형의 모수 벡터 값을 각 클래스별로 8*8 이미지의 형태로 나타낸다. 이 이미지는 무엇을 뜻하는가?\n"
   ]
  },
  {
   "cell_type": "code",
   "execution_count": 7,
   "metadata": {},
   "outputs": [
    {
     "ename": "ConnectionAbortedError",
     "evalue": "[WinError 10053] 현재 연결은 사용자의 호스트 시스템의 소프트웨어의 의해 중단되었습니다",
     "output_type": "error",
     "traceback": [
      "\u001b[1;31m---------------------------------------------------------------------------\u001b[0m",
      "\u001b[1;31mConnectionAbortedError\u001b[0m                    Traceback (most recent call last)",
      "\u001b[1;32m<ipython-input-7-4ade7f934a1e>\u001b[0m in \u001b[0;36m<module>\u001b[1;34m()\u001b[0m\n\u001b[0;32m      1\u001b[0m \u001b[1;32mfrom\u001b[0m \u001b[0msklearn\u001b[0m\u001b[1;33m.\u001b[0m\u001b[0mpreprocessing\u001b[0m \u001b[1;32mimport\u001b[0m \u001b[0mBinarizer\u001b[0m\u001b[1;33m\u001b[0m\u001b[0m\n\u001b[0;32m      2\u001b[0m \u001b[1;32mfrom\u001b[0m \u001b[0msklearn\u001b[0m\u001b[1;33m.\u001b[0m\u001b[0mdatasets\u001b[0m\u001b[1;33m.\u001b[0m\u001b[0mmldata\u001b[0m \u001b[1;32mimport\u001b[0m \u001b[0mfetch_mldata\u001b[0m\u001b[1;33m\u001b[0m\u001b[0m\n\u001b[1;32m----> 3\u001b[1;33m \u001b[0mmnist\u001b[0m \u001b[1;33m=\u001b[0m \u001b[0mfetch_mldata\u001b[0m\u001b[1;33m(\u001b[0m\u001b[1;34m\"MNIST original\"\u001b[0m\u001b[1;33m)\u001b[0m\u001b[1;33m\u001b[0m\u001b[0m\n\u001b[0m\u001b[0;32m      4\u001b[0m \u001b[1;31m#y = Binarizer(threshold=8).fit()\u001b[0m\u001b[1;33m\u001b[0m\u001b[1;33m\u001b[0m\u001b[0m\n\u001b[0;32m      5\u001b[0m \u001b[0mminist\u001b[0m\u001b[1;33m\u001b[0m\u001b[0m\n",
      "\u001b[1;32mC:\\ProgramData\\Anaconda3\\lib\\site-packages\\sklearn\\datasets\\mldata.py\u001b[0m in \u001b[0;36mfetch_mldata\u001b[1;34m(dataname, target_name, data_name, transpose_data, data_home)\u001b[0m\n\u001b[0;32m    152\u001b[0m         \u001b[0murlname\u001b[0m \u001b[1;33m=\u001b[0m \u001b[0mMLDATA_BASE_URL\u001b[0m \u001b[1;33m%\u001b[0m \u001b[0mquote\u001b[0m\u001b[1;33m(\u001b[0m\u001b[0mdataname\u001b[0m\u001b[1;33m)\u001b[0m\u001b[1;33m\u001b[0m\u001b[0m\n\u001b[0;32m    153\u001b[0m         \u001b[1;32mtry\u001b[0m\u001b[1;33m:\u001b[0m\u001b[1;33m\u001b[0m\u001b[0m\n\u001b[1;32m--> 154\u001b[1;33m             \u001b[0mmldata_url\u001b[0m \u001b[1;33m=\u001b[0m \u001b[0murlopen\u001b[0m\u001b[1;33m(\u001b[0m\u001b[0murlname\u001b[0m\u001b[1;33m)\u001b[0m\u001b[1;33m\u001b[0m\u001b[0m\n\u001b[0m\u001b[0;32m    155\u001b[0m         \u001b[1;32mexcept\u001b[0m \u001b[0mHTTPError\u001b[0m \u001b[1;32mas\u001b[0m \u001b[0me\u001b[0m\u001b[1;33m:\u001b[0m\u001b[1;33m\u001b[0m\u001b[0m\n\u001b[0;32m    156\u001b[0m             \u001b[1;32mif\u001b[0m \u001b[0me\u001b[0m\u001b[1;33m.\u001b[0m\u001b[0mcode\u001b[0m \u001b[1;33m==\u001b[0m \u001b[1;36m404\u001b[0m\u001b[1;33m:\u001b[0m\u001b[1;33m\u001b[0m\u001b[0m\n",
      "\u001b[1;32mC:\\ProgramData\\Anaconda3\\lib\\urllib\\request.py\u001b[0m in \u001b[0;36murlopen\u001b[1;34m(url, data, timeout, cafile, capath, cadefault, context)\u001b[0m\n\u001b[0;32m    221\u001b[0m     \u001b[1;32melse\u001b[0m\u001b[1;33m:\u001b[0m\u001b[1;33m\u001b[0m\u001b[0m\n\u001b[0;32m    222\u001b[0m         \u001b[0mopener\u001b[0m \u001b[1;33m=\u001b[0m \u001b[0m_opener\u001b[0m\u001b[1;33m\u001b[0m\u001b[0m\n\u001b[1;32m--> 223\u001b[1;33m     \u001b[1;32mreturn\u001b[0m \u001b[0mopener\u001b[0m\u001b[1;33m.\u001b[0m\u001b[0mopen\u001b[0m\u001b[1;33m(\u001b[0m\u001b[0murl\u001b[0m\u001b[1;33m,\u001b[0m \u001b[0mdata\u001b[0m\u001b[1;33m,\u001b[0m \u001b[0mtimeout\u001b[0m\u001b[1;33m)\u001b[0m\u001b[1;33m\u001b[0m\u001b[0m\n\u001b[0m\u001b[0;32m    224\u001b[0m \u001b[1;33m\u001b[0m\u001b[0m\n\u001b[0;32m    225\u001b[0m \u001b[1;32mdef\u001b[0m \u001b[0minstall_opener\u001b[0m\u001b[1;33m(\u001b[0m\u001b[0mopener\u001b[0m\u001b[1;33m)\u001b[0m\u001b[1;33m:\u001b[0m\u001b[1;33m\u001b[0m\u001b[0m\n",
      "\u001b[1;32mC:\\ProgramData\\Anaconda3\\lib\\urllib\\request.py\u001b[0m in \u001b[0;36mopen\u001b[1;34m(self, fullurl, data, timeout)\u001b[0m\n\u001b[0;32m    524\u001b[0m             \u001b[0mreq\u001b[0m \u001b[1;33m=\u001b[0m \u001b[0mmeth\u001b[0m\u001b[1;33m(\u001b[0m\u001b[0mreq\u001b[0m\u001b[1;33m)\u001b[0m\u001b[1;33m\u001b[0m\u001b[0m\n\u001b[0;32m    525\u001b[0m \u001b[1;33m\u001b[0m\u001b[0m\n\u001b[1;32m--> 526\u001b[1;33m         \u001b[0mresponse\u001b[0m \u001b[1;33m=\u001b[0m \u001b[0mself\u001b[0m\u001b[1;33m.\u001b[0m\u001b[0m_open\u001b[0m\u001b[1;33m(\u001b[0m\u001b[0mreq\u001b[0m\u001b[1;33m,\u001b[0m \u001b[0mdata\u001b[0m\u001b[1;33m)\u001b[0m\u001b[1;33m\u001b[0m\u001b[0m\n\u001b[0m\u001b[0;32m    527\u001b[0m \u001b[1;33m\u001b[0m\u001b[0m\n\u001b[0;32m    528\u001b[0m         \u001b[1;31m# post-process response\u001b[0m\u001b[1;33m\u001b[0m\u001b[1;33m\u001b[0m\u001b[0m\n",
      "\u001b[1;32mC:\\ProgramData\\Anaconda3\\lib\\urllib\\request.py\u001b[0m in \u001b[0;36m_open\u001b[1;34m(self, req, data)\u001b[0m\n\u001b[0;32m    542\u001b[0m         \u001b[0mprotocol\u001b[0m \u001b[1;33m=\u001b[0m \u001b[0mreq\u001b[0m\u001b[1;33m.\u001b[0m\u001b[0mtype\u001b[0m\u001b[1;33m\u001b[0m\u001b[0m\n\u001b[0;32m    543\u001b[0m         result = self._call_chain(self.handle_open, protocol, protocol +\n\u001b[1;32m--> 544\u001b[1;33m                                   '_open', req)\n\u001b[0m\u001b[0;32m    545\u001b[0m         \u001b[1;32mif\u001b[0m \u001b[0mresult\u001b[0m\u001b[1;33m:\u001b[0m\u001b[1;33m\u001b[0m\u001b[0m\n\u001b[0;32m    546\u001b[0m             \u001b[1;32mreturn\u001b[0m \u001b[0mresult\u001b[0m\u001b[1;33m\u001b[0m\u001b[0m\n",
      "\u001b[1;32mC:\\ProgramData\\Anaconda3\\lib\\urllib\\request.py\u001b[0m in \u001b[0;36m_call_chain\u001b[1;34m(self, chain, kind, meth_name, *args)\u001b[0m\n\u001b[0;32m    502\u001b[0m         \u001b[1;32mfor\u001b[0m \u001b[0mhandler\u001b[0m \u001b[1;32min\u001b[0m \u001b[0mhandlers\u001b[0m\u001b[1;33m:\u001b[0m\u001b[1;33m\u001b[0m\u001b[0m\n\u001b[0;32m    503\u001b[0m             \u001b[0mfunc\u001b[0m \u001b[1;33m=\u001b[0m \u001b[0mgetattr\u001b[0m\u001b[1;33m(\u001b[0m\u001b[0mhandler\u001b[0m\u001b[1;33m,\u001b[0m \u001b[0mmeth_name\u001b[0m\u001b[1;33m)\u001b[0m\u001b[1;33m\u001b[0m\u001b[0m\n\u001b[1;32m--> 504\u001b[1;33m             \u001b[0mresult\u001b[0m \u001b[1;33m=\u001b[0m \u001b[0mfunc\u001b[0m\u001b[1;33m(\u001b[0m\u001b[1;33m*\u001b[0m\u001b[0margs\u001b[0m\u001b[1;33m)\u001b[0m\u001b[1;33m\u001b[0m\u001b[0m\n\u001b[0m\u001b[0;32m    505\u001b[0m             \u001b[1;32mif\u001b[0m \u001b[0mresult\u001b[0m \u001b[1;32mis\u001b[0m \u001b[1;32mnot\u001b[0m \u001b[1;32mNone\u001b[0m\u001b[1;33m:\u001b[0m\u001b[1;33m\u001b[0m\u001b[0m\n\u001b[0;32m    506\u001b[0m                 \u001b[1;32mreturn\u001b[0m \u001b[0mresult\u001b[0m\u001b[1;33m\u001b[0m\u001b[0m\n",
      "\u001b[1;32mC:\\ProgramData\\Anaconda3\\lib\\urllib\\request.py\u001b[0m in \u001b[0;36mhttp_open\u001b[1;34m(self, req)\u001b[0m\n\u001b[0;32m   1344\u001b[0m \u001b[1;33m\u001b[0m\u001b[0m\n\u001b[0;32m   1345\u001b[0m     \u001b[1;32mdef\u001b[0m \u001b[0mhttp_open\u001b[0m\u001b[1;33m(\u001b[0m\u001b[0mself\u001b[0m\u001b[1;33m,\u001b[0m \u001b[0mreq\u001b[0m\u001b[1;33m)\u001b[0m\u001b[1;33m:\u001b[0m\u001b[1;33m\u001b[0m\u001b[0m\n\u001b[1;32m-> 1346\u001b[1;33m         \u001b[1;32mreturn\u001b[0m \u001b[0mself\u001b[0m\u001b[1;33m.\u001b[0m\u001b[0mdo_open\u001b[0m\u001b[1;33m(\u001b[0m\u001b[0mhttp\u001b[0m\u001b[1;33m.\u001b[0m\u001b[0mclient\u001b[0m\u001b[1;33m.\u001b[0m\u001b[0mHTTPConnection\u001b[0m\u001b[1;33m,\u001b[0m \u001b[0mreq\u001b[0m\u001b[1;33m)\u001b[0m\u001b[1;33m\u001b[0m\u001b[0m\n\u001b[0m\u001b[0;32m   1347\u001b[0m \u001b[1;33m\u001b[0m\u001b[0m\n\u001b[0;32m   1348\u001b[0m     \u001b[0mhttp_request\u001b[0m \u001b[1;33m=\u001b[0m \u001b[0mAbstractHTTPHandler\u001b[0m\u001b[1;33m.\u001b[0m\u001b[0mdo_request_\u001b[0m\u001b[1;33m\u001b[0m\u001b[0m\n",
      "\u001b[1;32mC:\\ProgramData\\Anaconda3\\lib\\urllib\\request.py\u001b[0m in \u001b[0;36mdo_open\u001b[1;34m(self, http_class, req, **http_conn_args)\u001b[0m\n\u001b[0;32m   1319\u001b[0m             \u001b[1;32mexcept\u001b[0m \u001b[0mOSError\u001b[0m \u001b[1;32mas\u001b[0m \u001b[0merr\u001b[0m\u001b[1;33m:\u001b[0m \u001b[1;31m# timeout error\u001b[0m\u001b[1;33m\u001b[0m\u001b[0m\n\u001b[0;32m   1320\u001b[0m                 \u001b[1;32mraise\u001b[0m \u001b[0mURLError\u001b[0m\u001b[1;33m(\u001b[0m\u001b[0merr\u001b[0m\u001b[1;33m)\u001b[0m\u001b[1;33m\u001b[0m\u001b[0m\n\u001b[1;32m-> 1321\u001b[1;33m             \u001b[0mr\u001b[0m \u001b[1;33m=\u001b[0m \u001b[0mh\u001b[0m\u001b[1;33m.\u001b[0m\u001b[0mgetresponse\u001b[0m\u001b[1;33m(\u001b[0m\u001b[1;33m)\u001b[0m\u001b[1;33m\u001b[0m\u001b[0m\n\u001b[0m\u001b[0;32m   1322\u001b[0m         \u001b[1;32mexcept\u001b[0m\u001b[1;33m:\u001b[0m\u001b[1;33m\u001b[0m\u001b[0m\n\u001b[0;32m   1323\u001b[0m             \u001b[0mh\u001b[0m\u001b[1;33m.\u001b[0m\u001b[0mclose\u001b[0m\u001b[1;33m(\u001b[0m\u001b[1;33m)\u001b[0m\u001b[1;33m\u001b[0m\u001b[0m\n",
      "\u001b[1;32mC:\\ProgramData\\Anaconda3\\lib\\http\\client.py\u001b[0m in \u001b[0;36mgetresponse\u001b[1;34m(self)\u001b[0m\n\u001b[0;32m   1329\u001b[0m         \u001b[1;32mtry\u001b[0m\u001b[1;33m:\u001b[0m\u001b[1;33m\u001b[0m\u001b[0m\n\u001b[0;32m   1330\u001b[0m             \u001b[1;32mtry\u001b[0m\u001b[1;33m:\u001b[0m\u001b[1;33m\u001b[0m\u001b[0m\n\u001b[1;32m-> 1331\u001b[1;33m                 \u001b[0mresponse\u001b[0m\u001b[1;33m.\u001b[0m\u001b[0mbegin\u001b[0m\u001b[1;33m(\u001b[0m\u001b[1;33m)\u001b[0m\u001b[1;33m\u001b[0m\u001b[0m\n\u001b[0m\u001b[0;32m   1332\u001b[0m             \u001b[1;32mexcept\u001b[0m \u001b[0mConnectionError\u001b[0m\u001b[1;33m:\u001b[0m\u001b[1;33m\u001b[0m\u001b[0m\n\u001b[0;32m   1333\u001b[0m                 \u001b[0mself\u001b[0m\u001b[1;33m.\u001b[0m\u001b[0mclose\u001b[0m\u001b[1;33m(\u001b[0m\u001b[1;33m)\u001b[0m\u001b[1;33m\u001b[0m\u001b[0m\n",
      "\u001b[1;32mC:\\ProgramData\\Anaconda3\\lib\\http\\client.py\u001b[0m in \u001b[0;36mbegin\u001b[1;34m(self)\u001b[0m\n\u001b[0;32m    295\u001b[0m         \u001b[1;31m# read until we get a non-100 response\u001b[0m\u001b[1;33m\u001b[0m\u001b[1;33m\u001b[0m\u001b[0m\n\u001b[0;32m    296\u001b[0m         \u001b[1;32mwhile\u001b[0m \u001b[1;32mTrue\u001b[0m\u001b[1;33m:\u001b[0m\u001b[1;33m\u001b[0m\u001b[0m\n\u001b[1;32m--> 297\u001b[1;33m             \u001b[0mversion\u001b[0m\u001b[1;33m,\u001b[0m \u001b[0mstatus\u001b[0m\u001b[1;33m,\u001b[0m \u001b[0mreason\u001b[0m \u001b[1;33m=\u001b[0m \u001b[0mself\u001b[0m\u001b[1;33m.\u001b[0m\u001b[0m_read_status\u001b[0m\u001b[1;33m(\u001b[0m\u001b[1;33m)\u001b[0m\u001b[1;33m\u001b[0m\u001b[0m\n\u001b[0m\u001b[0;32m    298\u001b[0m             \u001b[1;32mif\u001b[0m \u001b[0mstatus\u001b[0m \u001b[1;33m!=\u001b[0m \u001b[0mCONTINUE\u001b[0m\u001b[1;33m:\u001b[0m\u001b[1;33m\u001b[0m\u001b[0m\n\u001b[0;32m    299\u001b[0m                 \u001b[1;32mbreak\u001b[0m\u001b[1;33m\u001b[0m\u001b[0m\n",
      "\u001b[1;32mC:\\ProgramData\\Anaconda3\\lib\\http\\client.py\u001b[0m in \u001b[0;36m_read_status\u001b[1;34m(self)\u001b[0m\n\u001b[0;32m    256\u001b[0m \u001b[1;33m\u001b[0m\u001b[0m\n\u001b[0;32m    257\u001b[0m     \u001b[1;32mdef\u001b[0m \u001b[0m_read_status\u001b[0m\u001b[1;33m(\u001b[0m\u001b[0mself\u001b[0m\u001b[1;33m)\u001b[0m\u001b[1;33m:\u001b[0m\u001b[1;33m\u001b[0m\u001b[0m\n\u001b[1;32m--> 258\u001b[1;33m         \u001b[0mline\u001b[0m \u001b[1;33m=\u001b[0m \u001b[0mstr\u001b[0m\u001b[1;33m(\u001b[0m\u001b[0mself\u001b[0m\u001b[1;33m.\u001b[0m\u001b[0mfp\u001b[0m\u001b[1;33m.\u001b[0m\u001b[0mreadline\u001b[0m\u001b[1;33m(\u001b[0m\u001b[0m_MAXLINE\u001b[0m \u001b[1;33m+\u001b[0m \u001b[1;36m1\u001b[0m\u001b[1;33m)\u001b[0m\u001b[1;33m,\u001b[0m \u001b[1;34m\"iso-8859-1\"\u001b[0m\u001b[1;33m)\u001b[0m\u001b[1;33m\u001b[0m\u001b[0m\n\u001b[0m\u001b[0;32m    259\u001b[0m         \u001b[1;32mif\u001b[0m \u001b[0mlen\u001b[0m\u001b[1;33m(\u001b[0m\u001b[0mline\u001b[0m\u001b[1;33m)\u001b[0m \u001b[1;33m>\u001b[0m \u001b[0m_MAXLINE\u001b[0m\u001b[1;33m:\u001b[0m\u001b[1;33m\u001b[0m\u001b[0m\n\u001b[0;32m    260\u001b[0m             \u001b[1;32mraise\u001b[0m \u001b[0mLineTooLong\u001b[0m\u001b[1;33m(\u001b[0m\u001b[1;34m\"status line\"\u001b[0m\u001b[1;33m)\u001b[0m\u001b[1;33m\u001b[0m\u001b[0m\n",
      "\u001b[1;32mC:\\ProgramData\\Anaconda3\\lib\\socket.py\u001b[0m in \u001b[0;36mreadinto\u001b[1;34m(self, b)\u001b[0m\n\u001b[0;32m    584\u001b[0m         \u001b[1;32mwhile\u001b[0m \u001b[1;32mTrue\u001b[0m\u001b[1;33m:\u001b[0m\u001b[1;33m\u001b[0m\u001b[0m\n\u001b[0;32m    585\u001b[0m             \u001b[1;32mtry\u001b[0m\u001b[1;33m:\u001b[0m\u001b[1;33m\u001b[0m\u001b[0m\n\u001b[1;32m--> 586\u001b[1;33m                 \u001b[1;32mreturn\u001b[0m \u001b[0mself\u001b[0m\u001b[1;33m.\u001b[0m\u001b[0m_sock\u001b[0m\u001b[1;33m.\u001b[0m\u001b[0mrecv_into\u001b[0m\u001b[1;33m(\u001b[0m\u001b[0mb\u001b[0m\u001b[1;33m)\u001b[0m\u001b[1;33m\u001b[0m\u001b[0m\n\u001b[0m\u001b[0;32m    587\u001b[0m             \u001b[1;32mexcept\u001b[0m \u001b[0mtimeout\u001b[0m\u001b[1;33m:\u001b[0m\u001b[1;33m\u001b[0m\u001b[0m\n\u001b[0;32m    588\u001b[0m                 \u001b[0mself\u001b[0m\u001b[1;33m.\u001b[0m\u001b[0m_timeout_occurred\u001b[0m \u001b[1;33m=\u001b[0m \u001b[1;32mTrue\u001b[0m\u001b[1;33m\u001b[0m\u001b[0m\n",
      "\u001b[1;31mConnectionAbortedError\u001b[0m: [WinError 10053] 현재 연결은 사용자의 호스트 시스템의 소프트웨어의 의해 중단되었습니다"
     ]
    }
   ],
   "source": [
    "from sklearn.preprocessing import Binarizer\n",
    "from sklearn.datasets.mldata import fetch_mldata\n",
    "mnist = fetch_mldata(\"MNIST original\")\n",
    "#y = Binarizer(threshold=8).fit()\n",
    "minist"
   ]
  },
  {
   "cell_type": "code",
   "execution_count": null,
   "metadata": {},
   "outputs": [],
   "source": []
  },
  {
   "cell_type": "markdown",
   "metadata": {
    "school_cell_uuid": "e64973da29eb48dfa2cc8d7e8f1eaccb"
   },
   "source": [
    "## 다항 분포 나이브 베이즈 모형"
   ]
  },
  {
   "cell_type": "markdown",
   "metadata": {
    "school_cell_uuid": "878f08f470fe45b5b3159c928634965c"
   },
   "source": [
    "이번에는 다항 분포 나이브 베이즈 모형에 대해 알아보자. 앞서와 같이 스팸 메일 필터링을 예로 든다. 다만 이번에는 BOW 인코딩을 할 때, 각 키워드가 출현한 빈도를 직접 입력 변수로 사용한다. 다항분포 나이브 베이즈 모형은 텍스트가 나온 횟수를 세서 인코딩할 때 주로 사용한다."
   ]
  },
  {
   "cell_type": "code",
   "execution_count": 36,
   "metadata": {
    "school_cell_uuid": "d59b398d0a72413f96f1a665b485fbad"
   },
   "outputs": [
    {
     "name": "stdout",
     "output_type": "stream",
     "text": [
      "[[3 4 1 2]\n",
      " [3 5 1 1]\n",
      " [3 3 0 4]\n",
      " [3 4 1 2]\n",
      " [1 2 1 4]\n",
      " [0 0 5 3]\n",
      " [1 2 4 1]\n",
      " [1 1 4 2]\n",
      " [0 1 2 5]\n",
      " [2 1 2 3]]\n",
      "[0 0 0 0 1 1 1 1 1 1]\n"
     ]
    }
   ],
   "source": [
    "np.random.seed(0)\n",
    "X0 = np.random.multinomial(10, [0.3, 0.5, 0.1, 0.1], size=4)\n",
    "X1 = np.random.multinomial(8, [0.1, 0.1, 0.35, 0.45], size=6)\n",
    "X = np.vstack([X0, X1])\n",
    "y = np.array([0,0,0,0,1,1,1,1,1,1])\n",
    "print(X)\n",
    "print(y)"
   ]
  },
  {
   "cell_type": "code",
   "execution_count": 37,
   "metadata": {
    "school_cell_uuid": "1f25b33f28db47c9b657b39046428cea"
   },
   "outputs": [],
   "source": [
    "from sklearn.naive_bayes import MultinomialNB\n",
    "model_mult = MultinomialNB().fit(X, y)"
   ]
  },
  {
   "cell_type": "markdown",
   "metadata": {
    "school_cell_uuid": "ba6a921fc64d4bfbad9294a405fc4807"
   },
   "source": [
    "사전 확률은 다음과 같이 구한다."
   ]
  },
  {
   "cell_type": "code",
   "execution_count": 38,
   "metadata": {
    "school_cell_uuid": "afca993626b446d282891b309ffbc2a1"
   },
   "outputs": [
    {
     "data": {
      "text/plain": [
       "array([0, 1])"
      ]
     },
     "execution_count": 38,
     "metadata": {},
     "output_type": "execute_result"
    }
   ],
   "source": [
    "model_mult.classes_"
   ]
  },
  {
   "cell_type": "code",
   "execution_count": 39,
   "metadata": {
    "school_cell_uuid": "493061cf270f41ee9af14c6312ec0329"
   },
   "outputs": [
    {
     "data": {
      "text/plain": [
       "array([4., 6.])"
      ]
     },
     "execution_count": 39,
     "metadata": {},
     "output_type": "execute_result"
    }
   ],
   "source": [
    "model_mult.class_count_"
   ]
  },
  {
   "cell_type": "code",
   "execution_count": 40,
   "metadata": {
    "school_cell_uuid": "493061cf270f41ee9af14c6312ec0329"
   },
   "outputs": [
    {
     "data": {
      "text/plain": [
       "array([0.4, 0.6])"
      ]
     },
     "execution_count": 40,
     "metadata": {},
     "output_type": "execute_result"
    }
   ],
   "source": [
    "np.exp(model_mult.class_log_prior_)"
   ]
  },
  {
   "cell_type": "markdown",
   "metadata": {
    "school_cell_uuid": "f8be2b2fcbef4d4da691deefd96fab68"
   },
   "source": [
    "다음으로 각 클래스에 대한 likelihood 모형을 구한다. 다항 분포 모형을 사용하므로 각 클래스틑 4개의 면을 가진 주사위로 생각할 수 있다. 그리고 각 면이 나올 확률은 각 면이 나온 횟수를 주사위를 던진 전체 횟수로 나누면 된다. 우선 각 클래스 별로 각각의 면이 나온 횟수는 다음과 같다. "
   ]
  },
  {
   "cell_type": "code",
   "execution_count": 41,
   "metadata": {
    "school_cell_uuid": "d3f8b803315d4354a843775bcb34785b"
   },
   "outputs": [
    {
     "data": {
      "text/plain": [
       "array([[12., 16.,  3.,  9.],\n",
       "       [ 5.,  7., 18., 18.]])"
      ]
     },
     "execution_count": 41,
     "metadata": {},
     "output_type": "execute_result"
    }
   ],
   "source": [
    "fc = model_mult.feature_count_\n",
    "fc"
   ]
  },
  {
   "cell_type": "markdown",
   "metadata": {
    "school_cell_uuid": "ec2193734b6c4861aa8d3e2a525ba99d"
   },
   "source": [
    "이 데이터에서 클래스 Y=0인 주사위를 던진 횟수는 첫번째 행의 값의 합인 40이므로 클래스 Y=0인 주사위를 던져 1이라는 면이 나올 확률은 다음처럼 계산할 수 있다.\n",
    "\n",
    "$$ \\theta_{1,Y=0} = \\dfrac{12}{40} = 0.3 $$"
   ]
  },
  {
   "cell_type": "code",
   "execution_count": 42,
   "metadata": {},
   "outputs": [
    {
     "data": {
      "text/plain": [
       "array([[40., 40., 40., 40.],\n",
       "       [48., 48., 48., 48.]])"
      ]
     },
     "execution_count": 42,
     "metadata": {},
     "output_type": "execute_result"
    }
   ],
   "source": [
    "np.repeat(fc.sum(axis=1)[:, np.newaxis], 4, axis=1)"
   ]
  },
  {
   "cell_type": "code",
   "execution_count": 43,
   "metadata": {
    "school_cell_uuid": "f542e381752d46698433646c8001dae7"
   },
   "outputs": [
    {
     "data": {
      "text/plain": [
       "array([[0.3       , 0.4       , 0.075     , 0.225     ],\n",
       "       [0.10416667, 0.14583333, 0.375     , 0.375     ]])"
      ]
     },
     "execution_count": 43,
     "metadata": {},
     "output_type": "execute_result"
    }
   ],
   "source": [
    "fc / np.repeat(fc.sum(axis=1)[:, np.newaxis], 4, axis=1)"
   ]
  },
  {
   "cell_type": "markdown",
   "metadata": {
    "school_cell_uuid": "252c6b6beeaf42baa41e99104d0e44bb"
   },
   "source": [
    "실제로는 극단적인 추정을 피하기 위해 이 값을 가중치 1인 스무딩을 한 추정값을 사용한다."
   ]
  },
  {
   "cell_type": "code",
   "execution_count": 44,
   "metadata": {
    "school_cell_uuid": "e7d1c6fb3d3340d8ac7a6f58bb29b85c"
   },
   "outputs": [
    {
     "data": {
      "text/plain": [
       "1.0"
      ]
     },
     "execution_count": 44,
     "metadata": {},
     "output_type": "execute_result"
    }
   ],
   "source": [
    "model_mult.alpha"
   ]
  },
  {
   "cell_type": "code",
   "execution_count": 45,
   "metadata": {
    "school_cell_uuid": "6deb103fec814f148de41e180edb5d7e"
   },
   "outputs": [
    {
     "data": {
      "text/plain": [
       "array([[0.29545455, 0.38636364, 0.09090909, 0.22727273],\n",
       "       [0.11538462, 0.15384615, 0.36538462, 0.36538462]])"
      ]
     },
     "execution_count": 45,
     "metadata": {},
     "output_type": "execute_result"
    }
   ],
   "source": [
    "# x가 4차원의 4면체 주사위 이므로 각 성분의 분모에 4를 더해주고\n",
    "# 분자에는 1을 더해준다.\n",
    "(fc + model_mult.alpha) / (np.repeat(fc.sum(axis=1)[:, np.newaxis], 4, axis=1) + model_mult.alpha * X.shape[1])"
   ]
  },
  {
   "cell_type": "markdown",
   "metadata": {
    "school_cell_uuid": "9f3a0965785a41fbb373e140d75eaa67"
   },
   "source": [
    "이렇게 구한 모수 추정치는 다음과 같다."
   ]
  },
  {
   "cell_type": "code",
   "execution_count": 46,
   "metadata": {
    "school_cell_uuid": "270c34d4368e460abdefee777b1882c9"
   },
   "outputs": [
    {
     "data": {
      "text/plain": [
       "array([[0.29545455, 0.38636364, 0.09090909, 0.22727273],\n",
       "       [0.11538462, 0.15384615, 0.36538462, 0.36538462]])"
      ]
     },
     "execution_count": 46,
     "metadata": {},
     "output_type": "execute_result"
    }
   ],
   "source": [
    "theta = np.exp(model_mult.feature_log_prob_)\n",
    "theta"
   ]
  },
  {
   "cell_type": "markdown",
   "metadata": {
    "school_cell_uuid": "48e0244045224107ab02d6329e4cbb07"
   },
   "source": [
    "이제 이 값을 사용하여 예측을 해 보자. 만약 어떤 메일에 1번부터 4번까지의 키워드가 각각 10번씩 나왔다면 다음처럼 확률을 구할 수 있다. 구해진 확률로부터 이 메일이 스팸임을 알 수 있다. "
   ]
  },
  {
   "cell_type": "code",
   "execution_count": 52,
   "metadata": {
    "school_cell_uuid": "0ce991747125437d94857adc9a589bc6"
   },
   "outputs": [
    {
     "data": {
      "text/plain": [
       "array([[0.38848858, 0.61151142]])"
      ]
     },
     "execution_count": 52,
     "metadata": {},
     "output_type": "execute_result"
    }
   ],
   "source": [
    "x_new = np.array([10, 10, 10, 10])\n",
    "model_mult.predict_proba([x_new])"
   ]
  },
  {
   "cell_type": "markdown",
   "metadata": {
    "school_cell_uuid": "0225920c3d714eb1b492849f1cc84f84"
   },
   "source": [
    "다항 분포의 확률 밀도 공식을 사용하면 다음처럼 직접 확률을 구할 수도 있다."
   ]
  },
  {
   "cell_type": "code",
   "execution_count": 48,
   "metadata": {
    "school_cell_uuid": "dc410c542a834ee9ad18ecee995fc26c"
   },
   "outputs": [
    {
     "data": {
      "text/plain": [
       "array([0.38848858, 0.61151142])"
      ]
     },
     "execution_count": 48,
     "metadata": {},
     "output_type": "execute_result"
    }
   ],
   "source": [
    "p = (theta ** x_new).prod(axis=1)*np.exp(model_bern.class_log_prior_)\n",
    "p / p.sum()"
   ]
  },
  {
   "cell_type": "markdown",
   "metadata": {
    "bootstrap": {
     "panel": {
      "class": "panel-default"
     }
    },
    "school_cell_uuid": "b89aa6f59c09440c93eaa8f62cad46d7"
   },
   "source": [
    "#### 연습 문제 3\n",
    "\n",
    "MNIST Digit 분류 문제를 다항분포 나이브 베이즈 모형을 사용하여 풀고 Binarizing을 하여 베르누이 나이브 베이즈 모형을 적용했을 경우와 성능을 비교하라.\n"
   ]
  },
  {
   "cell_type": "markdown",
   "metadata": {
    "bootstrap": {
     "panel": {
      "class": "panel-default"
     }
    },
    "school_cell_uuid": "b89aa6f59c09440c93eaa8f62cad46d7"
   },
   "source": [
    "#### 연습 문제 4\n",
    "\n",
    "텍스트 분석에서 TF-IDF 인코딩을 하면 단어의 빈도수가 정수가 아닌 실수값이 된다. 이런 경우에도  다항분포 모형을 적용할 수 있는가?\n"
   ]
  },
  {
   "cell_type": "markdown",
   "metadata": {
    "school_cell_uuid": "65e8aa79d4e04c8b9bf61f54bb3770d4"
   },
   "source": [
    "## 뉴스 그룹 분류"
   ]
  },
  {
   "cell_type": "markdown",
   "metadata": {
    "school_cell_uuid": "7df6316aa783456b9531a14713acf626"
   },
   "source": [
    "다음은 20 News Group 데이터에 대해 나이브 베이즈 분류 모형을 적용한 결과이다. "
   ]
  },
  {
   "cell_type": "code",
   "execution_count": 47,
   "metadata": {
    "school_cell_uuid": "a42d82e873f740a7b54a49c91db02b2c"
   },
   "outputs": [],
   "source": [
    "from sklearn.datasets import fetch_20newsgroups\n",
    "\n",
    "news = fetch_20newsgroups(subset=\"all\")\n",
    "X = news.data\n",
    "y = news.target"
   ]
  },
  {
   "cell_type": "code",
   "execution_count": 45,
   "metadata": {
    "school_cell_uuid": "65ae35ff17d949daae55a93d24aabc62"
   },
   "outputs": [],
   "source": [
    "from sklearn.feature_extraction.text import TfidfVectorizer, HashingVectorizer, CountVectorizer\n",
    "from sklearn.naive_bayes import MultinomialNB\n",
    "from sklearn.pipeline import Pipeline\n",
    "\n",
    "model1 = Pipeline([\n",
    "            ('vect', CountVectorizer()), \n",
    "            ('model', MultinomialNB()),\n",
    "         ])\n",
    "model2 = Pipeline([\n",
    "            ('vect', TfidfVectorizer()),\n",
    "            ('model', MultinomialNB()),\n",
    "         ])\n",
    "model3 = Pipeline([\n",
    "            ('vect', TfidfVectorizer(stop_words=\"english\")),\n",
    "            ('model', MultinomialNB()),\n",
    "         ])\n",
    "model4 = Pipeline([\n",
    "            ('vect', TfidfVectorizer(stop_words=\"english\", \n",
    "                                     token_pattern=r\"\\b[a-z0-9_\\-\\.]+[a-z][a-z0-9_\\-\\.]+\\b\")),\n",
    "            ('model', MultinomialNB()),\n",
    "         ])"
   ]
  },
  {
   "cell_type": "markdown",
   "metadata": {},
   "source": [
    "Pipeline : 전처리 객체를 모델링하는 객체와 연결해주는 함수\n",
    "model1의 경우 'vect'를 CountVectorizer()로 fit_transform() 해준 후 나온 객체를 MultinomialNB()에 fit() 해준다는 의미이다.?"
   ]
  },
  {
   "cell_type": "code",
   "execution_count": 46,
   "metadata": {
    "school_cell_uuid": "ba99c79cbebf494791e704c7552f69ee",
    "scrolled": false
   },
   "outputs": [
    {
     "name": "stdout",
     "output_type": "stream",
     "text": [
      "Model0: Mean score: 0.855\n",
      "Model1: Mean score: 0.856\n",
      "Model2: Mean score: 0.883\n",
      "Model3: Mean score: 0.888\n",
      "CPU times: user 3min 43s, sys: 4.42 s, total: 3min 47s\n",
      "Wall time: 3min 34s\n"
     ]
    }
   ],
   "source": [
    "%%time\n",
    "from sklearn.model_selection import cross_val_score, KFold\n",
    "\n",
    "for i, model in enumerate([model1, model2, model3, model4]):\n",
    "    scores = cross_val_score(model, X, y, cv=5)\n",
    "    print((\"Model{0:d}: Mean score: {1:.3f}\").format(i, np.mean(scores)))"
   ]
  },
  {
   "cell_type": "markdown",
   "metadata": {},
   "source": [
    "베르누이 분포가 다항분포보다 정보를 축소하여 분석하지만 항상 다항분포보다 성능이 나쁜 것은 아니다. 줄어든 정보가 쓸모없는 정보였으면 성능이 좋아질 수도 있다."
   ]
  },
  {
   "cell_type": "markdown",
   "metadata": {
    "bootstrap": {
     "panel": {
      "class": "panel-default"
     }
    },
    "school_cell_uuid": "aaa48ad69575445ca1370206c1dca14a"
   },
   "source": [
    "#### 연습 문제 5\n",
    "\n",
    "만약 x 값이 실수 변수, 0/1 값을 가지는 변수, 일정 변수 집합이 특정한 분포를 이루는 변수들이 섞여있다면 어떻게 풀어야 하는가?"
   ]
  },
  {
   "cell_type": "markdown",
   "metadata": {},
   "source": [
    "각각 분포에 대한 베이즈 나이즈 모형으로 likelihood를 구하고, 다 곱한 다음 사전확률 $P(y)$를 곱해 구한다. $x_1, x_2$ 는 가우시안 정규분포, $x_3, x_4$는 베르누이 분포, $x_5, x_6, x_7$은 다항분포인 경우 아래와 같은 식이 성립한다.\n",
    "\n",
    "$$P(y|x) \\propto P(x|y)P(y)\n",
    "= P(x_1, x_2|y)P(x_3, x_4|y)P(x_5, x_6, x_7|y)$$\n",
    "\n",
    "`predict_proba`=$P(x_1, x_2|y)P(y)$를 $P(y)$로 나누면 $P(x_1, x_2|y)$를 구할 수 있고, 각 $P(x|y)$를 구해 다 곱한다. 이 값에 사전확률 $P(y)$를 곱해주면 $P(y|x)$를 구할 수 있다."
   ]
  }
 ],
 "metadata": {
  "celltoolbar": "Edit Metadata",
  "kernelspec": {
   "display_name": "Python 3",
   "language": "python",
   "name": "python3"
  },
  "language_info": {
   "codemirror_mode": {
    "name": "ipython",
    "version": 3
   },
   "file_extension": ".py",
   "mimetype": "text/x-python",
   "name": "python",
   "nbconvert_exporter": "python",
   "pygments_lexer": "ipython3",
   "version": "3.6.4"
  }
 },
 "nbformat": 4,
 "nbformat_minor": 1
}
