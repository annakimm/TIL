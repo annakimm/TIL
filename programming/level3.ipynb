{
 "cells": [
  {
   "cell_type": "code",
   "execution_count": null,
   "metadata": {},
   "outputs": [],
   "source": [
    "#isupper"
   ]
  },
  {
   "cell_type": "code",
   "execution_count": 8,
   "metadata": {},
   "outputs": [
    {
     "name": "stdout",
     "output_type": "stream",
     "text": [
      "s는 \"a B z\", n은 4인 경우: e F d\n"
     ]
    }
   ],
   "source": [
    "#Caesar code\n",
    "def caesar(s, n):\n",
    "    num = list(range(1, 54))\n",
    "    aph = list(\"abcdefghijklmnopqrstuvwxyz \")\n",
    "    APH = list(\"ABCDEFGHIJKLMNOPQRSTUVWXYZ\")\n",
    "    APH = APH+aph\n",
    "    dic = dict(zip(APH, num))\n",
    "    result = []\n",
    "    for i in s:\n",
    "        aph_num = (dic[i] + n - 1)%26\n",
    "        if dic[i] <= 26 :\n",
    "            result.append(APH[aph_num])\n",
    "        elif dic[i] > 26 and dic[i] < 53:\n",
    "            result.append(aph[aph_num])\n",
    "        else:\n",
    "            result.append(\" \")\n",
    "    result = \"\".join(result)\n",
    "    return result\n",
    "\n",
    "print('s는 \"a B z\", n은 4인 경우: ' + caesar(\"a B z\", 4))"
   ]
  },
  {
   "cell_type": "code",
   "execution_count": 9,
   "metadata": {},
   "outputs": [
    {
     "name": "stdout",
     "output_type": "stream",
     "text": [
      "s는 \"a B z\", n은 4인 경우: e F d\n"
     ]
    }
   ],
   "source": [
    "#other practice\n",
    "def caesar(s, n):\n",
    "    eng = \"abcdefghijklmnopqrstuvwxyz\"\n",
    "    new = \"\"\n",
    "    for i in s :\n",
    "        if i == \" \" :\n",
    "            new += \" \"\n",
    "        for j in range(len(eng)) :\n",
    "            if eng[j] == i.lower() :\n",
    "                if i.isupper() == True :\n",
    "                    new += eng[(j+n) % len(eng)].upper()\n",
    "                else :\n",
    "                    new += eng[(j+n) % len(eng)]\n",
    "    return new\n",
    "\n",
    "print('s는 \"a B z\", n은 4인 경우: ' + caesar(\"a B z\", 4))"
   ]
  },
  {
   "cell_type": "code",
   "execution_count": 10,
   "metadata": {},
   "outputs": [
    {
     "data": {
      "text/plain": [
       "False"
      ]
     },
     "execution_count": 10,
     "metadata": {},
     "output_type": "execute_result"
    }
   ],
   "source": [
    "#isupper함수 대문자인지 확인하고 True 또는 False 반환\n",
    "a = \"d\"\n",
    "a.isupper()"
   ]
  },
  {
   "cell_type": "markdown",
   "metadata": {},
   "source": [
    "---"
   ]
  },
  {
   "cell_type": "code",
   "execution_count": null,
   "metadata": {},
   "outputs": [],
   "source": []
  }
 ],
 "metadata": {
  "kernelspec": {
   "display_name": "Python 3",
   "language": "python",
   "name": "python3"
  },
  "language_info": {
   "codemirror_mode": {
    "name": "ipython",
    "version": 3
   },
   "file_extension": ".py",
   "mimetype": "text/x-python",
   "name": "python",
   "nbconvert_exporter": "python",
   "pygments_lexer": "ipython3",
   "version": "3.6.4"
  }
 },
 "nbformat": 4,
 "nbformat_minor": 2
}
