{
 "cells": [
  {
   "cell_type": "markdown",
   "metadata": {
    "school_cell_uuid": "0dd01f089c2b4600b4f1638299c30ca0"
   },
   "source": [
    "# 입력변수가 카테고리값인 경우"
   ]
  },
  {
   "cell_type": "markdown",
   "metadata": {
    "school_cell_uuid": "25fb1fea3089413f8ac060048b5fcd4a"
   },
   "source": [
    "## 카테고리 독립 변수와 더미 변수"
   ]
  },
  {
   "cell_type": "markdown",
   "metadata": {
    "school_cell_uuid": "b97ef74aea4f410e95b584e630294595"
   },
   "source": [
    "카테고리 값은 여러개의 다른 상태를 나타내는 값이다. 분석시에는 편의상 이 값은 0, 1과 같은 정수로 표현하지만 원래 카테고리값은 1, 2, 3과 같이 숫자로 표현되어 있어도 이는 단지 \"A\", \"B\", \"C\"라는 라벨을 숫자로 대신 쓴 것에 지나지 않으며 실제로 크기의 의미가 없다는 점에 주의해야 한다. 즉, 2라는 값이 1보다 2배 더 크다는 뜻이 아니고 3이라는 값도 1보다 3배 더 크다는 뜻이 아니다.\n",
    "\n",
    "따라서 카테고리 값을 그냥 정수로 쓰면  회귀 분석 모형은 이 값을 크기를 가진 숫자로 인식할 수 있는 위험이 있기 때문에 0과 1 두 가지 값만 가지는 **더미 변수(dummy variable)**의 형태로 변환하여 회귀 분석을 한다."
   ]
  },
  {
   "cell_type": "markdown",
   "metadata": {
    "school_cell_uuid": "56164df74f8d48ffaa4f53b488eeb89b"
   },
   "source": [
    "더미 변수는 0 또는 1만으로 표현되는 값으로 어떤 요인이 존재하는가 존재하지 않는가를 표시하는 독립 변수이다. 다음과 같은 명칭으로도 불린다.\n",
    "\n",
    "* indicator variable\n",
    "* design variable\n",
    "* Boolean indicator\n",
    "* binary variable\n",
    "* treatment"
   ]
  },
  {
   "cell_type": "markdown",
   "metadata": {
    "school_cell_uuid": "92232d988c304ea8842f7f49297a4507"
   },
   "source": [
    "카테고리 변수를 더미 변수로 만들 때는 보통 One-Hot-Encoding 방법을 쓴다. 이 방법을 사용하는 경우, 하나의 카테고리 값은 하나의 더미 변수가 된다. 따라서 **변수의 갯수는 카테고리의 숫자와 같은 수로 증가**한다. "
   ]
  },
  {
   "cell_type": "markdown",
   "metadata": {
    "school_cell_uuid": "a2e45dbf4f904da8bb9345f0ce6667b7"
   },
   "source": [
    "## 더미 변수와 복수 모형"
   ]
  },
  {
   "cell_type": "markdown",
   "metadata": {
    "school_cell_uuid": "0b18493b0cb643b2bf47217828ae6456"
   },
   "source": [
    "더미 변수를 사용하면 카테고리 변수의 값에 따라 나누어진 여러 그룹의 데이터에 대해 각각 회귀 모형을 사용하는 것과 같다. 다만 이  회귀 모형들은 더미 변수의 사용 방법에 따라 공통 모수를 가진다.  "
   ]
  },
  {
   "cell_type": "markdown",
   "metadata": {
    "school_cell_uuid": "fe930ab3f46e4fc69e645c2033e74fdd"
   },
   "source": [
    "### 더미 변수의 예 1\n",
    "\n",
    "$y$가 카테고리 값을 가지는 변수 $x_1$에만 의존한다고 가정한다. $y$에 영향을 미치는 다른 변수는 없다고 가정하자.\n",
    "그러면 예측 모형 $\\hat{y}$는 다음처럼 일종의 룩업 테이블(lookup table)이 된다. \n",
    "\n",
    "$$ \n",
    "\\hat{y} = f(x_1) = \n",
    "\\begin{cases} \n",
    "\\hat{y}_A & \\text{ if } x_1 = A \\\\ \n",
    "\\hat{y}_B & \\text{ if } x_1 = B \\\\ \n",
    "\\hat{y}_C & \\text{ if } x_1 = C \\\\ \n",
    "\\end{cases}\n",
    "$$\n",
    "\n",
    "이 식에서 **$\\hat{y}_A$는 카테고리값이 A인 데이터의 평균값**이 될 것이다. 다른 독립변수가 없기 때문에 입력이 $x_1 = A$로 같으면 y가 똑같아야 하므로 대표되는 값들 중에서 오차를 가장 작게하는 평균값을 사용한다. 그리고 이때의 평균은 각 카테고리에 대해 스칼라 값이다.\n",
    "\n",
    "이 식을 더미 변수로 변환하면 $x_1$은 $d_1$, $d_2$, $d_3$ 라는 세 개의 더미 변수로 나뉘어진다.\n",
    "\n",
    "* $x_1 = A$ 이면  $d_1 = 1, d_2 = 0, d_3 = 0$\n",
    "* $x_1 = B$ 이면  $d_1 = 0, d_2 = 1, d_3 = 0$\n",
    "* $x_1 = C$ 이면  $d_1 = 0, d_2 = 0, d_3 = 1$\n",
    "\n",
    "그리고 선형 회귀 모형은 다음처럼 변한다.\n",
    "\n",
    "$$ \\hat{y} = w_1 d_1 + w_2 d_2 + w_3 d_3  $$\n",
    "\n",
    "더미 변수의 값을 대입하면\n",
    "\n",
    "* $x_1 = A$, 즉, $d_1 = 1, d_2 = 0, d_3 = 0$ 이면 $ y = w_1 = \\hat{y}_{A} = \\bar{y}_{A}$\n",
    "* $x_1 = B$, 즉, $d_1 = 0, d_2 = 1, d_3 = 0$ 이면 $ y = w_2 = \\hat{y}_{B} = \\bar{y}_{B}$\n",
    "* $x_1 = C$, 즉, $d_1 = 0, d_2 = 0, d_3 = 1$ 이면 $ y = w_3 = \\hat{y}_{C} = \\bar{y}_{C}$\n",
    "\n",
    "이 된다. **각 더미 변수의 가중치 계수의 값(w)은 각 카테고리에 속한 데이터의 평균값**으로 계산된다."
   ]
  },
  {
   "cell_type": "markdown",
   "metadata": {
    "school_cell_uuid": "8d4da2a5c0b7460aa0edd67f945ec74a"
   },
   "source": [
    "위에서 사용한 모형에는 **상수항이 없다**는 사실에 유의하라. One-Hot-Encoding된 더미 변수를 사용하는 경우에는 상수항을 사용하면 그룹의 수보다 모수의 수(변수의 수)가 많아지므로 추정이 불가능하다. \n",
    "\n",
    "만약 상수항을 넣고 싶다면 더미 변수의 수를 하나 줄이고 클래스 중 하나를 모든 더미 변수가 0인 경우로 보아야 한다.\n",
    "이를 Reduced-Rank 인코딩이라고 한다. \n",
    "\n",
    "Reduced-Rank 인코딩을 사용하면 예측 모형은 다음처럼 된다.\n",
    "\n",
    "$$ \\hat{y} = w_0 + w_1 d_1 + w_2 d_2 $$\n",
    "\n",
    "여기에서 A 더미변수($d_0$)는 항상 1이 되게 된다.\n",
    "* $x_1 = A$ 이면  $d_1 = 0, d_2 = 0$\n",
    "* $x_1 = B$ 이면  $d_1 = 1, d_2 = 0$\n",
    "* $x_1 = C$ 이면  $d_1 = 0, d_2 = 1$\n",
    "\n",
    "더미 변수의 값을 대입하면\n",
    "\n",
    "* $x_1 = A$ 이면 $ y = w_0 = \\hat{y}_A $\n",
    "* $x_1 = B$ 이면 $ y = w_0 + w_1 = \\hat{y}_B $\n",
    "* $x_1 = C$ 이면 $ y = w_0 + w_2 = \\hat{y}_C $\n",
    "\n",
    "즉,\n",
    "\n",
    "$$ w_0 = \\hat{y}_A  = \\bar{y}_{A}$$\n",
    "$$ w_1 = \\hat{y}_B - \\hat{y}_A  = \\bar{y}_{B} - \\bar{y}_{A}$$\n",
    "$$ w_2 = \\hat{y}_C - \\hat{y}_A = \\bar{y}_{C} - \\bar{y}_{A}$$\n",
    "\n",
    "로 계산된다. intercept($w_0$)의 값은 $A$ 카테고리의 평균값, $w_1$은 A와 B 카테고리 데이터들의 평균 차이, $w_2$는 A와 C 카테고리 데이터들의 평균 차이가 된다.\n",
    "\n",
    "\n",
    "StatsModels 패키지의 OLS 명령에서는 카테고리 변수와 상수항이 동시에 존재하면 자동으로 Reduced-Rank 인코딩을 사용한다.\n",
    "\n",
    "patsy 포뮬라로는 다음 식을 사용한다.\n",
    "```\n",
    "\"y ~ C(x1)\"\n",
    "```\n"
   ]
  },
  {
   "cell_type": "markdown",
   "metadata": {
    "school_cell_uuid": "3d8c18fff77f49d8bc5d2a6becac5c70"
   },
   "source": [
    "### 더미 변수의 예 2\n",
    "\n",
    "이번에는 $y$가 카테고리 값을 가지는 변수 $x_1$과 실수 값을 가지는 변수 $x_2$에 의존한다고 가정한다. 단 $x_2$가 $y$에 미치는 영향력이 $x_1$값에 따라서 달라지지 않는다고 가정한다.\n",
    "\n",
    "$$ \n",
    "\\hat{y} = \n",
    "\\begin{cases} \n",
    "w_{0,A} + w x_2 & \\text{ if } x_1 = A \\\\ \n",
    "w_{0,B} + w x_2 & \\text{ if } x_1 = B \\\\ \n",
    "w_{0,C} + w x_2 & \\text{ if } x_1 = C \\\\ \n",
    "\\end{cases}\n",
    "$$\n",
    "\n",
    "\n",
    "이 때는 카테고리 변수 $x_1$과 실수 변수 $x_2$를 동시에 가지는 모형을 생각하자. \n",
    "이 모형은 더미 변수를 사용하여 다음과 같이 표현할 수 있다.\n",
    "\n",
    "$$ \\hat{y} = w_1 d_1 + w_2 d_2 + w_3 d_3 + w_4 x_2 $$\n",
    "\n",
    "* $x_1 = A$, 즉, $d_1 = 1, d_2 = 0, d_3 = 0$ 이면 $ y = w_1 + w_4 x_2 $\n",
    "* $x_1 = B$, 즉, $d_1 = 0, d_2 = 1, d_3 = 0$ 이면 $ y = w_2 + w_4 x_2 $\n",
    "* $x_1 = C$, 즉, $d_1 = 0, d_2 = 0, d_3 = 1$ 이면 $ y = w_3 + w_4 x_2 $\n",
    "\n",
    "따라서 $x_2$에 의한 영향은 모두 공통이고 $x_1$에 의한 영향만 다른 세 개의 모형을 동시에 회귀분석하는 것과 같다.\n",
    "\n",
    "patsy 포뮬라로는 다음 식을 사용한다.\n",
    "```\n",
    "\"y ~ C(x1) + x2\"\n",
    "```"
   ]
  },
  {
   "cell_type": "markdown",
   "metadata": {
    "school_cell_uuid": "f3317d1dead441cc85ade9a194e63183"
   },
   "source": [
    "### 더미 변수의 예 3\n",
    "\n",
    "이번에는 마찬가지로 $y$가 카테고리 값을 가지는 변수 $x_1$과 실수 값을 가지는 변수 $x_2$에 의존한다고 가정한다. 단 이 경우에는 $x_2$가 $y$에 미치는 영향력이 $x_1$값에 따라서 달라진다고 가정한다. 즉 $w$가 $x_1$에 의존하는 종속 변수가 된다.\n",
    "\n",
    "$$ \\hat{y} = f(x_1) + w(x_1) x_2 $$\n",
    "\n",
    "이 때는 $x_2$에 의한 영향이 공통적이지 않는 모형을 만들어 보자. 이를 위해서는 $x_1$과 $x_2$의 곱, 즉 상호작용(interaction) 항이 필요하다.\n",
    "\n",
    "$$ \\hat{y} = w_1 d_1 + w_2 d_2 + w_3 d_3 + w_4 d_1 x_2 + w_5 d_2 x_2 + w_6 d_3 x_2 $$\n",
    "\n",
    "* $x_1 = A$, 즉, $d_1 = 1, d_2 = 0, d_3 = 0$ 이면 $ y = w_1 + w_4 x_2 $\n",
    "* $x_1 = B$, 즉, $d_1 = 0, d_2 = 1, d_3 = 0$ 이면 $ y = w_2 + w_5 x_2 $\n",
    "* $x_1 = C$, 즉, $d_1 = 0, d_2 = 0, d_3 = 1$ 이면 $ y = w_3 + w_6 x_2 $\n",
    "\n",
    "위 모형은 그룹별로 나눠서 각각 회귀분석을 해준것과 같다.\n",
    "\n",
    "patsy 포뮬라로는 다음처럼 상호작용(interaction)이 포함된 비선형 모형을 사용한다.\n",
    "```\n",
    "\"y ~ C(x1) + C(x1):x2\"\n",
    "```"
   ]
  },
  {
   "cell_type": "markdown",
   "metadata": {
    "school_cell_uuid": "cb07d171b0ca4771a7748fea21fdd570"
   },
   "source": [
    "## 카테고리 데이터 분석의 예"
   ]
  },
  {
   "cell_type": "markdown",
   "metadata": {
    "school_cell_uuid": "73214ac6257b46f1a070b6ea2698bef6"
   },
   "source": [
    "다음과 같은 월별 기온 데이터에 대해 회귀분석을 하자. 결과는 각 월에 대한 평균 기온이 된다."
   ]
  },
  {
   "cell_type": "code",
   "execution_count": 1,
   "metadata": {
    "school_cell_uuid": "4f321f3c4fae469e999338ed2e97c758"
   },
   "outputs": [],
   "source": [
    "df = sm.datasets.get_rdataset(\"nottem\").data"
   ]
  },
  {
   "cell_type": "code",
   "execution_count": 2,
   "metadata": {
    "school_cell_uuid": "9e7705d3755c495ab2ee06ecd4af9409"
   },
   "outputs": [
    {
     "data": {
      "text/html": [
       "<div>\n",
       "<style scoped>\n",
       "    .dataframe tbody tr th:only-of-type {\n",
       "        vertical-align: middle;\n",
       "    }\n",
       "\n",
       "    .dataframe tbody tr th {\n",
       "        vertical-align: top;\n",
       "    }\n",
       "\n",
       "    .dataframe thead th {\n",
       "        text-align: right;\n",
       "    }\n",
       "</style>\n",
       "<table border=\"1\" class=\"dataframe\">\n",
       "  <thead>\n",
       "    <tr style=\"text-align: right;\">\n",
       "      <th></th>\n",
       "      <th>time</th>\n",
       "      <th>value</th>\n",
       "      <th>month</th>\n",
       "    </tr>\n",
       "  </thead>\n",
       "  <tbody>\n",
       "    <tr>\n",
       "      <th>235</th>\n",
       "      <td>1939.583333</td>\n",
       "      <td>61.8</td>\n",
       "      <td>08</td>\n",
       "    </tr>\n",
       "    <tr>\n",
       "      <th>236</th>\n",
       "      <td>1939.666667</td>\n",
       "      <td>58.2</td>\n",
       "      <td>09</td>\n",
       "    </tr>\n",
       "    <tr>\n",
       "      <th>237</th>\n",
       "      <td>1939.750000</td>\n",
       "      <td>46.7</td>\n",
       "      <td>10</td>\n",
       "    </tr>\n",
       "    <tr>\n",
       "      <th>238</th>\n",
       "      <td>1939.833333</td>\n",
       "      <td>46.6</td>\n",
       "      <td>11</td>\n",
       "    </tr>\n",
       "    <tr>\n",
       "      <th>239</th>\n",
       "      <td>1939.916667</td>\n",
       "      <td>37.8</td>\n",
       "      <td>12</td>\n",
       "    </tr>\n",
       "  </tbody>\n",
       "</table>\n",
       "</div>"
      ],
      "text/plain": [
       "            time  value month\n",
       "235  1939.583333   61.8    08\n",
       "236  1939.666667   58.2    09\n",
       "237  1939.750000   46.7    10\n",
       "238  1939.833333   46.6    11\n",
       "239  1939.916667   37.8    12"
      ]
     },
     "execution_count": 2,
     "metadata": {},
     "output_type": "execute_result"
    }
   ],
   "source": [
    "import datetime\n",
    "from calendar import isleap\n",
    "\n",
    "def convert_partial_year(number):\n",
    "    year = int(number)\n",
    "    d = datetime.timedelta(days=(number - year) * (365 + isleap(year)))\n",
    "    day_one = datetime.datetime(year, 1, 1)\n",
    "    date = d + day_one\n",
    "    return date\n",
    "\n",
    "df[\"date0\"] = df[[\"time\"]].applymap(convert_partial_year)\n",
    "df[\"date\"] = pd.DatetimeIndex(df[\"date0\"]).round('60min') + datetime.timedelta(seconds=3600*24) \n",
    "df[\"month\"] = df[\"date\"].dt.strftime(\"%m\").astype('category')\n",
    "del df[\"date0\"], df[\"date\"]\n",
    "df.tail()"
   ]
  },
  {
   "cell_type": "code",
   "execution_count": 3,
   "metadata": {
    "school_cell_uuid": "d5caab609c054bc8a054558ae661decc"
   },
   "outputs": [
    {
     "data": {
      "image/png": "[encoded data removed]",
      "text/plain": [
       "<Figure size 432x288 with 1 Axes>"
      ]
     },
     "metadata": {},
     "output_type": "display_data"
    }
   ],
   "source": [
    "%matplotlib inline\n",
    "df.boxplot(\"value\", \"month\")\n",
    "plt.show()"
   ]
  },
  {
   "cell_type": "code",
   "execution_count": 4,
   "metadata": {
    "school_cell_uuid": "190b75cf7a8d485b9f587bd2f047f053"
   },
   "outputs": [
    {
     "data": {
      "image/png": "[encoded data removed]",
      "text/plain": [
       "<Figure size 432x288 with 1 Axes>"
      ]
     },
     "metadata": {},
     "output_type": "display_data"
    }
   ],
   "source": [
    "sns.stripplot(x=\"month\", y=\"value\", data=df, jitter=True, alpha=.3)\n",
    "sns.pointplot(x=\"month\", y=\"value\", data=df, dodge=True, color='r')\n",
    "plt.show()"
   ]
  },
  {
   "cell_type": "code",
   "execution_count": 5,
   "metadata": {
    "school_cell_uuid": "a52fa8461c0340628bda54796512f25a"
   },
   "outputs": [
    {
     "name": "stdout",
     "output_type": "stream",
     "text": [
      "                            OLS Regression Results                            \n",
      "==============================================================================\n",
      "Dep. Variable:                  value   R-squared:                       0.930\n",
      "Model:                            OLS   Adj. R-squared:                  0.927\n",
      "Method:                 Least Squares   F-statistic:                     277.3\n",
      "Date:                Sun, 01 Jul 2018   Prob (F-statistic):          2.96e-125\n",
      "Time:                        23:31:34   Log-Likelihood:                -535.82\n",
      "No. Observations:                 240   AIC:                             1096.\n",
      "Df Residuals:                     228   BIC:                             1137.\n",
      "Df Model:                          11                                         \n",
      "Covariance Type:            nonrobust                                         \n",
      "================================================================================\n",
      "                   coef    std err          t      P>|t|      [0.025      0.975]\n",
      "--------------------------------------------------------------------------------\n",
      "C(month)[01]    39.6950      0.518     76.691      0.000      38.675      40.715\n",
      "C(month)[02]    39.1900      0.518     75.716      0.000      38.170      40.210\n",
      "C(month)[03]    42.1950      0.518     81.521      0.000      41.175      43.215\n",
      "C(month)[04]    46.2900      0.518     89.433      0.000      45.270      47.310\n",
      "C(month)[05]    52.5600      0.518    101.547      0.000      51.540      53.580\n",
      "C(month)[06]    58.0400      0.518    112.134      0.000      57.020      59.060\n",
      "C(month)[07]    61.9000      0.518    119.592      0.000      60.880      62.920\n",
      "C(month)[08]    60.5200      0.518    116.926      0.000      59.500      61.540\n",
      "C(month)[09]    56.4800      0.518    109.120      0.000      55.460      57.500\n",
      "C(month)[10]    49.4950      0.518     95.625      0.000      48.475      50.515\n",
      "C(month)[11]    42.5800      0.518     82.265      0.000      41.560      43.600\n",
      "C(month)[12]    39.5300      0.518     76.373      0.000      38.510      40.550\n",
      "==============================================================================\n",
      "Omnibus:                        5.430   Durbin-Watson:                   1.529\n",
      "Prob(Omnibus):                  0.066   Jarque-Bera (JB):                5.299\n",
      "Skew:                          -0.281   Prob(JB):                       0.0707\n",
      "Kurtosis:                       3.463   Cond. No.                         1.00\n",
      "==============================================================================\n",
      "\n",
      "Warnings:\n",
      "[1] Standard Errors assume that the covariance matrix of the errors is correctly specified.\n"
     ]
    }
   ],
   "source": [
    "model = sm.OLS.from_formula(\"value ~ C(month) + 0\", df)\n",
    "result = model.fit()\n",
    "print(result.summary())"
   ]
  },
  {
   "cell_type": "markdown",
   "metadata": {
    "school_cell_uuid": "921533ff58c747bb954ddf504f50e290"
   },
   "source": [
    "## 보스턴 집값 데이터의 카테고리 변수"
   ]
  },
  {
   "cell_type": "markdown",
   "metadata": {
    "school_cell_uuid": "0a196fa2cbdd4fb38a7e77bfc754b50d"
   },
   "source": [
    "보스턴 집값 데이터는 `CHAS`라는 카테고리 변수를 가지고 있다. 이 변수는 **0과 1 두 개의 값(클래스)를 가지므로 이미 더미 변수로 변환되어 있는 것과 비슷**하다. 즉 다음과 같은 **두 개의 모형을 각각 회귀분석하는 경우**라고 볼 수 있다. \n",
    "\n",
    "* `CHAS` = 1 인 경우,\n",
    "$$ y = (w_0 + w_{\\text{CHAS}}) + w_{\\text{CRIM}} \\text{CRIM} + w_{\\text{ZN}} \\text{ZN} + \\cdots $$\n",
    "\n",
    "* `CHAS` = 0 인 경우,\n",
    "$$ y = w_0 + w_{\\text{CRIM}} \\text{CRIM} + w_{\\text{ZN}} \\text{ZN} + \\cdots $$\n"
   ]
  },
  {
   "cell_type": "code",
   "execution_count": 6,
   "metadata": {
    "school_cell_uuid": "5c12c5d101824506abf5f6a2f45de1be"
   },
   "outputs": [],
   "source": [
    "from sklearn.datasets import load_boston\n",
    "boston = load_boston()\n",
    "dfX0_boston = pd.DataFrame(boston.data, columns=boston.feature_names)\n",
    "dfX_boston = sm.add_constant(dfX0_boston)\n",
    "dfy_boston = pd.DataFrame(boston.target, columns=[\"MEDV\"])\n",
    "df_boston = pd.concat([dfX_boston, dfy_boston], axis=1)"
   ]
  },
  {
   "cell_type": "code",
   "execution_count": 7,
   "metadata": {
    "school_cell_uuid": "acf2fd7082bf46cb8ba68492ce32a7c8"
   },
   "outputs": [
    {
     "name": "stdout",
     "output_type": "stream",
     "text": [
      "                            OLS Regression Results                            \n",
      "==============================================================================\n",
      "Dep. Variable:                   MEDV   R-squared:                       0.741\n",
      "Model:                            OLS   Adj. R-squared:                  0.734\n",
      "Method:                 Least Squares   F-statistic:                     108.1\n",
      "Date:                Sun, 01 Jul 2018   Prob (F-statistic):          6.95e-135\n",
      "Time:                        23:31:40   Log-Likelihood:                -1498.8\n",
      "No. Observations:                 506   AIC:                             3026.\n",
      "Df Residuals:                     492   BIC:                             3085.\n",
      "Df Model:                          13                                         \n",
      "Covariance Type:            nonrobust                                         \n",
      "==============================================================================\n",
      "                 coef    std err          t      P>|t|      [0.025      0.975]\n",
      "------------------------------------------------------------------------------\n",
      "const         36.4911      5.104      7.149      0.000      26.462      46.520\n",
      "CRIM          -0.1072      0.033     -3.276      0.001      -0.171      -0.043\n",
      "ZN             0.0464      0.014      3.380      0.001       0.019       0.073\n",
      "INDUS          0.0209      0.061      0.339      0.735      -0.100       0.142\n",
      "CHAS           2.6886      0.862      3.120      0.002       0.996       4.381\n",
      "NOX          -17.7958      3.821     -4.658      0.000     -25.302     -10.289\n",
      "RM             3.8048      0.418      9.102      0.000       2.983       4.626\n",
      "AGE            0.0008      0.013      0.057      0.955      -0.025       0.027\n",
      "DIS           -1.4758      0.199     -7.398      0.000      -1.868      -1.084\n",
      "RAD            0.3057      0.066      4.608      0.000       0.175       0.436\n",
      "TAX           -0.0123      0.004     -3.278      0.001      -0.020      -0.005\n",
      "PTRATIO       -0.9535      0.131     -7.287      0.000      -1.211      -0.696\n",
      "B              0.0094      0.003      3.500      0.001       0.004       0.015\n",
      "LSTAT         -0.5255      0.051    -10.366      0.000      -0.625      -0.426\n",
      "==============================================================================\n",
      "Omnibus:                      178.029   Durbin-Watson:                   1.078\n",
      "Prob(Omnibus):                  0.000   Jarque-Bera (JB):              782.015\n",
      "Skew:                           1.521   Prob(JB):                    1.54e-170\n",
      "Kurtosis:                       8.276   Cond. No.                     1.51e+04\n",
      "==============================================================================\n",
      "\n",
      "Warnings:\n",
      "[1] Standard Errors assume that the covariance matrix of the errors is correctly specified.\n",
      "[2] The condition number is large, 1.51e+04. This might indicate that there are\n",
      "strong multicollinearity or other numerical problems.\n"
     ]
    }
   ],
   "source": [
    "model = sm.OLS(dfy_boston, dfX_boston)\n",
    "result = model.fit()\n",
    "print(result.summary())"
   ]
  },
  {
   "cell_type": "markdown",
   "metadata": {
    "school_cell_uuid": "63222b63755a4b39941fbd42c5c4b601"
   },
   "source": [
    "위 분석에서 두 데이터 그룹은 찰스강에 인접하지 않은 집의 가격 모형은 상수항이 $36.4911$이지만 찰스강에 인접한 집의 가격 모형은 상수항이 $36.4911 + 2.6886 = 39.1797$이라는 것을 알 수 있다."
   ]
  },
  {
   "cell_type": "markdown",
   "metadata": {
    "bootstrap": {
     "panel": {
      "class": "panel-default"
     }
    },
    "school_cell_uuid": "8e38e969c74e44869bd598e152efe969"
   },
   "source": [
    "#### 연습 문제 1\n",
    "\n",
    "1. `from_formula` 메서드를 사용하여 보스턴 집값 예측 문제를 다시 풀어라. `C()`를 사용하여 카테고리값임을 명시적으로 지정하는 것을 잊으면 안된다.\n",
    "2. 모형 문자열에서 상수항을 없애지 말고 다시 푼다. 이때 `CHAS` 변수의 가중치는 무엇을 뜻하는가."
   ]
  },
  {
   "cell_type": "code",
   "execution_count": 8,
   "metadata": {},
   "outputs": [
    {
     "name": "stdout",
     "output_type": "stream",
     "text": [
      "                            OLS Regression Results                            \n",
      "==============================================================================\n",
      "Dep. Variable:                   MEDV   R-squared:                       0.741\n",
      "Model:                            OLS   Adj. R-squared:                  0.734\n",
      "Method:                 Least Squares   F-statistic:                     108.1\n",
      "Date:                Sun, 01 Jul 2018   Prob (F-statistic):          6.95e-135\n",
      "Time:                        23:32:25   Log-Likelihood:                -1498.8\n",
      "No. Observations:                 506   AIC:                             3026.\n",
      "Df Residuals:                     492   BIC:                             3085.\n",
      "Df Model:                          13                                         \n",
      "Covariance Type:            nonrobust                                         \n",
      "================================================================================\n",
      "                   coef    std err          t      P>|t|      [0.025      0.975]\n",
      "--------------------------------------------------------------------------------\n",
      "C(CHAS)[0.0]    36.4911      5.104      7.149      0.000      26.462      46.520\n",
      "C(CHAS)[1.0]    39.1797      5.154      7.603      0.000      29.054      49.305\n",
      "CRIM            -0.1072      0.033     -3.276      0.001      -0.171      -0.043\n",
      "ZN               0.0464      0.014      3.380      0.001       0.019       0.073\n",
      "INDUS            0.0209      0.061      0.339      0.735      -0.100       0.142\n",
      "NOX            -17.7958      3.821     -4.658      0.000     -25.302     -10.289\n",
      "RM               3.8048      0.418      9.102      0.000       2.983       4.626\n",
      "AGE              0.0008      0.013      0.057      0.955      -0.025       0.027\n",
      "DIS             -1.4758      0.199     -7.398      0.000      -1.868      -1.084\n",
      "RAD              0.3057      0.066      4.608      0.000       0.175       0.436\n",
      "TAX             -0.0123      0.004     -3.278      0.001      -0.020      -0.005\n",
      "PTRATIO         -0.9535      0.131     -7.287      0.000      -1.211      -0.696\n",
      "B                0.0094      0.003      3.500      0.001       0.004       0.015\n",
      "LSTAT           -0.5255      0.051    -10.366      0.000      -0.625      -0.426\n",
      "==============================================================================\n",
      "Omnibus:                      178.029   Durbin-Watson:                   1.078\n",
      "Prob(Omnibus):                  0.000   Jarque-Bera (JB):              782.015\n",
      "Skew:                           1.521   Prob(JB):                    1.54e-170\n",
      "Kurtosis:                       8.276   Cond. No.                     2.01e+04\n",
      "==============================================================================\n",
      "\n",
      "Warnings:\n",
      "[1] Standard Errors assume that the covariance matrix of the errors is correctly specified.\n",
      "[2] The condition number is large, 2.01e+04. This might indicate that there are\n",
      "strong multicollinearity or other numerical problems.\n"
     ]
    }
   ],
   "source": [
    "# 1번 문제\n",
    "model = sm.OLS.from_formula(\"MEDV ~ CRIM + ZN + INDUS + C(CHAS) + NOX + RM + AGE + DIS\\\n",
    "+ RAD + TAX + PTRATIO + B + LSTAT -1\", data = df_boston)\n",
    "result = model.fit()\n",
    "print(result.summary())"
   ]
  },
  {
   "cell_type": "code",
   "execution_count": 9,
   "metadata": {},
   "outputs": [
    {
     "name": "stdout",
     "output_type": "stream",
     "text": [
      "                            OLS Regression Results                            \n",
      "==============================================================================\n",
      "Dep. Variable:                   MEDV   R-squared:                       0.741\n",
      "Model:                            OLS   Adj. R-squared:                  0.734\n",
      "Method:                 Least Squares   F-statistic:                     108.1\n",
      "Date:                Sun, 01 Jul 2018   Prob (F-statistic):          6.95e-135\n",
      "Time:                        23:32:29   Log-Likelihood:                -1498.8\n",
      "No. Observations:                 506   AIC:                             3026.\n",
      "Df Residuals:                     492   BIC:                             3085.\n",
      "Df Model:                          13                                         \n",
      "Covariance Type:            nonrobust                                         \n",
      "==================================================================================\n",
      "                     coef    std err          t      P>|t|      [0.025      0.975]\n",
      "----------------------------------------------------------------------------------\n",
      "Intercept         36.4911      5.104      7.149      0.000      26.462      46.520\n",
      "C(CHAS)[T.1.0]     2.6886      0.862      3.120      0.002       0.996       4.381\n",
      "CRIM              -0.1072      0.033     -3.276      0.001      -0.171      -0.043\n",
      "ZN                 0.0464      0.014      3.380      0.001       0.019       0.073\n",
      "INDUS              0.0209      0.061      0.339      0.735      -0.100       0.142\n",
      "NOX              -17.7958      3.821     -4.658      0.000     -25.302     -10.289\n",
      "RM                 3.8048      0.418      9.102      0.000       2.983       4.626\n",
      "AGE                0.0008      0.013      0.057      0.955      -0.025       0.027\n",
      "DIS               -1.4758      0.199     -7.398      0.000      -1.868      -1.084\n",
      "RAD                0.3057      0.066      4.608      0.000       0.175       0.436\n",
      "TAX               -0.0123      0.004     -3.278      0.001      -0.020      -0.005\n",
      "PTRATIO           -0.9535      0.131     -7.287      0.000      -1.211      -0.696\n",
      "B                  0.0094      0.003      3.500      0.001       0.004       0.015\n",
      "LSTAT             -0.5255      0.051    -10.366      0.000      -0.625      -0.426\n",
      "==============================================================================\n",
      "Omnibus:                      178.029   Durbin-Watson:                   1.078\n",
      "Prob(Omnibus):                  0.000   Jarque-Bera (JB):              782.015\n",
      "Skew:                           1.521   Prob(JB):                    1.54e-170\n",
      "Kurtosis:                       8.276   Cond. No.                     1.51e+04\n",
      "==============================================================================\n",
      "\n",
      "Warnings:\n",
      "[1] Standard Errors assume that the covariance matrix of the errors is correctly specified.\n",
      "[2] The condition number is large, 1.51e+04. This might indicate that there are\n",
      "strong multicollinearity or other numerical problems.\n"
     ]
    }
   ],
   "source": [
    "# 2번 문제\n",
    "model = sm.OLS.from_formula(\"MEDV ~ CRIM + ZN + INDUS + C(CHAS) + NOX + RM + AGE + DIS\\\n",
    "                            + RAD + TAX + PTRATIO + B + LSTAT\", data = df_boston)\n",
    "result = model.fit()\n",
    "print(result.summary())"
   ]
  },
  {
   "cell_type": "markdown",
   "metadata": {},
   "source": [
    "- CHAS변수의 값이 0일 경우(CHAS강에 인접하지 않을 경우) 집 가격은 36.49달러 정도이고, CHAS변수의 값이 1인 경우(CHAS강에 인접한 경우) 가격은 36.4911 + 2.6886 = 39.1797 달러 정도일 것이다."
   ]
  }
 ],
 "metadata": {
  "kernelspec": {
   "display_name": "Python 3",
   "language": "python",
   "name": "python3"
  },
  "language_info": {
   "codemirror_mode": {
    "name": "ipython",
    "version": 3
   },
   "file_extension": ".py",
   "mimetype": "text/x-python",
   "name": "python",
   "nbconvert_exporter": "python",
   "pygments_lexer": "ipython3",
   "version": "3.6.4"
  }
 },
 "nbformat": 4,
 "nbformat_minor": 1
}
