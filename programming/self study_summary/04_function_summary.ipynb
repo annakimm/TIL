{
 "cells": [
  {
   "cell_type": "markdown",
   "metadata": {},
   "source": [
    "#### Function\n",
    "- def로 선언, 함수가 호출되면 함수 안에 있는 코드 실행\n",
    "- 호출한 곳으로 값을 반환하려면 return 문장을 쓰고 그 다음에 반환하고자 하는 수식 입력\n",
    "- 함수 안에서 return 뒤에 아무것도 쓰지 않으면 값이 반환되지 않고 호출된 곳으로 복귀`return:`\n",
    "- 함수도 변수 종류 중 하나 `type(<function>)` -> function\n",
    "##### 함수 선언\n",
    "```\n",
    "def <function_name>(<parameter>):\n",
    "    code\n",
    "    return\n",
    "```\n",
    "- parameter는 함수를 호출할 때 전달하는 데이터를 함수 내에서 변수로 사용\n",
    "##### 함수 호출\n",
    "```\n",
    "<function_name>(<argument>)\n",
    "```\n",
    "- argument는 함수를 호출할 때 데이터를 전달"
   ]
  },
  {
   "cell_type": "code",
   "execution_count": 3,
   "metadata": {},
   "outputs": [
    {
     "data": {
      "text/plain": [
       "False"
      ]
     },
     "execution_count": 3,
     "metadata": {},
     "output_type": "execute_result"
    }
   ],
   "source": [
    "# 소수찾기 함수\n",
    "def is_prime(num):\n",
    "    for i in range(2, num):\n",
    "        num%i == 0       #n을 i로 나눠서 나머지가 0이면 n은 소수가 아니므로 False 반환하고 함수 종료\n",
    "        return False    \n",
    "    return True         #반복을 종료했는데 함수가 종료되지 않았다면 n의 약수는 없는 것이므로 n은 소수, True반환\n",
    "is_prime(69)"
   ]
  },
  {
   "cell_type": "code",
   "execution_count": 18,
   "metadata": {},
   "outputs": [
    {
     "name": "stdout",
     "output_type": "stream",
     "text": [
      "(8, 2)\n"
     ]
    }
   ],
   "source": [
    "def calc_func(num1, num2):                                     \n",
    "    return num1 + num2, num1 - num2    #튜플로 결과 출력 가능\n",
    "\n",
    "tu = calc_func(5, 3)\n",
    "print(tu)"
   ]
  },
  {
   "cell_type": "markdown",
   "metadata": {},
   "source": [
    "##### keyword argument\n",
    "- positional argument로 argument를 넣지 않고 변수이름을 지정해 값을 대입\n",
    "\n",
    "##### default parameter\n",
    "- 함수를 호출하고 파라미터에 대한 아규먼트가 없을 때 디폴트로 설정된 값이 파라미터 변수로 사용\n",
    "\n",
    "###### 둘다 지정한 값이 맨 뒤로 가야 에러가 나지 않음"
   ]
  },
  {
   "cell_type": "code",
   "execution_count": 10,
   "metadata": {},
   "outputs": [
    {
     "name": "stdout",
     "output_type": "stream",
     "text": [
      "5\n"
     ]
    }
   ],
   "source": [
    "def minus(num1, num2):\n",
    "    print(num1-num2)\n",
    "minus(num2=3, num1=8)         #minus(num=8, 3), minus(3, num1=8)은 에러발생"
   ]
  },
  {
   "cell_type": "markdown",
   "metadata": {},
   "source": [
    " #### \\*args,\\**kwargs\n",
    " ##### *args\n",
    " - argument의 개수가 가변적일 때, 함수의 파라미터 영역에 사용\n",
    " - tuple 데이터 타입으로 입력"
   ]
  },
  {
   "cell_type": "code",
   "execution_count": 32,
   "metadata": {},
   "outputs": [
    {
     "data": {
      "text/plain": [
       "3628800"
      ]
     },
     "execution_count": 32,
     "metadata": {},
     "output_type": "execute_result"
    }
   ],
   "source": [
    "def dup(*args):\n",
    "    result = 1\n",
    "    for i in range(1, len(args)+1):  #range(1, args)로 하면 'tuple' object cannot be interpreted as an integer에러\n",
    "        result = result * i\n",
    "    return result\n",
    "\n",
    "dup(1, 2, 3, 4, 5, 6, 7, 8, 9, 10)"
   ]
  },
  {
   "cell_type": "code",
   "execution_count": 39,
   "metadata": {},
   "outputs": [
    {
     "data": {
      "text/plain": [
       "5.5"
      ]
     },
     "execution_count": 39,
     "metadata": {},
     "output_type": "execute_result"
    }
   ],
   "source": [
    "def avg_func(*args):\n",
    "    return sum(args)/len(args)\n",
    "tu = (1, 2, 3, 4, 5, 6, 7, 8, 9, 10)    \n",
    "avg_func(*tu)"
   ]
  },
  {
   "cell_type": "code",
   "execution_count": 3,
   "metadata": {},
   "outputs": [
    {
     "name": "stdout",
     "output_type": "stream",
     "text": [
      "(1, 2, 3, 4, 5)\n",
      "([1, 2, 3, 4, 5],)\n"
     ]
    }
   ],
   "source": [
    "#예시\n",
    "def test(*args):\n",
    "    return print(args)\n",
    "    \n",
    "ls = [1, 2, 3, 4, 5]\n",
    "test(*ls)\n",
    "test(ls) #리스트는 바로 하면 하나의 리스트로 입력"
   ]
  },
  {
   "cell_type": "markdown",
   "metadata": {},
   "source": [
    "##### 2.**kwargs\n",
    "     - 함수의 파라미터 영역에 사용, 가변적인 키워드 argument 사용 시\n",
    "     - 파라미터로 받는 데이터는 dictionary 데이터 타입"
   ]
  },
  {
   "cell_type": "code",
   "execution_count": 43,
   "metadata": {},
   "outputs": [
    {
     "name": "stdout",
     "output_type": "stream",
     "text": [
      "{'korean': 100, 'english': 70, 'math': 80}\n",
      "<class 'dict'>\n",
      "korean 100\n",
      "english 70\n",
      "math 80\n"
     ]
    },
    {
     "data": {
      "text/plain": [
       "83.33333333333333"
      ]
     },
     "execution_count": 43,
     "metadata": {},
     "output_type": "execute_result"
    }
   ],
   "source": [
    "#예시\n",
    "def avg_func(**kwargs):\n",
    "    print(kwargs)\n",
    "    print(type(kwargs))\n",
    "    total, count = 0, 0\n",
    "    for subject, point in kwargs.items():\n",
    "        print(subject, point)\n",
    "        total += point\n",
    "        count += 1\n",
    "    return total/count\n",
    "\n",
    "avg_func(korean=100, english=70, math=80)"
   ]
  },
  {
   "cell_type": "code",
   "execution_count": 83,
   "metadata": {},
   "outputs": [
    {
     "name": "stdout",
     "output_type": "stream",
     "text": [
      "90\n",
      "140\n",
      "230\n"
     ]
    },
    {
     "data": {
      "text/plain": [
       "230"
      ]
     },
     "execution_count": 83,
     "metadata": {},
     "output_type": "execute_result"
    }
   ],
   "source": [
    "def a(**kwargs):\n",
    "    sum_a = 0\n",
    "    lgth = 0\n",
    "    for score in kwargs.values(): #kwargs.value()도 가능\n",
    "        sum_a += score\n",
    "        print(sum_a)\n",
    "    return sum_a\n",
    "    \n",
    "a(kim = 90, park = 50, sun = 90)"
   ]
  },
  {
   "cell_type": "code",
   "execution_count": 85,
   "metadata": {},
   "outputs": [
    {
     "name": "stdout",
     "output_type": "stream",
     "text": [
      "90\n",
      "140\n",
      "230\n"
     ]
    },
    {
     "data": {
      "text/plain": [
       "76.67"
      ]
     },
     "execution_count": 85,
     "metadata": {},
     "output_type": "execute_result"
    }
   ],
   "source": [
    "def a(**kwargs):\n",
    "    sum_a = 0\n",
    "    lgth = 0\n",
    "    for name, score in kwargs.items(): \n",
    "        sum_a += score\n",
    "        print(sum_a)\n",
    "    return sum_a/len(name)  #len()에는 str만\n",
    "    \n",
    "round(a(kim = 90, park = 50, sun = 90), 2)"
   ]
  },
  {
   "cell_type": "markdown",
   "metadata": {},
   "source": [
    "##### 3.\\*args, \\**kwargs 함께 사용\n",
    "    - 키워드가 없는 argument들은 args로 받아들여지고, 키워드가 있는 argument들은 kwargs로 받아짐"
   ]
  },
  {
   "cell_type": "code",
   "execution_count": 46,
   "metadata": {},
   "outputs": [
    {
     "name": "stdout",
     "output_type": "stream",
     "text": [
      "(1, 2, 3, 'fastcampus', 'datascience')\n",
      "{'korean': 100, 'english': 70, 'math': 80}\n"
     ]
    }
   ],
   "source": [
    "#예시\n",
    "def test_func(*args, **kwargs):\n",
    "    print(args)\n",
    "    print(kwargs)\n",
    "test_func(1, 2, 3, \"fastcampus\", \"datascience\", korean = 100, english = 70, math = 80)"
   ]
  },
  {
   "cell_type": "markdown",
   "metadata": {},
   "source": [
    "#### docstring\n",
    "      - pep 20 : Zen of Python 참조\n",
    "      - 함수에 대한 설명, 함수를 선언한 코드 아래에 문자열로 입력"
   ]
  },
  {
   "cell_type": "code",
   "execution_count": 94,
   "metadata": {},
   "outputs": [
    {
     "data": {
      "text/plain": [
       "'input word : fast'"
      ]
     },
     "execution_count": 94,
     "metadata": {},
     "output_type": "execute_result"
    }
   ],
   "source": [
    "def str_print(string):\n",
    "    \"\"\"\n",
    "    str_print returns string word.\n",
    "    \"\"\"\n",
    "    return \"input word : {}\".format(string)\n",
    "\n",
    "str_print(\"fast\")  #문자 argument는 꼭 \"\"표시"
   ]
  },
  {
   "cell_type": "code",
   "execution_count": 99,
   "metadata": {},
   "outputs": [
    {
     "name": "stdout",
     "output_type": "stream",
     "text": [
      "Help on function str_print in module __main__:\n",
      "\n",
      "str_print(string)\n",
      "    str_print returns string word.\n",
      "\n",
      "\n",
      "    str_print returns string word.\n",
      "    \n"
     ]
    }
   ],
   "source": [
    "help(str_print)\n",
    "print(str_print.__doc__)"
   ]
  },
  {
   "cell_type": "markdown",
   "metadata": {},
   "source": [
    "#### scope\n",
    " - 변수나 함수를 선언할 때 해당 함수는 변수를 사용할 수 있는 영역 스코프 존재\n",
    " - global, local"
   ]
  },
  {
   "cell_type": "markdown",
   "metadata": {},
   "source": [
    "##### 1. global\n",
    "    - 전역(전역함수, 전역변수)\n",
    "    - 메모리에 global, local영역이 있어서 함수를 선언하면 함수(함수는 global영역에 선언)에 대한 local영역이\n",
    "      생성되고 똑같은 변수라도 그 안에서만 선언\n",
    "    - global() : 현재까지 실행한 global영역의 값"
   ]
  },
  {
   "cell_type": "code",
   "execution_count": 115,
   "metadata": {},
   "outputs": [
    {
     "data": {
      "text/plain": [
       "(1, 2)"
      ]
     },
     "execution_count": 115,
     "metadata": {},
     "output_type": "execute_result"
    }
   ],
   "source": [
    "#예시\n",
    "gv1, gv2 = 1, 2\n",
    "def print_variable():\n",
    "    gv1, gv2 = 10, 20\n",
    "    return gv1, gv2\n",
    "gv1, gv2"
   ]
  },
  {
   "cell_type": "code",
   "execution_count": 109,
   "metadata": {},
   "outputs": [
    {
     "data": {
      "text/plain": [
       "(10, 20)"
      ]
     },
     "execution_count": 109,
     "metadata": {},
     "output_type": "execute_result"
    }
   ],
   "source": [
    "print_value()"
   ]
  },
  {
   "cell_type": "code",
   "execution_count": 6,
   "metadata": {},
   "outputs": [
    {
     "name": "stdout",
     "output_type": "stream",
     "text": [
      "100\n"
     ]
    },
    {
     "data": {
      "text/plain": [
       "100"
      ]
     },
     "execution_count": 6,
     "metadata": {},
     "output_type": "execute_result"
    }
   ],
   "source": [
    "gv1 = 1\n",
    "def change_gv():\n",
    "    global gv1   #global로 선언하기 전에 local영역에서 동일한 변수를 선언하면 error\n",
    "    gv1 = 100\n",
    "    print(gv1)\n",
    "change_gv()      #함수를 실행하고 변수를 입력해야 전역변수 변경이 됨\n",
    "gv1 "
   ]
  },
  {
   "cell_type": "code",
   "execution_count": 2,
   "metadata": {},
   "outputs": [
    {
     "name": "stdout",
     "output_type": "stream",
     "text": [
      "100\n"
     ]
    }
   ],
   "source": [
    "change_gv()"
   ]
  },
  {
   "cell_type": "markdown",
   "metadata": {},
   "source": [
    "#### 2.local\n",
    "  - 지역(지역함수, 지역변수)\n",
    "  - locals() : local변수 \n",
    "  - print(locals()[\"<변수명>\"])"
   ]
  },
  {
   "cell_type": "code",
   "execution_count": 32,
   "metadata": {},
   "outputs": [],
   "source": [
    "#????????\n",
    "gv3, gv4 = 3, 4\n",
    "def print_locals():\n",
    "    gv3 = 30\n",
    "    gv4 = 40\n",
    "    def plus(a, b):\n",
    "        return a+b\n"
   ]
  },
  {
   "cell_type": "code",
   "execution_count": 33,
   "metadata": {},
   "outputs": [
    {
     "data": {
      "text/plain": [
       "3"
      ]
     },
     "execution_count": 33,
     "metadata": {},
     "output_type": "execute_result"
    }
   ],
   "source": [
    "print_locals()\n",
    "locals()[\"gv3\"]"
   ]
  },
  {
   "cell_type": "markdown",
   "metadata": {},
   "source": [
    "##### 3.local영역에서 global변수의 변경"
   ]
  },
  {
   "cell_type": "code",
   "execution_count": 4,
   "metadata": {},
   "outputs": [
    {
     "name": "stdout",
     "output_type": "stream",
     "text": [
      "10\n",
      "change_gv\n",
      "{'gv': 100, 'data': 100}\n",
      "global gv : 10\n",
      "10\n"
     ]
    }
   ],
   "source": [
    "#####예시\n",
    "gv = 10\n",
    "def change_gv(data):\n",
    "    print(\"change_gv\")   \n",
    "    gv = data   \n",
    "    print(locals())         #global gv가 없을 땐 gv가 지역변수로 생성\n",
    "    print(\"global gv : {}\".format(globals()[\"gv\"]))\n",
    "\n",
    "print(gv)\n",
    "change_gv(100)\n",
    "print(gv)"
   ]
  },
  {
   "cell_type": "code",
   "execution_count": 167,
   "metadata": {},
   "outputs": [
    {
     "name": "stdout",
     "output_type": "stream",
     "text": [
      "10\n",
      "change_gv\n",
      "{'data': 100}\n",
      "global gv : 100\n"
     ]
    },
    {
     "data": {
      "text/plain": [
       "100"
      ]
     },
     "execution_count": 167,
     "metadata": {},
     "output_type": "execute_result"
    }
   ],
   "source": [
    "#####예시\n",
    "gv = 10\n",
    "def change_gv(data):\n",
    "    print(\"change_gv\")\n",
    "    global gv                   \n",
    "    gv = data\n",
    "    print(locals())\n",
    "    print(\"global gv : {}\".format(globals()[\"gv\"]))\n",
    "\n",
    "print(gv)\n",
    "change_gv(100)\n",
    "gv"
   ]
  },
  {
   "cell_type": "markdown",
   "metadata": {},
   "source": [
    "#### inner function\n",
    "  - 코드를 숨기거나, 수정할 수 없도록 만들 때"
   ]
  },
  {
   "cell_type": "code",
   "execution_count": 169,
   "metadata": {},
   "outputs": [
    {
     "data": {
      "text/plain": [
       "11"
      ]
     },
     "execution_count": 169,
     "metadata": {},
     "output_type": "execute_result"
    }
   ],
   "source": [
    "#예시\n",
    "def outer(a, b):\n",
    "    def inner(c, d):\n",
    "        return c+d\n",
    "    return inner(a, b)\n",
    "\n",
    "outer(4, 7)"
   ]
  },
  {
   "cell_type": "markdown",
   "metadata": {},
   "source": [
    "#### lambda function\n",
    "  - 간단한 함수를 선언하지 않고 함수처럼 사용\n",
    "  - lambda `<parameters> : <return_value>`\n"
   ]
  },
  {
   "cell_type": "code",
   "execution_count": 1,
   "metadata": {},
   "outputs": [
    {
     "data": {
      "text/plain": [
       "11"
      ]
     },
     "execution_count": 1,
     "metadata": {},
     "output_type": "execute_result"
    }
   ],
   "source": [
    "#예시\n",
    "def sum_func(x, y):\n",
    "    return x+y\n",
    "sum_func(5, 6)"
   ]
  },
  {
   "cell_type": "code",
   "execution_count": 3,
   "metadata": {},
   "outputs": [
    {
     "data": {
      "text/plain": [
       "11"
      ]
     },
     "execution_count": 3,
     "metadata": {},
     "output_type": "execute_result"
    }
   ],
   "source": [
    "sum_func2 = lambda x, y : x+y\n",
    "sum_func2(5, 6)"
   ]
  },
  {
   "cell_type": "code",
   "execution_count": 6,
   "metadata": {},
   "outputs": [
    {
     "data": {
      "text/plain": [
       "'John Smith'"
      ]
     },
     "execution_count": 6,
     "metadata": {},
     "output_type": "execute_result"
    }
   ],
   "source": [
    "full_name = lambda fn, ln: fn+\" \"+ ln\n",
    "full_name(\"John\", \"Smith\")"
   ]
  },
  {
   "cell_type": "code",
   "execution_count": 8,
   "metadata": {},
   "outputs": [
    {
     "data": {
      "text/plain": [
       "('pig, cat', 'dog, cat')"
      ]
     },
     "execution_count": 8,
     "metadata": {},
     "output_type": "execute_result"
    }
   ],
   "source": [
    "# 디폴트 파라미터\n",
    "animal = lambda a=\"dog\", b=\"cat\" : a +\", \"+ b\n",
    "animal(\"pig\"), animal()\n"
   ]
  },
  {
   "cell_type": "code",
   "execution_count": null,
   "metadata": {},
   "outputs": [],
   "source": [
    "# 람다함수의 파라미터 응용\n"
   ]
  },
  {
   "cell_type": "code",
   "execution_count": null,
   "metadata": {},
   "outputs": [],
   "source": []
  },
  {
   "cell_type": "code",
   "execution_count": null,
   "metadata": {},
   "outputs": [],
   "source": []
  },
  {
   "cell_type": "code",
   "execution_count": null,
   "metadata": {},
   "outputs": [],
   "source": []
  },
  {
   "cell_type": "code",
   "execution_count": null,
   "metadata": {},
   "outputs": [],
   "source": []
  },
  {
   "cell_type": "code",
   "execution_count": null,
   "metadata": {},
   "outputs": [],
   "source": []
  },
  {
   "cell_type": "code",
   "execution_count": null,
   "metadata": {},
   "outputs": [],
   "source": []
  },
  {
   "cell_type": "code",
   "execution_count": null,
   "metadata": {},
   "outputs": [],
   "source": []
  }
 ],
 "metadata": {
  "kernelspec": {
   "display_name": "Python 3",
   "language": "python",
   "name": "python3"
  },
  "language_info": {
   "codemirror_mode": {
    "name": "ipython",
    "version": 3
   },
   "file_extension": ".py",
   "mimetype": "text/x-python",
   "name": "python",
   "nbconvert_exporter": "python",
   "pygments_lexer": "ipython3",
   "version": "3.6.4"
  }
 },
 "nbformat": 4,
 "nbformat_minor": 2
}
