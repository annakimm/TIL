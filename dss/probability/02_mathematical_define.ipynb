{
 "cells": [
  {
   "cell_type": "markdown",
   "metadata": {},
   "source": [
    "- 확률표본 : 선택될 수 있는 하나의 경우\n",
    "- 표본공간 : 모든 표본의 집합"
   ]
  },
  {
   "cell_type": "code",
   "execution_count": 2,
   "metadata": {},
   "outputs": [
    {
     "data": {
      "text/plain": [
       "frozenset({1, 2, 3, 4, 5, 6})"
      ]
     },
     "execution_count": 2,
     "metadata": {},
     "output_type": "execute_result"
    }
   ],
   "source": [
    "# 연습문제 1(1) 주사위를 던져 나오는 숫자를 구하는 문제를 확률론적으로 접근\n",
    "# 할 때 표본 공간 omega3를 구하라.\n",
    "omega3 = frozenset({1, 2, 3, 4, 5, 6})\n",
    "omega3"
   ]
  },
  {
   "cell_type": "code",
   "execution_count": 4,
   "metadata": {},
   "outputs": [
    {
     "data": {
      "text/plain": [
       "frozenset({'O', 'X'})"
      ]
     },
     "execution_count": 4,
     "metadata": {},
     "output_type": "execute_result"
    }
   ],
   "source": [
    "# 연습문제 2(2) 약속날짜를 정하기로 했다. 결정된 날짜가 31일 인지 아닌지\n",
    "# 구하는 문제를 확률론적으로 접근할 때 표본공간 omega4를 구해라.\n",
    "omega4 = frozenset([\"O\", \"X\"])\n",
    "omega4"
   ]
  },
  {
   "cell_type": "code",
   "execution_count": 7,
   "metadata": {},
   "outputs": [],
   "source": [
    "# 연습 문제 2(1) 잠을 자다 깨어나 시계를 보았을 때 분침이 가리키는 각도를\n",
    "# 표본이라고 하면 표본 공간  Ω7 는? 이 표본 공간의 표본의 갯수는?\n",
    "# omega7 = frozenset([x|0<=x<360])"
   ]
  },
  {
   "cell_type": "code",
   "execution_count": 8,
   "metadata": {},
   "outputs": [],
   "source": [
    "# 연습문제 2(2) 측정한 체온을 표본이라고 하면 표본 공간  Ω8 는? \n",
    "# 이 표본 공간의 표본의 갯수는?\n",
    "# omega8 = frozenset([x|x <= R]), 갯수는 구할 수 없다"
   ]
  },
  {
   "cell_type": "markdown",
   "metadata": {},
   "source": [
    "-----"
   ]
  },
  {
   "cell_type": "code",
   "execution_count": 11,
   "metadata": {},
   "outputs": [
    {
     "data": {
      "text/plain": [
       "{frozenset(), frozenset({'T'}), frozenset({'H'}), frozenset({'H', 'T'})}"
      ]
     },
     "execution_count": 11,
     "metadata": {},
     "output_type": "execute_result"
    }
   ],
   "source": [
    "# 사건 : 표본 공간 중에서 우리가 관심을 가지고 있는 일부 표본의 집합\n",
    "A = frozenset([])\n",
    "B = frozenset(['H'])\n",
    "C = frozenset(['T'])\n",
    "D = frozenset(['H', 'T'])\n",
    "set([A, B, C, D])"
   ]
  },
  {
   "cell_type": "markdown",
   "metadata": {},
   "source": [
    "파이썬에서는 사건을 key로 확률을 value로 가지는 딕셔너리를 사용하여 확률함수를 구현할 수 있다"
   ]
  },
  {
   "cell_type": "code",
   "execution_count": 12,
   "metadata": {},
   "outputs": [
    {
     "data": {
      "text/plain": [
       "{frozenset(): 0,\n",
       " frozenset({'H'}): 0.4,\n",
       " frozenset({'T'}): 0.6,\n",
       " frozenset({'H', 'T'}): 1}"
      ]
     },
     "execution_count": 12,
     "metadata": {},
     "output_type": "execute_result"
    }
   ],
   "source": [
    "P = {A: 0, B: 0.4, C: 0.6, D: 1}\n",
    "P"
   ]
  },
  {
   "cell_type": "code",
   "execution_count": 13,
   "metadata": {},
   "outputs": [
    {
     "data": {
      "text/plain": [
       "{frozenset(),\n",
       " frozenset({'HT', 'TH'}),\n",
       " frozenset({'TT'}),\n",
       " frozenset({'HT', 'TT'}),\n",
       " frozenset({'TH'}),\n",
       " frozenset({'TH', 'TT'}),\n",
       " frozenset({'HH', 'TH'}),\n",
       " frozenset({'HH', 'TT'}),\n",
       " frozenset({'HH', 'TH', 'TT'}),\n",
       " frozenset({'HT'}),\n",
       " frozenset({'HH'}),\n",
       " frozenset({'HH', 'HT'}),\n",
       " frozenset({'HH', 'HT', 'TH'}),\n",
       " frozenset({'HH', 'HT', 'TT'}),\n",
       " frozenset({'HT', 'TH', 'TT'}),\n",
       " frozenset({'HH', 'HT', 'TH', 'TT'})}"
      ]
     },
     "execution_count": 13,
     "metadata": {},
     "output_type": "execute_result"
    }
   ],
   "source": [
    "# 연습문제 5 동전던지기 문제에 대해 파이썬으로 확률을 할당하여 본다\n",
    "a1 = frozenset([])\n",
    "a2 = frozenset([\"HH\"])\n",
    "a3 = frozenset([\"HT\"])\n",
    "a4 = frozenset([\"TH\"])\n",
    "a5 = frozenset([\"TT\"])\n",
    "a6 = frozenset([\"HH\", \"HT\"])\n",
    "a7 = frozenset([\"HH\", \"TH\"])\n",
    "a8 = frozenset([\"HH\", \"TT\"])\n",
    "a9 = frozenset([\"HT\", \"TH\"])\n",
    "a10 = frozenset([\"HT\", \"TT\"])\n",
    "a11 = frozenset([\"TH\", \"TT\"])\n",
    "a12 = frozenset([\"HH\", \"HT\", \"TH\"])\n",
    "a13 = frozenset([\"HH\", \"HT\", \"TT\"])\n",
    "a14 = frozenset([\"HH\", \"TH\", \"TT\"])\n",
    "a15 = frozenset([\"HT\", \"TH\", \"TT\"])\n",
    "a16 = frozenset([\"HH\", \"HT\", \"TH\", \"TT\"])\n",
    "set([a1,a2,a3,a4,a5,a6,a7,a8,a9,a10,a11,a12,a13,a14,a15,a16])"
   ]
  },
  {
   "cell_type": "code",
   "execution_count": 15,
   "metadata": {},
   "outputs": [
    {
     "data": {
      "text/plain": [
       "{frozenset(): 0,\n",
       " frozenset({'HH'}): 0.1,\n",
       " frozenset({'HT'}): 0.2,\n",
       " frozenset({'TH'}): 0.3,\n",
       " frozenset({'TT'}): 0.4,\n",
       " frozenset({'HH', 'HT'}): 0.3,\n",
       " frozenset({'HH', 'TH'}): 0.4,\n",
       " frozenset({'HH', 'TT'}): 0.5,\n",
       " frozenset({'HT', 'TH'}): 0.5,\n",
       " frozenset({'HT', 'TT'}): 0.6,\n",
       " frozenset({'TH', 'TT'}): 0.7,\n",
       " frozenset({'HH', 'HT', 'TH'}): 0.6,\n",
       " frozenset({'HH', 'HT', 'TT'}): 0.7,\n",
       " frozenset({'HH', 'TH', 'TT'}): 0.8,\n",
       " frozenset({'HT', 'TH', 'TT'}): 0.9,\n",
       " frozenset({'HH', 'HT', 'TH', 'TT'}): 1}"
      ]
     },
     "execution_count": 15,
     "metadata": {},
     "output_type": "execute_result"
    }
   ],
   "source": [
    "p_a = {\n",
    "    a1 : 0,\n",
    "    a2 : 0.1,\n",
    "    a3 : 0.2,\n",
    "    a4 : 0.3,\n",
    "    a5 : 0.4,\n",
    "    a6 : 0.3,\n",
    "    a7 : 0.4,\n",
    "    a8 : 0.5,\n",
    "    a9 : 0.5,\n",
    "    a10 : 0.6,\n",
    "    a11 : 0.7,\n",
    "    a12 : 0.6,\n",
    "    a13 : 0.7,\n",
    "    a14 : 0.8,\n",
    "    a15 : 0.9,\n",
    "    a16 : 1,\n",
    "}\n",
    "p_a"
   ]
  },
  {
   "cell_type": "code",
   "execution_count": null,
   "metadata": {},
   "outputs": [],
   "source": []
  },
  {
   "cell_type": "code",
   "execution_count": null,
   "metadata": {},
   "outputs": [],
   "source": []
  },
  {
   "cell_type": "code",
   "execution_count": null,
   "metadata": {},
   "outputs": [],
   "source": []
  }
 ],
 "metadata": {
  "kernelspec": {
   "display_name": "Python 3",
   "language": "python",
   "name": "python3"
  },
  "language_info": {
   "codemirror_mode": {
    "name": "ipython",
    "version": 3
   },
   "file_extension": ".py",
   "mimetype": "text/x-python",
   "name": "python",
   "nbconvert_exporter": "python",
   "pygments_lexer": "ipython3",
   "version": "3.6.4"
  }
 },
 "nbformat": 4,
 "nbformat_minor": 2
}
