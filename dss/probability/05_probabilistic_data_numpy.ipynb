{
 "cells": [
  {
   "cell_type": "markdown",
   "metadata": {},
   "source": [
    "### 확률적 데이터\n",
    "#### 확률적 데이터와 분포 특성\n",
    "**항상 동일한 값이 나오는 데이터를 결정론적 데이터**, **예측할 수 없고 동일하지 않을 수 있는 값이 나오는 데이터를 확률적 데이터**라고 한다. 확률적 데이터에서는 데이터 하나 하나의 값이 아니라 어떤 값이 자주 나오고 어떤 값이 드물게 나오는가하는 특성 즉 데이터 집합의 분포 특성이 중요하다. 여기에서는 데이터 집합의 분포 특성을 나타내는 여러가지 특징값을 알아보자."
   ]
  },
  {
   "cell_type": "markdown",
   "metadata": {},
   "source": [
    "#### 샘플 평균\n",
    "우리가 보통 데이터의 평균(mean, average)라 부르는 값의 정확한 명칭은 샘플 평균(sample mean, sample average)이다. 샘플 평균은 데이터 분포의 대략적인 위치를 나타낸다. 샘플 평균의 기호로는 알파벳 $m$또는 데이터를 나타내는 변수 기호 위에 bar를 붙인 $\\bar x$기호를 사용한다.\n",
    "\n",
    "$$m = \\bar{x} = \\dfrac{1}{N}\\sum_{i=1}^{N} x_i$$\n",
    "\n",
    "이 식에서  $N$는 자료의 갯수, $i=1,⋯,N$는 자료의 순서 혹은 인덱스(index)를 뜻하고,  $x_i$ 는 $i$번째 자료의 값을 뜻한다."
   ]
  },
  {
   "cell_type": "markdown",
   "metadata": {},
   "source": [
    "#### 샘플 중앙값\n",
    "샘플 중앙값(sample median)은 전체 자료를 크기별로 정렬하였을 때 가장 중앙에 위치하게 되는 값을 말한다. 샘플 중앙값은 몇 개의 정의가 존재하지만 많이 쓰이는 정의는 다음과 같다.\n",
    "\n",
    "전체 샘플의 갯수가 $N$인 경우,\n",
    "\n",
    "- N 이 홀수이면: 중간값은 $(n+1)/2$번째 샘플의 값\n",
    "- N 이 짝수이면: 중간값은 $n/2$번째 샘플의 값과 $n/2+1$번째 샘플의 값의 평균"
   ]
  },
  {
   "cell_type": "markdown",
   "metadata": {},
   "source": [
    "#### 샘플 최빈값\n",
    "샘플 최빈값(most frequent value, mode)은 데이터의 값 중 가장 빈번하게 나오는 값을 말한다. 이산 확률 변수의 샘플 데이터에서는 최빈값을 구할 수 있지만 연속 확률 분포의 샘플 데이터에서는 동일한 값이 나올 확률이 0(zero)이므로 최빈값을 구하는 것이 어렵다. 따라서 히스토그램과 같이 일정한 구간을 분할한 다음 각 구간의 대표값을 이용하여 최빈값의 근사치를 구한다."
   ]
  },
  {
   "cell_type": "markdown",
   "metadata": {},
   "source": [
    "#### 파이썬을 사용한 샘플 평균 계산\n",
    "파이썬에서는 다음과 같은 numpy 함수를 사용하여 각종 대표값을 계산할 수 있다.\n",
    "- `mean()` : 샘플 평균\n",
    "- `nanmean()` : NaN값을 제외한 평균\n",
    "- `average()` : 가중평균 계산 가능한 평균\n",
    "- `median()` : 샘플 중앙값\n",
    "- `argmax()` : 히스토그램 명령과 결합하여 각 구간에 들어가는 데이터갯수\n",
    "- `histogram()` : 데이터를 구간으로 나누어 각 구간에 들어가는 데이터갯수"
   ]
  },
  {
   "cell_type": "code",
   "execution_count": 3,
   "metadata": {},
   "outputs": [
    {
     "data": {
      "text/plain": [
       "(-0.045256707490195384, -0.058028034799627745, -0.045256707490195384)"
      ]
     },
     "execution_count": 3,
     "metadata": {},
     "output_type": "execute_result"
    }
   ],
   "source": [
    "np.random.seed(0)\n",
    "x = np.random.normal(size=1000)\n",
    "np.mean(x), np.median(x), np.nanmean(x)"
   ]
  },
  {
   "cell_type": "code",
   "execution_count": 4,
   "metadata": {},
   "outputs": [
    {
     "data": {
      "text/plain": [
       "(array([  0,   0,   0,   0,   0,   0,   6,  54, 247, 426, 213,  52,   2,\n",
       "          0,   0,   0,   0,   0,   0], dtype=int64),\n",
       " array([-10.        ,  -8.94736842,  -7.89473684,  -6.84210526,\n",
       "         -5.78947368,  -4.73684211,  -3.68421053,  -2.63157895,\n",
       "         -1.57894737,  -0.52631579,   0.52631579,   1.57894737,\n",
       "          2.63157895,   3.68421053,   4.73684211,   5.78947368,\n",
       "          6.84210526,   7.89473684,   8.94736842,  10.        ]))"
      ]
     },
     "execution_count": 4,
     "metadata": {},
     "output_type": "execute_result"
    }
   ],
   "source": [
    "ns, bins = np.histogram(x, bins=np.linspace(-10,10,20))\n",
    "ns, bins"
   ]
  },
  {
   "cell_type": "code",
   "execution_count": 6,
   "metadata": {},
   "outputs": [
    {
     "data": {
      "text/plain": [
       "(9, -0.526315789473685, 0.5263157894736832)"
      ]
     },
     "execution_count": 6,
     "metadata": {},
     "output_type": "execute_result"
    }
   ],
   "source": [
    "M = np.argmax(ns)\n",
    "M, bins[M], bins[M+1]"
   ]
  },
  {
   "cell_type": "markdown",
   "metadata": {},
   "source": [
    "#### 연습 문제 1¶\n",
    "1. NumPy를 사용하여 100개의 숫자를 무작위로 생성한 후 히스토그램을 그리고 샘플 평균을 구한다.\n",
    "2. 1번과 같이 100개의 숫자 생성 및 샘플 평균 계산을 50번 반복하여 50개의 샘플 평균을 구한다.\n",
    "3. 2번에서 구한 50개의 샘플 평균의 히스토그램을 그리고 (샘플 평균의) 샘플 평균을 구한다."
   ]
  },
  {
   "cell_type": "code",
   "execution_count": 9,
   "metadata": {},
   "outputs": [
    {
     "data": {
      "text/plain": [
       "(0.5159037626488165,\n",
       " array([0.30736603, 0.96739724, 0.55724459, 0.78149395, 0.57624085,\n",
       "        0.7519101 , 0.49425385, 0.13950608, 0.00236109, 0.8615867 ,\n",
       "        0.86854221, 0.034243  , 0.54726782, 0.44580398, 0.97331762,\n",
       "        0.57466015, 0.2875779 , 0.70699679, 0.15051626, 0.20225699,\n",
       "        0.95592462, 0.88696139, 0.71567925, 0.0932797 , 0.36744243,\n",
       "        0.64230485, 0.52374178, 0.33431196, 0.97045318, 0.96934968,\n",
       "        0.20548985, 0.19301519, 0.54871445, 0.16387566, 0.35488641,\n",
       "        0.40723784, 0.11263245, 0.12879722, 0.50070832, 0.58843938,\n",
       "        0.64755694, 0.08018591, 0.99811534, 0.72005527, 0.0417482 ,\n",
       "        0.3484089 , 0.11683607, 0.53592066, 0.8860767 , 0.94911955,\n",
       "        0.1978653 , 0.96711012, 0.08453175, 0.37184149, 0.56616482,\n",
       "        0.17247173, 0.403713  , 0.43626053, 0.9908179 , 0.04055683,\n",
       "        0.43865462, 0.55478053, 0.70294901, 0.16546058, 0.65248767,\n",
       "        0.1089387 , 0.49725626, 0.6929569 , 0.9937038 , 0.82115732,\n",
       "        0.24368658, 0.52742022, 0.76963648, 0.93859854, 0.86023403,\n",
       "        0.12973935, 0.58932133, 0.11780133, 0.15586929, 0.87920349,\n",
       "        0.95496009, 0.0571885 , 0.52081084, 0.24246   , 0.08259988,\n",
       "        0.9263165 , 0.73357499, 0.87229728, 0.97784393, 0.7353816 ,\n",
       "        0.55289003, 0.96669237, 0.16674826, 0.79112026, 0.79556414,\n",
       "        0.7397652 , 0.89848278, 0.0373932 , 0.09220217, 0.15708237]))"
      ]
     },
     "execution_count": 9,
     "metadata": {},
     "output_type": "execute_result"
    }
   ],
   "source": [
    "x = np.random.rand(100)\n",
    "x.mean(), x"
   ]
  },
  {
   "cell_type": "code",
   "execution_count": 10,
   "metadata": {},
   "outputs": [
    {
     "data": {
      "text/plain": [
       "(array([11., 16.,  5.,  6.,  7., 15.,  4., 12.,  9., 15.]),\n",
       " array([0.00236109, 0.10193652, 0.20151194, 0.30108737, 0.40066279,\n",
       "        0.50023822, 0.59981364, 0.69938907, 0.79896449, 0.89853991,\n",
       "        0.99811534]),\n",
       " <a list of 10 Patch objects>)"
      ]
     },
     "execution_count": 10,
     "metadata": {},
     "output_type": "execute_result"
    },
    {
     "data": {
      "image/png": "[encoded data removed]",
      "text/plain": [
       "<matplotlib.figure.Figure at 0xbc6eb38>"
      ]
     },
     "metadata": {},
     "output_type": "display_data"
    }
   ],
   "source": [
    "%matplotlib inline\n",
    "plt.xlim(0,1)\n",
    "plt.hist(x)"
   ]
  },
  {
   "cell_type": "code",
   "execution_count": 7,
   "metadata": {},
   "outputs": [
    {
     "data": {
      "text/plain": [
       "[0.5327294451075827,\n",
       " 0.5102487866820672,\n",
       " 0.5577001270065547,\n",
       " 0.5022540526272258,\n",
       " 0.4914355658515975,\n",
       " 0.5198676182040093,\n",
       " 0.4592941796344158,\n",
       " 0.49243443401698167,\n",
       " 0.5344732517268138,\n",
       " 0.5282199374025079,\n",
       " 0.4813768326335561,\n",
       " 0.49748571646426376,\n",
       " 0.5318536187757622,\n",
       " 0.5447962438880714,\n",
       " 0.45341166837677627,\n",
       " 0.5158921877284497,\n",
       " 0.4911713020607971,\n",
       " 0.5166180238992586,\n",
       " 0.47749904047475533,\n",
       " 0.5163545610278405,\n",
       " 0.5197330610656342,\n",
       " 0.4991239366076389,\n",
       " 0.4674658613112513,\n",
       " 0.487423676489292,\n",
       " 0.46888245087069363,\n",
       " 0.4602604311871076,\n",
       " 0.4183502575008316,\n",
       " 0.4759542946690511,\n",
       " 0.517898903711338,\n",
       " 0.519118763418778,\n",
       " 0.4639614771909315,\n",
       " 0.5020253626979315,\n",
       " 0.49057368820758557,\n",
       " 0.47725902733556497,\n",
       " 0.4578397226419314,\n",
       " 0.5214991342009379,\n",
       " 0.4493614737363473,\n",
       " 0.5007371394043022,\n",
       " 0.42853999144832683,\n",
       " 0.5503334409613679,\n",
       " 0.49047441011193205,\n",
       " 0.5018747343528029,\n",
       " 0.5563292557403675,\n",
       " 0.4935607480401742,\n",
       " 0.5120442835654871,\n",
       " 0.44782798300363624,\n",
       " 0.46969935375336846,\n",
       " 0.4862592784277979,\n",
       " 0.47741335007886115,\n",
       " 0.5360649669495232]"
      ]
     },
     "execution_count": 7,
     "metadata": {},
     "output_type": "execute_result"
    }
   ],
   "source": [
    "m = []\n",
    "for i in range(50):\n",
    "    samp = np.random.rand(100)\n",
    "    m.append(samp.mean())\n",
    "m"
   ]
  },
  {
   "cell_type": "code",
   "execution_count": 8,
   "metadata": {},
   "outputs": [
    {
     "data": {
      "text/plain": [
       "(array([ 2.,  0.,  5.,  5.,  7., 10.,  5.,  8.,  4.,  4.]),\n",
       " array([0.41835026, 0.43228524, 0.44622023, 0.46015522, 0.47409021,\n",
       "        0.48802519, 0.50196018, 0.51589517, 0.52983015, 0.54376514,\n",
       "        0.55770013]),\n",
       " <a list of 10 Patch objects>)"
      ]
     },
     "execution_count": 8,
     "metadata": {},
     "output_type": "execute_result"
    },
    {
     "data": {
      "image/png": "[encoded data removed]",
      "text/plain": [
       "<Figure size 432x288 with 1 Axes>"
      ]
     },
     "metadata": {},
     "output_type": "display_data"
    }
   ],
   "source": [
    "plt.xlim(0, 1)\n",
    "plt.hist(m)"
   ]
  },
  {
   "cell_type": "code",
   "execution_count": 9,
   "metadata": {},
   "outputs": [
    {
     "data": {
      "text/plain": [
       "0.49606014104540164"
      ]
     },
     "execution_count": 9,
     "metadata": {},
     "output_type": "execute_result"
    }
   ],
   "source": [
    "np.mean(np.array(m))"
   ]
  },
  {
   "cell_type": "markdown",
   "metadata": {},
   "source": [
    "#### 분산과 표준 편차\n",
    "데이터 집합의 특성을 나타내기 위해 사용되는 또다른 특징값으로는 **분산(variance)** 또는 **표준 편차(standard deviation)**이 있다. 평균이나 기댓값이 분포의 위치를 대표하는 것이라면 분산은 분포의 폭(width)을 대표하는 값이다. 표준 편차는 분산에 대한 양의 제곱근(square root)값이다.\n",
    "\n",
    "$$\\text{표준 편차} = \\sqrt{\\text{분산}}$$\n",
    " \n",
    "분산도 평균과 마찬가지로 자료 값 집합에 대한 샘플 분산과 확률 분포에 대한 분산을 정의할 수 있다."
   ]
  },
  {
   "cell_type": "markdown",
   "metadata": {},
   "source": [
    "#### 샘플 분산\n",
    "샘플 분산은 다음처럼 구한다. 식에서 $x_i$는 $N$개의 자료 중 $i$번째의 자료를 나타내고 $m$은 샘플 평균이다.\n",
    "$$s^2 = \\dfrac{1}{N}\\sum_{i=1}^{N} (x_i-m)^2$$"
   ]
  },
  {
   "attachments": {
    "image.png": {
     "image/png": "[encoded data removed]"
    }
   },
   "cell_type": "markdown",
   "metadata": {},
   "source": [
    "![image.png](attachment:image.png)\n",
    "위의 그림에서 볼 수 있듯이 이 식은 자료값과 평균 사이의 거리를 의미한다. 다만 자료값이 평균보다 작을 때는 음수가 나오므로 제곱을 하여 모두 양수로 만들어 준 것이다.\n",
    "\n",
    "위 식에서 구한 샘플 분산은 정확하게 말하면 편향 오차를 가진 편향 샘플 분산(biased sample variance)이다. 이와 대조되는 비편향 샘플 분산(unbiased sample variance)은 다음과 같이 구한다.\n",
    "\n",
    "$$s^2_{\\text{unbiased}} = \\dfrac{1}{N-1}\\sum_{i=1}^{N} (x_i-m)^2$$"
   ]
  },
  {
   "cell_type": "markdown",
   "metadata": {},
   "source": [
    "#### 파이썬을 사용한 샘플 분산 및 샘플 표준 편차의 계산\n",
    "파이썬에서 샘플 분산과 샘플 표준 편차를 구할 때는 다음 함수를 사용한다.\n",
    "\n",
    "- `var()` : 샘플 분산 `ddof`인수가 0일때는 편향 샘플 분산, 1일 때는 비편향 샘플 분산\n",
    "- `std()` : 샘플 표준편차\n",
    "- `nanvar()` : NaN을 제외한 샘플 분산\n",
    "- `nanstd()` : NaN을 제외한 샘플 표준편차"
   ]
  },
  {
   "cell_type": "code",
   "execution_count": 11,
   "metadata": {},
   "outputs": [],
   "source": [
    "sp.random.seed(0)\n",
    "x = sp.stats.norm(0, 2).rvs(1000)  # mean=0, standard deviation=2\n",
    "y = np.random.normal(0, 2, 1000)"
   ]
  },
  {
   "cell_type": "code",
   "execution_count": 15,
   "metadata": {},
   "outputs": [
    {
     "data": {
      "text/plain": [
       "(3.896937825248617, 3.900838663912529, 1.9750540913890255)"
      ]
     },
     "execution_count": 15,
     "metadata": {},
     "output_type": "execute_result"
    }
   ],
   "source": [
    "np.var(x), np.var(x, ddof=1), np.std(x, ddof=1) # ddof=1 비편향 샘플 분산, 표준편차"
   ]
  },
  {
   "cell_type": "code",
   "execution_count": 13,
   "metadata": {},
   "outputs": [
    {
     "data": {
      "text/plain": [
       "(3.749335017131119, 1.9363199676528462)"
      ]
     },
     "execution_count": 13,
     "metadata": {},
     "output_type": "execute_result"
    }
   ],
   "source": [
    "np.var(y), np.std(y)"
   ]
  },
  {
   "cell_type": "markdown",
   "metadata": {},
   "source": [
    "#### 샘플 왜도\n",
    "평균과의 거리의 세제곱을 이용하여 구한 특징값을 **왜도(skewness)**라고 한다. 왜도가 0이면 대칭이므로 왜도는 분포의 대칭성을 알아보는 지표가 된다.\n",
    "\n",
    "$$\\frac{\\tfrac{1}{N} \\sum_{i=1}^N (x_i-\\overline{x})^3}{ \\sqrt{\\tfrac{1}{N-1} \\sum_{i=1}^N (x_i-\\overline{x})^2}^{\\,3}}\n",
    "= \\frac{\\tfrac{1}{N} \\sum_{i=1}^N (x_i-\\overline{x})^3}{\\left[\\tfrac{1}{N-1} \\sum_{i=1}^N (x_i-\\overline{x})^2\\right]^{3/2}}$$"
   ]
  },
  {
   "cell_type": "markdown",
   "metadata": {},
   "source": [
    "#### 샘플 첨도\n",
    "평균과의 거리의 네제곱을 이용하여 구한 특징값을 **첨도(kurtosis)**라고 한다. 첨도는 데이터가 중앙에 몰려있는 정도를 정밀하게 비교하기 위해 쓰인다.\n",
    "\n",
    "$$\\frac{\\tfrac{1}{N} \\sum_{i=1}^N (x_i - \\overline{x})^4}{\\left(\\tfrac{1}{N} \\sum_{i=1}^N (x_i - \\overline{x})^2\\right)^2} - 3$$"
   ]
  },
  {
   "cell_type": "markdown",
   "metadata": {},
   "source": [
    "#### 샘플 모멘트\n",
    "분산, 왜도, 첨도를 구하기 위해 제곱, 세제곱, 네제곱을 하는 것처럼 **더 고차의 제곱을 이용하여 구한 특징값을 모멘트(moment)**라고 한다. $N$제곱을 이용하여 구한 모멘트를  $N$차 모멘트라고 한다. 따라서 평균은 1차 모멘트, 분산은 2차 모멘트이다 왜도와 첨도는 3차 모멘트와 4차 모멘트에서 유도된 값이다.\n",
    "\n",
    "#### 두 확률적 데이터의 비교\n",
    "두 확률적 데이터를 비교할 때는 각각의 데이터 값으로 비교할 수 없고 두 확률적 데이터의 특징값을 사용하여 비교한다. 평균, 분산, 왜도, 첨도까지의 1~4차 모멘트가 같으면 같은 확률적 데이터로 보는 것이 일반적이다."
   ]
  }
 ],
 "metadata": {
  "kernelspec": {
   "display_name": "Python 3",
   "language": "python",
   "name": "python3"
  },
  "language_info": {
   "codemirror_mode": {
    "name": "ipython",
    "version": 3
   },
   "file_extension": ".py",
   "mimetype": "text/x-python",
   "name": "python",
   "nbconvert_exporter": "python",
   "pygments_lexer": "ipython3",
   "version": "3.6.4"
  }
 },
 "nbformat": 4,
 "nbformat_minor": 2
}
