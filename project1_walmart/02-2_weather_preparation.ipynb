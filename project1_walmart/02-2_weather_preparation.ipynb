{
 "cells": [
  {
   "cell_type": "code",
   "execution_count": 113,
   "metadata": {},
   "outputs": [],
   "source": [
    "import numpy as np\n",
    "import pandas as pd\n",
    "from patsy import dmatrix"
   ]
  },
  {
   "cell_type": "code",
   "execution_count": 114,
   "metadata": {},
   "outputs": [],
   "source": [
    "pd.set_option('display.height', 1000)\n",
    "pd.set_option('display.max_rows', 500)\n",
    "pd.set_option('display.max_columns', 500)\n",
    "pd.set_option('display.width', 1000)"
   ]
  },
  {
   "cell_type": "code",
   "execution_count": 115,
   "metadata": {
    "scrolled": true
   },
   "outputs": [
    {
     "data": {
      "text/html": [
       "<div>\n",
       "<style scoped>\n",
       "    .dataframe tbody tr th:only-of-type {\n",
       "        vertical-align: middle;\n",
       "    }\n",
       "\n",
       "    .dataframe tbody tr th {\n",
       "        vertical-align: top;\n",
       "    }\n",
       "\n",
       "    .dataframe thead th {\n",
       "        text-align: right;\n",
       "    }\n",
       "</style>\n",
       "<table border=\"1\" class=\"dataframe\">\n",
       "  <thead>\n",
       "    <tr style=\"text-align: right;\">\n",
       "      <th></th>\n",
       "      <th>station_nbr</th>\n",
       "      <th>date</th>\n",
       "      <th>tmax</th>\n",
       "      <th>tmin</th>\n",
       "      <th>tavg</th>\n",
       "      <th>depart</th>\n",
       "      <th>dewpoint</th>\n",
       "      <th>wetbulb</th>\n",
       "      <th>heat</th>\n",
       "      <th>cool</th>\n",
       "      <th>sunrise</th>\n",
       "      <th>sunset</th>\n",
       "      <th>codesum</th>\n",
       "      <th>snowfall</th>\n",
       "      <th>preciptotal</th>\n",
       "      <th>stnpressure</th>\n",
       "      <th>sealevel</th>\n",
       "      <th>resultspeed</th>\n",
       "      <th>resultdir</th>\n",
       "      <th>avgspeed</th>\n",
       "    </tr>\n",
       "  </thead>\n",
       "  <tbody>\n",
       "    <tr>\n",
       "      <th>0</th>\n",
       "      <td>1</td>\n",
       "      <td>2012-01-01</td>\n",
       "      <td>52</td>\n",
       "      <td>31</td>\n",
       "      <td>42</td>\n",
       "      <td>M</td>\n",
       "      <td>36</td>\n",
       "      <td>40</td>\n",
       "      <td>23</td>\n",
       "      <td>0</td>\n",
       "      <td>-</td>\n",
       "      <td>-</td>\n",
       "      <td>RA FZFG BR</td>\n",
       "      <td>M</td>\n",
       "      <td>0.05</td>\n",
       "      <td>29.78</td>\n",
       "      <td>29.92</td>\n",
       "      <td>3.6</td>\n",
       "      <td>20</td>\n",
       "      <td>4.6</td>\n",
       "    </tr>\n",
       "    <tr>\n",
       "      <th>1</th>\n",
       "      <td>2</td>\n",
       "      <td>2012-01-01</td>\n",
       "      <td>48</td>\n",
       "      <td>33</td>\n",
       "      <td>41</td>\n",
       "      <td>16</td>\n",
       "      <td>37</td>\n",
       "      <td>39</td>\n",
       "      <td>24</td>\n",
       "      <td>0</td>\n",
       "      <td>0716</td>\n",
       "      <td>1626</td>\n",
       "      <td>RA</td>\n",
       "      <td>0.0</td>\n",
       "      <td>0.07</td>\n",
       "      <td>28.82</td>\n",
       "      <td>29.91</td>\n",
       "      <td>9.1</td>\n",
       "      <td>23</td>\n",
       "      <td>11.3</td>\n",
       "    </tr>\n",
       "    <tr>\n",
       "      <th>2</th>\n",
       "      <td>3</td>\n",
       "      <td>2012-01-01</td>\n",
       "      <td>55</td>\n",
       "      <td>34</td>\n",
       "      <td>45</td>\n",
       "      <td>9</td>\n",
       "      <td>24</td>\n",
       "      <td>36</td>\n",
       "      <td>20</td>\n",
       "      <td>0</td>\n",
       "      <td>0735</td>\n",
       "      <td>1720</td>\n",
       "      <td></td>\n",
       "      <td>0.0</td>\n",
       "      <td>0.00</td>\n",
       "      <td>29.77</td>\n",
       "      <td>30.47</td>\n",
       "      <td>9.9</td>\n",
       "      <td>31</td>\n",
       "      <td>10.0</td>\n",
       "    </tr>\n",
       "    <tr>\n",
       "      <th>3</th>\n",
       "      <td>4</td>\n",
       "      <td>2012-01-01</td>\n",
       "      <td>63</td>\n",
       "      <td>47</td>\n",
       "      <td>55</td>\n",
       "      <td>4</td>\n",
       "      <td>28</td>\n",
       "      <td>43</td>\n",
       "      <td>10</td>\n",
       "      <td>0</td>\n",
       "      <td>0728</td>\n",
       "      <td>1742</td>\n",
       "      <td></td>\n",
       "      <td>0.0</td>\n",
       "      <td>0.00</td>\n",
       "      <td>29.79</td>\n",
       "      <td>30.48</td>\n",
       "      <td>8.0</td>\n",
       "      <td>35</td>\n",
       "      <td>8.2</td>\n",
       "    </tr>\n",
       "    <tr>\n",
       "      <th>4</th>\n",
       "      <td>6</td>\n",
       "      <td>2012-01-01</td>\n",
       "      <td>63</td>\n",
       "      <td>34</td>\n",
       "      <td>49</td>\n",
       "      <td>0</td>\n",
       "      <td>31</td>\n",
       "      <td>43</td>\n",
       "      <td>16</td>\n",
       "      <td>0</td>\n",
       "      <td>0727</td>\n",
       "      <td>1742</td>\n",
       "      <td></td>\n",
       "      <td>0.0</td>\n",
       "      <td>0.00</td>\n",
       "      <td>29.95</td>\n",
       "      <td>30.47</td>\n",
       "      <td>14.0</td>\n",
       "      <td>36</td>\n",
       "      <td>13.8</td>\n",
       "    </tr>\n",
       "  </tbody>\n",
       "</table>\n",
       "</div>"
      ],
      "text/plain": [
       "   station_nbr        date tmax tmin tavg depart dewpoint wetbulb heat cool sunrise sunset     codesum snowfall preciptotal stnpressure sealevel resultspeed resultdir avgspeed\n",
       "0            1  2012-01-01   52   31   42      M       36      40   23    0       -      -  RA FZFG BR        M        0.05       29.78    29.92         3.6        20      4.6\n",
       "1            2  2012-01-01   48   33   41     16       37      39   24    0    0716   1626          RA      0.0        0.07       28.82    29.91         9.1        23     11.3\n",
       "2            3  2012-01-01   55   34   45      9       24      36   20    0    0735   1720                  0.0        0.00       29.77    30.47         9.9        31     10.0\n",
       "3            4  2012-01-01   63   47   55      4       28      43   10    0    0728   1742                  0.0        0.00       29.79    30.48         8.0        35      8.2\n",
       "4            6  2012-01-01   63   34   49      0       31      43   16    0    0727   1742                  0.0        0.00       29.95    30.47        14.0        36     13.8"
      ]
     },
     "execution_count": 115,
     "metadata": {},
     "output_type": "execute_result"
    }
   ],
   "source": [
    "# weather 파일 불러오기\n",
    "wthr = pd.read_csv(\"weather.csv\")\n",
    "wthr.head()"
   ]
  },
  {
   "cell_type": "code",
   "execution_count": 116,
   "metadata": {},
   "outputs": [],
   "source": [
    "wthr = wthr.replace(\"M\", np.nan)\n",
    "wthr = wthr.replace(\"-\", np.nan)\n",
    "wthr[\"snowfall\"] = wthr[\"snowfall\"].replace(\"  T\", 0.05)\n",
    "wthr[\"preciptotal\"] = wthr[\"preciptotal\"].replace(\"  T\", 0.005)\n",
    "wthr.to_csv(\"weather_rem.csv\", sep=\",\", index=False)"
   ]
  },
  {
   "cell_type": "markdown",
   "metadata": {},
   "source": [
    "---"
   ]
  },
  {
   "cell_type": "code",
   "execution_count": 117,
   "metadata": {},
   "outputs": [],
   "source": [
    "wthr = pd.read_csv(\"weather_rem.csv\")"
   ]
  },
  {
   "cell_type": "code",
   "execution_count": 118,
   "metadata": {},
   "outputs": [
    {
     "data": {
      "text/plain": [
       "20517"
      ]
     },
     "execution_count": 118,
     "metadata": {},
     "output_type": "execute_result"
    }
   ],
   "source": [
    "len(wthr)"
   ]
  },
  {
   "cell_type": "code",
   "execution_count": 119,
   "metadata": {},
   "outputs": [],
   "source": [
    "# tavg 변수 채우기\n",
    "wthr[\"tavg\"] = round((wthr[\"tmin\"] + wthr[\"tmax\"])/2+0.5, 0)"
   ]
  },
  {
   "cell_type": "code",
   "execution_count": 120,
   "metadata": {},
   "outputs": [],
   "source": [
    "# codesum변수 만들기 nothing, rain, other\n",
    "wthr['codesum'].replace(\"+\", \"\")\n",
    "a = []\n",
    "for i in range(len(wthr['codesum'])):\n",
    "    a.append(wthr.loc[i, 'codesum'].split(\" \"))\n",
    "    for i_text in a[i]:\n",
    "        if len(i_text) == 4:\n",
    "            a[i].append(i_text[:2])\n",
    "            a[i].append(i_text[2:])"
   ]
  },
  {
   "cell_type": "code",
   "execution_count": 121,
   "metadata": {},
   "outputs": [],
   "source": [
    "rain_text = ['FC', 'TS', 'GR', 'RA', 'DZ', 'SN', 'SG', 'GS', 'PL', 'IC', 'FG', 'BR', 'UP', 'FG+']\n",
    "other_text = ['HZ', 'FU', 'VA', 'DU', 'DS', 'PO', 'SA', 'SS', 'PY', 'SQ', 'DR', 'SH', 'FZ', 'MI', 'PR', 'BC', 'BL', 'VC' ]\n",
    "wthr[\"nothing\"] = 1\n",
    "wthr[\"rain\"] = 0\n",
    "wthr[\"other\"] = 0\n",
    "b = -1\n",
    "for ls in a:\n",
    "    b += 1\n",
    "    for text in ls:\n",
    "        if text in rain_text:\n",
    "            wthr.loc[b, 'rain'] = 1\n",
    "            wthr.loc[b, 'nothing'] = 0\n",
    "        elif text in other_text:\n",
    "            wthr.loc[b,'other'] = 1\n",
    "            wthr.loc[b, 'nothing'] = 0 "
   ]
  },
  {
   "cell_type": "code",
   "execution_count": 122,
   "metadata": {},
   "outputs": [],
   "source": [
    "# 날짜데이터 datetime 변환\n",
    "wthr[\"date\"] = pd.to_datetime(wthr[\"date\"])"
   ]
  },
  {
   "cell_type": "code",
   "execution_count": 123,
   "metadata": {},
   "outputs": [],
   "source": [
    "# date 년, 월, 일 columns 추가하기\n",
    "wthr[\"date_y\"] = wthr[\"date\"].dt.year\n",
    "wthr[\"date_m\"] = wthr[\"date\"].dt.month\n",
    "wthr[\"date_d\"] = wthr[\"date\"].dt.day\n",
    "\n",
    "# 요일 columns 추가(monday = 0, sunday = 6), 주말 columns 추가\n",
    "wthr[\"week7\"] = wthr[\"date\"].dt.dayofweek\n",
    "wthr['weekend'] = 0\n",
    "wthr.loc[wthr['week7'] == 5, 'weekend'] = 1\n",
    "wthr.loc[wthr['week7'] == 6, 'weekend'] = 1"
   ]
  },
  {
   "cell_type": "code",
   "execution_count": 124,
   "metadata": {},
   "outputs": [],
   "source": [
    "# 상대습도 계산\n",
    "wthr[\"relative_humility\"] = 100*(np.exp((17.625*((wthr['dewpoint']-32)/1.8))/(243.04+((wthr['dewpoint']-32)/1.8)))/np.exp((17.625*((wthr['tavg']-32)/1.8))/(243.04+((wthr['tavg']-32)/1.8))))"
   ]
  },
  {
   "cell_type": "code",
   "execution_count": 125,
   "metadata": {},
   "outputs": [],
   "source": [
    "# 체감온도 계산\n",
    "wthr[\"windchill\"] = 35.74 + 0.6215*wthr[\"tavg\"] - 35.75*(wthr[\"avgspeed\"]**0.16) + 0.4275*wthr[\"tavg\"]*(wthr[\"avgspeed\"]**0.16)"
   ]
  },
  {
   "cell_type": "code",
   "execution_count": 126,
   "metadata": {},
   "outputs": [],
   "source": [
    "# sunset, sunrise 단위를 분으로 고치기\n",
    "wthr[\"sunrise\"] = ((wthr[\"sunrise\"]// 100 * 60) + (wthr['sunrise'] % 100))\n",
    "wthr[\"sunset\"] = ((wthr['sunset'] // 100 * 60) + (wthr['sunset'] % 100))"
   ]
  },
  {
   "cell_type": "code",
   "execution_count": 127,
   "metadata": {},
   "outputs": [],
   "source": [
    "# daytime 계산\n",
    "wthr[\"daytime\"] = wthr[\"sunset\"] - wthr[\"sunrise\"]"
   ]
  },
  {
   "cell_type": "code",
   "execution_count": 128,
   "metadata": {},
   "outputs": [
    {
     "data": {
      "text/plain": [
       "20517"
      ]
     },
     "execution_count": 128,
     "metadata": {},
     "output_type": "execute_result"
    }
   ],
   "source": [
    "len(wthr)"
   ]
  },
  {
   "cell_type": "code",
   "execution_count": 129,
   "metadata": {},
   "outputs": [],
   "source": [
    "# holiday 변수\n",
    "def getHolidayDates(filepath):\n",
    "\n",
    "    HolidaysFile = open(filepath)\n",
    "    lines = HolidaysFile.readlines()\n",
    "    lines = [line.split(\" \")[:3] for line in lines]\n",
    "    lines = [\"{} {} {}\".format(line[0], line[1], line[2]) for line in lines]\n",
    "    lines = pd.to_datetime(lines)\n",
    "    return pd.DataFrame({\"date\": lines})\n",
    "\n",
    "holidays = getHolidayDates('holidays.txt')\n",
    "holidays[\"holiday\"] = 1"
   ]
  },
  {
   "cell_type": "code",
   "execution_count": 130,
   "metadata": {},
   "outputs": [],
   "source": [
    "wthr = wthr.merge(holidays, how=\"outer\", on=\"date\")"
   ]
  },
  {
   "cell_type": "code",
   "execution_count": 131,
   "metadata": {},
   "outputs": [
    {
     "data": {
      "text/plain": [
       "20522"
      ]
     },
     "execution_count": 131,
     "metadata": {},
     "output_type": "execute_result"
    }
   ],
   "source": [
    "len(wthr)"
   ]
  },
  {
   "cell_type": "code",
   "execution_count": 132,
   "metadata": {},
   "outputs": [],
   "source": [
    "wthr[\"holiday\"] = wthr[\"holiday\"].fillna(0)\n",
    "wthr[\"station_nbr\"] = wthr[\"station_nbr\"].fillna(0)\n",
    "wthr = wthr[wthr[\"station_nbr\"] != 0]"
   ]
  },
  {
   "cell_type": "code",
   "execution_count": 133,
   "metadata": {
    "scrolled": true
   },
   "outputs": [
    {
     "data": {
      "text/plain": [
       "20517"
      ]
     },
     "execution_count": 133,
     "metadata": {},
     "output_type": "execute_result"
    }
   ],
   "source": [
    "len(wthr)"
   ]
  },
  {
   "cell_type": "code",
   "execution_count": 134,
   "metadata": {},
   "outputs": [
    {
     "data": {
      "text/html": [
       "<div>\n",
       "<style scoped>\n",
       "    .dataframe tbody tr th:only-of-type {\n",
       "        vertical-align: middle;\n",
       "    }\n",
       "\n",
       "    .dataframe tbody tr th {\n",
       "        vertical-align: top;\n",
       "    }\n",
       "\n",
       "    .dataframe thead th {\n",
       "        text-align: right;\n",
       "    }\n",
       "</style>\n",
       "<table border=\"1\" class=\"dataframe\">\n",
       "  <thead>\n",
       "    <tr style=\"text-align: right;\">\n",
       "      <th></th>\n",
       "      <th>station_nbr</th>\n",
       "      <th>date</th>\n",
       "      <th>tmax</th>\n",
       "      <th>tmin</th>\n",
       "      <th>tavg</th>\n",
       "      <th>depart</th>\n",
       "      <th>dewpoint</th>\n",
       "      <th>wetbulb</th>\n",
       "      <th>heat</th>\n",
       "      <th>cool</th>\n",
       "      <th>sunrise</th>\n",
       "      <th>sunset</th>\n",
       "      <th>codesum</th>\n",
       "      <th>snowfall</th>\n",
       "      <th>preciptotal</th>\n",
       "      <th>stnpressure</th>\n",
       "      <th>sealevel</th>\n",
       "      <th>resultspeed</th>\n",
       "      <th>resultdir</th>\n",
       "      <th>avgspeed</th>\n",
       "      <th>nothing</th>\n",
       "      <th>rain</th>\n",
       "      <th>other</th>\n",
       "      <th>date_y</th>\n",
       "      <th>date_m</th>\n",
       "      <th>date_d</th>\n",
       "      <th>week7</th>\n",
       "      <th>weekend</th>\n",
       "      <th>relative_humility</th>\n",
       "      <th>windchill</th>\n",
       "      <th>daytime</th>\n",
       "      <th>holiday</th>\n",
       "    </tr>\n",
       "  </thead>\n",
       "  <tbody>\n",
       "    <tr>\n",
       "      <th>20512</th>\n",
       "      <td>16.0</td>\n",
       "      <td>2014-10-31</td>\n",
       "      <td>53.0</td>\n",
       "      <td>34.0</td>\n",
       "      <td>44.0</td>\n",
       "      <td>NaN</td>\n",
       "      <td>35.0</td>\n",
       "      <td>41.0</td>\n",
       "      <td>21.0</td>\n",
       "      <td>0.0</td>\n",
       "      <td>NaN</td>\n",
       "      <td>NaN</td>\n",
       "      <td></td>\n",
       "      <td>NaN</td>\n",
       "      <td>0.00</td>\n",
       "      <td>29.90</td>\n",
       "      <td>29.99</td>\n",
       "      <td>4.5</td>\n",
       "      <td>3.0</td>\n",
       "      <td>5.3</td>\n",
       "      <td>1.0</td>\n",
       "      <td>0.0</td>\n",
       "      <td>0.0</td>\n",
       "      <td>2014.0</td>\n",
       "      <td>10.0</td>\n",
       "      <td>31.0</td>\n",
       "      <td>4.0</td>\n",
       "      <td>0.0</td>\n",
       "      <td>70.432849</td>\n",
       "      <td>40.965367</td>\n",
       "      <td>NaN</td>\n",
       "      <td>1.0</td>\n",
       "    </tr>\n",
       "    <tr>\n",
       "      <th>20513</th>\n",
       "      <td>17.0</td>\n",
       "      <td>2014-10-31</td>\n",
       "      <td>59.0</td>\n",
       "      <td>34.0</td>\n",
       "      <td>47.0</td>\n",
       "      <td>NaN</td>\n",
       "      <td>32.0</td>\n",
       "      <td>41.0</td>\n",
       "      <td>18.0</td>\n",
       "      <td>0.0</td>\n",
       "      <td>NaN</td>\n",
       "      <td>NaN</td>\n",
       "      <td>RA</td>\n",
       "      <td>0.0</td>\n",
       "      <td>0.00</td>\n",
       "      <td>29.72</td>\n",
       "      <td>30.39</td>\n",
       "      <td>9.2</td>\n",
       "      <td>1.0</td>\n",
       "      <td>9.3</td>\n",
       "      <td>0.0</td>\n",
       "      <td>1.0</td>\n",
       "      <td>0.0</td>\n",
       "      <td>2014.0</td>\n",
       "      <td>10.0</td>\n",
       "      <td>31.0</td>\n",
       "      <td>4.0</td>\n",
       "      <td>0.0</td>\n",
       "      <td>55.750138</td>\n",
       "      <td>42.579794</td>\n",
       "      <td>NaN</td>\n",
       "      <td>1.0</td>\n",
       "    </tr>\n",
       "    <tr>\n",
       "      <th>20514</th>\n",
       "      <td>18.0</td>\n",
       "      <td>2014-10-31</td>\n",
       "      <td>67.0</td>\n",
       "      <td>49.0</td>\n",
       "      <td>58.0</td>\n",
       "      <td>-4.0</td>\n",
       "      <td>40.0</td>\n",
       "      <td>50.0</td>\n",
       "      <td>7.0</td>\n",
       "      <td>0.0</td>\n",
       "      <td>404.0</td>\n",
       "      <td>1058.0</td>\n",
       "      <td></td>\n",
       "      <td>0.0</td>\n",
       "      <td>0.00</td>\n",
       "      <td>29.78</td>\n",
       "      <td>30.28</td>\n",
       "      <td>10.6</td>\n",
       "      <td>36.0</td>\n",
       "      <td>11.2</td>\n",
       "      <td>1.0</td>\n",
       "      <td>0.0</td>\n",
       "      <td>0.0</td>\n",
       "      <td>2014.0</td>\n",
       "      <td>10.0</td>\n",
       "      <td>31.0</td>\n",
       "      <td>4.0</td>\n",
       "      <td>0.0</td>\n",
       "      <td>51.057657</td>\n",
       "      <td>55.662463</td>\n",
       "      <td>654.0</td>\n",
       "      <td>1.0</td>\n",
       "    </tr>\n",
       "    <tr>\n",
       "      <th>20515</th>\n",
       "      <td>19.0</td>\n",
       "      <td>2014-10-31</td>\n",
       "      <td>45.0</td>\n",
       "      <td>33.0</td>\n",
       "      <td>40.0</td>\n",
       "      <td>-6.0</td>\n",
       "      <td>24.0</td>\n",
       "      <td>32.0</td>\n",
       "      <td>26.0</td>\n",
       "      <td>0.0</td>\n",
       "      <td>384.0</td>\n",
       "      <td>1006.0</td>\n",
       "      <td>RA SN</td>\n",
       "      <td>0.1</td>\n",
       "      <td>0.02</td>\n",
       "      <td>29.51</td>\n",
       "      <td>30.24</td>\n",
       "      <td>20.4</td>\n",
       "      <td>34.0</td>\n",
       "      <td>20.9</td>\n",
       "      <td>0.0</td>\n",
       "      <td>1.0</td>\n",
       "      <td>0.0</td>\n",
       "      <td>2014.0</td>\n",
       "      <td>10.0</td>\n",
       "      <td>31.0</td>\n",
       "      <td>4.0</td>\n",
       "      <td>0.0</td>\n",
       "      <td>52.475262</td>\n",
       "      <td>30.267917</td>\n",
       "      <td>622.0</td>\n",
       "      <td>1.0</td>\n",
       "    </tr>\n",
       "    <tr>\n",
       "      <th>20516</th>\n",
       "      <td>20.0</td>\n",
       "      <td>2014-10-31</td>\n",
       "      <td>68.0</td>\n",
       "      <td>50.0</td>\n",
       "      <td>60.0</td>\n",
       "      <td>NaN</td>\n",
       "      <td>39.0</td>\n",
       "      <td>50.0</td>\n",
       "      <td>6.0</td>\n",
       "      <td>0.0</td>\n",
       "      <td>NaN</td>\n",
       "      <td>NaN</td>\n",
       "      <td></td>\n",
       "      <td>0.0</td>\n",
       "      <td>0.00</td>\n",
       "      <td>29.57</td>\n",
       "      <td>30.27</td>\n",
       "      <td>10.5</td>\n",
       "      <td>36.0</td>\n",
       "      <td>11.2</td>\n",
       "      <td>1.0</td>\n",
       "      <td>0.0</td>\n",
       "      <td>0.0</td>\n",
       "      <td>2014.0</td>\n",
       "      <td>10.0</td>\n",
       "      <td>31.0</td>\n",
       "      <td>4.0</td>\n",
       "      <td>0.0</td>\n",
       "      <td>45.719851</td>\n",
       "      <td>58.163927</td>\n",
       "      <td>NaN</td>\n",
       "      <td>1.0</td>\n",
       "    </tr>\n",
       "  </tbody>\n",
       "</table>\n",
       "</div>"
      ],
      "text/plain": [
       "       station_nbr       date  tmax  tmin  tavg  depart  dewpoint  wetbulb  heat  cool  sunrise  sunset codesum  snowfall  preciptotal  stnpressure  sealevel  resultspeed  resultdir  avgspeed  nothing  rain  other  date_y  date_m  date_d  week7  weekend  relative_humility  windchill  daytime  holiday\n",
       "20512         16.0 2014-10-31  53.0  34.0  44.0     NaN      35.0     41.0  21.0   0.0      NaN     NaN               NaN         0.00        29.90     29.99          4.5        3.0       5.3      1.0   0.0    0.0  2014.0    10.0    31.0    4.0      0.0          70.432849  40.965367      NaN      1.0\n",
       "20513         17.0 2014-10-31  59.0  34.0  47.0     NaN      32.0     41.0  18.0   0.0      NaN     NaN      RA       0.0         0.00        29.72     30.39          9.2        1.0       9.3      0.0   1.0    0.0  2014.0    10.0    31.0    4.0      0.0          55.750138  42.579794      NaN      1.0\n",
       "20514         18.0 2014-10-31  67.0  49.0  58.0    -4.0      40.0     50.0   7.0   0.0    404.0  1058.0               0.0         0.00        29.78     30.28         10.6       36.0      11.2      1.0   0.0    0.0  2014.0    10.0    31.0    4.0      0.0          51.057657  55.662463    654.0      1.0\n",
       "20515         19.0 2014-10-31  45.0  33.0  40.0    -6.0      24.0     32.0  26.0   0.0    384.0  1006.0   RA SN       0.1         0.02        29.51     30.24         20.4       34.0      20.9      0.0   1.0    0.0  2014.0    10.0    31.0    4.0      0.0          52.475262  30.267917    622.0      1.0\n",
       "20516         20.0 2014-10-31  68.0  50.0  60.0     NaN      39.0     50.0   6.0   0.0      NaN     NaN               0.0         0.00        29.57     30.27         10.5       36.0      11.2      1.0   0.0    0.0  2014.0    10.0    31.0    4.0      0.0          45.719851  58.163927      NaN      1.0"
      ]
     },
     "execution_count": 134,
     "metadata": {},
     "output_type": "execute_result"
    }
   ],
   "source": [
    "wthr.tail()"
   ]
  },
  {
   "cell_type": "code",
   "execution_count": 135,
   "metadata": {},
   "outputs": [],
   "source": [
    "wthr.to_csv(\"weather_adj.csv\", sep=\",\", index=False)"
   ]
  },
  {
   "cell_type": "markdown",
   "metadata": {},
   "source": [
    "---"
   ]
  },
  {
   "cell_type": "code",
   "execution_count": 136,
   "metadata": {},
   "outputs": [],
   "source": [
    "wthr = pd.read_csv(\"weather_adj.csv\")"
   ]
  },
  {
   "cell_type": "code",
   "execution_count": 137,
   "metadata": {},
   "outputs": [
    {
     "data": {
      "text/html": [
       "<div>\n",
       "<style scoped>\n",
       "    .dataframe tbody tr th:only-of-type {\n",
       "        vertical-align: middle;\n",
       "    }\n",
       "\n",
       "    .dataframe tbody tr th {\n",
       "        vertical-align: top;\n",
       "    }\n",
       "\n",
       "    .dataframe thead th {\n",
       "        text-align: right;\n",
       "    }\n",
       "</style>\n",
       "<table border=\"1\" class=\"dataframe\">\n",
       "  <thead>\n",
       "    <tr style=\"text-align: right;\">\n",
       "      <th></th>\n",
       "      <th>date</th>\n",
       "      <th>store_nbr</th>\n",
       "      <th>item_nbr</th>\n",
       "      <th>units</th>\n",
       "    </tr>\n",
       "  </thead>\n",
       "  <tbody>\n",
       "    <tr>\n",
       "      <th>4617595</th>\n",
       "      <td>2014-10-31</td>\n",
       "      <td>45</td>\n",
       "      <td>107</td>\n",
       "      <td>0</td>\n",
       "    </tr>\n",
       "    <tr>\n",
       "      <th>4617596</th>\n",
       "      <td>2014-10-31</td>\n",
       "      <td>45</td>\n",
       "      <td>108</td>\n",
       "      <td>0</td>\n",
       "    </tr>\n",
       "    <tr>\n",
       "      <th>4617597</th>\n",
       "      <td>2014-10-31</td>\n",
       "      <td>45</td>\n",
       "      <td>109</td>\n",
       "      <td>0</td>\n",
       "    </tr>\n",
       "    <tr>\n",
       "      <th>4617598</th>\n",
       "      <td>2014-10-31</td>\n",
       "      <td>45</td>\n",
       "      <td>110</td>\n",
       "      <td>0</td>\n",
       "    </tr>\n",
       "    <tr>\n",
       "      <th>4617599</th>\n",
       "      <td>2014-10-31</td>\n",
       "      <td>45</td>\n",
       "      <td>111</td>\n",
       "      <td>0</td>\n",
       "    </tr>\n",
       "  </tbody>\n",
       "</table>\n",
       "</div>"
      ],
      "text/plain": [
       "               date  store_nbr  item_nbr  units\n",
       "4617595  2014-10-31         45       107      0\n",
       "4617596  2014-10-31         45       108      0\n",
       "4617597  2014-10-31         45       109      0\n",
       "4617598  2014-10-31         45       110      0\n",
       "4617599  2014-10-31         45       111      0"
      ]
     },
     "execution_count": 137,
     "metadata": {},
     "output_type": "execute_result"
    }
   ],
   "source": [
    "train = pd.read_csv(\"train.csv\")\n",
    "train.tail()"
   ]
  },
  {
   "cell_type": "code",
   "execution_count": 138,
   "metadata": {},
   "outputs": [
    {
     "data": {
      "text/html": [
       "<div>\n",
       "<style scoped>\n",
       "    .dataframe tbody tr th:only-of-type {\n",
       "        vertical-align: middle;\n",
       "    }\n",
       "\n",
       "    .dataframe tbody tr th {\n",
       "        vertical-align: top;\n",
       "    }\n",
       "\n",
       "    .dataframe thead th {\n",
       "        text-align: right;\n",
       "    }\n",
       "</style>\n",
       "<table border=\"1\" class=\"dataframe\">\n",
       "  <thead>\n",
       "    <tr style=\"text-align: right;\">\n",
       "      <th></th>\n",
       "      <th>store_nbr</th>\n",
       "      <th>station_nbr</th>\n",
       "    </tr>\n",
       "  </thead>\n",
       "  <tbody>\n",
       "    <tr>\n",
       "      <th>40</th>\n",
       "      <td>41</td>\n",
       "      <td>12</td>\n",
       "    </tr>\n",
       "    <tr>\n",
       "      <th>41</th>\n",
       "      <td>42</td>\n",
       "      <td>14</td>\n",
       "    </tr>\n",
       "    <tr>\n",
       "      <th>42</th>\n",
       "      <td>43</td>\n",
       "      <td>11</td>\n",
       "    </tr>\n",
       "    <tr>\n",
       "      <th>43</th>\n",
       "      <td>44</td>\n",
       "      <td>12</td>\n",
       "    </tr>\n",
       "    <tr>\n",
       "      <th>44</th>\n",
       "      <td>45</td>\n",
       "      <td>16</td>\n",
       "    </tr>\n",
       "  </tbody>\n",
       "</table>\n",
       "</div>"
      ],
      "text/plain": [
       "    store_nbr  station_nbr\n",
       "40         41           12\n",
       "41         42           14\n",
       "42         43           11\n",
       "43         44           12\n",
       "44         45           16"
      ]
     },
     "execution_count": 138,
     "metadata": {},
     "output_type": "execute_result"
    }
   ],
   "source": [
    "key = pd.read_csv(\"key.csv\")\n",
    "key.tail()"
   ]
  },
  {
   "cell_type": "code",
   "execution_count": 139,
   "metadata": {},
   "outputs": [],
   "source": [
    "# key와 train 합치기\n",
    "key_train = pd.merge(key, train, on=\"store_nbr\")"
   ]
  },
  {
   "cell_type": "code",
   "execution_count": 140,
   "metadata": {},
   "outputs": [],
   "source": [
    "# key와 train csv파일 만들기\n",
    "key_train.to_csv(\"key_train.csv\", sep=\",\", index=False)"
   ]
  },
  {
   "cell_type": "code",
   "execution_count": null,
   "metadata": {},
   "outputs": [],
   "source": []
  },
  {
   "cell_type": "code",
   "execution_count": 141,
   "metadata": {},
   "outputs": [],
   "source": [
    "# 전체 merge\n",
    "wthr_df = wthr.merge(key_train, on=(\"date\", \"station_nbr\"))"
   ]
  },
  {
   "cell_type": "code",
   "execution_count": 142,
   "metadata": {},
   "outputs": [
    {
     "data": {
      "text/html": [
       "<div>\n",
       "<style scoped>\n",
       "    .dataframe tbody tr th:only-of-type {\n",
       "        vertical-align: middle;\n",
       "    }\n",
       "\n",
       "    .dataframe tbody tr th {\n",
       "        vertical-align: top;\n",
       "    }\n",
       "\n",
       "    .dataframe thead th {\n",
       "        text-align: right;\n",
       "    }\n",
       "</style>\n",
       "<table border=\"1\" class=\"dataframe\">\n",
       "  <thead>\n",
       "    <tr style=\"text-align: right;\">\n",
       "      <th></th>\n",
       "      <th>station_nbr</th>\n",
       "      <th>date</th>\n",
       "      <th>tmax</th>\n",
       "      <th>tmin</th>\n",
       "      <th>tavg</th>\n",
       "      <th>depart</th>\n",
       "      <th>dewpoint</th>\n",
       "      <th>wetbulb</th>\n",
       "      <th>heat</th>\n",
       "      <th>cool</th>\n",
       "      <th>sunrise</th>\n",
       "      <th>sunset</th>\n",
       "      <th>codesum</th>\n",
       "      <th>snowfall</th>\n",
       "      <th>preciptotal</th>\n",
       "      <th>stnpressure</th>\n",
       "      <th>sealevel</th>\n",
       "      <th>resultspeed</th>\n",
       "      <th>resultdir</th>\n",
       "      <th>avgspeed</th>\n",
       "      <th>nothing</th>\n",
       "      <th>rain</th>\n",
       "      <th>other</th>\n",
       "      <th>date_y</th>\n",
       "      <th>date_m</th>\n",
       "      <th>date_d</th>\n",
       "      <th>week7</th>\n",
       "      <th>weekend</th>\n",
       "      <th>relative_humility</th>\n",
       "      <th>windchill</th>\n",
       "      <th>daytime</th>\n",
       "      <th>holiday</th>\n",
       "      <th>store_nbr</th>\n",
       "      <th>item_nbr</th>\n",
       "      <th>units</th>\n",
       "    </tr>\n",
       "  </thead>\n",
       "  <tbody>\n",
       "    <tr>\n",
       "      <th>4617595</th>\n",
       "      <td>20</td>\n",
       "      <td>2014-10-31</td>\n",
       "      <td>68.0</td>\n",
       "      <td>50.0</td>\n",
       "      <td>60.0</td>\n",
       "      <td>NaN</td>\n",
       "      <td>39.0</td>\n",
       "      <td>50.0</td>\n",
       "      <td>6.0</td>\n",
       "      <td>0.0</td>\n",
       "      <td>NaN</td>\n",
       "      <td>NaN</td>\n",
       "      <td></td>\n",
       "      <td>0.0</td>\n",
       "      <td>0.0</td>\n",
       "      <td>29.57</td>\n",
       "      <td>30.27</td>\n",
       "      <td>10.5</td>\n",
       "      <td>36.0</td>\n",
       "      <td>11.2</td>\n",
       "      <td>1.0</td>\n",
       "      <td>0.0</td>\n",
       "      <td>0.0</td>\n",
       "      <td>2014.0</td>\n",
       "      <td>10.0</td>\n",
       "      <td>31.0</td>\n",
       "      <td>4.0</td>\n",
       "      <td>0.0</td>\n",
       "      <td>45.719851</td>\n",
       "      <td>58.163927</td>\n",
       "      <td>NaN</td>\n",
       "      <td>1.0</td>\n",
       "      <td>17</td>\n",
       "      <td>107</td>\n",
       "      <td>0</td>\n",
       "    </tr>\n",
       "    <tr>\n",
       "      <th>4617596</th>\n",
       "      <td>20</td>\n",
       "      <td>2014-10-31</td>\n",
       "      <td>68.0</td>\n",
       "      <td>50.0</td>\n",
       "      <td>60.0</td>\n",
       "      <td>NaN</td>\n",
       "      <td>39.0</td>\n",
       "      <td>50.0</td>\n",
       "      <td>6.0</td>\n",
       "      <td>0.0</td>\n",
       "      <td>NaN</td>\n",
       "      <td>NaN</td>\n",
       "      <td></td>\n",
       "      <td>0.0</td>\n",
       "      <td>0.0</td>\n",
       "      <td>29.57</td>\n",
       "      <td>30.27</td>\n",
       "      <td>10.5</td>\n",
       "      <td>36.0</td>\n",
       "      <td>11.2</td>\n",
       "      <td>1.0</td>\n",
       "      <td>0.0</td>\n",
       "      <td>0.0</td>\n",
       "      <td>2014.0</td>\n",
       "      <td>10.0</td>\n",
       "      <td>31.0</td>\n",
       "      <td>4.0</td>\n",
       "      <td>0.0</td>\n",
       "      <td>45.719851</td>\n",
       "      <td>58.163927</td>\n",
       "      <td>NaN</td>\n",
       "      <td>1.0</td>\n",
       "      <td>17</td>\n",
       "      <td>108</td>\n",
       "      <td>0</td>\n",
       "    </tr>\n",
       "    <tr>\n",
       "      <th>4617597</th>\n",
       "      <td>20</td>\n",
       "      <td>2014-10-31</td>\n",
       "      <td>68.0</td>\n",
       "      <td>50.0</td>\n",
       "      <td>60.0</td>\n",
       "      <td>NaN</td>\n",
       "      <td>39.0</td>\n",
       "      <td>50.0</td>\n",
       "      <td>6.0</td>\n",
       "      <td>0.0</td>\n",
       "      <td>NaN</td>\n",
       "      <td>NaN</td>\n",
       "      <td></td>\n",
       "      <td>0.0</td>\n",
       "      <td>0.0</td>\n",
       "      <td>29.57</td>\n",
       "      <td>30.27</td>\n",
       "      <td>10.5</td>\n",
       "      <td>36.0</td>\n",
       "      <td>11.2</td>\n",
       "      <td>1.0</td>\n",
       "      <td>0.0</td>\n",
       "      <td>0.0</td>\n",
       "      <td>2014.0</td>\n",
       "      <td>10.0</td>\n",
       "      <td>31.0</td>\n",
       "      <td>4.0</td>\n",
       "      <td>0.0</td>\n",
       "      <td>45.719851</td>\n",
       "      <td>58.163927</td>\n",
       "      <td>NaN</td>\n",
       "      <td>1.0</td>\n",
       "      <td>17</td>\n",
       "      <td>109</td>\n",
       "      <td>0</td>\n",
       "    </tr>\n",
       "    <tr>\n",
       "      <th>4617598</th>\n",
       "      <td>20</td>\n",
       "      <td>2014-10-31</td>\n",
       "      <td>68.0</td>\n",
       "      <td>50.0</td>\n",
       "      <td>60.0</td>\n",
       "      <td>NaN</td>\n",
       "      <td>39.0</td>\n",
       "      <td>50.0</td>\n",
       "      <td>6.0</td>\n",
       "      <td>0.0</td>\n",
       "      <td>NaN</td>\n",
       "      <td>NaN</td>\n",
       "      <td></td>\n",
       "      <td>0.0</td>\n",
       "      <td>0.0</td>\n",
       "      <td>29.57</td>\n",
       "      <td>30.27</td>\n",
       "      <td>10.5</td>\n",
       "      <td>36.0</td>\n",
       "      <td>11.2</td>\n",
       "      <td>1.0</td>\n",
       "      <td>0.0</td>\n",
       "      <td>0.0</td>\n",
       "      <td>2014.0</td>\n",
       "      <td>10.0</td>\n",
       "      <td>31.0</td>\n",
       "      <td>4.0</td>\n",
       "      <td>0.0</td>\n",
       "      <td>45.719851</td>\n",
       "      <td>58.163927</td>\n",
       "      <td>NaN</td>\n",
       "      <td>1.0</td>\n",
       "      <td>17</td>\n",
       "      <td>110</td>\n",
       "      <td>0</td>\n",
       "    </tr>\n",
       "    <tr>\n",
       "      <th>4617599</th>\n",
       "      <td>20</td>\n",
       "      <td>2014-10-31</td>\n",
       "      <td>68.0</td>\n",
       "      <td>50.0</td>\n",
       "      <td>60.0</td>\n",
       "      <td>NaN</td>\n",
       "      <td>39.0</td>\n",
       "      <td>50.0</td>\n",
       "      <td>6.0</td>\n",
       "      <td>0.0</td>\n",
       "      <td>NaN</td>\n",
       "      <td>NaN</td>\n",
       "      <td></td>\n",
       "      <td>0.0</td>\n",
       "      <td>0.0</td>\n",
       "      <td>29.57</td>\n",
       "      <td>30.27</td>\n",
       "      <td>10.5</td>\n",
       "      <td>36.0</td>\n",
       "      <td>11.2</td>\n",
       "      <td>1.0</td>\n",
       "      <td>0.0</td>\n",
       "      <td>0.0</td>\n",
       "      <td>2014.0</td>\n",
       "      <td>10.0</td>\n",
       "      <td>31.0</td>\n",
       "      <td>4.0</td>\n",
       "      <td>0.0</td>\n",
       "      <td>45.719851</td>\n",
       "      <td>58.163927</td>\n",
       "      <td>NaN</td>\n",
       "      <td>1.0</td>\n",
       "      <td>17</td>\n",
       "      <td>111</td>\n",
       "      <td>0</td>\n",
       "    </tr>\n",
       "  </tbody>\n",
       "</table>\n",
       "</div>"
      ],
      "text/plain": [
       "        station_nbr        date  tmax  tmin  tavg  depart  dewpoint  wetbulb  heat  cool  sunrise  sunset codesum  snowfall  preciptotal  stnpressure  sealevel  resultspeed  resultdir  avgspeed  nothing  rain  other  date_y  date_m  date_d  week7  weekend  relative_humility  windchill  daytime  holiday  store_nbr  item_nbr  units\n",
       "4617595          20  2014-10-31  68.0  50.0  60.0     NaN      39.0     50.0   6.0   0.0      NaN     NaN               0.0          0.0        29.57     30.27         10.5       36.0      11.2      1.0   0.0    0.0  2014.0    10.0    31.0    4.0      0.0          45.719851  58.163927      NaN      1.0         17       107      0\n",
       "4617596          20  2014-10-31  68.0  50.0  60.0     NaN      39.0     50.0   6.0   0.0      NaN     NaN               0.0          0.0        29.57     30.27         10.5       36.0      11.2      1.0   0.0    0.0  2014.0    10.0    31.0    4.0      0.0          45.719851  58.163927      NaN      1.0         17       108      0\n",
       "4617597          20  2014-10-31  68.0  50.0  60.0     NaN      39.0     50.0   6.0   0.0      NaN     NaN               0.0          0.0        29.57     30.27         10.5       36.0      11.2      1.0   0.0    0.0  2014.0    10.0    31.0    4.0      0.0          45.719851  58.163927      NaN      1.0         17       109      0\n",
       "4617598          20  2014-10-31  68.0  50.0  60.0     NaN      39.0     50.0   6.0   0.0      NaN     NaN               0.0          0.0        29.57     30.27         10.5       36.0      11.2      1.0   0.0    0.0  2014.0    10.0    31.0    4.0      0.0          45.719851  58.163927      NaN      1.0         17       110      0\n",
       "4617599          20  2014-10-31  68.0  50.0  60.0     NaN      39.0     50.0   6.0   0.0      NaN     NaN               0.0          0.0        29.57     30.27         10.5       36.0      11.2      1.0   0.0    0.0  2014.0    10.0    31.0    4.0      0.0          45.719851  58.163927      NaN      1.0         17       111      0"
      ]
     },
     "execution_count": 142,
     "metadata": {},
     "output_type": "execute_result"
    }
   ],
   "source": [
    "wthr_df.tail()"
   ]
  },
  {
   "cell_type": "code",
   "execution_count": 143,
   "metadata": {},
   "outputs": [],
   "source": [
    "wthr_df.to_csv(\"merge_total_raw.csv\", sep=\",\", index=False)"
   ]
  },
  {
   "cell_type": "markdown",
   "metadata": {},
   "source": [
    "---"
   ]
  },
  {
   "cell_type": "markdown",
   "metadata": {},
   "source": [
    "---"
   ]
  },
  {
   "cell_type": "code",
   "execution_count": 3,
   "metadata": {},
   "outputs": [],
   "source": [
    "total = pd.read_csv(\"merge_total_raw.csv\")"
   ]
  },
  {
   "cell_type": "code",
   "execution_count": 5,
   "metadata": {},
   "outputs": [
    {
     "data": {
      "text/plain": [
       "0.0"
      ]
     },
     "execution_count": 5,
     "metadata": {},
     "output_type": "execute_result"
    }
   ],
   "source": [
    "total[\"preciptotal\"].median()"
   ]
  },
  {
   "cell_type": "code",
   "execution_count": 284,
   "metadata": {},
   "outputs": [],
   "source": [
    "# station으로 분리\n",
    "w_stn_1 = wthr[wthr[\"station_nbr\"] == 1]\n",
    "w_stn_2 = wthr[wthr[\"station_nbr\"] == 2]\n",
    "w_stn_3 = wthr[wthr[\"station_nbr\"] == 3]\n",
    "w_stn_4 = wthr[wthr[\"station_nbr\"] == 4]\n",
    "w_stn_5 = wthr[wthr[\"station_nbr\"] == 5]\n",
    "w_stn_6 = wthr[wthr[\"station_nbr\"] == 6]\n",
    "w_stn_7 = wthr[wthr[\"station_nbr\"] == 7]\n",
    "w_stn_8 = wthr[wthr[\"station_nbr\"] == 8]\n",
    "w_stn_9 = wthr[wthr[\"station_nbr\"] == 9]\n",
    "w_stn_10 = wthr[wthr[\"station_nbr\"] == 10]\n",
    "w_stn_11 = wthr[wthr[\"station_nbr\"] == 11]\n",
    "w_stn_12 = wthr[wthr[\"station_nbr\"] == 12]\n",
    "w_stn_13 = wthr[wthr[\"station_nbr\"] == 13]\n",
    "w_stn_14 = wthr[wthr[\"station_nbr\"] == 14]\n",
    "w_stn_15 = wthr[wthr[\"station_nbr\"] == 15]\n",
    "w_stn_16 = wthr[wthr[\"station_nbr\"] == 16]\n",
    "w_stn_17 = wthr[wthr[\"station_nbr\"] == 17]\n",
    "w_stn_18 = wthr[wthr[\"station_nbr\"] == 18]\n",
    "w_stn_19 = wthr[wthr[\"station_nbr\"] == 19]\n",
    "w_stn_20 = wthr[wthr[\"station_nbr\"] == 20]"
   ]
  },
  {
   "cell_type": "code",
   "execution_count": 285,
   "metadata": {},
   "outputs": [
    {
     "name": "stderr",
     "output_type": "stream",
     "text": [
      "C:\\ProgramData\\Anaconda3\\lib\\site-packages\\pandas\\core\\indexing.py:537: SettingWithCopyWarning: \n",
      "A value is trying to be set on a copy of a slice from a DataFrame.\n",
      "Try using .loc[row_indexer,col_indexer] = value instead\n",
      "\n",
      "See the caveats in the documentation: http://pandas.pydata.org/pandas-docs/stable/indexing.html#indexing-view-versus-copy\n",
      "  self.obj[item] = s\n"
     ]
    }
   ],
   "source": [
    "# sunset, sunrise 채우기\n",
    "ls = [2, 3, 4, 5, 6, 10, 11, 14, 15, 18, 19]\n",
    "w_stn_2.loc[(w_stn_2[\"date_y\"] == 2014) & (w_stn_2[\"date_m\"] == 1), \"sunrise\"] = w_stn_2.loc[(w_stn_2[\"date_y\"] == 2013)\\\n",
    "                                                                                             & (w_stn_2[\"date_m\"] == 1), \"sunrise\"].values\n",
    "w_stn_2.loc[(w_stn_2[\"date_y\"] == 2014) & (w_stn_2[\"date_m\"] == 1), \"sunset\"] = w_stn_2.loc[(w_stn_2[\"date_y\"] == 2013)\\\n",
    "                                                                                             & (w_stn_2[\"date_m\"] == 1), \"sunset\"].values\n",
    "w_stn_3.loc[(w_stn_3[\"date_y\"] == 2014) & (w_stn_3[\"date_m\"] == 1), \"sunrise\"] = w_stn_3.loc[(w_stn_3[\"date_y\"] == 2013)\\\n",
    "                                                                                             & (w_stn_3[\"date_m\"] == 1), \"sunrise\"].values\n",
    "w_stn_3.loc[(w_stn_3[\"date_y\"] == 2014) & (w_stn_3[\"date_m\"] == 1), \"sunset\"] = w_stn_3.loc[(w_stn_3[\"date_y\"] == 2013)\\\n",
    "                                                                                             & (w_stn_3[\"date_m\"] == 1), \"sunset\"].values\n",
    "w_stn_4.loc[(w_stn_4[\"date_y\"] == 2014) & (w_stn_4[\"date_m\"] == 1), \"sunrise\"] = w_stn_4.loc[(w_stn_4[\"date_y\"] == 2013)\\\n",
    "                                                                                             & (w_stn_4[\"date_m\"] == 1), \"sunrise\"].values\n",
    "w_stn_4.loc[(w_stn_4[\"date_y\"] == 2014) & (w_stn_4[\"date_m\"] == 1), \"sunset\"] = w_stn_4.loc[(w_stn_4[\"date_y\"] == 2013)\\\n",
    "                                                                                             & (w_stn_4[\"date_m\"] == 1), \"sunset\"].values\n",
    "w_stn_5.loc[(w_stn_5[\"date_y\"] == 2014) & (w_stn_5[\"date_m\"] == 1), \"sunrise\"] = w_stn_5.loc[(w_stn_5[\"date_y\"] == 2013)\\\n",
    "                                                                                             & (w_stn_5[\"date_m\"] == 1), \"sunrise\"].values\n",
    "w_stn_5.loc[(w_stn_5[\"date_y\"] == 2014) & (w_stn_5[\"date_m\"] == 1), \"sunset\"] = w_stn_5.loc[(w_stn_5[\"date_y\"] == 2013)\\\n",
    "                                                                                             & (w_stn_5[\"date_m\"] == 1), \"sunset\"].values\n",
    "w_stn_6.loc[(w_stn_6[\"date_y\"] == 2014) & (w_stn_6[\"date_m\"] == 1), \"sunrise\"] = w_stn_6.loc[(w_stn_6[\"date_y\"] == 2013)\\\n",
    "                                                                                             & (w_stn_6[\"date_m\"] == 1), \"sunrise\"].values\n",
    "w_stn_6.loc[(w_stn_6[\"date_y\"] == 2014) & (w_stn_6[\"date_m\"] == 1), \"sunset\"] = w_stn_6.loc[(w_stn_6[\"date_y\"] == 2013)\\\n",
    "                                                                                             & (w_stn_6[\"date_m\"] == 1), \"sunset\"].values\n",
    "w_stn_10.loc[(w_stn_10[\"date_y\"] == 2014) & (w_stn_10[\"date_m\"] == 1), \"sunrise\"] = w_stn_10.loc[(w_stn_10[\"date_y\"] == 2013)\\\n",
    "                                                                                             & (w_stn_10[\"date_m\"] == 1), \"sunrise\"].values\n",
    "w_stn_10.loc[(w_stn_10[\"date_y\"] == 2014) & (w_stn_10[\"date_m\"] == 1), \"sunset\"] = w_stn_10.loc[(w_stn_10[\"date_y\"] == 2013)\\\n",
    "                                                                                             & (w_stn_10[\"date_m\"] == 1), \"sunset\"].values\n",
    "w_stn_11.loc[(w_stn_11[\"date_y\"] == 2014) & (w_stn_11[\"date_m\"] == 1), \"sunrise\"] = w_stn_11.loc[(w_stn_11[\"date_y\"] == 2013)\\\n",
    "                                                                                             & (w_stn_11[\"date_m\"] == 1), \"sunrise\"].values\n",
    "w_stn_11.loc[(w_stn_11[\"date_y\"] == 2014) & (w_stn_11[\"date_m\"] == 1), \"sunset\"] = w_stn_11.loc[(w_stn_11[\"date_y\"] == 2013)\\\n",
    "                                                                                             & (w_stn_11[\"date_m\"] == 1), \"sunset\"].values\n",
    "w_stn_14.loc[(w_stn_14[\"date_y\"] == 2014) & (w_stn_14[\"date_m\"] == 1), \"sunrise\"] = w_stn_14.loc[(w_stn_14[\"date_y\"] == 2013)\\\n",
    "                                                                                             & (w_stn_14[\"date_m\"] == 1), \"sunrise\"].values\n",
    "w_stn_14.loc[(w_stn_14[\"date_y\"] == 2014) & (w_stn_14[\"date_m\"] == 1), \"sunset\"] = w_stn_14.loc[(w_stn_14[\"date_y\"] == 2013)\\\n",
    "                                                                                             & (w_stn_14[\"date_m\"] == 1), \"sunset\"].values\n",
    "w_stn_15.loc[(w_stn_15[\"date_y\"] == 2014) & (w_stn_15[\"date_m\"] == 1), \"sunrise\"] = w_stn_15.loc[(w_stn_15[\"date_y\"] == 2013)\\\n",
    "                                                                                             & (w_stn_15[\"date_m\"] == 1), \"sunrise\"].values\n",
    "w_stn_15.loc[(w_stn_15[\"date_y\"] == 2014) & (w_stn_15[\"date_m\"] == 1), \"sunset\"] = w_stn_15.loc[(w_stn_15[\"date_y\"] == 2013)\\\n",
    "                                                                                             & (w_stn_15[\"date_m\"] == 1), \"sunset\"].values\n",
    "w_stn_18.loc[(w_stn_18[\"date_y\"] == 2014) & (w_stn_18[\"date_m\"] == 1), \"sunrise\"] = w_stn_18.loc[(w_stn_18[\"date_y\"] == 2013)\\\n",
    "                                                                                             & (w_stn_18[\"date_m\"] == 1), \"sunrise\"].values\n",
    "w_stn_18.loc[(w_stn_18[\"date_y\"] == 2014) & (w_stn_18[\"date_m\"] == 1), \"sunset\"] = w_stn_18.loc[(w_stn_18[\"date_y\"] == 2013)\\\n",
    "                                                                                             & (w_stn_18[\"date_m\"] == 1), \"sunset\"].values\n",
    "w_stn_19.loc[(w_stn_19[\"date_y\"] == 2014) & (w_stn_19[\"date_m\"] == 1), \"sunrise\"] = w_stn_19.loc[(w_stn_19[\"date_y\"] == 2013)\\\n",
    "                                                                                             & (w_stn_19[\"date_m\"] == 1), \"sunrise\"].values\n",
    "w_stn_19.loc[(w_stn_19[\"date_y\"] == 2014) & (w_stn_19[\"date_m\"] == 1), \"sunset\"] = w_stn_19.loc[(w_stn_19[\"date_y\"] == 2013)\\\n",
    "                                                                                             & (w_stn_19[\"date_m\"] == 1), \"sunset\"].values"
   ]
  },
  {
   "cell_type": "code",
   "execution_count": 286,
   "metadata": {},
   "outputs": [
    {
     "data": {
      "text/html": [
       "<div>\n",
       "<style scoped>\n",
       "    .dataframe tbody tr th:only-of-type {\n",
       "        vertical-align: middle;\n",
       "    }\n",
       "\n",
       "    .dataframe tbody tr th {\n",
       "        vertical-align: top;\n",
       "    }\n",
       "\n",
       "    .dataframe thead th {\n",
       "        text-align: right;\n",
       "    }\n",
       "</style>\n",
       "<table border=\"1\" class=\"dataframe\">\n",
       "  <thead>\n",
       "    <tr style=\"text-align: right;\">\n",
       "      <th></th>\n",
       "      <th>station_nbr</th>\n",
       "      <th>date</th>\n",
       "      <th>tmax</th>\n",
       "      <th>tmin</th>\n",
       "      <th>tavg</th>\n",
       "      <th>tavg_r</th>\n",
       "      <th>depart</th>\n",
       "      <th>dewpoint</th>\n",
       "      <th>wetbulb</th>\n",
       "      <th>heat</th>\n",
       "      <th>cool</th>\n",
       "      <th>sunrise</th>\n",
       "      <th>sunset</th>\n",
       "      <th>codesum</th>\n",
       "      <th>snowfall</th>\n",
       "      <th>preciptotal</th>\n",
       "      <th>stnpressure</th>\n",
       "      <th>sealevel</th>\n",
       "      <th>resultspeed</th>\n",
       "      <th>resultdir</th>\n",
       "      <th>avgspeed</th>\n",
       "      <th>nothing</th>\n",
       "      <th>rain</th>\n",
       "      <th>other</th>\n",
       "      <th>date_y</th>\n",
       "      <th>date_m</th>\n",
       "      <th>date_d</th>\n",
       "      <th>week7</th>\n",
       "      <th>weekend</th>\n",
       "      <th>relative_humility</th>\n",
       "      <th>windchill</th>\n",
       "      <th>daytime</th>\n",
       "      <th>tavg-dew</th>\n",
       "      <th>holiday</th>\n",
       "    </tr>\n",
       "  </thead>\n",
       "  <tbody>\n",
       "    <tr>\n",
       "      <th>20417</th>\n",
       "      <td>1.0</td>\n",
       "      <td>2014-10-27</td>\n",
       "      <td>61.0</td>\n",
       "      <td>41.0</td>\n",
       "      <td>51.0</td>\n",
       "      <td>51.0</td>\n",
       "      <td>NaN</td>\n",
       "      <td>38.0</td>\n",
       "      <td>44.0</td>\n",
       "      <td>14.0</td>\n",
       "      <td>0.0</td>\n",
       "      <td>NaN</td>\n",
       "      <td>NaN</td>\n",
       "      <td></td>\n",
       "      <td>NaN</td>\n",
       "      <td>0.00</td>\n",
       "      <td>29.70</td>\n",
       "      <td>29.89</td>\n",
       "      <td>6.3</td>\n",
       "      <td>27.0</td>\n",
       "      <td>7.3</td>\n",
       "      <td>1.0</td>\n",
       "      <td>0.0</td>\n",
       "      <td>0.0</td>\n",
       "      <td>2014.0</td>\n",
       "      <td>10.0</td>\n",
       "      <td>27.0</td>\n",
       "      <td>0.0</td>\n",
       "      <td>0.0</td>\n",
       "      <td>60.947558</td>\n",
       "      <td>48.266239</td>\n",
       "      <td>NaN</td>\n",
       "      <td>13.0</td>\n",
       "      <td>0.0</td>\n",
       "    </tr>\n",
       "    <tr>\n",
       "      <th>20437</th>\n",
       "      <td>1.0</td>\n",
       "      <td>2014-10-28</td>\n",
       "      <td>65.0</td>\n",
       "      <td>37.0</td>\n",
       "      <td>51.0</td>\n",
       "      <td>51.0</td>\n",
       "      <td>NaN</td>\n",
       "      <td>45.0</td>\n",
       "      <td>48.0</td>\n",
       "      <td>14.0</td>\n",
       "      <td>0.0</td>\n",
       "      <td>NaN</td>\n",
       "      <td>NaN</td>\n",
       "      <td>BR</td>\n",
       "      <td>NaN</td>\n",
       "      <td>0.00</td>\n",
       "      <td>29.86</td>\n",
       "      <td>30.02</td>\n",
       "      <td>1.4</td>\n",
       "      <td>9.0</td>\n",
       "      <td>3.6</td>\n",
       "      <td>0.0</td>\n",
       "      <td>1.0</td>\n",
       "      <td>0.0</td>\n",
       "      <td>2014.0</td>\n",
       "      <td>10.0</td>\n",
       "      <td>28.0</td>\n",
       "      <td>1.0</td>\n",
       "      <td>0.0</td>\n",
       "      <td>79.853021</td>\n",
       "      <td>50.316460</td>\n",
       "      <td>NaN</td>\n",
       "      <td>6.0</td>\n",
       "      <td>0.0</td>\n",
       "    </tr>\n",
       "    <tr>\n",
       "      <th>20457</th>\n",
       "      <td>1.0</td>\n",
       "      <td>2014-10-29</td>\n",
       "      <td>66.0</td>\n",
       "      <td>48.0</td>\n",
       "      <td>57.0</td>\n",
       "      <td>57.0</td>\n",
       "      <td>NaN</td>\n",
       "      <td>51.0</td>\n",
       "      <td>53.0</td>\n",
       "      <td>8.0</td>\n",
       "      <td>0.0</td>\n",
       "      <td>NaN</td>\n",
       "      <td>NaN</td>\n",
       "      <td>RA FG+ FG BR</td>\n",
       "      <td>NaN</td>\n",
       "      <td>0.11</td>\n",
       "      <td>29.70</td>\n",
       "      <td>29.86</td>\n",
       "      <td>2.9</td>\n",
       "      <td>27.0</td>\n",
       "      <td>4.4</td>\n",
       "      <td>0.0</td>\n",
       "      <td>1.0</td>\n",
       "      <td>0.0</td>\n",
       "      <td>2014.0</td>\n",
       "      <td>10.0</td>\n",
       "      <td>29.0</td>\n",
       "      <td>2.0</td>\n",
       "      <td>0.0</td>\n",
       "      <td>80.320545</td>\n",
       "      <td>56.738033</td>\n",
       "      <td>NaN</td>\n",
       "      <td>6.0</td>\n",
       "      <td>0.0</td>\n",
       "    </tr>\n",
       "    <tr>\n",
       "      <th>20477</th>\n",
       "      <td>1.0</td>\n",
       "      <td>2014-10-30</td>\n",
       "      <td>57.0</td>\n",
       "      <td>39.0</td>\n",
       "      <td>48.0</td>\n",
       "      <td>48.0</td>\n",
       "      <td>NaN</td>\n",
       "      <td>39.0</td>\n",
       "      <td>43.0</td>\n",
       "      <td>17.0</td>\n",
       "      <td>0.0</td>\n",
       "      <td>NaN</td>\n",
       "      <td>NaN</td>\n",
       "      <td></td>\n",
       "      <td>NaN</td>\n",
       "      <td>0.00</td>\n",
       "      <td>29.78</td>\n",
       "      <td>29.95</td>\n",
       "      <td>2.1</td>\n",
       "      <td>28.0</td>\n",
       "      <td>3.7</td>\n",
       "      <td>1.0</td>\n",
       "      <td>0.0</td>\n",
       "      <td>0.0</td>\n",
       "      <td>2014.0</td>\n",
       "      <td>10.0</td>\n",
       "      <td>30.0</td>\n",
       "      <td>3.0</td>\n",
       "      <td>0.0</td>\n",
       "      <td>70.872191</td>\n",
       "      <td>46.795606</td>\n",
       "      <td>NaN</td>\n",
       "      <td>9.0</td>\n",
       "      <td>0.0</td>\n",
       "    </tr>\n",
       "    <tr>\n",
       "      <th>20497</th>\n",
       "      <td>1.0</td>\n",
       "      <td>2014-10-31</td>\n",
       "      <td>53.0</td>\n",
       "      <td>40.0</td>\n",
       "      <td>47.0</td>\n",
       "      <td>47.0</td>\n",
       "      <td>NaN</td>\n",
       "      <td>36.0</td>\n",
       "      <td>41.0</td>\n",
       "      <td>18.0</td>\n",
       "      <td>0.0</td>\n",
       "      <td>NaN</td>\n",
       "      <td>NaN</td>\n",
       "      <td></td>\n",
       "      <td>NaN</td>\n",
       "      <td>0.00</td>\n",
       "      <td>29.87</td>\n",
       "      <td>30.03</td>\n",
       "      <td>5.4</td>\n",
       "      <td>4.0</td>\n",
       "      <td>5.8</td>\n",
       "      <td>1.0</td>\n",
       "      <td>0.0</td>\n",
       "      <td>0.0</td>\n",
       "      <td>2014.0</td>\n",
       "      <td>10.0</td>\n",
       "      <td>31.0</td>\n",
       "      <td>4.0</td>\n",
       "      <td>0.0</td>\n",
       "      <td>65.403313</td>\n",
       "      <td>44.207532</td>\n",
       "      <td>NaN</td>\n",
       "      <td>11.0</td>\n",
       "      <td>1.0</td>\n",
       "    </tr>\n",
       "  </tbody>\n",
       "</table>\n",
       "</div>"
      ],
      "text/plain": [
       "       station_nbr        date  tmax  tmin  tavg  tavg_r  depart  dewpoint  wetbulb  heat  cool  sunrise  sunset       codesum  snowfall  preciptotal  stnpressure  sealevel  resultspeed  resultdir  avgspeed  nothing  rain  other  date_y  date_m  date_d  week7  weekend  relative_humility  windchill  daytime  tavg-dew  holiday\n",
       "20417          1.0  2014-10-27  61.0  41.0  51.0    51.0     NaN      38.0     44.0  14.0   0.0      NaN     NaN                     NaN         0.00        29.70     29.89          6.3       27.0       7.3      1.0   0.0    0.0  2014.0    10.0    27.0    0.0      0.0          60.947558  48.266239      NaN      13.0      0.0\n",
       "20437          1.0  2014-10-28  65.0  37.0  51.0    51.0     NaN      45.0     48.0  14.0   0.0      NaN     NaN            BR       NaN         0.00        29.86     30.02          1.4        9.0       3.6      0.0   1.0    0.0  2014.0    10.0    28.0    1.0      0.0          79.853021  50.316460      NaN       6.0      0.0\n",
       "20457          1.0  2014-10-29  66.0  48.0  57.0    57.0     NaN      51.0     53.0   8.0   0.0      NaN     NaN  RA FG+ FG BR       NaN         0.11        29.70     29.86          2.9       27.0       4.4      0.0   1.0    0.0  2014.0    10.0    29.0    2.0      0.0          80.320545  56.738033      NaN       6.0      0.0\n",
       "20477          1.0  2014-10-30  57.0  39.0  48.0    48.0     NaN      39.0     43.0  17.0   0.0      NaN     NaN                     NaN         0.00        29.78     29.95          2.1       28.0       3.7      1.0   0.0    0.0  2014.0    10.0    30.0    3.0      0.0          70.872191  46.795606      NaN       9.0      0.0\n",
       "20497          1.0  2014-10-31  53.0  40.0  47.0    47.0     NaN      36.0     41.0  18.0   0.0      NaN     NaN                     NaN         0.00        29.87     30.03          5.4        4.0       5.8      1.0   0.0    0.0  2014.0    10.0    31.0    4.0      0.0          65.403313  44.207532      NaN      11.0      1.0"
      ]
     },
     "execution_count": 286,
     "metadata": {},
     "output_type": "execute_result"
    }
   ],
   "source": [
    "w_stn_1.tail()"
   ]
  },
  {
   "cell_type": "code",
   "execution_count": 287,
   "metadata": {},
   "outputs": [],
   "source": [
    "stn_1 = w_stn_1.merge(key_train)"
   ]
  },
  {
   "cell_type": "code",
   "execution_count": 56,
   "metadata": {},
   "outputs": [
    {
     "data": {
      "text/html": [
       "<div>\n",
       "<style scoped>\n",
       "    .dataframe tbody tr th:only-of-type {\n",
       "        vertical-align: middle;\n",
       "    }\n",
       "\n",
       "    .dataframe tbody tr th {\n",
       "        vertical-align: top;\n",
       "    }\n",
       "\n",
       "    .dataframe thead th {\n",
       "        text-align: right;\n",
       "    }\n",
       "</style>\n",
       "<table border=\"1\" class=\"dataframe\">\n",
       "  <thead>\n",
       "    <tr style=\"text-align: right;\">\n",
       "      <th></th>\n",
       "      <th>station_nbr</th>\n",
       "      <th>date</th>\n",
       "      <th>tmax</th>\n",
       "      <th>tmin</th>\n",
       "      <th>tavg</th>\n",
       "      <th>tavg_r</th>\n",
       "      <th>depart</th>\n",
       "      <th>dewpoint</th>\n",
       "      <th>wetbulb</th>\n",
       "      <th>heat</th>\n",
       "      <th>cool</th>\n",
       "      <th>sunrise</th>\n",
       "      <th>sunset</th>\n",
       "      <th>codesum</th>\n",
       "      <th>snowfall</th>\n",
       "      <th>preciptotal</th>\n",
       "      <th>stnpressure</th>\n",
       "      <th>sealevel</th>\n",
       "      <th>resultspeed</th>\n",
       "      <th>resultdir</th>\n",
       "      <th>avgspeed</th>\n",
       "      <th>date_y</th>\n",
       "      <th>date_m</th>\n",
       "      <th>date_d</th>\n",
       "      <th>week7</th>\n",
       "      <th>weekend</th>\n",
       "      <th>relative_humility</th>\n",
       "      <th>windchill</th>\n",
       "      <th>daytime</th>\n",
       "      <th>tavg-dew</th>\n",
       "      <th>store_nbr</th>\n",
       "      <th>item_nbr</th>\n",
       "      <th>units</th>\n",
       "    </tr>\n",
       "  </thead>\n",
       "  <tbody>\n",
       "  </tbody>\n",
       "</table>\n",
       "</div>"
      ],
      "text/plain": [
       "Empty DataFrame\n",
       "Columns: [station_nbr, date, tmax, tmin, tavg, tavg_r, depart, dewpoint, wetbulb, heat, cool, sunrise, sunset, codesum, snowfall, preciptotal, stnpressure, sealevel, resultspeed, resultdir, avgspeed, date_y, date_m, date_d, week7, weekend, relative_humility, windchill, daytime, tavg-dew, store_nbr, item_nbr, units]\n",
       "Index: []"
      ]
     },
     "execution_count": 56,
     "metadata": {},
     "output_type": "execute_result"
    }
   ],
   "source": [
    "stn_1"
   ]
  },
  {
   "cell_type": "code",
   "execution_count": null,
   "metadata": {},
   "outputs": [],
   "source": []
  },
  {
   "cell_type": "code",
   "execution_count": null,
   "metadata": {},
   "outputs": [],
   "source": []
  },
  {
   "cell_type": "code",
   "execution_count": 3,
   "metadata": {},
   "outputs": [],
   "source": [
    "r = pd.read_csv(\"key_train.csv\")"
   ]
  },
  {
   "cell_type": "code",
   "execution_count": 5,
   "metadata": {},
   "outputs": [
    {
     "data": {
      "text/html": [
       "<div>\n",
       "<style scoped>\n",
       "    .dataframe tbody tr th:only-of-type {\n",
       "        vertical-align: middle;\n",
       "    }\n",
       "\n",
       "    .dataframe tbody tr th {\n",
       "        vertical-align: top;\n",
       "    }\n",
       "\n",
       "    .dataframe thead th {\n",
       "        text-align: right;\n",
       "    }\n",
       "</style>\n",
       "<table border=\"1\" class=\"dataframe\">\n",
       "  <thead>\n",
       "    <tr style=\"text-align: right;\">\n",
       "      <th></th>\n",
       "      <th>store_nbr</th>\n",
       "      <th>station_nbr</th>\n",
       "      <th>item_nbr</th>\n",
       "      <th>units</th>\n",
       "    </tr>\n",
       "  </thead>\n",
       "  <tbody>\n",
       "    <tr>\n",
       "      <th>store_nbr</th>\n",
       "      <td>1.000000e+00</td>\n",
       "      <td>2.199581e-01</td>\n",
       "      <td>-1.401315e-17</td>\n",
       "      <td>-0.003277</td>\n",
       "    </tr>\n",
       "    <tr>\n",
       "      <th>station_nbr</th>\n",
       "      <td>2.199581e-01</td>\n",
       "      <td>1.000000e+00</td>\n",
       "      <td>-4.222414e-18</td>\n",
       "      <td>0.001433</td>\n",
       "    </tr>\n",
       "    <tr>\n",
       "      <th>item_nbr</th>\n",
       "      <td>-1.401315e-17</td>\n",
       "      <td>-4.222414e-18</td>\n",
       "      <td>1.000000e+00</td>\n",
       "      <td>-0.085440</td>\n",
       "    </tr>\n",
       "    <tr>\n",
       "      <th>units</th>\n",
       "      <td>-3.276535e-03</td>\n",
       "      <td>1.433469e-03</td>\n",
       "      <td>-8.544025e-02</td>\n",
       "      <td>1.000000</td>\n",
       "    </tr>\n",
       "  </tbody>\n",
       "</table>\n",
       "</div>"
      ],
      "text/plain": [
       "                store_nbr   station_nbr      item_nbr     units\n",
       "store_nbr    1.000000e+00  2.199581e-01 -1.401315e-17 -0.003277\n",
       "station_nbr  2.199581e-01  1.000000e+00 -4.222414e-18  0.001433\n",
       "item_nbr    -1.401315e-17 -4.222414e-18  1.000000e+00 -0.085440\n",
       "units       -3.276535e-03  1.433469e-03 -8.544025e-02  1.000000"
      ]
     },
     "execution_count": 5,
     "metadata": {},
     "output_type": "execute_result"
    }
   ],
   "source": [
    "r.corr()"
   ]
  },
  {
   "cell_type": "code",
   "execution_count": 6,
   "metadata": {},
   "outputs": [],
   "source": [
    "%matplotlib inline"
   ]
  },
  {
   "cell_type": "code",
   "execution_count": 7,
   "metadata": {},
   "outputs": [
    {
     "data": {
      "text/plain": [
       "<seaborn.axisgrid.PairGrid at 0xb455e80>"
      ]
     },
     "execution_count": 7,
     "metadata": {},
     "output_type": "execute_result"
    },
    {
     "data": {
      "image/png": "[encoded data removed]",
      "text/plain": [
       "<Figure size 720x720 with 20 Axes>"
      ]
     },
     "metadata": {},
     "output_type": "display_data"
    }
   ],
   "source": [
    "sns.pairplot(r)"
   ]
  },
  {
   "cell_type": "code",
   "execution_count": null,
   "metadata": {},
   "outputs": [],
   "source": []
  },
  {
   "cell_type": "code",
   "execution_count": null,
   "metadata": {},
   "outputs": [],
   "source": []
  },
  {
   "cell_type": "code",
   "execution_count": null,
   "metadata": {},
   "outputs": [],
   "source": []
  },
  {
   "cell_type": "code",
   "execution_count": null,
   "metadata": {},
   "outputs": [],
   "source": []
  },
  {
   "cell_type": "code",
   "execution_count": 116,
   "metadata": {},
   "outputs": [
    {
     "data": {
      "text/html": [
       "<div>\n",
       "<style scoped>\n",
       "    .dataframe tbody tr th:only-of-type {\n",
       "        vertical-align: middle;\n",
       "    }\n",
       "\n",
       "    .dataframe tbody tr th {\n",
       "        vertical-align: top;\n",
       "    }\n",
       "\n",
       "    .dataframe thead th {\n",
       "        text-align: right;\n",
       "    }\n",
       "</style>\n",
       "<table border=\"1\" class=\"dataframe\">\n",
       "  <thead>\n",
       "    <tr style=\"text-align: right;\">\n",
       "      <th></th>\n",
       "      <th>station_nbr</th>\n",
       "      <th>tmax</th>\n",
       "      <th>tmin</th>\n",
       "      <th>tavg</th>\n",
       "      <th>tavg_r</th>\n",
       "      <th>depart</th>\n",
       "      <th>dewpoint</th>\n",
       "      <th>wetbulb</th>\n",
       "      <th>heat</th>\n",
       "      <th>cool</th>\n",
       "      <th>...</th>\n",
       "      <th>date_m</th>\n",
       "      <th>date_d</th>\n",
       "      <th>doweek</th>\n",
       "      <th>weekend</th>\n",
       "      <th>rel_hum</th>\n",
       "      <th>windchill</th>\n",
       "      <th>week7</th>\n",
       "      <th>relative_humility</th>\n",
       "      <th>daytime</th>\n",
       "      <th>tavg-dew</th>\n",
       "    </tr>\n",
       "  </thead>\n",
       "  <tbody>\n",
       "    <tr>\n",
       "      <th>count</th>\n",
       "      <td>1035.0</td>\n",
       "      <td>1035.000000</td>\n",
       "      <td>1035.000000</td>\n",
       "      <td>1035.000000</td>\n",
       "      <td>567.000000</td>\n",
       "      <td>0.0</td>\n",
       "      <td>1035.000000</td>\n",
       "      <td>1035.000000</td>\n",
       "      <td>1021.000000</td>\n",
       "      <td>1000.000000</td>\n",
       "      <td>...</td>\n",
       "      <td>1035.000000</td>\n",
       "      <td>1035.000000</td>\n",
       "      <td>1035.000000</td>\n",
       "      <td>1035.000000</td>\n",
       "      <td>979.000000</td>\n",
       "      <td>1020.000000</td>\n",
       "      <td>1035.000000</td>\n",
       "      <td>979.000000</td>\n",
       "      <td>0.0</td>\n",
       "      <td>979.000000</td>\n",
       "    </tr>\n",
       "    <tr>\n",
       "      <th>mean</th>\n",
       "      <td>8.0</td>\n",
       "      <td>81.696618</td>\n",
       "      <td>60.512560</td>\n",
       "      <td>71.347343</td>\n",
       "      <td>73.268078</td>\n",
       "      <td>NaN</td>\n",
       "      <td>58.920290</td>\n",
       "      <td>63.613527</td>\n",
       "      <td>3.473066</td>\n",
       "      <td>9.777000</td>\n",
       "      <td>...</td>\n",
       "      <td>6.228019</td>\n",
       "      <td>15.731401</td>\n",
       "      <td>2.998068</td>\n",
       "      <td>0.285024</td>\n",
       "      <td>65.970655</td>\n",
       "      <td>73.259945</td>\n",
       "      <td>2.998068</td>\n",
       "      <td>65.970655</td>\n",
       "      <td>NaN</td>\n",
       "      <td>12.327886</td>\n",
       "    </tr>\n",
       "    <tr>\n",
       "      <th>std</th>\n",
       "      <td>0.0</td>\n",
       "      <td>14.105699</td>\n",
       "      <td>14.388193</td>\n",
       "      <td>13.816150</td>\n",
       "      <td>14.387449</td>\n",
       "      <td>NaN</td>\n",
       "      <td>14.706532</td>\n",
       "      <td>12.666566</td>\n",
       "      <td>6.765143</td>\n",
       "      <td>8.884267</td>\n",
       "      <td>...</td>\n",
       "      <td>3.322770</td>\n",
       "      <td>8.805294</td>\n",
       "      <td>2.000966</td>\n",
       "      <td>0.451644</td>\n",
       "      <td>11.380461</td>\n",
       "      <td>16.265676</td>\n",
       "      <td>2.000966</td>\n",
       "      <td>11.380461</td>\n",
       "      <td>NaN</td>\n",
       "      <td>5.003654</td>\n",
       "    </tr>\n",
       "    <tr>\n",
       "      <th>min</th>\n",
       "      <td>8.0</td>\n",
       "      <td>33.000000</td>\n",
       "      <td>19.000000</td>\n",
       "      <td>31.000000</td>\n",
       "      <td>31.000000</td>\n",
       "      <td>NaN</td>\n",
       "      <td>8.000000</td>\n",
       "      <td>25.000000</td>\n",
       "      <td>0.000000</td>\n",
       "      <td>0.000000</td>\n",
       "      <td>...</td>\n",
       "      <td>1.000000</td>\n",
       "      <td>1.000000</td>\n",
       "      <td>0.000000</td>\n",
       "      <td>0.000000</td>\n",
       "      <td>18.285631</td>\n",
       "      <td>22.278129</td>\n",
       "      <td>0.000000</td>\n",
       "      <td>18.285631</td>\n",
       "      <td>NaN</td>\n",
       "      <td>0.000000</td>\n",
       "    </tr>\n",
       "    <tr>\n",
       "      <th>25%</th>\n",
       "      <td>8.0</td>\n",
       "      <td>73.000000</td>\n",
       "      <td>50.000000</td>\n",
       "      <td>61.000000</td>\n",
       "      <td>65.000000</td>\n",
       "      <td>NaN</td>\n",
       "      <td>49.000000</td>\n",
       "      <td>55.000000</td>\n",
       "      <td>0.000000</td>\n",
       "      <td>0.000000</td>\n",
       "      <td>...</td>\n",
       "      <td>3.000000</td>\n",
       "      <td>8.000000</td>\n",
       "      <td>1.000000</td>\n",
       "      <td>0.000000</td>\n",
       "      <td>59.622269</td>\n",
       "      <td>61.564365</td>\n",
       "      <td>1.000000</td>\n",
       "      <td>59.622269</td>\n",
       "      <td>NaN</td>\n",
       "      <td>9.000000</td>\n",
       "    </tr>\n",
       "    <tr>\n",
       "      <th>50%</th>\n",
       "      <td>8.0</td>\n",
       "      <td>84.000000</td>\n",
       "      <td>64.000000</td>\n",
       "      <td>74.000000</td>\n",
       "      <td>77.000000</td>\n",
       "      <td>NaN</td>\n",
       "      <td>63.000000</td>\n",
       "      <td>67.000000</td>\n",
       "      <td>0.000000</td>\n",
       "      <td>9.000000</td>\n",
       "      <td>...</td>\n",
       "      <td>6.000000</td>\n",
       "      <td>16.000000</td>\n",
       "      <td>3.000000</td>\n",
       "      <td>0.000000</td>\n",
       "      <td>66.063649</td>\n",
       "      <td>76.152270</td>\n",
       "      <td>3.000000</td>\n",
       "      <td>66.063649</td>\n",
       "      <td>NaN</td>\n",
       "      <td>12.000000</td>\n",
       "    </tr>\n",
       "    <tr>\n",
       "      <th>75%</th>\n",
       "      <td>8.0</td>\n",
       "      <td>92.000000</td>\n",
       "      <td>73.000000</td>\n",
       "      <td>83.000000</td>\n",
       "      <td>85.000000</td>\n",
       "      <td>NaN</td>\n",
       "      <td>71.000000</td>\n",
       "      <td>75.000000</td>\n",
       "      <td>4.000000</td>\n",
       "      <td>18.000000</td>\n",
       "      <td>...</td>\n",
       "      <td>9.000000</td>\n",
       "      <td>23.000000</td>\n",
       "      <td>5.000000</td>\n",
       "      <td>1.000000</td>\n",
       "      <td>73.423447</td>\n",
       "      <td>86.988609</td>\n",
       "      <td>5.000000</td>\n",
       "      <td>73.423447</td>\n",
       "      <td>NaN</td>\n",
       "      <td>15.000000</td>\n",
       "    </tr>\n",
       "    <tr>\n",
       "      <th>max</th>\n",
       "      <td>8.0</td>\n",
       "      <td>109.000000</td>\n",
       "      <td>81.000000</td>\n",
       "      <td>93.000000</td>\n",
       "      <td>93.000000</td>\n",
       "      <td>NaN</td>\n",
       "      <td>77.000000</td>\n",
       "      <td>80.000000</td>\n",
       "      <td>34.000000</td>\n",
       "      <td>28.000000</td>\n",
       "      <td>...</td>\n",
       "      <td>12.000000</td>\n",
       "      <td>31.000000</td>\n",
       "      <td>6.000000</td>\n",
       "      <td>1.000000</td>\n",
       "      <td>100.000000</td>\n",
       "      <td>99.359560</td>\n",
       "      <td>6.000000</td>\n",
       "      <td>100.000000</td>\n",
       "      <td>NaN</td>\n",
       "      <td>46.000000</td>\n",
       "    </tr>\n",
       "  </tbody>\n",
       "</table>\n",
       "<p>8 rows × 30 columns</p>\n",
       "</div>"
      ],
      "text/plain": [
       "       station_nbr         tmax         tmin         tavg      tavg_r  depart  \\\n",
       "count       1035.0  1035.000000  1035.000000  1035.000000  567.000000     0.0   \n",
       "mean           8.0    81.696618    60.512560    71.347343   73.268078     NaN   \n",
       "std            0.0    14.105699    14.388193    13.816150   14.387449     NaN   \n",
       "min            8.0    33.000000    19.000000    31.000000   31.000000     NaN   \n",
       "25%            8.0    73.000000    50.000000    61.000000   65.000000     NaN   \n",
       "50%            8.0    84.000000    64.000000    74.000000   77.000000     NaN   \n",
       "75%            8.0    92.000000    73.000000    83.000000   85.000000     NaN   \n",
       "max            8.0   109.000000    81.000000    93.000000   93.000000     NaN   \n",
       "\n",
       "          dewpoint      wetbulb         heat         cool     ...      \\\n",
       "count  1035.000000  1035.000000  1021.000000  1000.000000     ...       \n",
       "mean     58.920290    63.613527     3.473066     9.777000     ...       \n",
       "std      14.706532    12.666566     6.765143     8.884267     ...       \n",
       "min       8.000000    25.000000     0.000000     0.000000     ...       \n",
       "25%      49.000000    55.000000     0.000000     0.000000     ...       \n",
       "50%      63.000000    67.000000     0.000000     9.000000     ...       \n",
       "75%      71.000000    75.000000     4.000000    18.000000     ...       \n",
       "max      77.000000    80.000000    34.000000    28.000000     ...       \n",
       "\n",
       "            date_m       date_d       doweek      weekend     rel_hum  \\\n",
       "count  1035.000000  1035.000000  1035.000000  1035.000000  979.000000   \n",
       "mean      6.228019    15.731401     2.998068     0.285024   65.970655   \n",
       "std       3.322770     8.805294     2.000966     0.451644   11.380461   \n",
       "min       1.000000     1.000000     0.000000     0.000000   18.285631   \n",
       "25%       3.000000     8.000000     1.000000     0.000000   59.622269   \n",
       "50%       6.000000    16.000000     3.000000     0.000000   66.063649   \n",
       "75%       9.000000    23.000000     5.000000     1.000000   73.423447   \n",
       "max      12.000000    31.000000     6.000000     1.000000  100.000000   \n",
       "\n",
       "         windchill        week7  relative_humility  daytime    tavg-dew  \n",
       "count  1020.000000  1035.000000         979.000000      0.0  979.000000  \n",
       "mean     73.259945     2.998068          65.970655      NaN   12.327886  \n",
       "std      16.265676     2.000966          11.380461      NaN    5.003654  \n",
       "min      22.278129     0.000000          18.285631      NaN    0.000000  \n",
       "25%      61.564365     1.000000          59.622269      NaN    9.000000  \n",
       "50%      76.152270     3.000000          66.063649      NaN   12.000000  \n",
       "75%      86.988609     5.000000          73.423447      NaN   15.000000  \n",
       "max      99.359560     6.000000         100.000000      NaN   46.000000  \n",
       "\n",
       "[8 rows x 30 columns]"
      ]
     },
     "execution_count": 116,
     "metadata": {},
     "output_type": "execute_result"
    }
   ],
   "source": [
    "a = pd.DataFrame(ls8).T\n",
    "w_stn_8_itp = w_stn_8.copy()\n",
    "w_stn_8_itp.update(a)\n",
    "w_stn_8_itp.describe()"
   ]
  },
  {
   "cell_type": "code",
   "execution_count": null,
   "metadata": {},
   "outputs": [],
   "source": [
    "dic4[itp] = values"
   ]
  },
  {
   "cell_type": "code",
   "execution_count": 128,
   "metadata": {},
   "outputs": [],
   "source": [
    "class he():\n",
    "    def setData(self, obj):\n",
    "        self.obj = obj\n",
    "        self.itp = obj+\"_itp\"\n",
    "        return self.obj, self.itp\n",
    "    \n",
    "    def interPolation(self):\n",
    "        a = self.obj[wthr_itp].interpolate(limit_direction=\"both\")\n",
    "        self.itp = self.obj.copy()\n",
    "        self.itp.update(a)\n",
    "        return self.itp\n",
    "    "
   ]
  },
  {
   "cell_type": "code",
   "execution_count": 129,
   "metadata": {},
   "outputs": [],
   "source": [
    "a = he()"
   ]
  },
  {
   "cell_type": "code",
   "execution_count": 130,
   "metadata": {},
   "outputs": [
    {
     "data": {
      "text/plain": [
       "('w_stn_8', 'w_stn_8_itp')"
      ]
     },
     "execution_count": 130,
     "metadata": {},
     "output_type": "execute_result"
    }
   ],
   "source": [
    "a.setData(\"w_stn_8\")"
   ]
  },
  {
   "cell_type": "code",
   "execution_count": 140,
   "metadata": {
    "scrolled": true
   },
   "outputs": [],
   "source": [
    "def name():\n",
    "    for i in range(5):\n",
    "        \"qwe\"\n",
    "    "
   ]
  },
  {
   "cell_type": "code",
   "execution_count": 141,
   "metadata": {},
   "outputs": [
    {
     "ename": "TypeError",
     "evalue": "unsupported operand type(s) for +: 'NoneType' and 'str'",
     "output_type": "error",
     "traceback": [
      "\u001b[1;31m---------------------------------------------------------------------------\u001b[0m",
      "\u001b[1;31mTypeError\u001b[0m                                 Traceback (most recent call last)",
      "\u001b[1;32m<ipython-input-141-d2b2e751ee86>\u001b[0m in \u001b[0;36m<module>\u001b[1;34m()\u001b[0m\n\u001b[0;32m      1\u001b[0m \u001b[1;32mfor\u001b[0m \u001b[0mi\u001b[0m \u001b[1;32min\u001b[0m \u001b[0mrange\u001b[0m\u001b[1;33m(\u001b[0m\u001b[1;36m3\u001b[0m\u001b[1;33m)\u001b[0m\u001b[1;33m:\u001b[0m\u001b[1;33m\u001b[0m\u001b[0m\n\u001b[1;32m----> 2\u001b[1;33m     \u001b[0mname\u001b[0m\u001b[1;33m(\u001b[0m\u001b[1;33m)\u001b[0m \u001b[1;33m+\u001b[0m \u001b[0mstr\u001b[0m\u001b[1;33m(\u001b[0m\u001b[0mi\u001b[0m\u001b[1;33m)\u001b[0m\u001b[1;33m\u001b[0m\u001b[0m\n\u001b[0m",
      "\u001b[1;31mTypeError\u001b[0m: unsupported operand type(s) for +: 'NoneType' and 'str'"
     ]
    }
   ],
   "source": [
    "for i in range(3):\n",
    "    name() + str(i)"
   ]
  },
  {
   "cell_type": "code",
   "execution_count": null,
   "metadata": {},
   "outputs": [],
   "source": []
  },
  {
   "cell_type": "code",
   "execution_count": null,
   "metadata": {},
   "outputs": [],
   "source": []
  },
  {
   "cell_type": "code",
   "execution_count": null,
   "metadata": {},
   "outputs": [],
   "source": []
  },
  {
   "cell_type": "code",
   "execution_count": 6,
   "metadata": {},
   "outputs": [],
   "source": [
    "a = 1"
   ]
  },
  {
   "cell_type": "code",
   "execution_count": 13,
   "metadata": {},
   "outputs": [],
   "source": [
    "def MyClass():\n",
    "    return a"
   ]
  },
  {
   "cell_type": "code",
   "execution_count": 16,
   "metadata": {},
   "outputs": [
    {
     "data": {
      "text/plain": [
       "1"
      ]
     },
     "execution_count": 16,
     "metadata": {},
     "output_type": "execute_result"
    }
   ],
   "source": [
    "objs = [MyClass() for i in range(10)]\n",
    "\n",
    "objs[0]"
   ]
  },
  {
   "cell_type": "code",
   "execution_count": 18,
   "metadata": {},
   "outputs": [],
   "source": [
    "a= {'q':[2, 3], 'e':[23]}"
   ]
  },
  {
   "cell_type": "code",
   "execution_count": 19,
   "metadata": {},
   "outputs": [
    {
     "data": {
      "text/plain": [
       "{'e': [23], 'q': [2, 3]}"
      ]
     },
     "execution_count": 19,
     "metadata": {},
     "output_type": "execute_result"
    }
   ],
   "source": [
    "b = {'q':}"
   ]
  },
  {
   "cell_type": "code",
   "execution_count": 25,
   "metadata": {},
   "outputs": [],
   "source": [
    "# interpolation 한 것으로 치환\n",
    "w_stn_4_itp = w_stn_4.copy()\n",
    "dic4 = {}\n",
    "for itp, values in zip(wthr_itp, ls4):\n",
    "    dic4[itp] = values\n",
    "w_stn_4_itp.update(pd.DataFrame(dic4))"
   ]
  },
  {
   "cell_type": "code",
   "execution_count": 54,
   "metadata": {},
   "outputs": [],
   "source": [
    "# interpolation 한 것으로 치환\n",
    "w_stn_8_itp = w_stn_8.copy()\n",
    "dic8 = {}\n",
    "for itp, values in zip(wthr_itp, ls8):\n",
    "    dic8[itp] = values\n",
    "w_stn_8_itp.update(pd.DataFrame(dic8))"
   ]
  },
  {
   "cell_type": "code",
   "execution_count": 55,
   "metadata": {},
   "outputs": [
    {
     "data": {
      "text/html": [
       "<div>\n",
       "<style scoped>\n",
       "    .dataframe tbody tr th:only-of-type {\n",
       "        vertical-align: middle;\n",
       "    }\n",
       "\n",
       "    .dataframe tbody tr th {\n",
       "        vertical-align: top;\n",
       "    }\n",
       "\n",
       "    .dataframe thead th {\n",
       "        text-align: right;\n",
       "    }\n",
       "</style>\n",
       "<table border=\"1\" class=\"dataframe\">\n",
       "  <thead>\n",
       "    <tr style=\"text-align: right;\">\n",
       "      <th></th>\n",
       "      <th>station_nbr</th>\n",
       "      <th>tmax</th>\n",
       "      <th>tmin</th>\n",
       "      <th>tavg</th>\n",
       "      <th>tavg_r</th>\n",
       "      <th>depart</th>\n",
       "      <th>dewpoint</th>\n",
       "      <th>wetbulb</th>\n",
       "      <th>heat</th>\n",
       "      <th>cool</th>\n",
       "      <th>...</th>\n",
       "      <th>date_m</th>\n",
       "      <th>date_d</th>\n",
       "      <th>doweek</th>\n",
       "      <th>weekend</th>\n",
       "      <th>rel_hum</th>\n",
       "      <th>windchill</th>\n",
       "      <th>week7</th>\n",
       "      <th>relative_humility</th>\n",
       "      <th>daytime</th>\n",
       "      <th>tavg-dew</th>\n",
       "    </tr>\n",
       "  </thead>\n",
       "  <tbody>\n",
       "    <tr>\n",
       "      <th>count</th>\n",
       "      <td>1035.0</td>\n",
       "      <td>1035.000000</td>\n",
       "      <td>1035.000000</td>\n",
       "      <td>1035.000000</td>\n",
       "      <td>567.000000</td>\n",
       "      <td>0.0</td>\n",
       "      <td>1035.000000</td>\n",
       "      <td>1035.000000</td>\n",
       "      <td>1021.000000</td>\n",
       "      <td>1000.000000</td>\n",
       "      <td>...</td>\n",
       "      <td>1035.000000</td>\n",
       "      <td>1035.000000</td>\n",
       "      <td>1035.000000</td>\n",
       "      <td>1035.000000</td>\n",
       "      <td>979.000000</td>\n",
       "      <td>1020.000000</td>\n",
       "      <td>1035.000000</td>\n",
       "      <td>979.000000</td>\n",
       "      <td>0.0</td>\n",
       "      <td>979.000000</td>\n",
       "    </tr>\n",
       "    <tr>\n",
       "      <th>mean</th>\n",
       "      <td>8.0</td>\n",
       "      <td>81.696618</td>\n",
       "      <td>60.512560</td>\n",
       "      <td>71.347343</td>\n",
       "      <td>73.268078</td>\n",
       "      <td>NaN</td>\n",
       "      <td>58.920290</td>\n",
       "      <td>63.613527</td>\n",
       "      <td>3.473066</td>\n",
       "      <td>9.777000</td>\n",
       "      <td>...</td>\n",
       "      <td>6.228019</td>\n",
       "      <td>15.731401</td>\n",
       "      <td>2.998068</td>\n",
       "      <td>0.285024</td>\n",
       "      <td>65.970655</td>\n",
       "      <td>73.259945</td>\n",
       "      <td>2.998068</td>\n",
       "      <td>65.970655</td>\n",
       "      <td>NaN</td>\n",
       "      <td>12.327886</td>\n",
       "    </tr>\n",
       "    <tr>\n",
       "      <th>std</th>\n",
       "      <td>0.0</td>\n",
       "      <td>14.105699</td>\n",
       "      <td>14.388193</td>\n",
       "      <td>13.816150</td>\n",
       "      <td>14.387449</td>\n",
       "      <td>NaN</td>\n",
       "      <td>14.706532</td>\n",
       "      <td>12.666566</td>\n",
       "      <td>6.765143</td>\n",
       "      <td>8.884267</td>\n",
       "      <td>...</td>\n",
       "      <td>3.322770</td>\n",
       "      <td>8.805294</td>\n",
       "      <td>2.000966</td>\n",
       "      <td>0.451644</td>\n",
       "      <td>11.380461</td>\n",
       "      <td>16.265676</td>\n",
       "      <td>2.000966</td>\n",
       "      <td>11.380461</td>\n",
       "      <td>NaN</td>\n",
       "      <td>5.003654</td>\n",
       "    </tr>\n",
       "    <tr>\n",
       "      <th>min</th>\n",
       "      <td>8.0</td>\n",
       "      <td>33.000000</td>\n",
       "      <td>19.000000</td>\n",
       "      <td>31.000000</td>\n",
       "      <td>31.000000</td>\n",
       "      <td>NaN</td>\n",
       "      <td>8.000000</td>\n",
       "      <td>25.000000</td>\n",
       "      <td>0.000000</td>\n",
       "      <td>0.000000</td>\n",
       "      <td>...</td>\n",
       "      <td>1.000000</td>\n",
       "      <td>1.000000</td>\n",
       "      <td>0.000000</td>\n",
       "      <td>0.000000</td>\n",
       "      <td>18.285631</td>\n",
       "      <td>22.278129</td>\n",
       "      <td>0.000000</td>\n",
       "      <td>18.285631</td>\n",
       "      <td>NaN</td>\n",
       "      <td>0.000000</td>\n",
       "    </tr>\n",
       "    <tr>\n",
       "      <th>25%</th>\n",
       "      <td>8.0</td>\n",
       "      <td>73.000000</td>\n",
       "      <td>50.000000</td>\n",
       "      <td>61.000000</td>\n",
       "      <td>65.000000</td>\n",
       "      <td>NaN</td>\n",
       "      <td>49.000000</td>\n",
       "      <td>55.000000</td>\n",
       "      <td>0.000000</td>\n",
       "      <td>0.000000</td>\n",
       "      <td>...</td>\n",
       "      <td>3.000000</td>\n",
       "      <td>8.000000</td>\n",
       "      <td>1.000000</td>\n",
       "      <td>0.000000</td>\n",
       "      <td>59.622269</td>\n",
       "      <td>61.564365</td>\n",
       "      <td>1.000000</td>\n",
       "      <td>59.622269</td>\n",
       "      <td>NaN</td>\n",
       "      <td>9.000000</td>\n",
       "    </tr>\n",
       "    <tr>\n",
       "      <th>50%</th>\n",
       "      <td>8.0</td>\n",
       "      <td>84.000000</td>\n",
       "      <td>64.000000</td>\n",
       "      <td>74.000000</td>\n",
       "      <td>77.000000</td>\n",
       "      <td>NaN</td>\n",
       "      <td>63.000000</td>\n",
       "      <td>67.000000</td>\n",
       "      <td>0.000000</td>\n",
       "      <td>9.000000</td>\n",
       "      <td>...</td>\n",
       "      <td>6.000000</td>\n",
       "      <td>16.000000</td>\n",
       "      <td>3.000000</td>\n",
       "      <td>0.000000</td>\n",
       "      <td>66.063649</td>\n",
       "      <td>76.152270</td>\n",
       "      <td>3.000000</td>\n",
       "      <td>66.063649</td>\n",
       "      <td>NaN</td>\n",
       "      <td>12.000000</td>\n",
       "    </tr>\n",
       "    <tr>\n",
       "      <th>75%</th>\n",
       "      <td>8.0</td>\n",
       "      <td>92.000000</td>\n",
       "      <td>73.000000</td>\n",
       "      <td>83.000000</td>\n",
       "      <td>85.000000</td>\n",
       "      <td>NaN</td>\n",
       "      <td>71.000000</td>\n",
       "      <td>75.000000</td>\n",
       "      <td>4.000000</td>\n",
       "      <td>18.000000</td>\n",
       "      <td>...</td>\n",
       "      <td>9.000000</td>\n",
       "      <td>23.000000</td>\n",
       "      <td>5.000000</td>\n",
       "      <td>1.000000</td>\n",
       "      <td>73.423447</td>\n",
       "      <td>86.988609</td>\n",
       "      <td>5.000000</td>\n",
       "      <td>73.423447</td>\n",
       "      <td>NaN</td>\n",
       "      <td>15.000000</td>\n",
       "    </tr>\n",
       "    <tr>\n",
       "      <th>max</th>\n",
       "      <td>8.0</td>\n",
       "      <td>109.000000</td>\n",
       "      <td>81.000000</td>\n",
       "      <td>93.000000</td>\n",
       "      <td>93.000000</td>\n",
       "      <td>NaN</td>\n",
       "      <td>77.000000</td>\n",
       "      <td>80.000000</td>\n",
       "      <td>34.000000</td>\n",
       "      <td>28.000000</td>\n",
       "      <td>...</td>\n",
       "      <td>12.000000</td>\n",
       "      <td>31.000000</td>\n",
       "      <td>6.000000</td>\n",
       "      <td>1.000000</td>\n",
       "      <td>100.000000</td>\n",
       "      <td>99.359560</td>\n",
       "      <td>6.000000</td>\n",
       "      <td>100.000000</td>\n",
       "      <td>NaN</td>\n",
       "      <td>46.000000</td>\n",
       "    </tr>\n",
       "  </tbody>\n",
       "</table>\n",
       "<p>8 rows × 30 columns</p>\n",
       "</div>"
      ],
      "text/plain": [
       "       station_nbr         tmax         tmin         tavg      tavg_r  depart  \\\n",
       "count       1035.0  1035.000000  1035.000000  1035.000000  567.000000     0.0   \n",
       "mean           8.0    81.696618    60.512560    71.347343   73.268078     NaN   \n",
       "std            0.0    14.105699    14.388193    13.816150   14.387449     NaN   \n",
       "min            8.0    33.000000    19.000000    31.000000   31.000000     NaN   \n",
       "25%            8.0    73.000000    50.000000    61.000000   65.000000     NaN   \n",
       "50%            8.0    84.000000    64.000000    74.000000   77.000000     NaN   \n",
       "75%            8.0    92.000000    73.000000    83.000000   85.000000     NaN   \n",
       "max            8.0   109.000000    81.000000    93.000000   93.000000     NaN   \n",
       "\n",
       "          dewpoint      wetbulb         heat         cool     ...      \\\n",
       "count  1035.000000  1035.000000  1021.000000  1000.000000     ...       \n",
       "mean     58.920290    63.613527     3.473066     9.777000     ...       \n",
       "std      14.706532    12.666566     6.765143     8.884267     ...       \n",
       "min       8.000000    25.000000     0.000000     0.000000     ...       \n",
       "25%      49.000000    55.000000     0.000000     0.000000     ...       \n",
       "50%      63.000000    67.000000     0.000000     9.000000     ...       \n",
       "75%      71.000000    75.000000     4.000000    18.000000     ...       \n",
       "max      77.000000    80.000000    34.000000    28.000000     ...       \n",
       "\n",
       "            date_m       date_d       doweek      weekend     rel_hum  \\\n",
       "count  1035.000000  1035.000000  1035.000000  1035.000000  979.000000   \n",
       "mean      6.228019    15.731401     2.998068     0.285024   65.970655   \n",
       "std       3.322770     8.805294     2.000966     0.451644   11.380461   \n",
       "min       1.000000     1.000000     0.000000     0.000000   18.285631   \n",
       "25%       3.000000     8.000000     1.000000     0.000000   59.622269   \n",
       "50%       6.000000    16.000000     3.000000     0.000000   66.063649   \n",
       "75%       9.000000    23.000000     5.000000     1.000000   73.423447   \n",
       "max      12.000000    31.000000     6.000000     1.000000  100.000000   \n",
       "\n",
       "         windchill        week7  relative_humility  daytime    tavg-dew  \n",
       "count  1020.000000  1035.000000         979.000000      0.0  979.000000  \n",
       "mean     73.259945     2.998068          65.970655      NaN   12.327886  \n",
       "std      16.265676     2.000966          11.380461      NaN    5.003654  \n",
       "min      22.278129     0.000000          18.285631      NaN    0.000000  \n",
       "25%      61.564365     1.000000          59.622269      NaN    9.000000  \n",
       "50%      76.152270     3.000000          66.063649      NaN   12.000000  \n",
       "75%      86.988609     5.000000          73.423447      NaN   15.000000  \n",
       "max      99.359560     6.000000         100.000000      NaN   46.000000  \n",
       "\n",
       "[8 rows x 30 columns]"
      ]
     },
     "execution_count": 55,
     "metadata": {},
     "output_type": "execute_result"
    }
   ],
   "source": [
    "w_stn_8_itp.describe()"
   ]
  },
  {
   "cell_type": "code",
   "execution_count": 57,
   "metadata": {},
   "outputs": [
    {
     "data": {
      "text/plain": [
       "(71.26274509803922, 71.34734299516909)"
      ]
     },
     "execution_count": 57,
     "metadata": {},
     "output_type": "execute_result"
    }
   ],
   "source": [
    "w_stn_8['tavg'].mean(), w_stn_8_itp['tavg'].mean()"
   ]
  },
  {
   "cell_type": "code",
   "execution_count": 58,
   "metadata": {
    "scrolled": true
   },
   "outputs": [
    {
     "data": {
      "text/plain": [
       "(190.60018087706095, 190.88599255739615)"
      ]
     },
     "execution_count": 58,
     "metadata": {},
     "output_type": "execute_result"
    }
   ],
   "source": [
    "w_stn_8['tavg'].var(), w_stn_8_itp['tavg'].var()"
   ]
  },
  {
   "cell_type": "code",
   "execution_count": 63,
   "metadata": {},
   "outputs": [
    {
     "data": {
      "text/plain": [
       "BartlettResult(statistic=0.000575870912754599, pvalue=0.9808547539753195)"
      ]
     },
     "execution_count": 63,
     "metadata": {},
     "output_type": "execute_result"
    }
   ],
   "source": [
    "# 등분산 검정\n",
    "sp.stats.bartlett(w_stn_8['tavg'].dropna(), w_stn_8_itp['tavg'])"
   ]
  },
  {
   "cell_type": "code",
   "execution_count": 64,
   "metadata": {},
   "outputs": [
    {
     "data": {
      "text/plain": [
       "FlignerResult(statistic=0.0010324161021862612, pvalue=0.9743673963273202)"
      ]
     },
     "execution_count": 64,
     "metadata": {},
     "output_type": "execute_result"
    }
   ],
   "source": [
    "sp.stats.fligner(w_stn_8['tavg'].dropna(), w_stn_8_itp['tavg'])"
   ]
  },
  {
   "cell_type": "code",
   "execution_count": 65,
   "metadata": {},
   "outputs": [
    {
     "data": {
      "text/plain": [
       "LeveneResult(statistic=0.0006738670248349069, pvalue=0.979292604375982)"
      ]
     },
     "execution_count": 65,
     "metadata": {},
     "output_type": "execute_result"
    }
   ],
   "source": [
    "sp.stats.levene(w_stn_8['tavg'].dropna(), w_stn_8_itp['tavg'])"
   ]
  },
  {
   "cell_type": "code",
   "execution_count": 66,
   "metadata": {},
   "outputs": [
    {
     "data": {
      "text/plain": [
       "Ttest_indResult(statistic=-0.13883479509595156, pvalue=0.8895943143209109)"
      ]
     },
     "execution_count": 66,
     "metadata": {},
     "output_type": "execute_result"
    }
   ],
   "source": [
    "# two-sample t-test\n",
    "sp.stats.ttest_ind(w_stn_8['tavg'].dropna(), w_stn_8_itp['tavg'], equal_var=True)"
   ]
  },
  {
   "cell_type": "code",
   "execution_count": 67,
   "metadata": {},
   "outputs": [
    {
     "data": {
      "text/plain": [
       "Ks_2sampResult(statistic=0.00593918726911058, pvalue=1.0000000000000002)"
      ]
     },
     "execution_count": 67,
     "metadata": {},
     "output_type": "execute_result"
    }
   ],
   "source": [
    "# 정규성 검정\n",
    "sp.stats.ks_2samp(w_stn_8['tavg'].dropna(), w_stn_8_itp['tavg'])"
   ]
  },
  {
   "cell_type": "code",
   "execution_count": 68,
   "metadata": {
    "scrolled": true
   },
   "outputs": [
    {
     "data": {
      "text/plain": [
       "NormaltestResult(statistic=78.2562795755462, pvalue=1.0159323813231334e-17)"
      ]
     },
     "execution_count": 68,
     "metadata": {},
     "output_type": "execute_result"
    }
   ],
   "source": [
    "sp.stats.mstats.normaltest(w_stn_8_itp['tavg'])"
   ]
  },
  {
   "cell_type": "code",
   "execution_count": 69,
   "metadata": {},
   "outputs": [
    {
     "data": {
      "text/plain": [
       "BartlettResult(statistic=0.000575870912754599, pvalue=0.9808547539753195)"
      ]
     },
     "execution_count": 69,
     "metadata": {},
     "output_type": "execute_result"
    }
   ],
   "source": [
    "# 등분산 검정\n",
    "sp.stats.bartlett(w_stn_8['tavg'].dropna(), w_stn_8_itp['tavg'])"
   ]
  },
  {
   "cell_type": "code",
   "execution_count": 71,
   "metadata": {},
   "outputs": [
    {
     "data": {
      "text/plain": [
       "FlignerResult(statistic=0.0010324161021862612, pvalue=0.9743673963273202)"
      ]
     },
     "execution_count": 71,
     "metadata": {},
     "output_type": "execute_result"
    }
   ],
   "source": [
    "sp.stats.fligner(w_stn_8['tavg'].dropna(), w_stn_8_itp['tavg'])"
   ]
  },
  {
   "cell_type": "code",
   "execution_count": 72,
   "metadata": {},
   "outputs": [
    {
     "data": {
      "text/plain": [
       "LeveneResult(statistic=0.0006738670248349069, pvalue=0.979292604375982)"
      ]
     },
     "execution_count": 72,
     "metadata": {},
     "output_type": "execute_result"
    }
   ],
   "source": [
    "sp.stats.levene(w_stn_8['tavg'].dropna(), w_stn_8_itp['tavg'])"
   ]
  },
  {
   "cell_type": "code",
   "execution_count": 73,
   "metadata": {},
   "outputs": [
    {
     "data": {
      "text/plain": [
       "Ttest_indResult(statistic=-0.13883479509595156, pvalue=0.8895943143209109)"
      ]
     },
     "execution_count": 73,
     "metadata": {},
     "output_type": "execute_result"
    }
   ],
   "source": [
    "# two-sample t-test\n",
    "sp.stats.ttest_ind(w_stn_8['tavg'].dropna(), w_stn_8_itp['tavg'], equal_var=True)"
   ]
  },
  {
   "cell_type": "code",
   "execution_count": 74,
   "metadata": {},
   "outputs": [
    {
     "data": {
      "text/plain": [
       "Ks_2sampResult(statistic=0.00593918726911058, pvalue=1.0000000000000002)"
      ]
     },
     "execution_count": 74,
     "metadata": {},
     "output_type": "execute_result"
    }
   ],
   "source": [
    "# 정규성 검정\n",
    "sp.stats.ks_2samp(w_stn_8['tavg'].dropna(), w_stn_8_itp['tavg'])"
   ]
  },
  {
   "cell_type": "code",
   "execution_count": 76,
   "metadata": {
    "scrolled": true
   },
   "outputs": [
    {
     "data": {
      "text/plain": [
       "NormaltestResult(statistic=78.2562795755462, pvalue=1.0159323813231334e-17)"
      ]
     },
     "execution_count": 76,
     "metadata": {},
     "output_type": "execute_result"
    }
   ],
   "source": [
    "for i in \n",
    "sp.stats.mstats.normaltest(w_stn_8_itp['tavg'])"
   ]
  },
  {
   "cell_type": "code",
   "execution_count": null,
   "metadata": {},
   "outputs": [],
   "source": []
  },
  {
   "cell_type": "code",
   "execution_count": null,
   "metadata": {},
   "outputs": [],
   "source": []
  },
  {
   "cell_type": "code",
   "execution_count": null,
   "metadata": {},
   "outputs": [],
   "source": []
  },
  {
   "cell_type": "code",
   "execution_count": 92,
   "metadata": {},
   "outputs": [
    {
     "data": {
      "text/plain": [
       "Ks_2sampResult(statistic=0.2866731203614069, pvalue=0.012894289242984016)"
      ]
     },
     "execution_count": 92,
     "metadata": {},
     "output_type": "execute_result"
    }
   ],
   "source": [
    "# 정규성 검정\n",
    "sp.stats.ks_2samp(w_stn_5['tavg'].dropna(), w_stn_3['tavg'].dropna())"
   ]
  },
  {
   "cell_type": "code",
   "execution_count": 102,
   "metadata": {},
   "outputs": [
    {
     "data": {
      "text/plain": [
       "Ks_2sampResult(statistic=0.29151339141658605, pvalue=0.010859214691274894)"
      ]
     },
     "execution_count": 102,
     "metadata": {},
     "output_type": "execute_result"
    }
   ],
   "source": [
    "sp.stats.ks_2samp(w_stn_5['tavg'].dropna(), w_stn_14['tavg'].dropna())"
   ]
  },
  {
   "cell_type": "code",
   "execution_count": 130,
   "metadata": {},
   "outputs": [
    {
     "data": {
      "text/plain": [
       "Ks_2sampResult(statistic=0.28581560283687946, pvalue=0.01328696049769816)"
      ]
     },
     "execution_count": 130,
     "metadata": {},
     "output_type": "execute_result"
    }
   ],
   "source": [
    "sp.stats.ks_2samp(w_stn_5['tavg'].dropna(), w_stn_17['tavg'].dropna())"
   ]
  },
  {
   "cell_type": "code",
   "execution_count": null,
   "metadata": {},
   "outputs": [],
   "source": [
    "%matplotlib inline"
   ]
  },
  {
   "cell_type": "code",
   "execution_count": 126,
   "metadata": {},
   "outputs": [],
   "source": [
    "def elim_na(obj, *args):\n",
    "    a = obj[list(args)].dropna()\n",
    "    return a"
   ]
  },
  {
   "cell_type": "code",
   "execution_count": null,
   "metadata": {},
   "outputs": [],
   "source": []
  },
  {
   "cell_type": "code",
   "execution_count": null,
   "metadata": {},
   "outputs": [],
   "source": []
  },
  {
   "cell_type": "code",
   "execution_count": null,
   "metadata": {},
   "outputs": [],
   "source": []
  }
 ],
 "metadata": {
  "kernelspec": {
   "display_name": "Python 3",
   "language": "python",
   "name": "python3"
  },
  "language_info": {
   "codemirror_mode": {
    "name": "ipython",
    "version": 3
   },
   "file_extension": ".py",
   "mimetype": "text/x-python",
   "name": "python",
   "nbconvert_exporter": "python",
   "pygments_lexer": "ipython3",
   "version": "3.6.4"
  }
 },
 "nbformat": 4,
 "nbformat_minor": 2
}
