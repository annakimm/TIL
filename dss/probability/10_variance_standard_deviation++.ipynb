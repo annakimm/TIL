{
 "cells": [
  {
   "cell_type": "markdown",
   "metadata": {},
   "source": [
    "중요!\n",
    "\n",
    "- 샘플평균의 분산\n",
    "$$ \\text{Var}[\\bar{X}] = \\dfrac{1}{N} \\text{Var}[{X}]  $$\n",
    "\n",
    "$$ \\text{S}^2 = \\dfrac{\\sigma^2}{N}$$\n",
    "- 샘플 평균과 확률 변수 기댓값의 근사\n",
    "**$$E[X] = E[\\bar{X}] \\approx \\bar{X}$$**\n",
    "\n",
    "- 샘플분산의 기대값\n",
    "$$\n",
    "\\text{E}[S^2] = \\dfrac{N-1}{N}\\sigma^2 \n",
    "$$\n",
    "\n",
    "$$\n",
    "\\text{E}[Var[\\bar{X}]] = \\dfrac{N-1}{N}Var[X]$$\n",
    "$$\n",
    "\\text{E} \\left[ S^2_{\\text{unbiased}} \\right] = \\sigma^2 \n",
    "$$\n",
    "\n",
    "확률변수에서 뽑은 샘플평균이 나올 수 있는 범위는 $N$이 커질 수록 확률변수의 범위보다 작아지지만 기대값 즉, 가장 많이 나오는 값은 $\\sigma^2$와 같다?"
   ]
  },
  {
   "cell_type": "markdown",
   "metadata": {},
   "source": [
    "# 분산과 표준 편차\n",
    "\n",
    "## 확률 분포의 분산\n",
    "\n",
    " 확률 밀도 함수 $f(x)$의 수식을 알고 있다면 다음처럼 이론적인 분산을 구할 수 있다. 데이터와 기대값의 거리제곱 기대값으로 구한다.\n",
    "분산을 구하는 연산자는 영어 Variance를 따서 $\\text{Var}[\\cdot]$로 표기하고 이 연산자로 계산된 분산값은 $\\sigma^2$으로 표기한다.\n",
    "\n",
    "$$ \\sigma^2 = \\text{Var}[X] = \\text{E}[(X - \\mu)^2] $$"
   ]
  },
  {
   "cell_type": "markdown",
   "metadata": {
    "school_cell_uuid": "0de91e0e69b440528295c75a9d114b20"
   },
   "source": [
    "이산 확률 변수의 경우에는 확률 질량 함수 $P(x)$를 사용하여 분산을 구한다.\n",
    "\n",
    "$$ \\sigma^2 = \\text{Var}[X] = \\text{E}[(X - \\mu)^2] =  \\sum_{x_i \\in \\Omega} (x_i - \\mu)^2 P(x_i)$$"
   ]
  },
  {
   "cell_type": "markdown",
   "metadata": {
    "school_cell_uuid": "51f1e2ec130d4593be6703c39b5e8f31"
   },
   "source": [
    "연속 확률 변수의 경우에는 확률 밀도 함수 $f(x)$를 사용하여 분산을 구한다.\n",
    "\n",
    "$$ \\sigma^2 = \\text{Var}[X] = \\text{E}[(X - \\mu)^2] = \\int_{-\\infty}^{\\infty} (x - \\mu)^2 f(x)dx$$"
   ]
  },
  {
   "cell_type": "markdown",
   "metadata": {
    "school_cell_uuid": "824871d3a8fc45b0b38fb5dd8816fa97"
   },
   "source": [
    "즉, 분산은 평균으로부터 데이터까지의 거리 제곱을 확률 $P(x)$ 또는 확률 밀도 $f(x)$를 가중치로 하여 평균한 것으로 볼 수 있다."
   ]
  },
  {
   "cell_type": "markdown",
   "metadata": {
    "school_cell_uuid": "83122e7d28614c6da0e6aea9248fd65d"
   },
   "source": [
    "## 분산의 성질"
   ]
  },
  {
   "cell_type": "markdown",
   "metadata": {
    "school_cell_uuid": "f07c23283f4042ae8fbfa3a1e77e5fb4"
   },
   "source": [
    "분산은 다음과 같은 성질을 만족한다.\n",
    "\n",
    "\n",
    "* 0 또는 양수\n",
    "$$ \\text{Var}[X] \\geq 0 $$\n",
    "\n",
    "* 랜덤 변수가 아닌 상수 값 $c$에 대해 \n",
    "$$ \\text{Var}[c] = 0 $$\n",
    "$$ \\text{Var}[cX] = c^2 \\text{Var}[X] $$\n"
   ]
  },
  {
   "cell_type": "markdown",
   "metadata": {
    "school_cell_uuid": "a37af451f57146e3a3777415e8f14d93"
   },
   "source": [
    "또한 기댓값의 성질을 이용하여 다음 성질을 증명할 수 있다.\n",
    "\n",
    "$$ \\text{Var}[X] = \\text{E}[X^2] - (\\text{E}[X])^2  = \\text{E}[X^2] - \\mu^2 $$\n",
    "\n",
    "또는\n",
    "\n",
    "$$ \\text{E}[X^2] = \\mu^2 + \\text{Var}[X] $$"
   ]
  },
  {
   "cell_type": "markdown",
   "metadata": {
    "school_cell_uuid": "89a376f431b7478b973507cbf7e0ba2f"
   },
   "source": [
    "(증명)\n",
    "\n",
    "$$ \n",
    "\\begin{eqnarray}\n",
    "\\text{Var}[X] \n",
    "&=& \\text{E}[(X - \\mu)^2] \\\\\n",
    "&=& \\text{E}[X^2 - 2\\mu X + \\mu^2] \\\\\n",
    "&=& \\text{E}[X^2] - 2\\mu\\text{E}[X] + \\mu^2 \\\\\n",
    "&=& \\text{E}[X^2] - 2\\mu^2 + \\mu^2 \\\\\n",
    "&=& \\text{E}[X^2] - \\mu^2\\\\\n",
    "\\end{eqnarray}\n",
    "$$"
   ]
  },
  {
   "cell_type": "markdown",
   "metadata": {
    "school_cell_uuid": "6f3ee68516494ae9bfa0603a3777e2f4"
   },
   "source": [
    "## 두 확률 변수의 합의 분산 - 분산의 덧셈법칙"
   ]
  },
  {
   "cell_type": "markdown",
   "metadata": {
    "school_cell_uuid": "c3c711c4d095448f995222d1494754ed"
   },
   "source": [
    "두 확률 변수 $X$, $Y$의 합의 분산은 각 확률 변수의 분산의 합과 다음과 같은 관계가 있다. 마지막 항은 양수도 될 수 있고 음수도 될 수 있다.\n",
    "\n",
    "$$\n",
    "\\text{Var}\\left[ X + Y \\right] =\n",
    "\\text{Var}\\left[ X \\right] + \\text{Var}\\left[ Y \\right]+ 2\\text{E}\\left[ (X-\\mu_X)(Y-\\mu_Y) \\right]\n",
    "$$\n",
    "\n",
    "증명은 다음과 같다. 우선 확률 변수 $X+Y$의 기댓값은 기댓값의 성질로부터 각 확률 변수의 기댓값의 합과 같다.\n",
    "\n",
    "$$ \\text{E}[X + Y] = \\mu_X + \\mu_Y $$\n",
    "\n",
    "분산의 정의에서 \n",
    "\n",
    "$$ \n",
    "\\begin{eqnarray}\n",
    "\\text{Var}\\left[ X + Y \\right] \n",
    "&=& \\text{E}\\left[ (X + Y - (\\mu_X + \\mu_Y))^2 \\right] \\\\\n",
    "&=& \\text{E}\\left[ ((X -\\mu_X) + (Y - \\mu_Y))^2 \\right] \\\\\n",
    "&=& \\text{E}\\left[ (X -\\mu_X)^2 + (Y - \\mu_Y)^2 + 2(X-\\mu_X)(Y-\\mu_Y) \\right] \\\\\n",
    "&=& \\text{E}\\left[ (X -\\mu_X)^2 \\right] + \\text{E}\\left[ (Y - \\mu_Y)^2 \\right] + 2\\text{E}\\left[ (X-\\mu_X)(Y-\\mu_Y) \\right] \n",
    "\\end{eqnarray}\n",
    "$$\n",
    "\n",
    "\n",
    "그런데 두 확률 변수 $X$, $Y$가 서로 독립이면 다음 식이 성립한다. 확률 변수가 독립이라는 것은 서로 영향을 미치지 않는 것을 의미하며 확률 변수의 독립의 수학적 정의와 왜 다음 식이 성립하는가는 추후 설명하기로 한다.\n",
    "\n",
    "$$ \\text{E}\\left[ (X-\\mu_X)(Y-\\mu_Y) \\right] = 0 $$\n",
    "\n",
    "위 식을 이용하면 **독립인 두 확률 변수의 합의 분산은 각 확률변수 분산의 합과 같다**는 것을 보일 수 있다.\n",
    "\n",
    "$$ \\text{Var}\\left[ X + Y \\right] =  \\text{Var}\\left[ X \\right] + \\text{Var}\\left[ Y \\right] $$"
   ]
  },
  {
   "cell_type": "markdown",
   "metadata": {
    "school_cell_uuid": "c5156a8067dc448590e6b3f521ab93b1"
   },
   "source": [
    "## 샘플 평균의 분산"
   ]
  },
  {
   "cell_type": "markdown",
   "metadata": {
    "school_cell_uuid": "58f2af857cd440a6834d62be5c5ee982"
   },
   "source": [
    "확률 변수 $X$의 샘플 평균 $\\bar{X}$도 일종의 확률 변수이고 그 기댓값 $\\text{E}[\\bar{X}]$은 원래 확률 변수 $X$의 기댓값 $\\text{E}[{X}]$과 일치한다는 것을 증명한 적이 있다.\n",
    "\n",
    "$$ \\text{E}[\\bar{X}] = \\text{E}[{X}]$$"
   ]
  },
  {
   "cell_type": "markdown",
   "metadata": {
    "school_cell_uuid": "9c4b8017179b4a3c9e5ef7f212932cb4"
   },
   "source": [
    "샘플 평균$\\bar{X}$의 분산 $\\text{Var}[\\bar{X}]$은 원래 확률 변수 $X$의 분산 $\\text{Var}[{X}]$과 다음 관계를 가진다. 데이터와 샘플평균의 거리제곱의 샘플평균으로 구한다.\n",
    "\n",
    "$$ \\text{Var}[\\bar{X}] = \\dfrac{1}{N} \\text{Var}[{X}]  $$\n",
    "\n",
    "$$ \\text{S}^2 = \\dfrac{\\sigma^2}{N}$$\n",
    "\n",
    "따라서 샘플 평균을 취하는 샘플의 수가 커지면 샘플 평균의 값은 변동이 적어진다. **샘플의 수가 무한대로 다가가면 샘플 평균의 값은 항상 일정한 값이 나온다.**"
   ]
  },
  {
   "cell_type": "markdown",
   "metadata": {
    "school_cell_uuid": "16d27553e8dc4cb0b599cc2b298e2073"
   },
   "source": [
    "증명은 다음과 같다.\n",
    "\n",
    "$$ \n",
    "\\begin{eqnarray}\n",
    "\\text{Var}[\\bar{X}] \n",
    "&=& \\text{E} \\left[ \\left( \\bar{X} -  \\text{E} \\left[ \\bar{X} \\right] \\right)^2 \\right] \\\\\n",
    "&=& \\text{E} \\left[ \\left( \\bar{X} -  \\mu \\right)^2 \\right] \\\\\n",
    "&=& \\text{E} \\left[ \\left( \\dfrac{1}{N} \\sum_{i=1}^N X_i - \\mu \\right)^2 \\right] \\\\\n",
    "&=& \\text{E} \\left[ \\left( \\dfrac{1}{N} \\sum_{i=1}^N X_i - \\dfrac{1}{N}N\\mu \\right)^2 \\right] \\\\\n",
    "&=& \\text{E} \\left[ \\left( \\dfrac{1}{N} \\left( \\sum_{i=1}^N X_i - N\\mu \\right) \\right)^2 \\right] \\\\\n",
    "&=& \\text{E} \\left[ \\left( \\dfrac{1}{N} \\sum_{i=1}^N (X_i - \\mu) \\right)^2 \\right] \\\\\n",
    "&=& \\text{E} \\left[ \\dfrac{1}{N^2} \\sum_{i=1}^N \\sum_{j=1}^N (X_i - \\mu) (X_j - \\mu)  \\right] \\\\\n",
    "&=& \\dfrac{1}{N^2} \\sum_{i=1}^N \\sum_{j=1}^N \\text{E} \\left[  (X_i - \\mu) (X_j - \\mu)  \\right] \\\\\n",
    "\\end{eqnarray}\n",
    "$$\n",
    "\n",
    "$i$번째 샘플의 값은 $j$번째($i\\neq j$) 샘플의 값에 영향을 미치지 않으므로 $X_i$와 $X_j$ ($ i \\neq j $)는 독립이다. 따라서 \n",
    "\n",
    "$$ \\text{E}\\left[ (X_i-\\mu)(X_j-\\mu) \\right] = 0 \\;\\; (i \\neq j) $$\n",
    "\n",
    "라는 사실을 이용하면 $i=j$인 항, 즉 제곱항만 남는다.\n",
    "\n",
    "$$\n",
    "\\begin{eqnarray}\n",
    "\\text{Var}[\\bar{X}]\n",
    "&=& \\dfrac{1}{N^2} \\sum_{i=1}^N \\text{E} \\left[ (X_i - \\mu)^2 \\right] \\\\\n",
    "&=& \\dfrac{1}{N^2} \\sum_{i=1}^N \\text{E} \\left[ (X - \\mu)^2 \\right] \\\\\n",
    "&=& \\dfrac{1}{N^2} N \\text{E} \\left[ (X - \\mu)^2 \\right] \\\\\n",
    "&=& \\dfrac{1}{N} \\text{E} \\left[ (X - \\mu)^2 \\right] \\\\\n",
    "&=& \\dfrac{1}{N} \\text{Var}[X] \\\\\n",
    "\\end{eqnarray}\n",
    "$$ \n"
   ]
  },
  {
   "cell_type": "markdown",
   "metadata": {
    "school_cell_uuid": "8da970f950014ca8af0d7428e6de875b"
   },
   "source": [
    "위 식이 의미하는 바는 다음과 같다.\n",
    "\n",
    "* 데이터를 생성하는 확률 변수의 기댓값 $E[X]$을 구하려면 확률 밀도 함수의 수식을 알아야 한다.\n",
    "* 그런데 우리는 데이터를 생성하는 확률 변수 $X$의 확률 밀도 함수의 수식을 정확히 알지 못한다.\n",
    "* 하지만 샘플 평균이라는 새로운 확률 변수의 기댓값은 원래 확률 변수의 기댓값과 같으므로 이 값을 알면 된다.\n",
    "$$E[\\bar{X}] = E[X]$$\n",
    "* 만약 샘플의 갯수가 크면 샘플 평균의 분산이 아주 작아지므로 샘플 평균의 샘플 값과 샘플 평균의 기댓값은 거의 같은 값이다.\n",
    "$$E[\\bar{X}] \\approx \\bar{X}$$\n",
    "* 따라서 샘플 평균의 기댓값을 구하면 원래 확률 변수의 기댓값의 근사값을 구할 수 있다.\n",
    "\n",
    "**$$E[X] = E[\\bar{X}] \\approx \\bar{X}$$**"
   ]
  },
  {
   "cell_type": "markdown",
   "metadata": {
    "school_cell_uuid": "f94e18dd802748e18594ac5006447320"
   },
   "source": [
    "## 샘플 분산의 기댓값"
   ]
  },
  {
   "cell_type": "markdown",
   "metadata": {
    "school_cell_uuid": "56af92244c6547f3aebaa813febfe0a1"
   },
   "source": [
    "앞에서 샘플 평균의 기댓값을 구하면 이론적인 평균 즉, 기댓값과 같아진다는 것을 증명하였다. \n",
    "\n",
    "그런데 샘플 분산 $S^2$의 기대값을 구하면 이론적인 분산  $\\sigma^2$과 같아지는 것이 아니라 이론적인 분산값의 $\\dfrac{N - 1}{N}$이 된다. 즉 작아진다.\n",
    "\n",
    "$$\n",
    "\\text{E}[S^2] = \\dfrac{N-1}{N}\\sigma^2 \n",
    "$$\n",
    "\n",
    "$$\n",
    "\\text{E}[Var[\\bar{X}]] = \\dfrac{N-1}{N}Var[X]$$"
   ]
  },
  {
   "cell_type": "markdown",
   "metadata": {
    "school_cell_uuid": "1957b879b822484daeefbb53e8215c7a"
   },
   "source": [
    "증명은 다음과 같다.\n",
    "\n",
    "$$ \n",
    "\\begin{eqnarray}\n",
    "\\text{E}[S^2] \n",
    "&=& \\text{E} \\left[ \\dfrac{1}{N}\\sum_{i=1}^N (X_i - \\bar{X})^2 \\right] \n",
    "= \\text{E} \\left[ \\dfrac{1}{N}\\sum_{i=1}^N \\left\\{ (X_i -\\mu) - (\\bar{X} - \\mu) \\right \\}^2  \\right] \\\\\n",
    "&=& \\text{E} \\left[ \\dfrac{1}{N}\\sum_{i=1}^N \\left\\{ (X_i -\\mu)^2 - 2 (X_i -\\mu)(\\bar{X} - \\mu) +  (\\bar{X} - \\mu)^2 \\right \\}  \\right] \\\\\n",
    "&=&  \\text{E} \\left[ \\dfrac{1}{N} \\sum_{i=1}^N (X_i -\\mu)^2 \\right] \n",
    "  - 2 \\text{E} \\left[ { \\dfrac{1}{N} \\sum_{i=1}^N (X_i -\\mu)(\\bar{X} - \\mu) } \\right] \n",
    "  +  \\text{E} \\left[ { \\dfrac{1}{N} \\sum_{i=1}^N (\\bar{X} - \\mu)^2 } \\right] \n",
    "\\end{eqnarray} \n",
    "$$\n",
    "\n"
   ]
  },
  {
   "cell_type": "markdown",
   "metadata": {
    "school_cell_uuid": "ea722f4e81a94feea91fd00a97948899"
   },
   "source": [
    "이 때 첫번째 항은\n",
    "\n",
    "$$ \n",
    "\\begin{eqnarray}\n",
    "\\text{E} \\left[ \\dfrac{1}{N} \\sum_{i=1}^N (X_i -\\mu)^2 \\right] \n",
    "&=& \\text{E} \\left[ \\dfrac{1}{N} \\sum_{i=1}^N (X -\\mu)^2 \\right] \\\\\n",
    "&=& \\text{E} \\left[ \\dfrac{1}{N} N (X -\\mu)^2 \\right] \\\\\n",
    "&=& \\text{E} \\left[ (X -\\mu)^2 \\right] \\\\\n",
    "&=& \\text{Var}[X] \\\\\n",
    "&=& \\sigma^2 \n",
    "\\end{eqnarray} \n",
    "$$ "
   ]
  },
  {
   "cell_type": "markdown",
   "metadata": {
    "school_cell_uuid": "66ba84169fa74d398dabe453de23f478"
   },
   "source": [
    "두번째 항은\n",
    "\n",
    "$$\n",
    "\\begin{eqnarray}\n",
    "\\text{E} \\left[ { \\dfrac{1}{N} \\sum_{i=1}^N (X_i -\\mu)(\\bar{X} - \\mu) } \\right] \n",
    "&=& \\text{E} \\left[ { \\dfrac{1}{N} \\sum_{i=1}^N (X_i -\\mu) \\left( \\dfrac{1}{N} \\sum_{j=1}^N X_j - \\dfrac{1}{N}N \\mu \\right) } \\right]  \\\\\n",
    "&=& \\text{E} \\left[ { \\dfrac{1}{N} \\sum_{i=1}^N (X_i -\\mu) \\left( \\dfrac{1}{N} \\sum_{j=1}^N ( X_j - \\mu ) \\right) } \\right]  \\\\\n",
    "&=& \\text{E} \\left[ { \\dfrac{1}{N^2} \\sum_{i=1}^N \\sum_{j=1}^N (X_i -\\mu)  ( X_j - \\mu )} \\right]  \\\\\n",
    "\\end{eqnarray} \n",
    "$$\n",
    "\n",
    "$X_i$와 $X_j$ ($ i \\neq j $)는 독립일때, \n",
    "\n",
    "$$ \\text{E}\\left[ (X_i-\\mu)(X_j-\\mu) \\right] = 0 \\;\\; (i \\neq j) $$\n",
    "\n",
    "라는 성질을 이용하면\n",
    "\n",
    "$$\n",
    "\\begin{eqnarray}\n",
    "\\text{E} \\left[ { \\dfrac{1}{N} \\sum_{i=1}^N (X_i -\\mu)(\\bar{X} - \\mu) } \\right] \n",
    "&=& \\text{E} \\left[ { \\dfrac{1}{N^2} \\sum_{i=1}^N  (X_i -\\mu)^2} \\right]  \\\\\n",
    "&=& \\dfrac{1}{N} \\text{E} \\left[ { \\dfrac{1}{N} \\sum_{i=1}^N  (X_i -\\mu)^2} \\right]  \\\\\n",
    "&=& \\dfrac{1}{N} \\text{E} \\left[ { \\dfrac{1}{N} \\sum_{i=1}^N  (X -\\mu)^2} \\right]  \\\\\n",
    "&=& \\dfrac{1}{N} \\text{E} \\left[ { \\dfrac{1}{N} N  (X -\\mu)^2} \\right]  \\\\\n",
    "&=& \\dfrac{1}{N} \\text{E} \\left[ { (X -\\mu)^2} \\right]  \\\\\n",
    "&=& \\dfrac{1}{N} \\text{Var}[X] \\\\\n",
    "&=& \\dfrac{\\sigma^2}{N}\n",
    "\\end{eqnarray} \n",
    "$$\n"
   ]
  },
  {
   "cell_type": "markdown",
   "metadata": {
    "school_cell_uuid": "b3163ad3802c4e45b8c0ec97f28f9d95"
   },
   "source": [
    "세번째 항은 다음과 같아진다.\n",
    "\n",
    "$$\n",
    "\\begin{eqnarray}\n",
    "\\text{E} \\left[ { \\dfrac{1}{N} \\sum_{i=1}^N (\\bar{X} - \\mu)^2 } \\right]\n",
    "&=& \\text{E} \\left[ { \\dfrac{1}{N} \\sum_{i=1}^N \\left( \\dfrac{1}{N} \\sum_{j=1}^N X_j - \\mu \\right)^2 } \\right]  \\\\\n",
    "&=& \\text{E} \\left[ { \\dfrac{1}{N} \\sum_{i=1}^N \\left( \\dfrac{1}{N} \\sum_{j=1}^N (X_j - \\mu) \\right)^2 } \\right]  \\\\\n",
    "&=& \\text{E} \\left[ \\dfrac{1}{N^3} \\sum_{i=1}^N \\sum_{j=1}^N \\sum_{k=1}^N (X_j - \\mu)(X_k - \\mu)  \\right]  \\\\\n",
    "\\end{eqnarray} \n",
    "$$\n",
    "\n",
    "$X_j$와 $X_k$ ($ j \\neq k $)는 독립일때, \n",
    "\n",
    "$$ \\text{E}\\left[ (X_j-\\mu)(X_k-\\mu) \\right] = 0 \\;\\; (j \\neq k) $$\n",
    "\n",
    "라는 성질을 이용하면\n",
    "\n",
    "$$\n",
    "\\begin{eqnarray}\n",
    "\\text{E} \\left[ { \\dfrac{1}{N} \\sum_{i=1}^N (\\bar{X} - \\mu)^2 } \\right]\n",
    "&=& \\text{E} \\left[ \\dfrac{1}{N^3} \\sum_{i=1}^N \\sum_{j=1}^N  (X_j - \\mu)^2  \\right]  \\\\\n",
    "&=& \\text{E} \\left[ \\dfrac{1}{N^3} N \\sum_{j=1}^N  (X_j - \\mu)^2  \\right]  \\\\\n",
    "&=& \\text{E} \\left[ \\dfrac{1}{N^2} \\sum_{j=1}^N  (X_j - \\mu)^2  \\right]  \\\\\n",
    "&=& \\dfrac{1}{N}  \\text{E} \\left[ \\dfrac{1}{N} \\sum_{j=1}^N  (X_j - \\mu)^2  \\right]  \\\\\n",
    "&=& \\dfrac{1}{N} \\text{Var}[X] \\\\\n",
    "&=& \\dfrac{\\sigma^2}{N}\n",
    "\\end{eqnarray} \n",
    "$$"
   ]
  },
  {
   "cell_type": "markdown",
   "metadata": {
    "school_cell_uuid": "ea4703c727ab4c5abfe4db7adf4e1837"
   },
   "source": [
    "따라서 세 항의 합은 다음과 같아진다.\n",
    "\n",
    "$$\n",
    "\\text{E}[S^2] = \\sigma^2 - \\dfrac{2\\sigma^2}{N} + \\dfrac{\\sigma^2}{N} = \\dfrac{N-1}{N}\\sigma^2 \n",
    "$$"
   ]
  },
  {
   "cell_type": "markdown",
   "metadata": {
    "school_cell_uuid": "8169a2a6baa54fa781d7f28c6a7a5f1f"
   },
   "source": [
    "그러므로 **샘플 분산의 기대값이 정확하게 $\\sigma^2$이 되려면 거리 제곱의 평균을 구할 때 분모가 $N$이 아니라 $N-1$이 되어야 한다.**\n",
    "\n",
    "$$\n",
    "\\sigma^2 \n",
    "= \\dfrac{N}{N-1} \\text{E}[S^2] \n",
    "= \\dfrac{N}{N-1} \\text{E} \\left[ \\dfrac{1}{N} \\sum (X_i-\\bar{X})^2 \\right] \n",
    "= \\text{E} \\left[ \\dfrac{1}{N-1} \\sum (X_i-\\bar{X})^2 \\right] \n",
    "= \\text{E} \\left[ S^2_{\\text{unbiased}} \\right] \n",
    "$$"
   ]
  }
 ],
 "metadata": {
  "celltoolbar": "Edit Metadata",
  "kernelspec": {
   "display_name": "Python 3",
   "language": "python",
   "name": "python3"
  },
  "language_info": {
   "codemirror_mode": {
    "name": "ipython",
    "version": 3
   },
   "file_extension": ".py",
   "mimetype": "text/x-python",
   "name": "python",
   "nbconvert_exporter": "python",
   "pygments_lexer": "ipython3",
   "version": "3.6.4"
  }
 },
 "nbformat": 4,
 "nbformat_minor": 1
}
