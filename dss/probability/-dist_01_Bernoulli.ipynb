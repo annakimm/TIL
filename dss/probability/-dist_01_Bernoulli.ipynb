{
 "cells": [
  {
   "cell_type": "markdown",
   "metadata": {
    "school_cell_uuid": "e93e0041c5274752917fe464c55ad7c0"
   },
   "source": [
    "# 베르누이 분포"
   ]
  },
  {
   "cell_type": "markdown",
   "metadata": {
    "school_cell_uuid": "30407c41366c41ada01fccac76331693"
   },
   "source": [
    "## 베르누이 시도"
   ]
  },
  {
   "cell_type": "markdown",
   "metadata": {
    "school_cell_uuid": "882d5232066b4ae79794e74d6ea1a614"
   },
   "source": [
    "결과가 성공(Success) 혹은 실패(Fail) 두 가지 중 하나로만 나오는 것을 **베르누이 시도**(Bernoulli trial)라고 한다. 예를 들어 동전을 한 번 던져 앞면(H:Head)이 나오거나 뒷면(T:Tail)이 나오게 하는 것은 베르누이 시도의 일종이다."
   ]
  },
  {
   "cell_type": "markdown",
   "metadata": {
    "school_cell_uuid": "18c7638f3569475c9cef11e3e7588856"
   },
   "source": [
    "베르누이 시도의 결과를 확률 변수(random variable) $X$ 로 나타낼 때는 일반적으로 성공을 정수 1 ($X=1$), 실패를 정수 0 ($X=0$)으로 정한다. 때로는  실패를 0 이 아닌 -1($X=-1$)로 정하는 경우도 있다."
   ]
  },
  {
   "cell_type": "markdown",
   "metadata": {
    "school_cell_uuid": "250191a82f7840908f446e7644a6d59d"
   },
   "source": [
    "## 베르누이 확률 변수"
   ]
  },
  {
   "cell_type": "markdown",
   "metadata": {
    "school_cell_uuid": "a5517b52891a48268a4181dc463e21b0"
   },
   "source": [
    "베르누이 확률 변수는 0, 1 두 가지 값 중 하나만 가질 수 있으므로 이산 확률 변수(discrete random variable)이다. 따라서 확률 질량 함수(pmf: probability mass function)로 정의할 수 있다. "
   ]
  },
  {
   "cell_type": "markdown",
   "metadata": {
    "school_cell_uuid": "5e9a75eb53d44fd49b98a99dc88632ae"
   },
   "source": [
    "베르누이 확률 변수의 확률 질량 함수는 다음과 같다.\n",
    "\n",
    "$$\n",
    "\\text{Bern}(x;\\theta) = \n",
    "\\begin{cases} \n",
    "\\theta   & \\text{if }x=1, \\\\\n",
    "1-\\theta & \\text{if }x=0\n",
    "\\end{cases}\n",
    "$$\n",
    "\n",
    "베르누이 확률 변수는 **1이 나올 확률**을 의미하는 $\\theta$라는 모수를 가진다. 변수와 모수는 세미콜론(;, semi-colone)기호로 분리하였다. 0이 나올 확률은 $1 - \\theta$이다."
   ]
  },
  {
   "cell_type": "markdown",
   "metadata": {
    "school_cell_uuid": "136b92efdfe04e629118d5341e0fb654"
   },
   "source": [
    "위 식을 하나의 수식으로 표현하면 다음과 같이 쓸 수도 있다.\n",
    "\n",
    "$$\n",
    "\\text{Bern}(x;\\theta) = \\theta^x(1-\\theta)^{(1-x)}\n",
    "$$"
   ]
  },
  {
   "cell_type": "markdown",
   "metadata": {
    "bootstrap": {
     "panel": {
      "class": "panel-default"
     }
    },
    "school_cell_uuid": "edbe2272d887461f89a7e96d4ad76cb7"
   },
   "source": [
    "#### 연습 문제 1\n",
    "\n",
    "위 식에서 $x=1$과 $x=0$을 각각 대입하여 원래의 확률 질량 함수 수식이 나오는 것을 확인한다."
   ]
  },
  {
   "cell_type": "markdown",
   "metadata": {
    "school_cell_uuid": "5f903b6f8bb144d082dbe2f8382efcbc"
   },
   "source": [
    "만약 베르누이 확률 변수가 1과 -1이라는 값을 가진다면 다음과 같은 수식으로 써야 한다.\n",
    "\n",
    "$$ \\text{Bern}(x; \\theta) = \\theta^{(1+x)/2} (1-\\theta)^{(1-x)/2} $$"
   ]
  },
  {
   "cell_type": "markdown",
   "metadata": {
    "school_cell_uuid": "a6873ff37c6347f09654e8f307f933cc"
   },
   "source": [
    "만약 어떤 확률 변수 $X$가 베르누이 분포에 의해 발생된다면 **\"확률 변수 $X$가 베르누이 분포를 따른다\"**라고 말하고 다음과 같이 수식으로 쓴다.\n",
    "\n",
    "$$ X \\sim \\text{Bern}(x;\\theta) $$"
   ]
  },
  {
   "cell_type": "markdown",
   "metadata": {
    "school_cell_uuid": "285f0507b9de4c9688eff39c15c3b052"
   },
   "source": [
    "## SciPy를 사용한 베르누이 확률 변수의 시뮬레이션"
   ]
  },
  {
   "cell_type": "markdown",
   "metadata": {
    "school_cell_uuid": "e22672364e2b4166a2cd6a2b1878c10d"
   },
   "source": [
    "Scipy의 stats 서브 패키지에 있는 `bernoulli` 클래스가 베르누이 확률 변수를 위한 클래스다. `p` 인수로 분포의 모수 $\\theta$을 설정한다. \n",
    "\n",
    "다음 예에서는 p = 0.6 으로 설정하였다."
   ]
  },
  {
   "cell_type": "code",
   "execution_count": 1,
   "metadata": {
    "school_cell_uuid": "b3a5173b4dfe413b8d07dc821986ca4a"
   },
   "outputs": [],
   "source": [
    "theta = 0.6\n",
    "rv = sp.stats.bernoulli(theta)"
   ]
  },
  {
   "cell_type": "markdown",
   "metadata": {
    "school_cell_uuid": "c6e3680ac7cf4f6d98697c5c30be915a"
   },
   "source": [
    "`pmf` 메서드를 사용하면 확률 질량 함수(pmf: probability mass function)를 계산할 수 있다."
   ]
  },
  {
   "cell_type": "code",
   "execution_count": 3,
   "metadata": {},
   "outputs": [],
   "source": [
    "# RC prameter 설정\n",
    "%matplotlib inline\n",
    "mpl.rc('font', family='Malgun Gothic')\n",
    "# 그래프에서 마이너스 폰트 깨지는 문제 해결\n",
    "mpl.rc('axes', unicode_minus=False)"
   ]
  },
  {
   "cell_type": "code",
   "execution_count": 14,
   "metadata": {},
   "outputs": [
    {
     "data": {
      "text/plain": [
       "array([0.4, 0.6])"
      ]
     },
     "execution_count": 14,
     "metadata": {},
     "output_type": "execute_result"
    }
   ],
   "source": [
    "rv.pmf(xx)"
   ]
  },
  {
   "cell_type": "code",
   "execution_count": 4,
   "metadata": {
    "school_cell_uuid": "d63c353b1a60485cb79ece27118a2461"
   },
   "outputs": [
    {
     "data": {
      "image/png": "[encoded data removed]",
      "text/plain": [
       "<Figure size 432x288 with 1 Axes>"
      ]
     },
     "metadata": {},
     "output_type": "display_data"
    }
   ],
   "source": [
    "xx = [0, 1]\n",
    "plt.bar(xx, rv.pmf(xx))\n",
    "plt.xlim(-1, 2)\n",
    "plt.ylim(0, 1)\n",
    "plt.xticks([0, 1], [\"x=0\", \"x=1\"])\n",
    "plt.xlabel(\"표본값\")\n",
    "plt.ylabel(\"P(x)\")\n",
    "plt.title(\"베르누이 확률변수의 pmf\")\n",
    "plt.show()"
   ]
  },
  {
   "cell_type": "markdown",
   "metadata": {
    "school_cell_uuid": "c4082c2296a5430285e11848c865141c"
   },
   "source": [
    "시뮬레이션을 하려면 `rvs` 메서드를 사용한다."
   ]
  },
  {
   "cell_type": "code",
   "execution_count": 5,
   "metadata": {
    "school_cell_uuid": "f114e4f1e33c4a79a60a88f092e2d226"
   },
   "outputs": [
    {
     "data": {
      "text/plain": [
       "array([1, 0, 0, 1, 1, 0, 1, 0, 0, 1, 0, 1, 1, 0, 1, 1, 1, 0, 0, 0, 0, 0,\n",
       "       1, 0, 1, 0, 1, 0, 1, 1, 1, 0, 1, 1, 1, 0, 0, 0, 0, 0, 1, 1, 0, 1,\n",
       "       0, 0, 1, 1, 1, 1, 1, 1, 0, 1, 1, 1, 0, 1, 1, 1, 1, 1, 0, 1, 1, 1,\n",
       "       0, 1, 0, 1, 0, 1, 0, 0, 0, 1, 1, 1, 1, 1, 1, 1, 1, 0, 1, 1, 1, 1,\n",
       "       1, 0, 1, 0, 1, 0, 1, 1, 1, 1, 0, 1])"
      ]
     },
     "execution_count": 5,
     "metadata": {},
     "output_type": "execute_result"
    }
   ],
   "source": [
    "x = rv.rvs(100, random_state=0)\n",
    "x"
   ]
  },
  {
   "cell_type": "markdown",
   "metadata": {
    "school_cell_uuid": "5ef7a29fec90424a9b97d9a545baeb0d"
   },
   "source": [
    "결과를 seaborn의 `countplot` 명령으로 시각화한다."
   ]
  },
  {
   "cell_type": "code",
   "execution_count": 6,
   "metadata": {
    "school_cell_uuid": "06e3372c8c224706969ec3858da4701f"
   },
   "outputs": [
    {
     "data": {
      "image/png": "[encoded data removed]",
      "text/plain": [
       "<Figure size 432x288 with 1 Axes>"
      ]
     },
     "metadata": {},
     "output_type": "display_data"
    }
   ],
   "source": [
    "sns.countplot(x)\n",
    "plt.title(\"베르누이 확률변수의 시뮬레이션 결과\")\n",
    "plt.xlabel(\"표본값\")\n",
    "plt.show()"
   ]
  },
  {
   "cell_type": "markdown",
   "metadata": {
    "school_cell_uuid": "cfaf4129cccd4453b41ef4b4ddca9ac4"
   },
   "source": [
    "이론적인 확률 분포와 샘플의 확률 분포를 동시에 나타내려면 다음과 같은 코드를 사용한다."
   ]
  },
  {
   "cell_type": "code",
   "execution_count": 7,
   "metadata": {
    "school_cell_uuid": "bbaad99fd8b74dcbba001daec653c83a"
   },
   "outputs": [
    {
     "data": {
      "text/html": [
       "<div>\n",
       "<style scoped>\n",
       "    .dataframe tbody tr th:only-of-type {\n",
       "        vertical-align: middle;\n",
       "    }\n",
       "\n",
       "    .dataframe tbody tr th {\n",
       "        vertical-align: top;\n",
       "    }\n",
       "\n",
       "    .dataframe thead th {\n",
       "        text-align: right;\n",
       "    }\n",
       "</style>\n",
       "<table border=\"1\" class=\"dataframe\">\n",
       "  <thead>\n",
       "    <tr style=\"text-align: right;\">\n",
       "      <th></th>\n",
       "      <th>시뮬레이션</th>\n",
       "      <th>이론</th>\n",
       "    </tr>\n",
       "  </thead>\n",
       "  <tbody>\n",
       "    <tr>\n",
       "      <th>0</th>\n",
       "      <td>0.38</td>\n",
       "      <td>0.4</td>\n",
       "    </tr>\n",
       "    <tr>\n",
       "      <th>1</th>\n",
       "      <td>0.62</td>\n",
       "      <td>0.6</td>\n",
       "    </tr>\n",
       "  </tbody>\n",
       "</table>\n",
       "</div>"
      ],
      "text/plain": [
       "   시뮬레이션   이론\n",
       "0   0.38  0.4\n",
       "1   0.62  0.6"
      ]
     },
     "execution_count": 7,
     "metadata": {},
     "output_type": "execute_result"
    }
   ],
   "source": [
    "y = np.bincount(x, minlength=2) / float(len(x))\n",
    "\n",
    "df = pd.DataFrame({\"이론\": rv.pmf(xx), \"시뮬레이션\": y})\n",
    "df.index = [0, 1]\n",
    "df"
   ]
  },
  {
   "cell_type": "markdown",
   "metadata": {
    "school_cell_uuid": "f6ce244c600a449598483bed2fa01706"
   },
   "source": [
    "seaborn의 `barplot` 명령으로 시각화하면 다음과 같다."
   ]
  },
  {
   "cell_type": "code",
   "execution_count": 8,
   "metadata": {
    "school_cell_uuid": "f86f854ce3654cd49ad8d9b8d6841a40"
   },
   "outputs": [
    {
     "data": {
      "text/html": [
       "<div>\n",
       "<style scoped>\n",
       "    .dataframe tbody tr th:only-of-type {\n",
       "        vertical-align: middle;\n",
       "    }\n",
       "\n",
       "    .dataframe tbody tr th {\n",
       "        vertical-align: top;\n",
       "    }\n",
       "\n",
       "    .dataframe thead th {\n",
       "        text-align: right;\n",
       "    }\n",
       "</style>\n",
       "<table border=\"1\" class=\"dataframe\">\n",
       "  <thead>\n",
       "    <tr style=\"text-align: right;\">\n",
       "      <th></th>\n",
       "      <th>표본값</th>\n",
       "      <th>유형</th>\n",
       "      <th>비율</th>\n",
       "    </tr>\n",
       "  </thead>\n",
       "  <tbody>\n",
       "    <tr>\n",
       "      <th>0</th>\n",
       "      <td>0</td>\n",
       "      <td>시뮬레이션</td>\n",
       "      <td>0.38</td>\n",
       "    </tr>\n",
       "    <tr>\n",
       "      <th>1</th>\n",
       "      <td>0</td>\n",
       "      <td>이론</td>\n",
       "      <td>0.40</td>\n",
       "    </tr>\n",
       "    <tr>\n",
       "      <th>2</th>\n",
       "      <td>1</td>\n",
       "      <td>시뮬레이션</td>\n",
       "      <td>0.62</td>\n",
       "    </tr>\n",
       "    <tr>\n",
       "      <th>3</th>\n",
       "      <td>1</td>\n",
       "      <td>이론</td>\n",
       "      <td>0.60</td>\n",
       "    </tr>\n",
       "  </tbody>\n",
       "</table>\n",
       "</div>"
      ],
      "text/plain": [
       "   표본값     유형    비율\n",
       "0    0  시뮬레이션  0.38\n",
       "1    0     이론  0.40\n",
       "2    1  시뮬레이션  0.62\n",
       "3    1     이론  0.60"
      ]
     },
     "execution_count": 8,
     "metadata": {},
     "output_type": "execute_result"
    }
   ],
   "source": [
    "df2 = df.stack().reset_index()\n",
    "df2.columns = [\"표본값\", \"유형\", \"비율\"]\n",
    "df2"
   ]
  },
  {
   "cell_type": "code",
   "execution_count": 9,
   "metadata": {
    "school_cell_uuid": "0680e882239f48dea0f9d07bc17ed168"
   },
   "outputs": [
    {
     "data": {
      "image/png": "[encoded data removed]",
      "text/plain": [
       "<Figure size 432x288 with 1 Axes>"
      ]
     },
     "metadata": {},
     "output_type": "display_data"
    }
   ],
   "source": [
    "sns.barplot(x=\"표본값\", y=\"비율\", hue=\"유형\", data=df2)\n",
    "plt.show()"
   ]
  },
  {
   "cell_type": "markdown",
   "metadata": {
    "bootstrap": {
     "panel": {
      "class": "panel-default"
     }
    },
    "school_cell_uuid": "cae9e59175fd476e882307cdb3d5cc1a"
   },
   "source": [
    "#### 연습 문제 2\n",
    "\n",
    "베르누이 확률 분포의 모수가 다음과 같을 경우에 각각 샘플을 생성한 후 기댓값과 분산을 구하고 앞의 예제와 같이 확률 밀도 함수와 비교한 카운트 플롯을 그린다.\n",
    "샘플의 갯수가 10개인 경우와 1000개인 경우에 대해 각각 위의 계산을 한다.\n",
    "\n",
    "1. $\\theta = 0.5$\n",
    "2. $\\theta = 0.9$"
   ]
  },
  {
   "cell_type": "markdown",
   "metadata": {
    "school_cell_uuid": "dfcd15bfda134038a60b68e7f2f68efa"
   },
   "source": [
    "## 베르누이 분포의 모멘트"
   ]
  },
  {
   "cell_type": "markdown",
   "metadata": {
    "school_cell_uuid": "7c447fc79c864adda5522362b074cbff"
   },
   "source": [
    "베르누이 분포의 모멘트는 다음과 같다.\n",
    "\n",
    "### 기댓값\n",
    "\n",
    "$$\\text{E}[X]  = \\theta$$\n",
    "\n",
    "(증명)\n",
    "\n",
    "$$\\text{E}[X] = \\sum x_i P(x_i) = 1 \\cdot \\theta + 0 \\cdot (1 - \\theta) =  \\theta$$\n",
    "\n",
    "### 분산\n",
    "\n",
    "$$\\text{Var}[X] = \\theta(1-\\theta)$$\n",
    "\n",
    "(증명)\n",
    "\n",
    "$$\\text{Var}[X] = \\sum (x_i - \\mu)^2 P(x_i) = (1 - \\theta)^2 \\cdot \\theta + (0 - \\theta)^2 \\cdot (1 - \\theta) = \\theta(1-\\theta)$$"
   ]
  },
  {
   "cell_type": "markdown",
   "metadata": {
    "school_cell_uuid": "ed20fab4fa4145c4aa0c955a7fc25f93"
   },
   "source": [
    "앞의 예에서는 $\\theta = 0.6$이였으므로 이론적인 기댓값과 분산은 다음과 같다.\n",
    "\n",
    "$$ \\text{E}[X] = 0.6 $$\n",
    "$$ \\text{Var}[X] = 0.6 \\cdot (1 - 0.6) = 0.24 $$\n",
    "\n",
    "데이터에서 계산한 샘플 평균 및 샘플 분산은 다음과 같이 계산한다."
   ]
  },
  {
   "cell_type": "code",
   "execution_count": 10,
   "metadata": {
    "school_cell_uuid": "60c02049ba274c1ca39aaa9c43e3c8af"
   },
   "outputs": [
    {
     "data": {
      "text/plain": [
       "0.62"
      ]
     },
     "execution_count": 10,
     "metadata": {},
     "output_type": "execute_result"
    }
   ],
   "source": [
    "np.mean(x)"
   ]
  },
  {
   "cell_type": "code",
   "execution_count": 11,
   "metadata": {
    "school_cell_uuid": "99ddca993ae24ec79465ba844d34c4d1"
   },
   "outputs": [
    {
     "data": {
      "text/plain": [
       "0.23797979797979804"
      ]
     },
     "execution_count": 11,
     "metadata": {},
     "output_type": "execute_result"
    }
   ],
   "source": [
    "np.var(x, ddof=1)"
   ]
  },
  {
   "cell_type": "markdown",
   "metadata": {
    "school_cell_uuid": "8c7bb9c5047d49d5b68c60a7b89d6733"
   },
   "source": [
    "SciPy의 ``describe`` 명령으로 계산할 수도 있다."
   ]
  },
  {
   "cell_type": "code",
   "execution_count": 12,
   "metadata": {
    "school_cell_uuid": "5e7a64053d934e9bafc4db5aab86aa42"
   },
   "outputs": [
    {
     "data": {
      "text/plain": [
       "(0.62, 0.23797979797979804)"
      ]
     },
     "execution_count": 12,
     "metadata": {},
     "output_type": "execute_result"
    }
   ],
   "source": [
    "s = sp.stats.describe(x)\n",
    "s[2], s[3]"
   ]
  },
  {
   "cell_type": "markdown",
   "metadata": {
    "school_cell_uuid": "a18ed8b2b2234b468fe354a87412d458"
   },
   "source": [
    "## 베르누이 분포의 모수추정"
   ]
  },
  {
   "cell_type": "markdown",
   "metadata": {
    "school_cell_uuid": "0d454383acc6474ea9458c1b4e322ad7"
   },
   "source": [
    "데이터에서 모수의 값을 찾아내는 것을 모수추정(parameter estimation)이라고 한다. 베르누이 분포 모수 $\\theta$를 추정한 값 $\\hat\\theta$은 다음처럼 계산한다.\n",
    "\n",
    "$$ \\hat{\\theta} = \\dfrac{\\sum_{i=1}^N x_i}{N}= \\dfrac{N_1}{N} $$\n",
    "\n",
    "이 식에서 $N$은 전체 데이터의 수, $N_1$은 1이 나온 횟수이다."
   ]
  },
  {
   "cell_type": "markdown",
   "metadata": {
    "school_cell_uuid": "a18ed8b2b2234b468fe354a87412d458"
   },
   "source": [
    "## 베르누이 분포의 활용"
   ]
  },
  {
   "cell_type": "markdown",
   "metadata": {
    "school_cell_uuid": "8f488f272a5e4c7abe29fe2b9aa5c04f"
   },
   "source": [
    "베르누이 분포는 다음과 같은 경우에 사용된다.\n",
    "\n",
    "1. 분류 예측 문제의 출력 데이터가 두 개의 값으로 구분되는 카테고리 값인 경우, 두 값 중 어느 값이 가능성이 높은지를 표현하기 위해 사용된다.\n",
    "1. 입력 데이터가 0 또는 1 혹은 참 또는 거짓, 두 개의 값으로 구분되는 카테고리 값인 경우, 두 종류의 값이 나타나는 비율을 표현하기 위해 사용된다."
   ]
  },
  {
   "cell_type": "markdown",
   "metadata": {
    "school_cell_uuid": "254485f3d0ab4133ab434da53fd57413"
   },
   "source": [
    "예를 들어 스팸 메일과 정상 메일을 구분해야 하는 스팸 메일 필터를 만들어야 한다고 가정하자. 스팸 메일 필터를 만들기 위해 특정한 메일 계정으로 들어오는 메일을 모두 분석하였다.  만약  메일이 모두 10통이고 이 중 6통이 스팸 메일이라면 이 메일 계정으로 들어온 메일이 스팸 메일일 가능성은 60%이다. 이러한 상황은 $\\theta = 0.6$인 베르누이 분포로 나타낼 수 있다.\n",
    "\n",
    "$$ P(Y) = \\text{Bern}(y; \\theta = 0.6) $$\n",
    "\n",
    "확률 변수 $Y$는 메일이 스팸 메일인지 아닌지를 나타내며 $Y=1$이면 스팸 메일이다."
   ]
  },
  {
   "cell_type": "markdown",
   "metadata": {
    "school_cell_uuid": "e010021adb7a4b41b62d7bade3cbaa6d"
   },
   "source": [
    "또한 스팸 메일은 특정한 단어(키워드)를 가지고 있을 확률이 높다.  스팸 메일을 구분하기 위한 키워드가 여러 개라면 다음과 같이 BOW(Bag of Words) 인코딩된 벡터로 나타낼 수 있다. 이 예에서는 4개의 키워드를 사용하였다. 만약 어떤 메일이 첫번째와 세번째 키워드를 포함하고 있으며 두번째와 네번째 키워드는 포함하지 않으면 다음과 같은 특징 벡터로 표시할 수 있다.\n",
    "\n",
    "$$ x = \\begin{bmatrix} 1 \\\\ 0 \\\\ 1 \\\\ 0 \\end{bmatrix} $$\n",
    "\n",
    "여러개의 메일이 있으면 다음처럼 특징 행렬로 표시한다. 특징 행렬에서는 행 벡터가 메일을, 열 벡터가 키워드를 나타낸다.\n",
    "\n",
    "$$ \n",
    "X =\n",
    "\\begin{bmatrix} \n",
    "1 & 0 & 1 & 0 \\\\\n",
    "1 & 1 & 1 & 0 \\\\\n",
    "1 & 1 & 0 & 1 \\\\\n",
    "0 & 0 & 1 & 1 \\\\\n",
    "1 & 1 & 0 & 0 \\\\\n",
    "1 & 1 & 0 & 1 \\\\\n",
    "\\end{bmatrix} \n",
    "$$\n",
    "\n",
    "이때, 스팸 메일의 특성은 4개의 베르누이 확률 분포 $(X_1, X_2, X_3, X_4)$로 나타낼 수 있다. \n",
    "\n",
    "$$ X_1 \\sim \\text{Bern}(x_1; \\theta_1) : \\text{스팸 메일이 첫번째 키워드를 포함하고 있을 확률}$$\n",
    "$$ X_2 \\sim \\text{Bern}(x_2; \\theta_2) : \\text{스팸 메일이 두번째 키워드를 포함하고 있을 확률}$$\n",
    "$$ X_3 \\sim \\text{Bern}(x_3; \\theta_3) : \\text{스팸 메일이 세번째 키워드를 포함하고 있을 확률}$$\n",
    "$$ X_4 \\sim \\text{Bern}(x_4; \\theta_4) : \\text{스팸 메일이 네번째 키워드를 포함하고 있을 확률}$$\n",
    "\n",
    "**특징 행렬의 각 열로부터 각 베르누이 확률 분포의 모수의 추정값을 구하면** 다음과 같다.\n",
    "\n",
    "$$ \\hat\\theta_1 = \\dfrac{5}{6},\\;\\; \\hat\\theta_2 = \\dfrac{4}{6},\\;\\; \\hat\\theta_3 = \\dfrac{3}{6},\\;\\; \\hat\\theta_4 = \\dfrac{3}{6} $$\n"
   ]
  },
  {
   "cell_type": "markdown",
   "metadata": {
    "bootstrap": {
     "panel": {
      "class": "panel-default"
     }
    },
    "school_cell_uuid": "253407e45e54421b9694538d7ab45e16"
   },
   "source": [
    "#### 연습 문제 3\n",
    "\n",
    "1. 스팸 메일이 아닌 정상 메일의 데이터가 다음과 같은 특징 행렬로 표시되면 정상 메일의 특성은 어떻게 나타낼 수 있는가?\n",
    "$$ \n",
    "\\begin{bmatrix} \n",
    "0 & 0 & 1 & 1 \\\\\n",
    "0 & 1 & 1 & 1 \\\\\n",
    "0 & 0 & 1 & 1 \\\\\n",
    "1 & 0 & 0 & 1 \\\\\n",
    "\\end{bmatrix} \n",
    "$$\n",
    "2. 스팸 메일과 정상 메일의 특성을 모두 모형화하려면 몇 개의 베르누이 확률 변수가 필요한가?"
   ]
  }
 ],
 "metadata": {
  "celltoolbar": "Edit Metadata",
  "kernelspec": {
   "display_name": "Python 3",
   "language": "python",
   "name": "python3"
  },
  "language_info": {
   "codemirror_mode": {
    "name": "ipython",
    "version": 3
   },
   "file_extension": ".py",
   "mimetype": "text/x-python",
   "name": "python",
   "nbconvert_exporter": "python",
   "pygments_lexer": "ipython3",
   "version": "3.6.4"
  }
 },
 "nbformat": 4,
 "nbformat_minor": 1
}
