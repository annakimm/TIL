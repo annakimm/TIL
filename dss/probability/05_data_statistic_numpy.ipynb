{
 "cells": [
  {
   "cell_type": "code",
   "execution_count": 3,
   "metadata": {},
   "outputs": [],
   "source": [
    "%matplotlib inline"
   ]
  },
  {
   "cell_type": "markdown",
   "metadata": {},
   "source": [
    "파이썬에서는 다음과 같은 numpy 함수를 사용하여 각종 대표값을 계산할 수 있다.\n",
    "```\n",
    "mean()\n",
    "nanmean()\n",
    "median()\n",
    "argmax()\n",
    "histogram()\n",
    "```"
   ]
  },
  {
   "cell_type": "code",
   "execution_count": 75,
   "metadata": {},
   "outputs": [
    {
     "data": {
      "text/plain": [
       "(-0.045256707490195384, -0.058028034799627745, -0.045256707490195384)"
      ]
     },
     "execution_count": 75,
     "metadata": {},
     "output_type": "execute_result"
    }
   ],
   "source": [
    "np.random.seed(0)\n",
    "x = np.random.normal(size=1000)\n",
    "np.mean(x), np.median(x), np.nanmean(x)"
   ]
  },
  {
   "cell_type": "code",
   "execution_count": 7,
   "metadata": {},
   "outputs": [
    {
     "data": {
      "text/plain": [
       "(array([  0,   0,   0,   0,   0,   0,   6,  54, 247, 426, 213,  52,   2,\n",
       "          0,   0,   0,   0,   0,   0], dtype=int64),\n",
       " array([-10.        ,  -8.94736842,  -7.89473684,  -6.84210526,\n",
       "         -5.78947368,  -4.73684211,  -3.68421053,  -2.63157895,\n",
       "         -1.57894737,  -0.52631579,   0.52631579,   1.57894737,\n",
       "          2.63157895,   3.68421053,   4.73684211,   5.78947368,\n",
       "          6.84210526,   7.89473684,   8.94736842,  10.        ]))"
      ]
     },
     "execution_count": 7,
     "metadata": {},
     "output_type": "execute_result"
    }
   ],
   "source": [
    "ns, bins = np.histogram(x, bins=np.linspace(-10,10,20))\n",
    "ns, bins"
   ]
  },
  {
   "cell_type": "code",
   "execution_count": 8,
   "metadata": {},
   "outputs": [
    {
     "data": {
      "text/plain": [
       "(-0.526315789473685, 0.5263157894736832)"
      ]
     },
     "execution_count": 8,
     "metadata": {},
     "output_type": "execute_result"
    }
   ],
   "source": [
    "M = np.argmax(ns)\n",
    "bins[M], bins[M+1]"
   ]
  },
  {
   "cell_type": "markdown",
   "metadata": {},
   "source": [
    "#### 연습 문제 1¶\n",
    "1. NumPy를 사용하여 100개의 숫자를 무작위로 생성한 후 히스토그램을 그리고 샘플 평균을 구한다.\n",
    "2. 1번과 같이 100개의 숫자 생성 및 샘플 평균 계산을 50번 반복하여 50개의 샘플 평균을 구한다.\n",
    "3. 2번에서 구한 50개의 샘플 평균의 히스토그램을 그리고 (샘플 평균의) 샘플 평균을 구한다."
   ]
  },
  {
   "cell_type": "code",
   "execution_count": 9,
   "metadata": {},
   "outputs": [
    {
     "data": {
      "text/plain": [
       "(0.5159037626488165,\n",
       " array([0.30736603, 0.96739724, 0.55724459, 0.78149395, 0.57624085,\n",
       "        0.7519101 , 0.49425385, 0.13950608, 0.00236109, 0.8615867 ,\n",
       "        0.86854221, 0.034243  , 0.54726782, 0.44580398, 0.97331762,\n",
       "        0.57466015, 0.2875779 , 0.70699679, 0.15051626, 0.20225699,\n",
       "        0.95592462, 0.88696139, 0.71567925, 0.0932797 , 0.36744243,\n",
       "        0.64230485, 0.52374178, 0.33431196, 0.97045318, 0.96934968,\n",
       "        0.20548985, 0.19301519, 0.54871445, 0.16387566, 0.35488641,\n",
       "        0.40723784, 0.11263245, 0.12879722, 0.50070832, 0.58843938,\n",
       "        0.64755694, 0.08018591, 0.99811534, 0.72005527, 0.0417482 ,\n",
       "        0.3484089 , 0.11683607, 0.53592066, 0.8860767 , 0.94911955,\n",
       "        0.1978653 , 0.96711012, 0.08453175, 0.37184149, 0.56616482,\n",
       "        0.17247173, 0.403713  , 0.43626053, 0.9908179 , 0.04055683,\n",
       "        0.43865462, 0.55478053, 0.70294901, 0.16546058, 0.65248767,\n",
       "        0.1089387 , 0.49725626, 0.6929569 , 0.9937038 , 0.82115732,\n",
       "        0.24368658, 0.52742022, 0.76963648, 0.93859854, 0.86023403,\n",
       "        0.12973935, 0.58932133, 0.11780133, 0.15586929, 0.87920349,\n",
       "        0.95496009, 0.0571885 , 0.52081084, 0.24246   , 0.08259988,\n",
       "        0.9263165 , 0.73357499, 0.87229728, 0.97784393, 0.7353816 ,\n",
       "        0.55289003, 0.96669237, 0.16674826, 0.79112026, 0.79556414,\n",
       "        0.7397652 , 0.89848278, 0.0373932 , 0.09220217, 0.15708237]))"
      ]
     },
     "execution_count": 9,
     "metadata": {},
     "output_type": "execute_result"
    }
   ],
   "source": [
    "x = np.random.rand(100)\n",
    "x.mean(), x"
   ]
  },
  {
   "cell_type": "code",
   "execution_count": 10,
   "metadata": {},
   "outputs": [
    {
     "data": {
      "text/plain": [
       "(array([11., 16.,  5.,  6.,  7., 15.,  4., 12.,  9., 15.]),\n",
       " array([0.00236109, 0.10193652, 0.20151194, 0.30108737, 0.40066279,\n",
       "        0.50023822, 0.59981364, 0.69938907, 0.79896449, 0.89853991,\n",
       "        0.99811534]),\n",
       " <a list of 10 Patch objects>)"
      ]
     },
     "execution_count": 10,
     "metadata": {},
     "output_type": "execute_result"
    },
    {
     "data": {
      "image/png": "[encoded data removed]",
      "text/plain": [
       "<matplotlib.figure.Figure at 0xbc6eb38>"
      ]
     },
     "metadata": {},
     "output_type": "display_data"
    }
   ],
   "source": [
    "plt.xlim(0,1)\n",
    "plt.hist(x)"
   ]
  },
  {
   "cell_type": "code",
   "execution_count": 40,
   "metadata": {},
   "outputs": [
    {
     "data": {
      "text/plain": [
       "[0.4979383475437746,\n",
       " 0.49492574201298045,\n",
       " 0.4905315215324453,\n",
       " 0.44174547995076774,\n",
       " 0.4856557685017054,\n",
       " 0.4810115192825137,\n",
       " 0.458815372641983,\n",
       " 0.4571372901996428,\n",
       " 0.5229977211780501,\n",
       " 0.5151679721646303,\n",
       " 0.46497597086535286,\n",
       " 0.5363712963129682,\n",
       " 0.4989273420528187,\n",
       " 0.47904212899554943,\n",
       " 0.49548459703492026,\n",
       " 0.45797133619533575,\n",
       " 0.4742388647656898,\n",
       " 0.5211722851380436,\n",
       " 0.4749793975425395,\n",
       " 0.5265942280183628,\n",
       " 0.47807550242696206,\n",
       " 0.5021436453909777,\n",
       " 0.48255507630279093,\n",
       " 0.4299519434777109,\n",
       " 0.5272393653572907,\n",
       " 0.496203368639037,\n",
       " 0.5107382634249266,\n",
       " 0.4588745341177622,\n",
       " 0.49106504918459215,\n",
       " 0.5023386024475783,\n",
       " 0.4934240165095687,\n",
       " 0.5271390222185584,\n",
       " 0.5661487383166984,\n",
       " 0.4750772103712782,\n",
       " 0.47461065842707845,\n",
       " 0.5006040503559603,\n",
       " 0.5082002382505413,\n",
       " 0.46173595395147765,\n",
       " 0.5083360733329264,\n",
       " 0.4953217001780312,\n",
       " 0.4904086747221371,\n",
       " 0.4545911623656432,\n",
       " 0.526808317286956,\n",
       " 0.5759453442327938,\n",
       " 0.529700033604469,\n",
       " 0.5428315023337488,\n",
       " 0.5273377611502766,\n",
       " 0.483268024811146,\n",
       " 0.4967916513524883,\n",
       " 0.517561529561608]"
      ]
     },
     "execution_count": 40,
     "metadata": {},
     "output_type": "execute_result"
    }
   ],
   "source": [
    "m = []\n",
    "for i in range(50):\n",
    "    samp = np.random.rand(100)\n",
    "    m.append(samp.mean())\n",
    "m"
   ]
  },
  {
   "cell_type": "code",
   "execution_count": 42,
   "metadata": {},
   "outputs": [
    {
     "data": {
      "text/plain": [
       "(array([ 2.,  5.,  2., 10., 14.,  4.,  9.,  2.,  0.,  2.]),\n",
       " array([0.42995194, 0.44455128, 0.45915062, 0.47374996, 0.4883493 ,\n",
       "        0.50294864, 0.51754798, 0.53214732, 0.54674666, 0.561346  ,\n",
       "        0.57594534]),\n",
       " <a list of 10 Patch objects>)"
      ]
     },
     "execution_count": 42,
     "metadata": {},
     "output_type": "execute_result"
    },
    {
     "data": {
      "image/png": "[encoded data removed]",
      "text/plain": [
       "<matplotlib.figure.Figure at 0xd6033c8>"
      ]
     },
     "metadata": {},
     "output_type": "display_data"
    }
   ],
   "source": [
    "plt.xlim(0, 1)\n",
    "plt.hist(m)"
   ]
  },
  {
   "cell_type": "code",
   "execution_count": 43,
   "metadata": {},
   "outputs": [
    {
     "data": {
      "text/plain": [
       "0.4962142239206619"
      ]
     },
     "execution_count": 43,
     "metadata": {},
     "output_type": "execute_result"
    }
   ],
   "source": [
    "np.mean(np.array(m))"
   ]
  },
  {
   "cell_type": "code",
   "execution_count": 68,
   "metadata": {},
   "outputs": [],
   "source": [
    "sp.random.seed(0)\n",
    "x = sp.stats.norm(0, 2).rvs(1000)  # mean=0, standard deviation=2\n",
    "y = np.random.normal(0, 2, 1000)"
   ]
  },
  {
   "cell_type": "code",
   "execution_count": 74,
   "metadata": {},
   "outputs": [
    {
     "data": {
      "text/plain": [
       "(3.896937825248617, 3.900838663912529)"
      ]
     },
     "execution_count": 74,
     "metadata": {},
     "output_type": "execute_result"
    }
   ],
   "source": [
    "np.var(x), np.var(x, ddof=1) # 비편향 샘플 분산"
   ]
  },
  {
   "cell_type": "code",
   "execution_count": 72,
   "metadata": {},
   "outputs": [
    {
     "data": {
      "text/plain": [
       "(3.749335017131119, 1.9363199676528462)"
      ]
     },
     "execution_count": 72,
     "metadata": {},
     "output_type": "execute_result"
    }
   ],
   "source": [
    "np.var(y), np.std(y)"
   ]
  },
  {
   "cell_type": "code",
   "execution_count": null,
   "metadata": {},
   "outputs": [],
   "source": []
  },
  {
   "cell_type": "code",
   "execution_count": null,
   "metadata": {},
   "outputs": [],
   "source": []
  },
  {
   "cell_type": "code",
   "execution_count": null,
   "metadata": {},
   "outputs": [],
   "source": []
  }
 ],
 "metadata": {
  "kernelspec": {
   "display_name": "Python 3",
   "language": "python",
   "name": "python3"
  },
  "language_info": {
   "codemirror_mode": {
    "name": "ipython",
    "version": 3
   },
   "file_extension": ".py",
   "mimetype": "text/x-python",
   "name": "python",
   "nbconvert_exporter": "python",
   "pygments_lexer": "ipython3",
   "version": "3.6.4"
  }
 },
 "nbformat": 4,
 "nbformat_minor": 2
}
