{
 "cells": [
  {
   "cell_type": "markdown",
   "metadata": {
    "school_cell_uuid": "fc0b6d1b22ee4a6fae5db76577e331f3"
   },
   "source": [
    "# 베이지안 모수 추정"
   ]
  },
  {
   "cell_type": "markdown",
   "metadata": {
    "school_cell_uuid": "0d22a264a14549a4ac4068e824a82b42"
   },
   "source": [
    "베이지안 모수 추정(Bayesian parameter estimation) 방법은 모수의 값에 해당하는 특정한 하나의 숫자를 계산하는 것이 아니라 모수의 값이 가질 수 있는 모든 가능성, 즉 모수의 분포를 계산하는 작업이다."
   ]
  },
  {
   "cell_type": "markdown",
   "metadata": {
    "school_cell_uuid": "7e7284d25804437b81c47ef8fbd0d036"
   },
   "source": [
    "이때 계산된 모수의 분포를 표현 방법은 두 가지가 있다.\n",
    "\n",
    "1. 모수적(parametric) 방법 \n",
    "  * 모수의 분포를 잘 알려진 확률 분포 모형을 사용하여 나타낸다. 이렇게 하면 모수를 나타내는 확률 분포 수식이 다시 모수(parameter)를 가지게 되는데 이를 hyper-parameter라고도 부른다. 모수적 방법은 결국 hypter-parameter의 값을 숫자로 계산하는 작업이 된다.\n",
    "\n",
    "2. 비모수적(non-parametric) 방법\n",
    " * 샘플을 제시한 후 히스토그램와 같은 방법으로 임의의 분포를 표현한다. MCMC(Markov chain Monte Carlo)와 같은 몬테카를로 방법에서 사용한다."
   ]
  },
  {
   "cell_type": "markdown",
   "metadata": {
    "school_cell_uuid": "adfd7c54e055436e953d7c244e73d79b"
   },
   "source": [
    "여기에서는 모수적 방법의 몇 가지 간단한 예를 보인다."
   ]
  },
  {
   "cell_type": "markdown",
   "metadata": {
    "school_cell_uuid": "e80c3af3838046dcb6c5210fb88d0470"
   },
   "source": [
    "## 베이지안 모수 추정의 기본 원리"
   ]
  },
  {
   "cell_type": "markdown",
   "metadata": {
    "school_cell_uuid": "45582e7747e148f283325e6beeb60f24"
   },
   "source": [
    "베이지안 모수 추정 방법은 다음 공식을 사용하여 모수의 분포 $p(\\theta)$를 $p(\\theta \\mid x_{1},\\ldots,x_{N})$ 로 갱신(update)하는 작업이다.\n",
    "\n",
    "\n",
    "$$ p(\\theta \\mid x_{1},\\ldots,x_{N}) = \\dfrac{p(x_{1},\\ldots,x_{N} \\mid \\theta) \\cdot p(\\theta)}{p(x_{1},\\ldots,x_{N})} \\propto p(x_{1},\\ldots,x_{N}  \\mid \\theta )  \\cdot p(\\theta) $$ \n",
    "\n",
    "\n",
    "이 식에서 \n",
    "\n",
    "$p(\\theta)$는 사전(Prior) 분포이다. 사전 분포는 베이지안 추정 작업을 하기 전에 이미 알고 있던 모수 $\\theta$의 분포를 뜻한다. \n",
    "아무런 지식이 없는 경우에는 보통 uniform 분포 $\\text{Beta}(1,1)$나 0 을 중심으로하는 정규 분포 $\\mathcal{N}(0, 1)$를 사용한다\n",
    "\n",
    "\n",
    "$p(\\theta \\mid x_{1},\\ldots,x_{N})$는 사후(Posterior) 분포이다. 수학적으로는 데이터 $x_{1},\\ldots,x_{N}$가 알려진 상태에서의 $\\theta$에 대한 조건부 확률 분포이다. 우리가 베이지안 모수 추정 작업을 통해 구하고자 하는 것이 바로 이 사후 분포이다. \n",
    " \n",
    " \n",
    "$p(x_{1},\\ldots,x_{N} \\mid \\theta)$는 Likelihood 분포이다. 조건부 확률 분포 $p(\\theta \\mid x_{1},\\ldots,x_{N})$ 에서 데이터  $x_{1},\\ldots,x_{N}$을 이미 알고 있고 $\\theta$가 미지수이지만 Likelihood에서는 이와 반대로 $\\theta$를 이미 알고 있고 데이터  $x_{1},\\ldots,x_{N}$ 가 나올 확률을 구한다.\n"
   ]
  },
  {
   "cell_type": "markdown",
   "metadata": {
    "school_cell_uuid": "77f16a91ca0f44029bdfe0ed8bef3bff"
   },
   "source": [
    "## 베르누이 분포의 모수 추정"
   ]
  },
  {
   "cell_type": "markdown",
   "metadata": {
    "school_cell_uuid": "12a3a691e73247d681b6d1f4748959ca"
   },
   "source": [
    "가장 단순한 이산 확률 분포인 베르누이 분포의 모수 $\\theta$를 베이지안 추정법으로 추정해 본다.\n",
    "\n",
    "베르누이 분포의 모수는 0부터 1사이의 값을 가지므로 사전 분포는 하이퍼 모수 $a=b=1$인 베타 분포로 한다.\n",
    "\n",
    "$$ P(\\theta) \\propto \\theta^{a−1}(1−\\theta)^{b−1} \\;\\;\\; (a=1, b=1)$$\n",
    "\n",
    "\n",
    "데이터는 모두 독립적인 베르누이 분포의 곱이므로 Likelihood는 다음과 같이 이항 분포가 된다.\n",
    "\n",
    "$$ P(x_{1},\\ldots,x_{N} \\mid \\theta) = \\prod_{i=1}^N  \\theta^{x_i} (1 - \\theta)^{1-x_i} $$\n",
    "\n",
    "베이지안 규칙을 사용하여 사후 분포를 구하면 다음과 같이 갱신된 하이퍼 모수 $a'$, $b'$를 가지는 베타 분포가 된다.\n",
    "\n",
    "$$ \n",
    "\\begin{eqnarray}\n",
    "P(\\theta \\mid x_{1},\\ldots,x_{N})\n",
    "&\\propto & P(x_{1},\\ldots,x_{N} \\mid \\theta)  P(\\theta) \\\\\n",
    "&=& \\prod_{i=1}^N  \\theta^{x_i} (1 - \\theta)^{1-x_i} \\cdot \\theta^{a−1}(1−\\theta)^{b−1}  \\\\\n",
    "&=& \\theta^{\\sum_{i=1}^N x_i + a−1} (1 - \\theta)^{\\sum_{i=1}^N (1-x_i) + b−1 }   \\\\\n",
    "&=& \\theta^{N_1 + a−1} (1 - \\theta)^{N_0 + b−1 }   \\\\\n",
    "&=& \\theta^{a'−1} (1 - \\theta)^{b'−1 }   \\\\\n",
    "\\end{eqnarray}\n",
    "$$\n",
    "\n",
    "이렇게 사전 분포와 사후 분포가 같은 확률 분포 모형을 가지게 하는 사전 분포를 conjugate prior 라고 한다.\n",
    "\n",
    "갱신된 하이퍼 모수의 값은 다음과 같다.\n",
    "\n",
    "$$ a' = N_1 + a $$\n",
    "$$ b' = N_0 + b $$\n",
    "\n"
   ]
  },
  {
   "cell_type": "code",
   "execution_count": 2,
   "metadata": {
    "school_cell_uuid": "e163f77c3c824709989c06978bbe2997"
   },
   "outputs": [
    {
     "name": "stdout",
     "output_type": "stream",
     "text": [
      "step 0: mode = unknown\n",
      "step 1: mode = 0.52\n",
      "step 2: mode = 0.62\n",
      "step 3: mode = 0.58\n",
      "step 4: mode = 0.59\n"
     ]
    },
    {
     "data": {
      "image/png": "[encoded data removed]",
      "text/plain": [
       "<Figure size 432x288 with 1 Axes>"
      ]
     },
     "metadata": {},
     "output_type": "display_data"
    }
   ],
   "source": [
    "%matplotlib inline\n",
    "theta0 = 0.6\n",
    "a0, b0 = 1, 1\n",
    "print(\"step 0: mode = unknown\")\n",
    "\n",
    "xx = np.linspace(0, 1, 1000)\n",
    "plt.plot(xx, sp.stats.beta(a0, b0).pdf(xx), label=\"initial\");\n",
    "\n",
    "np.random.seed(0)\n",
    "x = sp.stats.bernoulli(theta0).rvs(50)\n",
    "N0, N1 = np.bincount(x, minlength=2)\n",
    "a1, b1 = a0 + N1, b0 + N0\n",
    "plt.plot(xx, sp.stats.beta(a1, b1).pdf(xx), label=\"1st\");\n",
    "print(\"step 1: mode =\", (a1 - 1)/(a1 + b1 - 2))\n",
    "\n",
    "x = sp.stats.bernoulli(theta0).rvs(50)\n",
    "N0, N1 = np.bincount(x, minlength=2)\n",
    "a2, b2 = a1 + N1, b1 + N0\n",
    "plt.plot(xx, sp.stats.beta(a2, b2).pdf(xx), label=\"2nd\");\n",
    "print(\"step 2: mode =\", (a2 - 1)/(a2 + b2 - 2))\n",
    "\n",
    "x = sp.stats.bernoulli(theta0).rvs(50)\n",
    "N0, N1 = np.bincount(x, minlength=2)\n",
    "a3, b3 = a2 + N1, b2 + N0\n",
    "plt.plot(xx, sp.stats.beta(a3, b3).pdf(xx), label=\"3rd\");\n",
    "print(\"step 3: mode =\", (a3 - 1)/(a3 + b3 - 2))\n",
    "\n",
    "x = sp.stats.bernoulli(theta0).rvs(50)\n",
    "N0, N1 = np.bincount(x, minlength=2)\n",
    "a4, b4 = a3 + N1, b3 + N0\n",
    "plt.plot(xx, sp.stats.beta(a4, b4).pdf(xx), label=\"4th\");\n",
    "print(\"step 4: mode =\", (a4 - 1)/(a4 + b4 - 2))\n",
    "\n",
    "plt.legend()\n",
    "plt.show()"
   ]
  },
  {
   "cell_type": "markdown",
   "metadata": {
    "school_cell_uuid": "99f66cbfaae84dbdad25d394eae1da10"
   },
   "source": [
    "## 카테고리 분포의 모수 추정"
   ]
  },
  {
   "cell_type": "markdown",
   "metadata": {
    "school_cell_uuid": "3b592db91feb4d899f733db1219213be"
   },
   "source": [
    "다음으로 클래스 갯수가 $K$인 카테고리 분포의 모수 $\\theta$ 벡터를 베이지안 추정법으로 추정해 본다.\n",
    "\n",
    "카테고리 분포의 모수의 각 원소는 모두 0부터 1사이의 값을 가지므로 사전 분포는 하이퍼 모수 $\\alpha_k=1$인 디리클리 분포로 한다.\n",
    "\n",
    "$$ P(\\theta) \\propto \\prod_{k=1}^K \\theta_k^{\\alpha_k - 1} \\;\\;\\; (\\alpha_k = 1, \\; \\text{ for all } k) $$\n",
    "\n",
    "\n",
    "데이터는 모두 독립적인 카테고리 분포의 곱이므로 Likelihood는 다음과 같이 다항 분포가 된다.\n",
    "\n",
    "$$ P(x_{1},\\ldots,x_{N} \\mid \\theta) = \\prod_{i=1}^N  \\prod_{k=1}^K \\theta_k^{x_{i,k}} $$\n",
    "\n",
    "베이지안 규칙을 사용하여 사후 분포를 구하면 다음과 같이 갱신된 하이퍼 모수 $\\alpha'_i$를 가지는 디리클리 분포가 된다.\n",
    "\n",
    "$$ \n",
    "\\begin{eqnarray}\n",
    "P(\\theta \\mid x_{1},\\ldots,x_{N})\n",
    "&\\propto & P(x_{1},\\ldots,x_{N} \\mid \\theta)  P(\\theta) \\\\\n",
    "&=& \\prod_{i=1}^N  \\prod_{k=1}^K \\theta_k^{x_{i,k}} \\cdot \\prod_{k=1}^K \\theta_k^{\\alpha_k - 1}  \\\\\n",
    "&=& \\prod_{k=1}^K  \\theta^{\\sum_{i=1}^N x_{i,k} + \\alpha_k − 1}   \\\\\n",
    "&=& \\prod_{k=1}^K  \\theta^{N_k + \\alpha_k −1}   \\\\\n",
    "&=& \\prod_{k=1}^K  \\theta^{\\alpha'_k −1}   \\\\\n",
    "\\end{eqnarray}\n",
    "$$\n",
    "\n",
    "이 경우에도 conjugate prior 임을 알 수 있다.\n",
    "\n",
    "갱신된 하이퍼 모수의 값은 다음과 같다.\n",
    "$$ \\alpha'_k = N_k + \\alpha_k $$\n",
    "\n"
   ]
  },
  {
   "cell_type": "code",
   "execution_count": 4,
   "metadata": {
    "school_cell_uuid": "c9957dcc413b4ac6b933fc7e8f651448"
   },
   "outputs": [],
   "source": [
    "def plot_dirichlet(alpha):\n",
    "\n",
    "    def project(x):\n",
    "        n1 = np.array([1, 0, 0])\n",
    "        n2 = np.array([0, 1, 0])\n",
    "        n3 = np.array([0, 0, 1])\n",
    "        n12 = (n1 + n2)/2\n",
    "        m1 = np.array([1, -1, 0])\n",
    "        m2 = n3 - n12\n",
    "        m1 = m1/np.linalg.norm(m1)\n",
    "        m2 = m2/np.linalg.norm(m2)\n",
    "        return np.dstack([(x-n12).dot(m1), (x-n12).dot(m2)])[0]\n",
    "\n",
    "    def project_reverse(x):\n",
    "        n1 = np.array([1, 0, 0])\n",
    "        n2 = np.array([0, 1, 0])\n",
    "        n3 = np.array([0, 0, 1])\n",
    "        n12 = (n1 + n2)/2\n",
    "        m1 = np.array([1, -1, 0])\n",
    "        m2 = n3 - n12\n",
    "        m1 = m1/np.linalg.norm(m1)\n",
    "        m2 = m2/np.linalg.norm(m2)\n",
    "        return x[:,0][:, np.newaxis] * m1 + x[:,1][:, np.newaxis] * m2 + n12\n",
    "\n",
    "    eps = np.finfo(float).eps * 10\n",
    "    X = project([[1-eps,0,0], [0,1-eps,0], [0,0,1-eps]])\n",
    "    \n",
    "    import matplotlib.tri as mtri\n",
    "\n",
    "    triang = mtri.Triangulation(X[:,0], X[:,1], [[0, 1, 2]])\n",
    "    refiner = mtri.UniformTriRefiner(triang)\n",
    "    triang2 = refiner.refine_triangulation(subdiv=6)\n",
    "    XYZ = project_reverse(np.dstack([triang2.x, triang2.y, 1-triang2.x-triang2.y])[0])\n",
    "\n",
    "    pdf = sp.stats.dirichlet(alpha).pdf(XYZ.T)\n",
    "    plt.tricontourf(triang2, pdf)\n",
    "    plt.axis(\"equal\")\n",
    "    plt.show()"
   ]
  },
  {
   "cell_type": "code",
   "execution_count": 5,
   "metadata": {
    "school_cell_uuid": "6406eb07f1f9487983b59db204f79aae"
   },
   "outputs": [],
   "source": [
    "theta0 = np.array([0.2, 0.6, 0.2])\n",
    "\n",
    "np.random.seed(0)\n",
    "x1 = np.random.choice(3, 20, p=theta0)\n",
    "N1 = np.bincount(x1, minlength=3)\n",
    "x2 = np.random.choice(3, 100, p=theta0)\n",
    "N2 = np.bincount(x2, minlength=3)\n",
    "x3 = np.random.choice(3, 1000, p=theta0)\n",
    "N3 = np.bincount(x3, minlength=3)"
   ]
  },
  {
   "cell_type": "code",
   "execution_count": 6,
   "metadata": {
    "school_cell_uuid": "65ba11431da347778145616b62e9ea6f"
   },
   "outputs": [
    {
     "data": {
      "image/png": "[encoded data removed]",
      "text/plain": [
       "<Figure size 432x288 with 1 Axes>"
      ]
     },
     "metadata": {},
     "output_type": "display_data"
    }
   ],
   "source": [
    "a0 = np.ones(3) / 3\n",
    "plot_dirichlet(a0)"
   ]
  },
  {
   "cell_type": "code",
   "execution_count": 7,
   "metadata": {
    "school_cell_uuid": "b6a8166595c54ea68a1d55a226a84b34"
   },
   "outputs": [
    {
     "data": {
      "image/png": "[encoded data removed]",
      "text/plain": [
       "<Figure size 432x288 with 1 Axes>"
      ]
     },
     "metadata": {},
     "output_type": "display_data"
    },
    {
     "name": "stdout",
     "output_type": "stream",
     "text": [
      "[0.12962963 0.62962963 0.24074074]\n"
     ]
    }
   ],
   "source": [
    "a1 = a0 + N1\n",
    "plot_dirichlet(a1)\n",
    "print((a1 - 1)/(a1.sum() - 3))"
   ]
  },
  {
   "cell_type": "code",
   "execution_count": 8,
   "metadata": {
    "school_cell_uuid": "11f87c3d249d438c86c23526959577b8"
   },
   "outputs": [
    {
     "data": {
      "image/png": "[encoded data removed]",
      "text/plain": [
       "<Figure size 432x288 with 1 Axes>"
      ]
     },
     "metadata": {},
     "output_type": "display_data"
    },
    {
     "name": "stdout",
     "output_type": "stream",
     "text": [
      "[0.20621469 0.62146893 0.17231638]\n"
     ]
    }
   ],
   "source": [
    "a2 = a1 + N2\n",
    "plot_dirichlet(a2)\n",
    "print((a2 - 1)/(a2.sum() - 3))"
   ]
  },
  {
   "cell_type": "code",
   "execution_count": 9,
   "metadata": {
    "school_cell_uuid": "f48d10d837194f57a989cd70b357014a"
   },
   "outputs": [
    {
     "data": {
      "image/png": "[encoded data removed]",
      "text/plain": [
       "<Figure size 432x288 with 1 Axes>"
      ]
     },
     "metadata": {},
     "output_type": "display_data"
    },
    {
     "name": "stdout",
     "output_type": "stream",
     "text": [
      "[0.2033393  0.59421586 0.20244484]\n"
     ]
    }
   ],
   "source": [
    "a3 = a2 + N3\n",
    "plot_dirichlet(a3)\n",
    "print((a3 - 1)/(a3.sum() - 3))"
   ]
  },
  {
   "cell_type": "markdown",
   "metadata": {
    "school_cell_uuid": "1104ca72bed2422a93dda475bb0f9283"
   },
   "source": [
    "## 정규 분포의 기댓값 모수 추정"
   ]
  },
  {
   "cell_type": "markdown",
   "metadata": {
    "school_cell_uuid": "3d54db8b43c449e6a73d2768008b213d"
   },
   "source": [
    "이번에는 정규 분포의 기댓값 모수를 베이지안 방법으로 추정한다. 분산 모수 $\\sigma^2$은 알고 있다고 가정한다.\n",
    "\n",
    "기댓값은 $-\\infty$부터 $\\infty$까지의 모든 수가 가능하기 때문에 모수의 사전 분포로는 정규 분포를 사용한다.\n",
    "\n",
    "$$ P(\\mu) = N(\\mu_0, \\sigma^2_0) = \\dfrac{1}{\\sqrt{2\\pi\\sigma_0^2}} \\exp \\left(-\\dfrac{(\\mu-\\mu_0)^2}{2\\sigma_0^2}\\right)$$\n",
    "\n",
    "데이터는 모두 독립적인 정규 분포의 곱이므로 Likelihood는 다음과 같이 된다.\n",
    "\n",
    "$$ P(x_{1},\\ldots,x_{N} \\mid \\mu) = \\prod_{i=1}^N N(x_i \\mid \\mu )  = \\prod_{i=1}^N  \\dfrac{1}{\\sqrt{2\\pi\\sigma^2}} \\exp \\left(-\\dfrac{(x_i-\\mu)^2}{2\\sigma^2}\\right)  $$\n",
    "\n",
    "$$ \n",
    "\\begin{eqnarray}\n",
    "P(\\theta \\mid x_{1},\\ldots,x_{N})  \n",
    "&\\propto & P(x_{1},\\ldots,x_{N} \\mid \\theta) P(\\theta) \\\\\n",
    "&\\propto & \\exp \\left(-\\dfrac{(\\mu-\\mu'_0)^2}{2\\sigma_0^{'2}}\\right) \\\\\n",
    "\\end{eqnarray}\n",
    "$$\n",
    "\n",
    "베이지안 규칙을 사용하여 사후 분포를 구하면 다음과 같이 갱신된 하이퍼 모수  를 가지는 정규 분포가 된다.\n",
    "\n",
    "$$\n",
    "\\begin{eqnarray}\n",
    "\\mu'_0 &=& \\dfrac{\\sigma^2}{N\\sigma_0^2 + \\sigma^2}\\mu_0 + \\dfrac{N\\sigma_0^2}{N\\sigma_0^2 + \\sigma^2} \\dfrac{\\sum x_i}{N} \\\\\n",
    "\\dfrac{1}{\\sigma_0^{'2}} &=& \\dfrac{1}{\\sigma_0^{2}} + \\dfrac{N}{\\sigma^{'2}}\n",
    "\\end{eqnarray}\n",
    "$$\n"
   ]
  },
  {
   "cell_type": "code",
   "execution_count": 10,
   "metadata": {
    "school_cell_uuid": "fed1f61a878f4d12b8f7387633125e96"
   },
   "outputs": [
    {
     "name": "stdout",
     "output_type": "stream",
     "text": [
      "1.955730836234882\n",
      "2.155461571114566\n",
      "1.8756740151085618\n",
      "2.0477720199827805\n"
     ]
    },
    {
     "data": {
      "image/png": "[encoded data removed]",
      "text/plain": [
       "<Figure size 432x288 with 1 Axes>"
      ]
     },
     "metadata": {},
     "output_type": "display_data"
    }
   ],
   "source": [
    "mu, sigma2 = 2, 4\n",
    "\n",
    "mu0, sigma20 = 0, 1\n",
    "xx = np.linspace(1, 3, 1000)\n",
    "\n",
    "np.random.seed(0)\n",
    "\n",
    "N = 10\n",
    "x = sp.stats.norm(mu).rvs(N)\n",
    "mu0 = sigma2/(N*sigma20 + sigma2) * mu0 + (N*sigma20)/(N*sigma20 + sigma2)*x.mean()\n",
    "sigma20 = 1/(1/sigma20 + N/sigma2)\n",
    "plt.plot(xx, sp.stats.norm(mu0, sigma20).pdf(xx), label=\"1st\");\n",
    "print(mu0)\n",
    "\n",
    "N = 20\n",
    "x = sp.stats.norm(mu).rvs(N)\n",
    "mu0 = sigma2/(N*sigma20 + sigma2) * mu0 + (N*sigma20)/(N*sigma20 + sigma2)*x.mean()\n",
    "sigma20 = 1/(1/sigma20 + N/sigma2)\n",
    "plt.plot(xx, sp.stats.norm(mu0, sigma20).pdf(xx), label=\"2nd\");\n",
    "print(mu0)\n",
    "\n",
    "N = 50\n",
    "x = sp.stats.norm(mu).rvs(N)\n",
    "mu0 = sigma2/(N*sigma20 + sigma2) * mu0 + (N*sigma20)/(N*sigma20 + sigma2)*x.mean()\n",
    "sigma20 = 1/(1/sigma20 + N/sigma2)\n",
    "plt.plot(xx, sp.stats.norm(mu0, sigma20).pdf(xx), label=\"3rd\");\n",
    "print(mu0)\n",
    "\n",
    "N = 100\n",
    "x = sp.stats.norm(mu).rvs(N)\n",
    "mu0 = sigma2/(N*sigma20 + sigma2) * mu0 + (N*sigma20)/(N*sigma20 + sigma2)*x.mean()\n",
    "sigma20 = 1/(1/sigma20 + N/sigma2)\n",
    "plt.plot(xx, sp.stats.norm(mu0, sigma20).pdf(xx), label=\"4th\");\n",
    "print(mu0)\n",
    "\n",
    "plt.axis([1, 3, 0, 20])\n",
    "plt.legend()\n",
    "plt.show()"
   ]
  }
 ],
 "metadata": {
  "kernelspec": {
   "display_name": "Python 3",
   "language": "python",
   "name": "python3"
  },
  "language_info": {
   "codemirror_mode": {
    "name": "ipython",
    "version": 3
   },
   "file_extension": ".py",
   "mimetype": "text/x-python",
   "name": "python",
   "nbconvert_exporter": "python",
   "pygments_lexer": "ipython3",
   "version": "3.6.4"
  }
 },
 "nbformat": 4,
 "nbformat_minor": 1
}
