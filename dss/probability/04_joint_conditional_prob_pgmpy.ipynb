{
 "cells": [
  {
   "cell_type": "markdown",
   "metadata": {},
   "source": [
    "### 결합확률과 조건부확률\n",
    "#### pgmpy 패키지¶\n",
    "`pgmpy(Probabilistic Graphical Models in Python)` 패키지를 사용하면 이산 확률 모형을 쉽게 구현할 수 있다. pgmpy 패키지의 JointProbabilityDistribution 클래스는 결합 확률 모형을 만들기 위한 클래스이다.\n",
    "```\n",
    "JointProbabilityDistribution(variables, cardinality, values)\n",
    "    variables: 확률 변수의 이름 문자열의 리스트\n",
    "    cardinality: 각 확률 변수의 경우의 수(cardinality)의 리스트\n",
    "    values: 각 확률 변수의 모든 경우의 조합에 대한 확률 값의 리스트\n",
    "    variables에 들어가는 인수가 사건의 이름이 아니라 확률 변수의 이름이라는 점에 주의하라.\n",
    "```"
   ]
  },
  {
   "cell_type": "markdown",
   "metadata": {},
   "source": [
    "배타적이면서 합집합이 전체 집합이 되는 사건은 하나의 확률변수로 표현할 수 있다. 확률 변수가 특정한 값을 가지면 하나의 사건이 된다. 위의 범인 찾기 문제에서는 두 개의 확률 변수  X ,  Y 를 정의할 수 있다. 확률 변수  X 는 성별을 나타내고 확률 변수  Y 는 머리가 긴지 짧은지를 나타낸다.\n",
    "```\n",
    "    X=0 인 경우가 사건  A  (남자인 사건)\n",
    "    X=1 인 경우가 사건  A^C  (여자인 사건)\n",
    "    Y=0 인 경우가 사건  B  (머리가 긴 사건)\n",
    "    Y=1 인 경우가 사건  B^C  (머리가 짧은 사건)\n",
    "```"
   ]
  },
  {
   "cell_type": "code",
   "execution_count": 1,
   "metadata": {},
   "outputs": [],
   "source": [
    "from pgmpy.factors.discrete import JointProbabilityDistribution as JPD"
   ]
  },
  {
   "cell_type": "code",
   "execution_count": 2,
   "metadata": {},
   "outputs": [
    {
     "name": "stdout",
     "output_type": "stream",
     "text": [
      "╒═════╤═════╤══════════╕\n",
      "│ X   │ Y   │   P(X,Y) │\n",
      "╞═════╪═════╪══════════╡\n",
      "│ X_0 │ Y_0 │   0.1500 │\n",
      "├─────┼─────┼──────────┤\n",
      "│ X_0 │ Y_1 │   0.4500 │\n",
      "├─────┼─────┼──────────┤\n",
      "│ X_1 │ Y_0 │   0.3500 │\n",
      "├─────┼─────┼──────────┤\n",
      "│ X_1 │ Y_1 │   0.0500 │\n",
      "╘═════╧═════╧══════════╛\n"
     ]
    }
   ],
   "source": [
    "j1 = JPD(['X', 'Y'], [2, 2], np.array([3, 9, 7, 1]) / 20)\n",
    "print(j1)"
   ]
  },
  {
   "cell_type": "markdown",
   "metadata": {},
   "source": [
    "#### 연습 문제 1¶\n",
    "- 위의 범인 찾기 문제의 예에서 12명의 남자 중 머리가 긴 사람이 6명인 경우의 결합 확률 모형을 JointProbabilityDistribution 클래스 객체 j2로 구현하라."
   ]
  },
  {
   "cell_type": "code",
   "execution_count": 46,
   "metadata": {},
   "outputs": [
    {
     "name": "stdout",
     "output_type": "stream",
     "text": [
      "╒═════╤═════╤══════════╕\n",
      "│ A   │ B   │   P(A,B) │\n",
      "╞═════╪═════╪══════════╡\n",
      "│ A_0 │ B_0 │   0.3000 │\n",
      "├─────┼─────┼──────────┤\n",
      "│ A_0 │ B_1 │   0.3000 │\n",
      "├─────┼─────┼──────────┤\n",
      "│ A_1 │ B_0 │   0.2000 │\n",
      "├─────┼─────┼──────────┤\n",
      "│ A_1 │ B_1 │   0.2000 │\n",
      "╘═════╧═════╧══════════╛\n"
     ]
    }
   ],
   "source": [
    "j2 = JPD([\"A\", \"B\"], [2, 2], np.array([6, 6, 4, 4])/20)\n",
    "print(j2)"
   ]
  },
  {
   "cell_type": "markdown",
   "metadata": {},
   "source": [
    "#### 연습문제2\n",
    "- 위에서 구현한 JointProbabilityDistribution 클래스 객체 j2로부터 주변 확률 모형 및 조건부 확률 모형을 구하라. 또 check_independence 메서드를 이용하여 사건 A, B의 독립을 확인하라."
   ]
  },
  {
   "cell_type": "code",
   "execution_count": 48,
   "metadata": {},
   "outputs": [
    {
     "name": "stdout",
     "output_type": "stream",
     "text": [
      "╒═════╤════════╕\n",
      "│ A   │   P(A) │\n",
      "╞═════╪════════╡\n",
      "│ A_0 │ 0.6000 │\n",
      "├─────┼────────┤\n",
      "│ A_1 │ 0.4000 │\n",
      "╘═════╧════════╛\n"
     ]
    }
   ],
   "source": [
    "# A의 주변확률 P(A)\n",
    "madis = j2.marginal_distribution(['A'], inplace=False) # inplace를 True로 하면 j2객체가 주변확률모형으로 변화\n",
    "print(madis)"
   ]
  },
  {
   "cell_type": "code",
   "execution_count": 49,
   "metadata": {},
   "outputs": [
    {
     "name": "stdout",
     "output_type": "stream",
     "text": [
      "╒═════╤════════╕\n",
      "│ B   │   P(B) │\n",
      "╞═════╪════════╡\n",
      "│ B_0 │ 0.5000 │\n",
      "├─────┼────────┤\n",
      "│ B_1 │ 0.5000 │\n",
      "╘═════╧════════╛\n"
     ]
    }
   ],
   "source": [
    "# B의 주변확률 P(B)\n",
    "madis = j2.marginal_distribution(['B'], inplace=False)\n",
    "print(madis)"
   ]
  },
  {
   "cell_type": "code",
   "execution_count": 52,
   "metadata": {},
   "outputs": [
    {
     "name": "stdout",
     "output_type": "stream",
     "text": [
      "╒═════╤════════╕\n",
      "│ B   │   P(B) │\n",
      "╞═════╪════════╡\n",
      "│ B_0 │ 0.5000 │\n",
      "├─────┼────────┤\n",
      "│ B_1 │ 0.5000 │\n",
      "╘═════╧════════╛\n"
     ]
    }
   ],
   "source": [
    "# P(B|A) , P(B*C|A)\n",
    "condis = j2.conditional_distribution([('A', 0)], inplace=False)\n",
    "print(condis)"
   ]
  },
  {
   "cell_type": "code",
   "execution_count": 53,
   "metadata": {},
   "outputs": [
    {
     "name": "stdout",
     "output_type": "stream",
     "text": [
      "╒═════╤════════╕\n",
      "│ A   │   P(A) │\n",
      "╞═════╪════════╡\n",
      "│ A_0 │ 0.6000 │\n",
      "├─────┼────────┤\n",
      "│ A_1 │ 0.4000 │\n",
      "╘═════╧════════╛\n"
     ]
    }
   ],
   "source": [
    "# P(A|B) , P(A*C|B)\n",
    "condis2 = j2.conditional_distribution([('B', 0)], inplace=False)\n",
    "print(condis2)"
   ]
  },
  {
   "cell_type": "code",
   "execution_count": 54,
   "metadata": {},
   "outputs": [
    {
     "name": "stdout",
     "output_type": "stream",
     "text": [
      "╒═════╤════════╕\n",
      "│ A   │   P(A) │\n",
      "╞═════╪════════╡\n",
      "│ A_0 │ 0.6000 │\n",
      "├─────┼────────┤\n",
      "│ A_1 │ 0.4000 │\n",
      "╘═════╧════════╛\n"
     ]
    }
   ],
   "source": [
    "# P(A|B*C) , P(A*C|B*C)\n",
    "condis3 = j2.conditional_distribution([('B', 1)], inplace=False)\n",
    "print(condis3)"
   ]
  },
  {
   "cell_type": "code",
   "execution_count": 57,
   "metadata": {},
   "outputs": [
    {
     "data": {
      "text/plain": [
       "True"
      ]
     },
     "execution_count": 57,
     "metadata": {},
     "output_type": "execute_result"
    }
   ],
   "source": [
    "# 사건 A, B의 독립여부\n",
    "j2.check_independence(['A'], ['B'])"
   ]
  },
  {
   "cell_type": "code",
   "execution_count": null,
   "metadata": {},
   "outputs": [],
   "source": []
  },
  {
   "cell_type": "code",
   "execution_count": null,
   "metadata": {},
   "outputs": [],
   "source": []
  }
 ],
 "metadata": {
  "kernelspec": {
   "display_name": "Python 3",
   "language": "python",
   "name": "python3"
  },
  "language_info": {
   "codemirror_mode": {
    "name": "ipython",
    "version": 3
   },
   "file_extension": ".py",
   "mimetype": "text/x-python",
   "name": "python",
   "nbconvert_exporter": "python",
   "pygments_lexer": "ipython3",
   "version": "3.6.4"
  }
 },
 "nbformat": 4,
 "nbformat_minor": 2
}
