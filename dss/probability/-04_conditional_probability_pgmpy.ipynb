{
 "cells": [
  {
   "cell_type": "markdown",
   "metadata": {},
   "source": [
    "#### pgmpy을 사용한 베이즈 정리 적용¶\n",
    "pgmpy 패키지에서는 조건부 확률을 정의할 수 있는 TabularCPD 클래스와 베이즈 정리를 적용할 수 있는 BayesianModel 클래스를 제공한다."
   ]
  },
  {
   "cell_type": "markdown",
   "metadata": {},
   "source": [
    "#### 검사 시약 문제\n",
    "- 사건\n",
    "```\n",
    "병에 걸리는 경우: 사건  D \n",
    "양성 반응 보이는 경우: 사건  S \n",
    "병에 걸린 사람이 양성 반응을 보이는 경우: 조건부 사건 S|D \n",
    "양성 반응 보이는 사람이 병에 걸려 있을 경우: 조건부 사건 D|S \n",
    "```\n",
    "- 문제\n",
    "P(S|D)=0.99 가 주어졌을 때,  P(D|S) 를 구하라"
   ]
  },
  {
   "cell_type": "markdown",
   "metadata": {},
   "source": [
    "TabularCPD 클래스는 다음처럼 사용한다.\n",
    "\n",
    "- TabularCPD(variable, variable_card, value, evidence, evidence_card)\n",
    "- variable: 확률 변수의 이름 문자열\n",
    "- variable_card: 확률 변수가 가질 수 있는 경우의 수\n",
    "- value: 조건부 확률 배열. 하나의 열이 하나의 조건(경우)을 뜻하므로 하나의 열의 확률 합은 1이어야 한다.\n",
    "- evidence: 조건이 되는 확률 변수의 이름 문자열의 리스트\n",
    "- evidence_card: 조건이 되는 확률 변수가 가질 수 있는 경우의 수의 리스트"
   ]
  },
  {
   "cell_type": "code",
   "execution_count": 3,
   "metadata": {},
   "outputs": [],
   "source": [
    "from pgmpy.factors.discrete import TabularCPD"
   ]
  },
  {
   "cell_type": "markdown",
   "metadata": {},
   "source": [
    "우선 확률 변수 X를 이용하여 병에 걸렸을 확률  P(D)=P(X=1) , 병에 걸리지 않았을 확률  P(DC)=P(X=0) 를 정의한다."
   ]
  },
  {
   "cell_type": "code",
   "execution_count": 4,
   "metadata": {},
   "outputs": [
    {
     "name": "stdout",
     "output_type": "stream",
     "text": [
      "╒═════╤═══════╕\n",
      "│ X_0 │ 0.998 │\n",
      "├─────┼───────┤\n",
      "│ X_1 │ 0.002 │\n",
      "╘═════╧═══════╛\n"
     ]
    }
   ],
   "source": [
    "cpd_X = TabularCPD('X', 2, [[1 - 0.002, 0.002]])\n",
    "print(cpd_X)"
   ]
  },
  {
   "cell_type": "markdown",
   "metadata": {},
   "source": [
    "다음으로 확률 변수 Y를 이용하여 양성 반응이 나올 확률  P(S)=P(Y=1) , 음성 반응이 나올 확률  P(SC)=P(Y=0) 를 정의한다. 이 확률은 병에 걸렸는가 걸리지 않았는가에 따라 달라지므로 다음처럼 조건부로 정의한다."
   ]
  },
  {
   "cell_type": "code",
   "execution_count": 5,
   "metadata": {},
   "outputs": [
    {
     "name": "stdout",
     "output_type": "stream",
     "text": [
      "╒═════╤══════╤══════╕\n",
      "│ X   │ X_0  │ X_1  │\n",
      "├─────┼──────┼──────┤\n",
      "│ Y_0 │ 0.95 │ 0.01 │\n",
      "├─────┼──────┼──────┤\n",
      "│ Y_1 │ 0.05 │ 0.99 │\n",
      "╘═════╧══════╧══════╛\n"
     ]
    }
   ],
   "source": [
    "cpd_YX = TabularCPD('Y', 2, np.array([[0.95, 0.01], [0.05, 0.99]]),\n",
    "                    evidence=['X'], evidence_card=[2])\n",
    "print(cpd_YX)"
   ]
  },
  {
   "cell_type": "markdown",
   "metadata": {},
   "source": [
    "이 조건부 확률과 조건이 되는 확률을 결합하기 위해서는 BayesianModel 클래스 객체를 만들고 add_cpds 메서드로 위에서 구현한 조건부 확률을 추가한다. check_model 메서드로 모형이 완전한지 확인할 수 있다."
   ]
  },
  {
   "cell_type": "code",
   "execution_count": 6,
   "metadata": {},
   "outputs": [
    {
     "data": {
      "text/plain": [
       "True"
      ]
     },
     "execution_count": 6,
     "metadata": {},
     "output_type": "execute_result"
    }
   ],
   "source": [
    "from pgmpy.models import BayesianModel\n",
    "\n",
    "model = BayesianModel([('X', 'Y')])\n",
    "model.add_cpds(cpd_X, cpd_YX)\n",
    "model.check_model()"
   ]
  },
  {
   "cell_type": "markdown",
   "metadata": {},
   "source": [
    "BayesianModel 클래스는 변수 제거법(VariableElimination)을 사용한 추정을 제공한다. 사용법은 다음과 같다. 자세한 내용은 추후 확률적 그래프 모형에서 다루게 된다."
   ]
  },
  {
   "cell_type": "code",
   "execution_count": 7,
   "metadata": {},
   "outputs": [
    {
     "name": "stdout",
     "output_type": "stream",
     "text": [
      "╒═════╤══════════╕\n",
      "│ X   │   phi(X) │\n",
      "╞═════╪══════════╡\n",
      "│ X_0 │   0.9618 │\n",
      "├─────┼──────────┤\n",
      "│ X_1 │   0.0382 │\n",
      "╘═════╧══════════╛\n"
     ]
    }
   ],
   "source": [
    "from pgmpy.inference import VariableElimination\n",
    "\n",
    "infer = VariableElimination(model)\n",
    "posterior = infer.query(['X'], evidence={'Y': 1})\n",
    "print(posterior['X'])"
   ]
  },
  {
   "cell_type": "markdown",
   "metadata": {},
   "source": [
    "#### 과일 선택 문제¶\n",
    "어떤 과일 가게에서 사과와 오렌지를 팔고 있다. 사과와 오렌지는 Red 농장과 Blue 농장에서 공급받는다.\n",
    "\n",
    "어느날 Red 농장에서 붉은 상자에 사과 2개, 오렌지 6개를 담아서 보냈다. Blue 농장에서는 푸른 상자에 사과가 3, 오렌지가 1개를 담아서 공급했다.\n",
    "\n",
    "이 때 어떤 손님이 와서 오렌지를 하나 선택했다( X=  오렌지). 이 오렌지는 Red 농장에서 온 것일까( Y= Red), 아니면 Blue 농장에서 온 것일까( Y= Blue)? 만약 Red 농장과 Blue 농장 중 하나의 답을 정해야 한다면 여러분은 어느 농장을 선택하겠는가?\n",
    "```\n",
    "손님이 선택한 과일이 사과인 사건  X=A \n",
    "손님이 선택한 과일이 오렌지인 사건  X=O \n",
    "손님이 선택한 과일이 Red 농장에서 왔을 사건  Y=R \n",
    "손님이 선택한 과일이 Blue 농장에서 왔을 사건  Y=B\n",
    "```"
   ]
  },
  {
   "cell_type": "markdown",
   "metadata": {},
   "source": [
    "여기에서는 확률 변수 Y를 Y=0인 경우가 Red 농장, Y=1인 경우가 Blue 농장으로 정의한다."
   ]
  },
  {
   "cell_type": "code",
   "execution_count": 8,
   "metadata": {},
   "outputs": [
    {
     "name": "stdout",
     "output_type": "stream",
     "text": [
      "╒═════╤══════════╕\n",
      "│ Y_0 │ 0.666667 │\n",
      "├─────┼──────────┤\n",
      "│ Y_1 │ 0.333333 │\n",
      "╘═════╧══════════╛\n"
     ]
    }
   ],
   "source": [
    "cpd_Y = TabularCPD('Y', 2, [[8/12, 4/12]])\n",
    "print(cpd_Y)"
   ]
  },
  {
   "cell_type": "markdown",
   "metadata": {},
   "source": [
    "확률 변수 X는 X=0인 경우를 오렌지인 경우, X=1인 경우를 사과인 경우으로 정의한다."
   ]
  },
  {
   "cell_type": "code",
   "execution_count": 9,
   "metadata": {},
   "outputs": [
    {
     "name": "stdout",
     "output_type": "stream",
     "text": [
      "╒═════╤══════╤══════╕\n",
      "│ Y   │ Y_0  │ Y_1  │\n",
      "├─────┼──────┼──────┤\n",
      "│ X_0 │ 0.75 │ 0.25 │\n",
      "├─────┼──────┼──────┤\n",
      "│ X_1 │ 0.25 │ 0.75 │\n",
      "╘═════╧══════╧══════╛\n"
     ]
    }
   ],
   "source": [
    "cpd_XY = TabularCPD('X', 2, np.array([[6/8, 1/4], [2/8, 3/4]]),\n",
    "                    evidence=['Y'], evidence_card=[2])\n",
    "print(cpd_XY)"
   ]
  },
  {
   "cell_type": "markdown",
   "metadata": {},
   "source": [
    "베이지안 네트워크 모형으로 사후확률을 계산하면  0.1429=1/7 이 나온다."
   ]
  },
  {
   "cell_type": "code",
   "execution_count": 11,
   "metadata": {},
   "outputs": [
    {
     "data": {
      "text/plain": [
       "True"
      ]
     },
     "execution_count": 11,
     "metadata": {},
     "output_type": "execute_result"
    }
   ],
   "source": [
    "from pgmpy.models import BayesianModel\n",
    "\n",
    "model = BayesianModel([('Y', 'X')])\n",
    "model.add_cpds(cpd_Y, cpd_XY)\n",
    "model.check_model()"
   ]
  },
  {
   "cell_type": "code",
   "execution_count": 12,
   "metadata": {},
   "outputs": [
    {
     "name": "stdout",
     "output_type": "stream",
     "text": [
      "╒═════╤══════════╕\n",
      "│ Y   │   phi(Y) │\n",
      "╞═════╪══════════╡\n",
      "│ Y_0 │   0.8571 │\n",
      "├─────┼──────────┤\n",
      "│ Y_1 │   0.1429 │\n",
      "╘═════╧══════════╛\n"
     ]
    }
   ],
   "source": [
    "from pgmpy.inference import VariableElimination\n",
    "\n",
    "infer = VariableElimination(model)\n",
    "posterior = infer.query(['Y'], evidence={'X': 0})\n",
    "print(posterior['Y'])"
   ]
  },
  {
   "cell_type": "code",
   "execution_count": 13,
   "metadata": {},
   "outputs": [
    {
     "data": {
      "text/plain": [
       "0.14285714285714285"
      ]
     },
     "execution_count": 13,
     "metadata": {},
     "output_type": "execute_result"
    }
   ],
   "source": [
    "1/7"
   ]
  }
 ],
 "metadata": {
  "kernelspec": {
   "display_name": "Python 3",
   "language": "python",
   "name": "python3"
  },
  "language_info": {
   "codemirror_mode": {
    "name": "ipython",
    "version": 3
   },
   "file_extension": ".py",
   "mimetype": "text/x-python",
   "name": "python",
   "nbconvert_exporter": "python",
   "pygments_lexer": "ipython3",
   "version": "3.6.4"
  }
 },
 "nbformat": 4,
 "nbformat_minor": 2
}
