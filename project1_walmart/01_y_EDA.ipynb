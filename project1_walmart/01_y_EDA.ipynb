{
 "cells": [
  {
   "cell_type": "code",
   "execution_count": 3,
   "metadata": {},
   "outputs": [
    {
     "name": "stdout",
     "output_type": "stream",
     "text": [
      "0\n"
     ]
    }
   ],
   "source": [
    "import gc\n",
    "collected = gc.collect()\n",
    "print(collected)"
   ]
  },
  {
   "cell_type": "code",
   "execution_count": 1,
   "metadata": {},
   "outputs": [],
   "source": [
    "# train 파일 불러오기\n",
    "train = pd.read_csv(\"./raw/train.csv\")"
   ]
  },
  {
   "cell_type": "code",
   "execution_count": 2,
   "metadata": {},
   "outputs": [],
   "source": [
    "# key 파일 불러오기\n",
    "key = pd.read_csv(\"./raw/key.csv\")"
   ]
  },
  {
   "cell_type": "code",
   "execution_count": 3,
   "metadata": {},
   "outputs": [],
   "source": [
    "# key 파일 store_nbr로 정렬\n",
    "key = key.sort_values(\"store_nbr\").set_index(np.arange(len(key)))"
   ]
  },
  {
   "cell_type": "code",
   "execution_count": 4,
   "metadata": {},
   "outputs": [],
   "source": [
    "# train, key 파일 merge\n",
    "target = train.merge(key, how=\"left\", on = \"store_nbr\")"
   ]
  },
  {
   "cell_type": "code",
   "execution_count": 5,
   "metadata": {},
   "outputs": [],
   "source": [
    "target.to_csv(\"target.csv\", sep=\",\", index=False)"
   ]
  },
  {
   "cell_type": "markdown",
   "metadata": {},
   "source": [
    "---"
   ]
  },
  {
   "cell_type": "code",
   "execution_count": 6,
   "metadata": {},
   "outputs": [],
   "source": [
    "target = pd.read_csv(\"target.csv\")"
   ]
  },
  {
   "cell_type": "code",
   "execution_count": 2,
   "metadata": {},
   "outputs": [
    {
     "data": {
      "text/plain": [
       "Series([], Name: units, dtype: int64)"
      ]
     },
     "execution_count": 2,
     "metadata": {},
     "output_type": "execute_result"
    }
   ],
   "source": [
    "# units이 하나도 없는 item 찾기 - 없음\n",
    "item_count = target.groupby(\"item_nbr\")[\"units\"].sum()\n",
    "item_count[item_count.values == 0]"
   ]
  },
  {
   "cell_type": "code",
   "execution_count": 3,
   "metadata": {
    "scrolled": true
   },
   "outputs": [
    {
     "data": {
      "text/plain": [
       "Series([], Name: units, dtype: int64)"
      ]
     },
     "execution_count": 3,
     "metadata": {},
     "output_type": "execute_result"
    }
   ],
   "source": [
    "# units이 하나도 없는 store 찾기 - 없음\n",
    "store_count = target.groupby(\"store_nbr\")[\"units\"].sum()\n",
    "store_count[store_count == 0]"
   ]
  },
  {
   "cell_type": "code",
   "execution_count": 4,
   "metadata": {
    "scrolled": true
   },
   "outputs": [
    {
     "data": {
      "text/plain": [
       "False"
      ]
     },
     "execution_count": 4,
     "metadata": {},
     "output_type": "execute_result"
    }
   ],
   "source": [
    "# units이 하나도 없는 station 찾기 - 없음\n",
    "station_count = target.groupby(\"station_nbr\")[\"units\"].sum()\n",
    "any(station_count == 0)"
   ]
  },
  {
   "cell_type": "code",
   "execution_count": 5,
   "metadata": {},
   "outputs": [
    {
     "data": {
      "text/plain": [
       "array([   0,    1,    2,    3,    4,    5,    6,    7,    8,    9,   10,\n",
       "         11,   12,   13,   14,   15,   16,   17,   18,   19,   20,   21,\n",
       "         22,   23,   24,   25,   26,   27,   28,   29,   30,   31,   32,\n",
       "         33,   34,   35,   36,   37,   38,   39,   40,   41,   42,   43,\n",
       "         44,   45,   46,   47,   48,   49,   50,   51,   52,   53,   54,\n",
       "         55,   56,   57,   58,   59,   60,   61,   62,   63,   64,   65,\n",
       "         66,   67,   68,   69,   70,   71,   72,   73,   74,   75,   76,\n",
       "         77,   78,   79,   80,   81,   82,   83,   84,   85,   86,   87,\n",
       "         88,   89,   90,   91,   92,   93,   94,   95,   96,   97,   98,\n",
       "         99,  100,  101,  102,  103,  104,  105,  106,  107,  108,  109,\n",
       "        110,  111,  112,  113,  114,  115,  116,  117,  118,  119,  120,\n",
       "        121,  122,  123,  124,  125,  126,  127,  128,  129,  130,  131,\n",
       "        132,  133,  134,  135,  136,  137,  138,  139,  140,  141,  142,\n",
       "        143,  144,  145,  146,  147,  148,  149,  150,  151,  152,  153,\n",
       "        154,  155,  156,  157,  158,  159,  160,  161,  162,  163,  164,\n",
       "        165,  166,  167,  168,  169,  170,  171,  172,  173,  174,  175,\n",
       "        176,  177,  178,  179,  180,  181,  182,  183,  184,  185,  186,\n",
       "        187,  188,  189,  190,  191,  192,  193,  194,  195,  196,  197,\n",
       "        198,  199,  200,  201,  202,  203,  204,  205,  206,  207,  208,\n",
       "        209,  210,  211,  212,  213,  214,  215,  216,  217,  218,  219,\n",
       "        220,  221,  222,  223,  224,  225,  226,  227,  228,  229,  230,\n",
       "        231,  232,  233,  234,  235,  236,  237,  238,  239,  240,  241,\n",
       "        242,  243,  244,  245,  246,  247,  248,  249,  250,  251,  252,\n",
       "        253,  254,  255,  256,  257,  258,  259,  260,  261,  262,  263,\n",
       "        264,  265,  266,  267,  268,  269,  270,  271,  272,  273,  274,\n",
       "        275,  276,  277,  278,  279,  280,  281,  282,  283,  284,  285,\n",
       "        286,  287,  288,  289,  290,  291,  292,  293,  294,  295,  296,\n",
       "        297,  298,  299,  300,  301,  302,  303,  304,  305,  306,  307,\n",
       "        309,  310,  311,  312,  313,  315,  316,  317,  319,  320,  321,\n",
       "        322,  323,  324,  325,  326,  327,  328,  329,  330,  331,  332,\n",
       "        333,  334,  335,  336,  337,  338,  340,  342,  343,  344,  345,\n",
       "        346,  347,  349,  350,  352,  353,  354,  356,  357,  358,  359,\n",
       "        360,  361,  362,  364,  365,  367,  368,  369,  370,  371,  377,\n",
       "        380,  383,  385,  388,  390,  392,  394,  395,  397,  398,  399,\n",
       "        400,  410,  413,  416,  417,  418,  421,  424,  430,  433,  435,\n",
       "        441,  448,  460,  469,  476,  503,  577, 3369, 5568], dtype=int64)"
      ]
     },
     "execution_count": 5,
     "metadata": {},
     "output_type": "execute_result"
    }
   ],
   "source": [
    "# unit의 종류\n",
    "a = np.sort(target[\"units\"].unique())\n",
    "b = np.bincount(target[\"units\"])\n",
    "\n",
    "a"
   ]
  },
  {
   "cell_type": "code",
   "execution_count": 7,
   "metadata": {},
   "outputs": [],
   "source": [
    "# black friday 인 날만 보기\n",
    "black_fridays = ['2012-11-20', '2012-11-21', '2012-11-22', '2012-11-23', '2012-11-24', '2012-11-25', '2012-11-26', '2013-11-26',\n",
    "                '2013-11-27', '2013-11-28', '2013-11-29', '2013-11-30', '2013-12-01', '2013-12-02']\n",
    "target_black = target[target[\"date\"].isin(black_fridays)]"
   ]
  },
  {
   "cell_type": "code",
   "execution_count": 8,
   "metadata": {
    "scrolled": true
   },
   "outputs": [
    {
     "data": {
      "text/plain": [
       "4617600"
      ]
     },
     "execution_count": 8,
     "metadata": {},
     "output_type": "execute_result"
    }
   ],
   "source": [
    "len(target[~target[\"date\"].isin(black_fridays)]) + len(target[target[\"date\"].isin(black_fridays)])"
   ]
  },
  {
   "cell_type": "code",
   "execution_count": 9,
   "metadata": {},
   "outputs": [],
   "source": [
    "target_not_black = target[~target[\"date\"].isin(black_fridays)]"
   ]
  },
  {
   "cell_type": "code",
   "execution_count": 10,
   "metadata": {},
   "outputs": [
    {
     "data": {
      "text/html": [
       "<div>\n",
       "<style scoped>\n",
       "    .dataframe tbody tr th:only-of-type {\n",
       "        vertical-align: middle;\n",
       "    }\n",
       "\n",
       "    .dataframe tbody tr th {\n",
       "        vertical-align: top;\n",
       "    }\n",
       "\n",
       "    .dataframe thead th {\n",
       "        text-align: right;\n",
       "    }\n",
       "</style>\n",
       "<table border=\"1\" class=\"dataframe\">\n",
       "  <thead>\n",
       "    <tr style=\"text-align: right;\">\n",
       "      <th></th>\n",
       "      <th>date</th>\n",
       "      <th>store_nbr</th>\n",
       "      <th>item_nbr</th>\n",
       "      <th>units</th>\n",
       "      <th>station_nbr</th>\n",
       "    </tr>\n",
       "  </thead>\n",
       "  <tbody>\n",
       "    <tr>\n",
       "      <th>1488312</th>\n",
       "      <td>2012-10-28</td>\n",
       "      <td>16</td>\n",
       "      <td>25</td>\n",
       "      <td>577</td>\n",
       "      <td>2</td>\n",
       "    </tr>\n",
       "    <tr>\n",
       "      <th>1580533</th>\n",
       "      <td>2012-11-15</td>\n",
       "      <td>37</td>\n",
       "      <td>5</td>\n",
       "      <td>5568</td>\n",
       "      <td>13</td>\n",
       "    </tr>\n",
       "    <tr>\n",
       "      <th>3190033</th>\n",
       "      <td>2013-11-21</td>\n",
       "      <td>37</td>\n",
       "      <td>5</td>\n",
       "      <td>3369</td>\n",
       "      <td>13</td>\n",
       "    </tr>\n",
       "    <tr>\n",
       "      <th>3260078</th>\n",
       "      <td>2013-12-08</td>\n",
       "      <td>17</td>\n",
       "      <td>9</td>\n",
       "      <td>503</td>\n",
       "      <td>20</td>\n",
       "    </tr>\n",
       "  </tbody>\n",
       "</table>\n",
       "</div>"
      ],
      "text/plain": [
       "               date  store_nbr  item_nbr  units  station_nbr\n",
       "1488312  2012-10-28         16        25    577            2\n",
       "1580533  2012-11-15         37         5   5568           13\n",
       "3190033  2013-11-21         37         5   3369           13\n",
       "3260078  2013-12-08         17         9    503           20"
      ]
     },
     "execution_count": 10,
     "metadata": {},
     "output_type": "execute_result"
    }
   ],
   "source": [
    "target[(target[\"units\"] == 5568) | (target[\"units\"] == 3369) | (target[\"units\"] == 577) | (target[\"units\"] == 503)]"
   ]
  },
  {
   "cell_type": "code",
   "execution_count": 11,
   "metadata": {},
   "outputs": [
    {
     "data": {
      "text/plain": [
       "4617598"
      ]
     },
     "execution_count": 11,
     "metadata": {},
     "output_type": "execute_result"
    }
   ],
   "source": [
    "# 그래프를 잘 보기 위해 unit이 이상하게 높은 3369, 5568 제거\n",
    "target_rm = target[target[\"units\"] < 3000]\n",
    "len(target_rm)"
   ]
  },
  {
   "cell_type": "code",
   "execution_count": null,
   "metadata": {},
   "outputs": [],
   "source": [
    "# item 별로 그래프 그리기\n",
    "%matplotlib inline\n",
    "def make_item_graph():\n",
    "    for i in range(1, 3):\n",
    "        item = target_rm[target_rm[\"item_nbr\"] == i]\n",
    "        plt.figure(figsize=(16, 4))\n",
    "        plt.xlabel(\"item\"+str(i))\n",
    "        plt.bar(item[\"date\"], item[\"units\"])\n",
    "        \n",
    "make_item_graph()"
   ]
  },
  {
   "cell_type": "code",
   "execution_count": null,
   "metadata": {},
   "outputs": [],
   "source": [
    "item = target_rm[target_rm[\"item_nbr\"] == 1]\n",
    "plt.figure(figsize=(16, 4))\n",
    "plt.xlabel(\"item\"+str(1))\n",
    "plt.bar(item[\"date\"], item[\"units\"])"
   ]
  },
  {
   "cell_type": "code",
   "execution_count": 42,
   "metadata": {
    "scrolled": true
   },
   "outputs": [],
   "source": [
    "# 20개 station에 대해서 item 별로 그래프 그리기\n",
    "def make_station_graph():\n",
    "    for i in range(1, 21):\n",
    "        station = target_rm[target_rm[\"station_nbr\"] == i]\n",
    "        plt.figure(figsize=(16, 4))\n",
    "        plt.xlabel(\"station\"+str(i))\n",
    "        plt.plot(pd.to_datetime(station[\"date\"]), station[\"units\"])\n",
    "        "
   ]
  },
  {
   "cell_type": "code",
   "execution_count": null,
   "metadata": {},
   "outputs": [],
   "source": [
    "target.pivot_table(columns=\"store_nbr\", index=\"item_nbr\", values = \"units\", aggfunc=sum, margins=True, margins_name=\"All\")"
   ]
  },
  {
   "cell_type": "code",
   "execution_count": null,
   "metadata": {},
   "outputs": [],
   "source": [
    "target_pivot = target.pivot_table(values=\"units\", columns=\"station_nbr\", index=\"item_nbr\", aggfunc=sum, margins=True, margins_name=\"All\")"
   ]
  },
  {
   "cell_type": "code",
   "execution_count": null,
   "metadata": {},
   "outputs": [],
   "source": [
    "any(target)"
   ]
  }
 ],
 "metadata": {
  "kernelspec": {
   "display_name": "Python 3",
   "language": "python",
   "name": "python3"
  },
  "language_info": {
   "codemirror_mode": {
    "name": "ipython",
    "version": 3
   },
   "file_extension": ".py",
   "mimetype": "text/x-python",
   "name": "python",
   "nbconvert_exporter": "python",
   "pygments_lexer": "ipython3",
   "version": "3.6.4"
  }
 },
 "nbformat": 4,
 "nbformat_minor": 2
}
