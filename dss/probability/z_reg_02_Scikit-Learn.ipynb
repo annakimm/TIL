{
 "cells": [
  {
   "cell_type": "markdown",
   "metadata": {},
   "source": [
    "### Scikit-Learn 패키지 소개\n",
    "Scikit-Learn 패키지는 머신 러닝 교육 및 실무를 위한 파이썬 패키지로 다음과 같은 구성 요소들을 갖추고 있다(교육용 목적으로 제작된 패키지). 빠르거나 대용량 데이터를 처리하도록 구성되어 있지는 않으나 대부분의 머신러닝에 대한 분석이 가능하다.\n",
    "\n",
    "- 벤치마크용 샘플 데이터 세트\n",
    "- 데이터 전처리(preprocessing) 기능\n",
    "- 지도 학습(Supervised learning) 모형\n",
    "- 비지도 학습(Unsupervised learning) 모형\n",
    "- 모형 평가 및 선택\n",
    "\n",
    "자세한 내용은 다음 웹사이트를 참조한다.\n",
    "\n",
    "http://scikit-learn.org"
   ]
  },
  {
   "cell_type": "markdown",
   "metadata": {},
   "source": [
    "#### scikit-learn 패키지에서 제공하는 머신 러닝 모형\n",
    "scikit-learn 패키지의 장점은 다양한 머신 러닝 모형 즉, 알고리즘을 하나의 패키지에서 모두 제공하고 있다는 점이다. 다음은 scikit-learn 패키지에서 제공하는 머신 러닝 모형의 목록이다. 이 목록은 대표적인 것들만을 나열한 것이며 지속적으로 모형들이 추가되고 있다. 계속 업데이트되어 바뀌고 있다.\n",
    "\n",
    "##### 지도 학습(Supervised learning) 모형\n",
    "\n",
    "- http://scikit-learn.org/stable/supervised_learning.html\n",
    "\n",
    "- Generalized Linear Models\n",
    "\n",
    "Ordinary Least Squares\n",
    "Ridge/Lasso/Elastic Net Regression\n",
    "Logistic regression\n",
    "Polynomial regression\n",
    "Perceptron\n",
    "Linear and Quadratic Discriminant Analysis\n",
    "Support Vector Machines\n",
    "Stochastic Gradient Descent\n",
    "Nearest Neighbor Algorithms\n",
    "Gaussian Processes\n",
    "Naive Bayes\n",
    "Decision Trees\n",
    "Ensemble methods\n",
    "Random Forests\n",
    "AdaBoost"
   ]
  },
  {
   "cell_type": "markdown",
   "metadata": {},
   "source": [
    "##### 비지도 학습(Unsupervised learning) 모형\n",
    "\n",
    "http://scikit-learn.org/stable/unsupervised_learning.html\n",
    "\n",
    "Gaussian mixture models\n",
    "Manifold learning\n",
    "Clustering\n",
    "K-means\n",
    "DBSCAN\n",
    "Biclustering\n",
    "Decomposing\n",
    "Principal component analysis (PCA)\n",
    "Factor Analysis\n",
    "Independent component analysis (ICA)\n",
    "Latent Dirichlet Allocation (LDA)\n",
    "Covariance estimation\n",
    "Novelty and Outlier Detection\n",
    "Density Estimation"
   ]
  },
  {
   "cell_type": "markdown",
   "metadata": {},
   "source": [
    "##### scikit-learn의 서브 패키지\n",
    "scikit-learn 은 서브 패키지 단위로 별도의 기능을 제공하고 있다. 대표적인 서브 패키지와 기능을 나열하면 다음과 같다.\n",
    "\n",
    "자료 제공:\n",
    "sklearn.datasets: 샘플 데이터 세트 제공\n",
    "자료 전처리:\n",
    "sklearn.preprocessing: imputation, encoding 등 단순 전처리\n",
    "sklearn.feature_extraction: Feature Extraction\n",
    "모형:\n",
    "sklearn.base: Base classes and utility functions\n",
    "sklearn.pipeline: Pipeline\n",
    "sklearn.linear_model: Generalized Linear Models\n",
    "sklearn.naive_bayes: Naive Bayes\n",
    "sklearn.discriminant_analysis: Discriminant Analysis\n",
    "sklearn.neighbors: Nearest Neighbors\n",
    "sklearn.mixture: Gaussian Mixture Models\n",
    "sklearn.svm: Support Vector Machines\n",
    "sklearn.tree: Decision Trees\n",
    "sklearn.ensemble: Ensemble Methods\n",
    "sklearn.cluster: Clustering\n",
    "모형 평가:\n",
    "sklearn.metrics: Metrics\n",
    "sklearn.cross_validation: Cross Validation\n",
    "sklearn.grid_search: Grid Search"
   ]
  },
  {
   "cell_type": "markdown",
   "metadata": {},
   "source": [
    "### Scikit-Learn의 샘플 데이터\n",
    "sklearn.datasets 서브패키지는 모형 실습을 위한 예제 데이터 세트를 제공한다.\n",
    "\n",
    "예제 데이터 세트를 불러오는 명령들은 크게 다음과 같은 세가지 계열의 명령으로 나눌 수 있다.\n",
    "\n",
    "- load 계열 명령: 저장된 dataset import\n",
    "- fetch 계열 명령: 이미지 파일과 같이 용량이 커서 기본적으로 설치가 안되고, 인터넷에서 캐쉬로 download 후 import(인터넷에 연결이 안되어 있어도 사용가능)\n",
    "- make 계열 명령: 가상 dataset을 생성(학습용)"
   ]
  },
  {
   "cell_type": "code",
   "execution_count": null,
   "metadata": {},
   "outputs": [],
   "source": [
    "##### load 계열 명령\n",
    "예제 데이터 세트는 데이터 크기가 작은 것부터 큰 것까지 다양하다. scikit-learn 패키지는 작은 예제 데이터는 패키지 안에 포함하여 배포하고 크기가 큰 것들은 첫번째로 데이터를 불러들일때 인터넷에서 다운로드받아 저장해 놓았다가 불러온다.\n",
    "\n",
    "load 계열의 명령들은 패키지에 처음부터 저장되어 다운로드 없이 바로 쓸 수 있는 것들이다.\n",
    "\n",
    "`load_boston()`: 회귀 분석용 보스턴 집값\n",
    "`load_diabetes()`: 회귀 분석용 당뇨병 자료\n",
    "`load_linnerud()`: 회귀 분석용 linnerud 자료\n",
    "`load_iris()`: classification용 iris 자료\n",
    "`load_digits()`: classification용 숫자 필기 이미지 자료\n",
    "`load_sample_image()`: 압축용 이미지\n",
    "\n",
    "##### fetch 계열 명령\n",
    "fetch 계열의 명령들은 데이터의 크기가 커서 패키지에 처음부터 저장되어 있지 않고 인터넷에서 다운로드 받아 홈 디렉토리 아래의 scikit_learn_data 라는 서브 디렉토리에 저장한 후 추후 불러들이는 데이터들이다. 따라서 최초 사용시에 인터넷에 연결되어 있지 않으면 사용할 수 없다.\n",
    "\n",
    "`fetch_covtype()` : 회귀분석용 토지 조사 자료\n",
    "`fetch_20newsgroups()` : 뉴스 그룹 텍스트 자료\n",
    "`fetch_olivetti_faces()` : 얼굴 이미지 자료\n",
    "`fetch_lfw_people()` : 얼굴 이미지 자료\n",
    "`fetch_lfw_pairs()` : 얼굴 이미지 자료\n",
    "`fetch_rcv1()` : 로이터 뉴스 corpus\n",
    "`fetch_mldata()` : ML 웹사이트에서 다운로드\n",
    "\n",
    "##### make 계열 명령\n",
    "경우에 따라서는 모형을 시험하기 위해 원하는 특성을 가진 가상의 데이터가 필요할 수 있다. make 계열 명령은 이러한 가상 데이터를 생성하는 역할을 한다.\n",
    "\n",
    "make_regression(): 회귀 분석용 가상 데이터 생성\n",
    "make_classification(): 분류용 가상 데이터 생성\n",
    "make_blobs(): 클러스터링용 가상 데이터 생성\n",
    "\n"
   ]
  },
  {
   "cell_type": "markdown",
   "metadata": {},
   "source": [
    "#### 데이터 세트의 형식\n",
    "scikit-learn의 대부분의 샘플 데이터는 Bunch 라는 클래스 객체로 생성된다. 이 클래스 객체는 다음과 같은 속성을 가진다.\n",
    "\n",
    "- `data`: (필수) 독립 변수 ndarray 배열\n",
    "- `target`: (필수) 종속 변수 ndarray 배열(2차원 배열로 들어가 있는 경우가 많음)\n",
    "- `feature_names`: (옵션) 독립 변수 이름 리스트\n",
    "- `target_names`: (옵션) 종속 변수 이름 리스트\n",
    "- `DESCR`: (옵션) 자료에 대한 설명"
   ]
  },
  {
   "cell_type": "code",
   "execution_count": null,
   "metadata": {},
   "outputs": [],
   "source": []
  },
  {
   "cell_type": "code",
   "execution_count": null,
   "metadata": {},
   "outputs": [],
   "source": []
  },
  {
   "cell_type": "code",
   "execution_count": null,
   "metadata": {},
   "outputs": [],
   "source": []
  },
  {
   "cell_type": "code",
   "execution_count": null,
   "metadata": {},
   "outputs": [],
   "source": []
  },
  {
   "cell_type": "code",
   "execution_count": null,
   "metadata": {},
   "outputs": [],
   "source": []
  }
 ],
 "metadata": {
  "kernelspec": {
   "display_name": "Python 3",
   "language": "python",
   "name": "python3"
  },
  "language_info": {
   "codemirror_mode": {
    "name": "ipython",
    "version": 3
   },
   "file_extension": ".py",
   "mimetype": "text/x-python",
   "name": "python",
   "nbconvert_exporter": "python",
   "pygments_lexer": "ipython3",
   "version": "3.6.4"
  }
 },
 "nbformat": 4,
 "nbformat_minor": 2
}
