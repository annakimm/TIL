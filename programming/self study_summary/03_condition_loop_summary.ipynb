{
 "cells": [
  {
   "cell_type": "markdown",
   "metadata": {},
   "source": [
    "### Input, Output, Condition, Loop"
   ]
  },
  {
   "cell_type": "markdown",
   "metadata": {},
   "source": [
    "##### Input\n",
    "- 데이터를 입력받을 때 사용"
   ]
  },
  {
   "cell_type": "code",
   "execution_count": 1,
   "metadata": {
    "scrolled": true
   },
   "outputs": [
    {
     "name": "stdout",
     "output_type": "stream",
     "text": [
      "insert string : input\n",
      "input\n"
     ]
    }
   ],
   "source": [
    "s = input(\"insert string : \")\n",
    "print(s)"
   ]
  },
  {
   "cell_type": "code",
   "execution_count": 3,
   "metadata": {},
   "outputs": [
    {
     "name": "stdout",
     "output_type": "stream",
     "text": [
      "insert number : 1234\n",
      "<class 'int'> 1234\n"
     ]
    }
   ],
   "source": [
    "n = int(input(\"insert number : \"))\n",
    "print(type(n), n)"
   ]
  },
  {
   "cell_type": "code",
   "execution_count": 5,
   "metadata": {},
   "outputs": [
    {
     "name": "stdout",
     "output_type": "stream",
     "text": [
      "insert list (sep=',') : a,b,c,d,data\n",
      "<class 'list'> ['a', 'b', 'c', 'd', 'data']\n"
     ]
    }
   ],
   "source": [
    "ls = input(\"insert list (sep=',') : \")\n",
    "ls = ls.split(\",\")\n",
    "print(type(ls), ls)"
   ]
  },
  {
   "cell_type": "code",
   "execution_count": 6,
   "metadata": {},
   "outputs": [
    {
     "name": "stdout",
     "output_type": "stream",
     "text": [
      "0 1\n"
     ]
    }
   ],
   "source": [
    "# 출력 - print\n",
    "a, b = 0, 1\n",
    "print(a, b)"
   ]
  },
  {
   "cell_type": "code",
   "execution_count": 2,
   "metadata": {},
   "outputs": [
    {
     "name": "stdout",
     "output_type": "stream",
     "text": [
      "{1: 'one', 2: 'two', 3: '삼', 4: '넷'}\n"
     ]
    }
   ],
   "source": [
    "# pprint : 딕셔너리 형태의 큰 데이터를 보기 편하게 출력\n",
    "#jupyter notebook에서는 잘 동작이 안됨, 터미널(?)에서 활용\n",
    "# print 내의 값을 end = \\n한 것과 같이 나타남\n",
    "\n",
    "from pprint import pprint\n",
    "\n",
    "dic = {1:\"one\", 2:\"two\", 3:\"삼\", 4:\"넷\"}\n",
    "pprint(dic)"
   ]
  },
  {
   "cell_type": "markdown",
   "metadata": {},
   "source": [
    "##### 조건 : if, elif, else\n",
    "```\n",
    "if <조건>:\n",
    "    <code>\n",
    "elif <조건>:\n",
    "    <code>\n",
    "(else:\n",
    "    <조건>)\n",
    "```\n",
    "- 조건을 충족시킬 경우 True로 아래 코드 실행, 조건이 여러 계층으로 나누어져 있을 경우 elif 사용"
   ]
  },
  {
   "cell_type": "code",
   "execution_count": 12,
   "metadata": {
    "scrolled": true
   },
   "outputs": [
    {
     "name": "stdout",
     "output_type": "stream",
     "text": [
      "done\n"
     ]
    }
   ],
   "source": [
    "a = False\n",
    "if a:\n",
    "    print(\"if\")\n",
    "print(\"done\")"
   ]
  },
  {
   "cell_type": "code",
   "execution_count": 3,
   "metadata": {},
   "outputs": [
    {
     "name": "stdout",
     "output_type": "stream",
     "text": [
      "good\n"
     ]
    }
   ],
   "source": [
    "star1 = 4\n",
    "star2 = 2\n",
    "\n",
    "if star1 > 3:\n",
    "    print(\"good\")\n",
    "else:\n",
    "    print(\"bad\")"
   ]
  },
  {
   "cell_type": "code",
   "execution_count": 20,
   "metadata": {},
   "outputs": [
    {
     "name": "stdout",
     "output_type": "stream",
     "text": [
      "C\n"
     ]
    }
   ],
   "source": [
    "# elif\n",
    "#예시\n",
    "# 60 이하 F, 61~70: D, 71~80:C, 81~90:B, 91~100:A\n",
    "point = 74\n",
    "\n",
    "if point > 90:\n",
    "    print(\"A\")\n",
    "elif point > 80:\n",
    "    print(\"B\")\n",
    "elif point > 70:\n",
    "    print(\"C\")\n",
    "elif point > 60:\n",
    "    print(\"D\")\n",
    "else:\n",
    "    print(\"F\")"
   ]
  },
  {
   "cell_type": "code",
   "execution_count": 4,
   "metadata": {},
   "outputs": [
    {
     "name": "stdout",
     "output_type": "stream",
     "text": [
      "정수를 입력하시오 : -8\n",
      "음수입니다\n"
     ]
    }
   ],
   "source": [
    "# 음수, 0, 양수 구별하기\n",
    "num = float(input(\"정수를 입력하시오 : \"))\n",
    "if num == 0 :\n",
    "    print(\"0입니다\")\n",
    "    if num > 0:\n",
    "        print(\"양수입니다\")\n",
    "else:\n",
    "    print(\"음수입니다\")"
   ]
  },
  {
   "cell_type": "markdown",
   "metadata": {},
   "source": [
    "# 삼항연산\n",
    "# result = (True) if <조건> else (False)"
   ]
  },
  {
   "cell_type": "code",
   "execution_count": 25,
   "metadata": {},
   "outputs": [
    {
     "name": "stdout",
     "output_type": "stream",
     "text": [
      "even\n"
     ]
    }
   ],
   "source": [
    "number = 12\n",
    "result = \"even\" if number % 2 == 0 else \"odd\"\n",
    "print(result)"
   ]
  },
  {
   "cell_type": "markdown",
   "metadata": {},
   "source": [
    "#### 반복문\n",
    "- while, for, break, continue, list comprehention\n",
    "- while문 : 조건이 만족되는 동안, 반복을 계속하는 구조\n",
    "- for문 : 정해진 횟수만큼 반복되는 구조"
   ]
  },
  {
   "cell_type": "markdown",
   "metadata": {},
   "source": [
    "##### while\n",
    "\n",
    "- 잘못하면 무한loop에 빠질 수 있으니 조심(kernel - interrupt나 break - 실행)\n",
    "- 조건만족시 들여쓰기 한 부분 반복, 조건이 거짓이면 반복 루프를 빠져나옴\n",
    "```\n",
    "while <조건>:\n",
    "    <code>\n",
    "```"
   ]
  },
  {
   "cell_type": "code",
   "execution_count": 4,
   "metadata": {
    "scrolled": true
   },
   "outputs": [
    {
     "name": "stdout",
     "output_type": "stream",
     "text": [
      "정수를 입력하시오9\n",
      "다른 정수를 입력하시오3\n",
      "다른 정수를 입력하시오1\n",
      "다른 정수를 입력하시오-9\n",
      "3 번 음수아닌 수를 입력하였습니다\n"
     ]
    }
   ],
   "source": [
    "num = float(input(\"정수를 입력하시오\"))\n",
    "a = 0\n",
    "while num >=0:\n",
    "    num = float(input(\"다른 정수를 입력하시오\"))\n",
    "    a += 1\n",
    "print(a, \"번 음수아닌 수를 입력하였습니다\")"
   ]
  },
  {
   "cell_type": "code",
   "execution_count": 1,
   "metadata": {},
   "outputs": [
    {
     "name": "stdout",
     "output_type": "stream",
     "text": [
      "15\n",
      "2078.9281794113685\n"
     ]
    }
   ],
   "source": [
    "# 복리 이자 계산\n",
    "n1 = 1000\n",
    "year = 0\n",
    "\n",
    "while n1 < 2000:\n",
    "    year += 1\n",
    "    n1 *= (1+0.05)\n",
    "print(year)\n",
    "print(n1)"
   ]
  },
  {
   "cell_type": "code",
   "execution_count": 6,
   "metadata": {},
   "outputs": [
    {
     "name": "stdout",
     "output_type": "stream",
     "text": [
      "10\n"
     ]
    }
   ],
   "source": [
    "# 자리수의 합\n",
    "number = 1234\n",
    "sum = 0\n",
    "while number > 0:\n",
    "    digit = number%10\n",
    "    sum = sum + digit\n",
    "    number //= 10\n",
    "print(sum)"
   ]
  },
  {
   "cell_type": "code",
   "execution_count": 18,
   "metadata": {},
   "outputs": [
    {
     "name": "stdout",
     "output_type": "stream",
     "text": [
      "정수를 입력하시오35\n",
      "정수를 입력하시오40\n",
      "최대 공약수는 35 입니다\n"
     ]
    }
   ],
   "source": [
    "#최대 공약수\n",
    "x0 = int(input(\"정수를 입력하시오\"))\n",
    "y0 = int(input(\"정수를 입력하시오\"))\n",
    "if x0 < y0:\n",
    "    h = x0\n",
    "    x0 = y0\n",
    "    y0 = h\n",
    "elif x == y:\n",
    "    print(\"최대 공약수는\", x, \"입니다\")\n",
    "while y != 0:\n",
    "    r = x%y\n",
    "    x = y\n",
    "    y = r\n",
    "print(\"최대 공약수는\", x, \"입니다\")\n"
   ]
  },
  {
   "cell_type": "code",
   "execution_count": 23,
   "metadata": {},
   "outputs": [
    {
     "name": "stdout",
     "output_type": "stream",
     "text": [
      "종료하려면 음수를 입력하시오\n",
      "성적을 입력하시오10\n",
      "성적을 입력하시오20\n",
      "성적을 입력하시오30\n",
      "성적을 입력하시오40\n",
      "성적을 입력하시오50\n",
      "성적을 입력하시오60\n",
      "성적을 입력하시오70\n",
      "성적을 입력하시오80\n",
      "성적을 입력하시오90\n",
      "성적을 입력하시오100\n",
      "성적을 입력하시오-1\n",
      "A반의 성적 평균은 55.0 입니다\n"
     ]
    }
   ],
   "source": [
    "#센티널 - 갯수를 알 수 없는 데이터 계산할 때 while문에서 끝을 정해주는 것\n",
    "#평균을 구하시오\n",
    "sum, n, score = 0, -1, 0\n",
    "print(\"종료하려면 음수를 입력하시오\")\n",
    "\n",
    "while score >=0 :\n",
    "    sum += score\n",
    "    score = int(input(\"성적을 입력하시오\"))\n",
    "    n += 1\n",
    "print(\"A반의 성적 평균은\", sum/n, \"입니다\")"
   ]
  },
  {
   "cell_type": "code",
   "execution_count": 29,
   "metadata": {},
   "outputs": [
    {
     "name": "stdout",
     "output_type": "stream",
     "text": [
      "0\n",
      "1\n",
      "2\n",
      "3\n"
     ]
    },
    {
     "data": {
      "text/plain": [
       "3"
      ]
     },
     "execution_count": 29,
     "metadata": {},
     "output_type": "execute_result"
    }
   ],
   "source": [
    "# break\n",
    "a = 0\n",
    "while True:\n",
    "    print(a)\n",
    "    if a == 3:\n",
    "        break\n",
    "    a += 1\n",
    "a"
   ]
  },
  {
   "cell_type": "code",
   "execution_count": 31,
   "metadata": {},
   "outputs": [
    {
     "name": "stdout",
     "output_type": "stream",
     "text": [
      "even 4\n",
      "even 2\n",
      "even 0\n"
     ]
    }
   ],
   "source": [
    "# continue\n",
    "a = 5\n",
    "while a > 0:\n",
    "    a -= 1\n",
    "    if a % 2 != 0:\n",
    "        continue\n",
    "    print(\"even\", a)"
   ]
  },
  {
   "cell_type": "markdown",
   "metadata": {},
   "source": [
    "##### For\n",
    "```\n",
    "for <var> in <range()>, <list>, <string>:\n",
    "    <code>\n",
    "```"
   ]
  },
  {
   "cell_type": "code",
   "execution_count": 35,
   "metadata": {
    "scrolled": true
   },
   "outputs": [
    {
     "name": "stdout",
     "output_type": "stream",
     "text": [
      "1\n"
     ]
    }
   ],
   "source": [
    "ls = [1,2,3]\n",
    "for value in ls:\n",
    "    if value == 2:\n",
    "        break\n",
    "    print(value)"
   ]
  },
  {
   "cell_type": "code",
   "execution_count": 36,
   "metadata": {},
   "outputs": [
    {
     "name": "stdout",
     "output_type": "stream",
     "text": [
      "1\n",
      "3\n"
     ]
    }
   ],
   "source": [
    "ls = [1,2,3]\n",
    "for value in ls:\n",
    "    if value % 2 == 0:\n",
    "        continue\n",
    "    print(value)"
   ]
  },
  {
   "cell_type": "code",
   "execution_count": 7,
   "metadata": {},
   "outputs": [
    {
     "name": "stdout",
     "output_type": "stream",
     "text": [
      "0\n",
      "1\n",
      "2\n",
      "3\n",
      "4\n",
      "5\n",
      "6\n",
      "7\n",
      "8\n",
      "9\n"
     ]
    }
   ],
   "source": [
    "# range\n",
    "ls = [0,1,2,3,4,5,6,7,8,9]\n",
    "for value in ls:\n",
    "    print(value)"
   ]
  },
  {
   "cell_type": "code",
   "execution_count": 24,
   "metadata": {},
   "outputs": [
    {
     "name": "stdout",
     "output_type": "stream",
     "text": [
      "hyojin\n",
      "miran\n",
      "minyoung\n",
      "mingi\n"
     ]
    }
   ],
   "source": [
    "names = [\"hyojin\", \"miran\", \"minyoung\", \"mingi\"]\n",
    "for i in names:\n",
    "    print(i)"
   ]
  },
  {
   "cell_type": "code",
   "execution_count": 28,
   "metadata": {},
   "outputs": [
    {
     "name": "stdout",
     "output_type": "stream",
     "text": [
      "qwrtypsldkfjhzb\n"
     ]
    }
   ],
   "source": [
    "# for 문에서 in 뒤에 list, string, range가 올 수 있음\n",
    "s = \"qwertypasldkfjhzb\"\n",
    "rem = \"aeiouAEIOU\"\n",
    "result = \"\"\n",
    "for i in s:\n",
    "    if i not in rem:\n",
    "        result += i\n",
    "print(result)"
   ]
  },
  {
   "cell_type": "code",
   "execution_count": 33,
   "metadata": {},
   "outputs": [
    {
     "name": "stdout",
     "output_type": "stream",
     "text": [
      "문자를 입력하시오apple\n",
      "모음은 ae 자음은 ppl\n"
     ]
    }
   ],
   "source": [
    "#자음과 모음의 개수1\n",
    "original = input(\"문자를 입력하시오\")\n",
    "vowel = 'aeiouAEIOU'\n",
    "vowels, consonants = \"\", \"\"\n",
    "\n",
    "for i in original:\n",
    "    if i in vowel:\n",
    "        vowels += i\n",
    "    else:\n",
    "        consonants += i\n",
    "        \n",
    "print(\"모음은\", vowels, \"자음은\", consonants)"
   ]
  },
  {
   "cell_type": "code",
   "execution_count": 35,
   "metadata": {},
   "outputs": [
    {
     "name": "stdout",
     "output_type": "stream",
     "text": [
      "문자를 입력하시오apple\n",
      "모음은 2 자음은 3\n"
     ]
    }
   ],
   "source": [
    "#자음과 모음의 개수2\n",
    "original = input(\"문자를 입력하시오\")\n",
    "vowel = 'aeiouAEIOU'\n",
    "vowels, consonants = 0, 0\n",
    "\n",
    "for i in original:\n",
    "    if i in vowel:\n",
    "        vowels += 1\n",
    "    else:\n",
    "        consonants += 1\n",
    "        \n",
    "print(\"모음은\", vowels, \"자음은\", consonants)"
   ]
  },
  {
   "cell_type": "code",
   "execution_count": 1,
   "metadata": {},
   "outputs": [
    {
     "name": "stdout",
     "output_type": "stream",
     "text": [
      "주사위 실험 반복횟수 :10\n",
      "2 0\n",
      "3 0\n",
      "4 0\n",
      "5 1\n",
      "6 3\n",
      "7 1\n",
      "8 4\n",
      "9 0\n",
      "10 0\n",
      "11 1\n",
      "12 0\n"
     ]
    }
   ],
   "source": [
    "#주사위 합 확률\n",
    "from random import randint\n",
    "\n",
    "fre = int(input(\"주사위 실험 반복횟수 :\"))\n",
    "rollCount = [0, 0, 0, 0, 0, 0, 0, 0,0, 0, 0, 0, 0]\n",
    "for i in range(fre):\n",
    "    dice1 = randint(1, 6)\n",
    "    dice2 = randint(1, 6)\n",
    "    result = dice1 + dice2\n",
    "    rollCount[dice1+dice2] += 1\n",
    "for i in range(2, 13):\n",
    "    print(i, rollCount[i])"
   ]
  },
  {
   "cell_type": "code",
   "execution_count": null,
   "metadata": {},
   "outputs": [],
   "source": [
    "# for(i=0;i<100;i++)"
   ]
  },
  {
   "cell_type": "code",
   "execution_count": 42,
   "metadata": {},
   "outputs": [
    {
     "data": {
      "text/plain": [
       "[0, 1, 2, 3, 4]"
      ]
     },
     "execution_count": 42,
     "metadata": {},
     "output_type": "execute_result"
    }
   ],
   "source": [
    "list(range(5))"
   ]
  },
  {
   "cell_type": "code",
   "execution_count": 43,
   "metadata": {},
   "outputs": [
    {
     "data": {
      "text/plain": [
       "[2, 3, 4]"
      ]
     },
     "execution_count": 43,
     "metadata": {},
     "output_type": "execute_result"
    }
   ],
   "source": [
    "list(range(2,5))"
   ]
  },
  {
   "cell_type": "code",
   "execution_count": 44,
   "metadata": {},
   "outputs": [
    {
     "data": {
      "text/plain": [
       "[0, 2, 4]"
      ]
     },
     "execution_count": 44,
     "metadata": {},
     "output_type": "execute_result"
    }
   ],
   "source": [
    "list(range(0,5,2))"
   ]
  },
  {
   "cell_type": "code",
   "execution_count": 45,
   "metadata": {},
   "outputs": [
    {
     "data": {
      "text/plain": [
       "[5, 4, 3, 2, 1]"
      ]
     },
     "execution_count": 45,
     "metadata": {},
     "output_type": "execute_result"
    }
   ],
   "source": [
    "list(range(5,0,-1))"
   ]
  },
  {
   "cell_type": "code",
   "execution_count": 46,
   "metadata": {},
   "outputs": [
    {
     "name": "stdout",
     "output_type": "stream",
     "text": [
      "0\n",
      "1\n",
      "2\n",
      "3\n",
      "4\n"
     ]
    }
   ],
   "source": [
    "for idx in range(5):\n",
    "    print(idx)"
   ]
  },
  {
   "cell_type": "code",
   "execution_count": 47,
   "metadata": {
    "scrolled": true
   },
   "outputs": [
    {
     "name": "stdout",
     "output_type": "stream",
     "text": [
      "dss\n",
      "dss\n",
      "dss\n",
      "dss\n",
      "dss\n"
     ]
    }
   ],
   "source": [
    "for _ in range(5):\n",
    "    print(\"dss\")"
   ]
  },
  {
   "cell_type": "markdown",
   "metadata": {},
   "source": [
    "# zip : 2개의 리스트를 key value 형태로 묶어주는 함수"
   ]
  },
  {
   "cell_type": "code",
   "execution_count": 3,
   "metadata": {},
   "outputs": [
    {
     "name": "stdout",
     "output_type": "stream",
     "text": [
      "math 100\n",
      "korean 80\n",
      "science 90\n",
      "english 80\n"
     ]
    },
    {
     "data": {
      "text/plain": [
       "{'english': 80, 'korean': 80, 'math': 100, 'science': 90}"
      ]
     },
     "execution_count": 3,
     "metadata": {},
     "output_type": "execute_result"
    }
   ],
   "source": [
    "subs = [\"math\", \"korean\", \"science\", \"english\"]\n",
    "points = [100, 80, 90, 80]\n",
    "\n",
    "g = {}\n",
    "\n",
    "for idx in range(len(subs)):\n",
    "    print(subs[idx], points[idx])\n",
    "    g[subs[idx]] = points[idx]\n",
    "g"
   ]
  },
  {
   "cell_type": "code",
   "execution_count": 52,
   "metadata": {},
   "outputs": [
    {
     "data": {
      "text/plain": [
       "{'korean': 80, 'math': 100, 'science': 90}"
      ]
     },
     "execution_count": 52,
     "metadata": {},
     "output_type": "execute_result"
    }
   ],
   "source": [
    "for sub, point in zip(subs, points):\n",
    "    g[sub] = point\n",
    "g"
   ]
  },
  {
   "cell_type": "code",
   "execution_count": 54,
   "metadata": {},
   "outputs": [
    {
     "data": {
      "text/plain": [
       "{'korean': 80, 'math': 100, 'science': 90}"
      ]
     },
     "execution_count": 54,
     "metadata": {},
     "output_type": "execute_result"
    }
   ],
   "source": [
    "dict(zip(subs, points))"
   ]
  },
  {
   "cell_type": "markdown",
   "metadata": {},
   "source": [
    "# enumerate : 리스트 데이터를 index와 value 동시에 사용하고 싶을때"
   ]
  },
  {
   "cell_type": "code",
   "execution_count": 69,
   "metadata": {},
   "outputs": [
    {
     "name": "stdout",
     "output_type": "stream",
     "text": [
      "0 data\n",
      "1 dss\n",
      "2 science\n",
      "3 dss\n"
     ]
    }
   ],
   "source": [
    "ls = [\"data\", \"dss\", \"science\", \"dss\"]\n",
    "# i = 0\n",
    "for idx, value in enumerate(ls):\n",
    "    print(idx, value)\n",
    "#     print(i, value)\n",
    "#     i += 1"
   ]
  },
  {
   "cell_type": "code",
   "execution_count": 73,
   "metadata": {},
   "outputs": [
    {
     "data": {
      "text/plain": [
       "{0: 'korean', 1: 'english', 2: 'math', 3: 'science'}"
      ]
     },
     "execution_count": 73,
     "metadata": {},
     "output_type": "execute_result"
    }
   ],
   "source": [
    "subjects = [\"korean\", \"english\", \"math\", \"science\"]\n",
    "dic={}\n",
    "for idx, value in enumerate(subjects):\n",
    "    dic[idx] = value\n",
    "dic"
   ]
  },
  {
   "cell_type": "code",
   "execution_count": 71,
   "metadata": {},
   "outputs": [
    {
     "name": "stdout",
     "output_type": "stream",
     "text": [
      "0 data\n",
      "1 dss\n",
      "2 science\n",
      "3 dss\n"
     ]
    },
    {
     "data": {
      "text/plain": [
       "[1, 3]"
      ]
     },
     "execution_count": 71,
     "metadata": {},
     "output_type": "execute_result"
    }
   ],
   "source": [
    "dss_idx = []\n",
    "for idx, value in enumerate(ls):\n",
    "    if value == \"dss\":\n",
    "        dss_idx.append(idx)\n",
    "    print(idx, value)\n",
    "dss_idx"
   ]
  },
  {
   "cell_type": "code",
   "execution_count": 74,
   "metadata": {},
   "outputs": [
    {
     "data": {
      "text/plain": [
       "25"
      ]
     },
     "execution_count": 74,
     "metadata": {},
     "output_type": "execute_result"
    }
   ],
   "source": [
    "# for 문을 이용해서 리스트안에 있는 모든 숫자를 더하는 코딩을 하세요.\n",
    "ls = [1,3,5,7,9]\n",
    "result = 0\n",
    "\n",
    "# TODO\n",
    "for num in ls :\n",
    "    result += num\n",
    "    \n",
    "result"
   ]
  },
  {
   "cell_type": "markdown",
   "metadata": {},
   "source": [
    "##### list comprehension\n",
    "- 반복문의 결과를 한줄로 코딩하여 바로 리스트로 만들어 주는 방법, 간단한 list 데이터를 만들 때 for문보다 속도가 빠름(수식이 많으면 불가능)\n",
    "```\n",
    "ls = [<value> for <value> in <list>]\n",
    "```"
   ]
  },
  {
   "cell_type": "code",
   "execution_count": 79,
   "metadata": {},
   "outputs": [
    {
     "name": "stdout",
     "output_type": "stream",
     "text": [
      "[0, 1, 2, 3, 4, 5]\n"
     ]
    }
   ],
   "source": [
    "ls = []\n",
    "for i in range(6):\n",
    "    ls.append(i)\n",
    "print(ls)"
   ]
  },
  {
   "cell_type": "code",
   "execution_count": 81,
   "metadata": {},
   "outputs": [
    {
     "data": {
      "text/plain": [
       "[0, 1, 2, 3, 4, 5]"
      ]
     },
     "execution_count": 81,
     "metadata": {},
     "output_type": "execute_result"
    }
   ],
   "source": [
    "ls2 = [i for i in range(6)]\n",
    "ls2"
   ]
  },
  {
   "cell_type": "code",
   "execution_count": 88,
   "metadata": {},
   "outputs": [
    {
     "data": {
      "text/plain": [
       "['0:odd',\n",
       " '1:even',\n",
       " '2:odd',\n",
       " '3:even',\n",
       " '4:odd',\n",
       " '5:even',\n",
       " '6:odd',\n",
       " '7:even',\n",
       " '8:odd',\n",
       " '9:even',\n",
       " '10:odd']"
      ]
     },
     "execution_count": 88,
     "metadata": {},
     "output_type": "execute_result"
    }
   ],
   "source": [
    "dis = [str(i)+\":odd\" if i%2 == 0 else str(i)+\":even\" for i in range(11)]\n",
    "dis"
   ]
  }
 ],
 "metadata": {
  "kernelspec": {
   "display_name": "Python 3",
   "language": "python",
   "name": "python3"
  },
  "language_info": {
   "codemirror_mode": {
    "name": "ipython",
    "version": 3
   },
   "file_extension": ".py",
   "mimetype": "text/x-python",
   "name": "python",
   "nbconvert_exporter": "python",
   "pygments_lexer": "ipython3",
   "version": "3.6.4"
  }
 },
 "nbformat": 4,
 "nbformat_minor": 2
}
