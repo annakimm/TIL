{
 "cells": [
  {
   "cell_type": "markdown",
   "metadata": {},
   "source": [
    "### 다변수 가우시안 정규 분포\n",
    "다변수 가우시안 정규 분포 혹은 간단히 다변수 정규 분포(MVN: Multivariate Normal)는 복수의 확률 변수를 모형화하는데 가장 많이 사용되는 분포이다.\n",
    "\n",
    "D 차원 다변수 정규 분포의 확률 밀도 함수는 평균 벡터  μ  와 공분산 행렬  Σ  라는 두 개의 모수를 가지며 다음과 같은 수식으로 정의된다. 이 때 공분산 행렬은 역행렬이 존재하는 대칭 행렬이어야 한다.\n",
    "\n",
    "$$\\mathcal{N}(x ; \\mu, \\Sigma) = \\dfrac{1}{(2\\pi)^{D/2} |\\Sigma| ^{1/2}} \\exp \\left( -\\dfrac{1}{2} (x-\\mu)^T \\Sigma^{-1} (x-\\mu) \\right)$$\n",
    " \n",
    "이 식에서 각 기호의 의미는 다음과 같다.\n",
    "\n",
    "- $x∈R^D$  확률 변수 벡터\n",
    "- $μ∈R^D$  평균 벡터\n",
    "- $Σ∈R^{D×D}$  공분산 행렬\n",
    "- $Σ^{−1}∈R^{D×D}$  공분산 행렬의 역행렬\n",
    "\n",
    "공분산 행렬의 역행렬 $Σ^{−1}$는 precision matrix 혹은 concentration matrix 라고도 한다."
   ]
  },
  {
   "cell_type": "markdown",
   "metadata": {},
   "source": [
    "#### SciPy의 다변수 정규 분포 명령\n",
    "SciPy의 stats 서브패키지에는 다변수 정규 분포를 위한 `multivariate_normal` 명령이 있다. `mean` 인수로 평균 벡터를, `cov` 인수로 공분산 행렬을 받는다."
   ]
  },
  {
   "cell_type": "markdown",
   "metadata": {},
   "source": [
    "##### 다변수 정규 분포의 예¶\n",
    "2차원($D=2$) 다변수 정규 분포의 예를 몇가지 살펴보자.\n",
    "우선 2차원이므로 확률 변수 벡터는 다음과 같다.\n",
    "\n",
    "$x = \\begin{bmatrix}x_1 \\\\ x_2 \\end{bmatrix}$"
   ]
  },
  {
   "cell_type": "markdown",
   "metadata": {},
   "source": [
    "- 경우1\n",
    "\n",
    "만약 $\\mu$와 $\\sigma$가 아래와 같다면\n",
    "\n",
    "$\\mu = \\begin{bmatrix}2 \\\\ 3 \\end{bmatrix}, \\;\\;\\;\n",
    "\\Sigma = \\begin{bmatrix}1 & 0 \\\\ 0 & 1 \\end{bmatrix}$\n",
    "\n",
    "$| \\Sigma|$와 $\\Sigma^{-1}$는\n",
    "\n",
    "$| \\Sigma| = 1, \\;\\;\\;\n",
    "\\Sigma^{-1} = \\begin{bmatrix}1 & 0 \\\\ 0 & 1 \\end{bmatrix}$\n",
    "\n",
    "$(x-\\mu)^T \\Sigma^{-1} (x-\\mu) =  \n",
    "\\begin{bmatrix}x_1 - 2 & x_2 - 3 \\end{bmatrix}\n",
    "\\begin{bmatrix}1 & 0 \\\\ 0 & 1 \\end{bmatrix} \n",
    "\\begin{bmatrix}x_1 - 2 \\\\ x_2 - 3 \\end{bmatrix}\n",
    "=\n",
    "(x_1 - 2)^2 + (x_2 - 3)^2$\n",
    "\n",
    "$\\mathcal{N}(x_1, x_2) = \\dfrac{1}{2\\pi}\n",
    "\\exp \\left( -\\dfrac{1}{2} \\left( (x_1 - 2)^2 + (x_2 - 3)^2 \\right) \\right)$"
   ]
  },
  {
   "cell_type": "markdown",
   "metadata": {},
   "source": [
    "이 확률 밀도 함수의 모양은 다음과 같다."
   ]
  },
  {
   "cell_type": "code",
   "execution_count": 4,
   "metadata": {},
   "outputs": [
    {
     "data": {
      "image/png": "[encoded data removed]",
      "text/plain": [
       "<matplotlib.figure.Figure at 0xb1c00b8>"
      ]
     },
     "metadata": {},
     "output_type": "display_data"
    }
   ],
   "source": [
    "%matplotlib inline\n",
    "mu = [2, 3]\n",
    "cov = [[1, 0], [0, 1]]\n",
    "rv = sp.stats.multivariate_normal(mu, cov)\n",
    "xx = np.linspace(0, 4, 120)\n",
    "yy = np.linspace(1, 5, 150)\n",
    "XX, YY = np.meshgrid(xx, yy)\n",
    "plt.grid(False)\n",
    "plt.contourf(XX, YY, rv.pdf(np.dstack([XX, YY])))\n",
    "plt.axis(\"equal\")\n",
    "plt.show()"
   ]
  },
  {
   "cell_type": "markdown",
   "metadata": {},
   "source": [
    "- 경우 2\n",
    "\n",
    "$\\mu = \\begin{bmatrix}2 \\\\ 3 \\end{bmatrix}, \\;\\;\\;\n",
    "\\Sigma = \\begin{bmatrix}2 & 3 \\\\ 3 & 7 \\end{bmatrix}$\n",
    "\n",
    "이면,\n",
    "\n",
    "$|\\Sigma| = 5,\\;\\;\\;\n",
    "\\Sigma^{-1} = \\begin{bmatrix}1.4 & -0.6 \\\\ -0.6 & 0.4 \\end{bmatrix}$\n",
    "\n",
    "$(x-\\mu)^T \\Sigma^{-1} (x-\\mu) =  \n",
    "\\begin{bmatrix}x_1 - 2 & x_2 - 3 \\end{bmatrix}\n",
    "\\begin{bmatrix}1.4 & -0.6 \\\\ -0.6 & 0.4\\end{bmatrix}\n",
    "\\begin{bmatrix}x_1 - 2 \\\\ x_2 - 3 \\end{bmatrix}\n",
    "=\n",
    "\\dfrac{1}{10}\\left(14(x_1 - 2)^2 - 12(x_1 - 2)(x_2 - 3) + 4(x_2 - 3)^2\\right)$\n",
    "\n",
    "$\\mathcal{N}(x_1, x_2) = \\dfrac{1}{2\\sqrt{5}\\pi}\n",
    "\\exp \\left( -\\dfrac{1}{10}\\left(7(x_1 - 2)^2 - 6(x_1 - 2)(x_2 - 3) + 2(x_2 - 3)^2\\right) \\right)$"
   ]
  },
  {
   "cell_type": "markdown",
   "metadata": {},
   "source": [
    "이 확률 밀도 함수의 모양은 다음과 같다."
   ]
  },
  {
   "cell_type": "code",
   "execution_count": 5,
   "metadata": {},
   "outputs": [
    {
     "data": {
      "image/png": "[encoded data removed]",
      "text/plain": [
       "<matplotlib.figure.Figure at 0xb7c1c88>"
      ]
     },
     "metadata": {},
     "output_type": "display_data"
    }
   ],
   "source": [
    "mu = [2, 3]\n",
    "cov = [[2, 3],[3, 7]]\n",
    "rv = sp.stats.multivariate_normal(mu, cov)\n",
    "xx = np.linspace(0, 4, 120)\n",
    "yy = np.linspace(1, 5, 150)\n",
    "XX, YY = np.meshgrid(xx, yy)\n",
    "plt.grid(False)\n",
    "plt.contourf(XX, YY, rv.pdf(np.dstack([XX, YY])))\n",
    "plt.axis(\"equal\")\n",
    "plt.show()"
   ]
  },
  {
   "cell_type": "code",
   "execution_count": null,
   "metadata": {},
   "outputs": [],
   "source": []
  },
  {
   "cell_type": "markdown",
   "metadata": {},
   "source": [
    "#### '고유값 분해'에서 '가우시안 정규 분포의 좌표 변환'과 연결됨"
   ]
  },
  {
   "cell_type": "code",
   "execution_count": null,
   "metadata": {},
   "outputs": [],
   "source": []
  }
 ],
 "metadata": {
  "kernelspec": {
   "display_name": "Python 3",
   "language": "python",
   "name": "python3"
  },
  "language_info": {
   "codemirror_mode": {
    "name": "ipython",
    "version": 3
   },
   "file_extension": ".py",
   "mimetype": "text/x-python",
   "name": "python",
   "nbconvert_exporter": "python",
   "pygments_lexer": "ipython3",
   "version": "3.6.4"
  }
 },
 "nbformat": 4,
 "nbformat_minor": 2
}
