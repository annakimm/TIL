{
 "cells": [
  {
   "cell_type": "code",
   "execution_count": null,
   "metadata": {},
   "outputs": [],
   "source": [
    "어떤 가정을 하고 있는지 알 수 있다."
   ]
  },
  {
   "cell_type": "markdown",
   "metadata": {},
   "source": [
    "회귀분석용 가상 데이터 생성 방법¶\n",
    "Scikit-learn의 datasets 서브 패키지는 회귀분석용 가상 데이터를 생성하는 명령어인 make_regression()를 제공한다. make_regression() 명령으로 만들어진 데이터는 종속 변수  y 의 값이 독립 변수  x  벡터의 선형 조합인 선형관계를 가진다. ( b 는 y절편 즉, 바이어스(bias) 값이다)\n",
    "\n",
    "여기에 정규분포  ϵ 만큼의 오차(disturbance)가 추가되는데 이 오차는 종속 변수  y 에 영향을 미치는 요인 중에서 우리가 고려하지 않는 것들의 영향을 모두 합친 것이라고 생각하면 된다. 중심 극한 정리에 따라 이러한 모든 영향의 합은 정규 분포를 따를 가능성이 높기 때문에 오차  ϵ 는 보통 기댓값이 0인 정규 분포 확률 변수로 가정한다.\n",
    "\n",
    "y=b+wTx+ϵ : 여러개의 특성을 가지는 데이터 한 개일 경우\n",
    " \n",
    "위 식에서  x ,  w 는  M 차원 벡터( M 은 입력 차원)  y ,  b ,  ϵ 는 모두 스칼라 값이다.\n",
    "\n",
    "복수의 데이터에 대해서는 다음처럼 쓸 수 있다.\n",
    "\n",
    "y=b1+Xw+ϵ : 데이터가 여러개\n",
    " \n",
    "이 경우에는  y 는  N 차원 벡터( N 은 데이터의 갯수),  X 는  N×M 차원 행렬( M 은 입력 차원),  w 는  M 차원 벡터,  ϵ 는  N 차원 벡터,  1 는  N 차원 1-벡터이다.\n",
    "\n",
    "make_regression() 명령은 내부적으로 입력(독립 변수) 데이터인  X  행렬, 오차  ϵ  벡터, 계수  w  벡터를 확률적으로 생성한 후, 위 관계식에 따라 출력(종속 변수) 데이터  y  벡터를 계산하여  X ,  y  값을 출력한다. 자세한 사용법은 다음과 같다."
   ]
  },
  {
   "cell_type": "markdown",
   "metadata": {},
   "source": [
    "`X, y = make_regression(...)`\n",
    "\n",
    "또는\n",
    "\n",
    "`X, y, w = make_regression(..., coef=True, ...)`\n",
    "\n",
    "입력 인수는 다음과 같다.\n",
    "\n",
    "`n_samples` : 정수 (옵션, 디폴트 100)\n",
    "표본 데이터의 갯수  N \n",
    "`n_features` : 정수 (옵션, 디폴트 100)\n",
    "독립 변수(feature)의 수(차원)  M \n",
    "`n_targets` : 정수 (옵션, 디폴트 1)\n",
    "종속 변수(target)의 수(차원)\n",
    "`bias` : 실수 (옵션, 디폴트 0.0)\n",
    "y 절편\n",
    "`noise` : 실수 (옵션, 디폴트 0.0) - noise 가 0이면 X로 y가 모두 설명이 됨(직선)\n",
    "출력 즉, 종속 변수에 더해지는 오차  ϵ 의 표준 편차\n",
    "`coef` : 불리언 (옵션, 디폴트 False)\n",
    "True 이면 선형 모형의 계수도 출력\n",
    "`random_state` : 정수 (옵션, 디폴트 None)\n",
    "난수 발생용 시드값\n"
   ]
  },
  {
   "cell_type": "code",
   "execution_count": 232,
   "metadata": {},
   "outputs": [],
   "source": [
    "from sklearn.datasets import make_regression\n",
    "\n",
    "X, y, w = make_regression(n_samples=10, n_features=1, bias=0, noise=0,\n",
    "                          coef=True, random_state=0)"
   ]
  },
  {
   "cell_type": "code",
   "execution_count": 234,
   "metadata": {
    "scrolled": true
   },
   "outputs": [
    {
     "data": {
      "text/plain": [
       "(array([[ 0.97873798],\n",
       "        [ 2.2408932 ],\n",
       "        [ 1.86755799],\n",
       "        [ 0.95008842],\n",
       "        [ 1.76405235],\n",
       "        [ 0.4105985 ],\n",
       "        [-0.97727788],\n",
       "        [ 0.40015721],\n",
       "        [-0.10321885],\n",
       "        [-0.15135721]]), array(79.17250381))"
      ]
     },
     "execution_count": 234,
     "metadata": {},
     "output_type": "execute_result"
    }
   ],
   "source": [
    "X, w"
   ]
  },
  {
   "cell_type": "code",
   "execution_count": 10,
   "metadata": {},
   "outputs": [
    {
     "data": {
      "image/png": "[encoded data removed]",
      "text/plain": [
       "<Figure size 432x288 with 1 Axes>"
      ]
     },
     "metadata": {},
     "output_type": "display_data"
    }
   ],
   "source": [
    "%matplotlib inline\n",
    "X, y, w = make_regression(n_samples=50, n_features=1, bias=100, noise=10,\n",
    "                          coef=True, random_state=0)\n",
    "plt.scatter(X, y, s=100)\n",
    "plt.xlabel(\"x\")\n",
    "plt.ylabel(\"y\")\n",
    "plt.show()"
   ]
  },
  {
   "cell_type": "markdown",
   "metadata": {},
   "source": [
    "연습 문제 1¶\n",
    "make_regression과 같은 기능을 하는 함수 make_regression2를 만들어라. 단 make_regression2는 coef=True 라고 가정한다. 즉 항상 가중치 계수를 반환한다. 또한 1차원 독립 변수만 생성할 수 있으므로 다음과 같은 인수만 가진다.\n",
    "\n",
    "n_samples\n",
    "bias\n",
    "noise\n",
    "random_state\n",
    "make_regression2 함수에 coef 인수를 추가하여 make_regression3 함수를 만들어라. make_regression3 함수는 가중치를 스스로 생성하지 않고 coef 인수로 받은 가중치 계수 값을 그대로 사용하며 가중치 계수를 반환하지 않는다."
   ]
  },
  {
   "cell_type": "code",
   "execution_count": 263,
   "metadata": {},
   "outputs": [],
   "source": [
    "def make_regression2(n_samples, bias, noise, random_state):\n",
    "    np.random.seed(random_state)\n",
    "    X = np.random.randn(n_samples)\n",
    "    b = bias\n",
    "    ep = np.random.randn(n_samples)*noise/3\n",
    "    w = np.random.randn(1)\n",
    "    y = b + w*X + ep\n",
    "    return X, y, b, w, ep"
   ]
  },
  {
   "cell_type": "code",
   "execution_count": 266,
   "metadata": {},
   "outputs": [],
   "source": [
    "X, y, b, w, ep = make_regression2(n_samples=50, bias=3, noise=3, random_state=0)"
   ]
  },
  {
   "cell_type": "code",
   "execution_count": 243,
   "metadata": {},
   "outputs": [
    {
     "data": {
      "text/plain": [
       "array([ 1.76405235,  0.40015721,  0.97873798,  2.2408932 ,  1.86755799,\n",
       "       -0.97727788,  0.95008842, -0.15135721, -0.10321885,  0.4105985 ,\n",
       "        0.14404357,  1.45427351,  0.76103773,  0.12167502,  0.44386323,\n",
       "        0.33367433,  1.49407907, -0.20515826,  0.3130677 , -0.85409574])"
      ]
     },
     "execution_count": 243,
     "metadata": {},
     "output_type": "execute_result"
    }
   ],
   "source": [
    "X"
   ]
  },
  {
   "cell_type": "code",
   "execution_count": 244,
   "metadata": {},
   "outputs": [
    {
     "data": {
      "text/plain": [
       "array([-24.37960048,   9.11659993,  10.61810337,  -6.77134541,\n",
       "        23.73931277, -10.51892913,   2.46136715,   1.28686755,\n",
       "        18.43602258,  17.26305342,   4.39843694,   5.2567424 ,\n",
       "        -6.67584584, -16.93554738,  -0.9445356 ,   4.21361449,\n",
       "        13.73628577,  15.23891779,  -1.20153624,   0.87253711])"
      ]
     },
     "execution_count": 244,
     "metadata": {},
     "output_type": "execute_result"
    }
   ],
   "source": [
    "y"
   ]
  },
  {
   "cell_type": "code",
   "execution_count": 249,
   "metadata": {},
   "outputs": [
    {
     "data": {
      "text/plain": [
       "(array([-1.04855297]), 3)"
      ]
     },
     "execution_count": 249,
     "metadata": {},
     "output_type": "execute_result"
    }
   ],
   "source": [
    "w, b"
   ]
  },
  {
   "cell_type": "code",
   "execution_count": 250,
   "metadata": {},
   "outputs": [
    {
     "data": {
      "text/plain": [
       "array([-12.76494908,   3.26809298,   4.32218099,  -3.7108251 ,\n",
       "        11.34877312,  -7.27182837,   0.22879259,  -0.93591925,\n",
       "         7.66389607,   7.34679385,   0.77473713,   1.8908126 ,\n",
       "        -4.43892874,  -9.90398234,  -1.73956075,   0.78174485,\n",
       "         6.1514534 ,   6.01189924,  -1.93663409,  -1.51151375])"
      ]
     },
     "execution_count": 250,
     "metadata": {},
     "output_type": "execute_result"
    }
   ],
   "source": [
    "ep"
   ]
  },
  {
   "cell_type": "code",
   "execution_count": 267,
   "metadata": {},
   "outputs": [
    {
     "data": {
      "text/plain": [
       "<matplotlib.collections.PathCollection at 0xf0bed30>"
      ]
     },
     "execution_count": 267,
     "metadata": {},
     "output_type": "execute_result"
    },
    {
     "data": {
      "image/png": "[encoded data removed]",
      "text/plain": [
       "<Figure size 432x288 with 1 Axes>"
      ]
     },
     "metadata": {},
     "output_type": "display_data"
    }
   ],
   "source": [
    "plt.xlim(-2, 3)\n",
    "plt.ylim(-15, 20)\n",
    "plt.scatter(X, y)"
   ]
  },
  {
   "cell_type": "code",
   "execution_count": null,
   "metadata": {},
   "outputs": [],
   "source": []
  },
  {
   "cell_type": "code",
   "execution_count": null,
   "metadata": {},
   "outputs": [],
   "source": []
  },
  {
   "cell_type": "code",
   "execution_count": null,
   "metadata": {},
   "outputs": [],
   "source": []
  },
  {
   "cell_type": "code",
   "execution_count": null,
   "metadata": {},
   "outputs": [],
   "source": []
  },
  {
   "cell_type": "code",
   "execution_count": null,
   "metadata": {},
   "outputs": [],
   "source": []
  },
  {
   "cell_type": "code",
   "execution_count": null,
   "metadata": {},
   "outputs": [],
   "source": [
    "make_regression 명령은 위에서 설명한 인수 이외에도 다음과 같은 인수를 가질 수 있다.\n",
    "\n",
    "n_informative : 정수 (옵션, 디폴트 10) : X와 Y가 관계있는지\n",
    "독립 변수(feature) 중 실제로 종속 변수와 상관 관계가 있는 독립 변수의 수(차원)\n",
    "effective_rank: 정수 또는 None (옵션, 디폴트 None) : x들 간에 상관관계가 있는지\n",
    "독립 변수(feature) 중 서로 독립인 독립 변수의 수. 만약 None이면 모두 독립\n",
    "tail_strength : 0부터 1사이의 실수 (옵션, 디폴트 0.5) : x들 간에 상관관계가 있는지, 0, 1이면 코릴레이션인 전반적으로 늘어나거나 감소\n",
    "        공분산이 nbyn / 2개가 발생하므로 너무 많아서 대표하는 값만 넣도록 하는것\n",
    "effective_rank가 None이 아닌 경우 독립 변수간의 상관관계를 결정하는 변수. 0.5면 독립 변수간의 상관관계가 없다.\n",
    "예를 들어 2차원의 x 데이터 중 실제로 y값에 영향을 미치는 독립 변수는 하나 뿐이라면 다음처럼 n_informative=1로 설정한다."
   ]
  },
  {
   "cell_type": "code",
   "execution_count": null,
   "metadata": {},
   "outputs": [],
   "source": []
  },
  {
   "cell_type": "code",
   "execution_count": null,
   "metadata": {},
   "outputs": [],
   "source": []
  },
  {
   "cell_type": "code",
   "execution_count": 274,
   "metadata": {
    "collapsed": true
   },
   "outputs": [
    {
     "data": {
      "text/plain": [
       "array([[ 47.5431146 ],\n",
       "       [ 84.60560134],\n",
       "       [131.09298076],\n",
       "       [181.29922354],\n",
       "       [233.5013812 ],\n",
       "       [131.88110117],\n",
       "       [137.20705164],\n",
       "       [ 59.96820329],\n",
       "       [ -6.17554223],\n",
       "       [124.639066  ],\n",
       "       [ 51.49953198],\n",
       "       [ 79.81952981],\n",
       "       [  7.92651763],\n",
       "       [154.55792402],\n",
       "       [ 11.96730036],\n",
       "       [167.24781801],\n",
       "       [ 90.10697887],\n",
       "       [ 58.06415472],\n",
       "       [ 40.26512924],\n",
       "       [ 29.47521548],\n",
       "       [ 73.22549093],\n",
       "       [277.61698746],\n",
       "       [167.46572572],\n",
       "       [121.33659327],\n",
       "       [ 75.22840147],\n",
       "       [ 51.65846425],\n",
       "       [102.47827403],\n",
       "       [145.80048542],\n",
       "       [208.55222544],\n",
       "       [ 37.24617548],\n",
       "       [ 72.93654777],\n",
       "       [ 33.73848126],\n",
       "       [116.88850749],\n",
       "       [172.89287434],\n",
       "       [192.45898132],\n",
       "       [ 68.29301456],\n",
       "       [ 57.94240506],\n",
       "       [258.71803893],\n",
       "       [-89.16666685],\n",
       "       [171.82648428],\n",
       "       [267.51735412],\n",
       "       [211.50394103],\n",
       "       [ 30.67456893],\n",
       "       [ 35.1891274 ],\n",
       "       [ 66.20091286],\n",
       "       [172.34371505],\n",
       "       [126.9415416 ],\n",
       "       [185.89817092],\n",
       "       [ 70.45828119],\n",
       "       [137.39534229],\n",
       "       [ 70.71258074],\n",
       "       [112.02641447],\n",
       "       [163.3414933 ],\n",
       "       [126.43950925],\n",
       "       [ 52.34417313],\n",
       "       [161.57186756],\n",
       "       [196.14806434],\n",
       "       [ 93.67887635],\n",
       "       [121.45691711],\n",
       "       [158.19302951],\n",
       "       [142.33541142],\n",
       "       [103.75391925],\n",
       "       [ 55.95332581],\n",
       "       [136.96121561],\n",
       "       [130.16415401],\n",
       "       [ 16.09240932],\n",
       "       [117.32833857],\n",
       "       [ 26.43626485],\n",
       "       [ 65.02791617],\n",
       "       [ 16.55643582],\n",
       "       [-17.44672502],\n",
       "       [ 76.1155859 ],\n",
       "       [241.09227065],\n",
       "       [151.3687163 ],\n",
       "       [ 42.4931287 ],\n",
       "       [118.48181592],\n",
       "       [ 84.81138362],\n",
       "       [ 51.8307846 ],\n",
       "       [195.78274149],\n",
       "       [245.70060609],\n",
       "       [197.38413861],\n",
       "       [-74.06609658],\n",
       "       [111.19686853],\n",
       "       [ 81.55154375],\n",
       "       [127.50826761],\n",
       "       [195.49878769],\n",
       "       [ 90.40179133],\n",
       "       [ 43.60929246],\n",
       "       [130.82136659],\n",
       "       [-81.59266703],\n",
       "       [104.52545955],\n",
       "       [ 87.45312552],\n",
       "       [ 61.02936689],\n",
       "       [183.28349563],\n",
       "       [116.48951451],\n",
       "       [ 75.99037697],\n",
       "       [233.02472573],\n",
       "       [112.06315399],\n",
       "       [127.25915157],\n",
       "       [ 79.10540659]])"
      ]
     },
     "execution_count": 274,
     "metadata": {},
     "output_type": "execute_result"
    }
   ],
   "source": []
  },
  {
   "cell_type": "code",
   "execution_count": 276,
   "metadata": {},
   "outputs": [
    {
     "data": {
      "text/plain": [
       "array([[102.02701439],\n",
       "       [ 81.59750943]])"
      ]
     },
     "execution_count": 276,
     "metadata": {},
     "output_type": "execute_result"
    }
   ],
   "source": []
  },
  {
   "cell_type": "code",
   "execution_count": 279,
   "metadata": {},
   "outputs": [
    {
     "data": {
      "image/png": "[encoded data removed]",
      "text/plain": [
       "<Figure size 432x288 with 1 Axes>"
      ]
     },
     "metadata": {},
     "output_type": "display_data"
    }
   ],
   "source": []
  },
  {
   "cell_type": "code",
   "execution_count": 282,
   "metadata": {},
   "outputs": [],
   "source": []
  },
  {
   "cell_type": "code",
   "execution_count": null,
   "metadata": {},
   "outputs": [],
   "source": []
  },
  {
   "cell_type": "code",
   "execution_count": null,
   "metadata": {},
   "outputs": [],
   "source": []
  }
 ],
 "metadata": {
  "kernelspec": {
   "display_name": "Python 3",
   "language": "python",
   "name": "python3"
  },
  "language_info": {
   "codemirror_mode": {
    "name": "ipython",
    "version": 3
   },
   "file_extension": ".py",
   "mimetype": "text/x-python",
   "name": "python",
   "nbconvert_exporter": "python",
   "pygments_lexer": "ipython3",
   "version": "3.6.4"
  }
 },
 "nbformat": 4,
 "nbformat_minor": 2
}
