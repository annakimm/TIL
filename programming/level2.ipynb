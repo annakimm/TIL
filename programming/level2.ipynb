{
 "cells": [
  {
   "cell_type": "code",
   "execution_count": 1,
   "metadata": {},
   "outputs": [
    {
     "name": "stdout",
     "output_type": "stream",
     "text": [
      "result : [5, 4, 3, 2, 1]\n"
     ]
    }
   ],
   "source": [
    "#12345 -> [5, 4, 3, 2, 1]\n",
    "\n",
    "def digit_reverse(n):\n",
    "    ls = list(str(n))\n",
    "    ls.reverse()\n",
    "    result = []\n",
    "    for i in range(len(ls)):\n",
    "        result.append(int(ls[i]))\n",
    "    return result\n",
    "\n",
    "print(\"result : {}\".format(digit_reverse(12345)));"
   ]
  },
  {
   "cell_type": "code",
   "execution_count": 2,
   "metadata": {},
   "outputs": [
    {
     "name": "stdout",
     "output_type": "stream",
     "text": [
      "result : [5, 4, 3, 2, 1]\n"
     ]
    }
   ],
   "source": [
    "#best practice\n",
    "def digit_reverse2(n):\n",
    "    return list(map(int, reversed(str(n))))\n",
    "\n",
    "print(\"result : {}\".format(digit_reverse2(12345)))"
   ]
  },
  {
   "cell_type": "code",
   "execution_count": 4,
   "metadata": {},
   "outputs": [
    {
     "name": "stdout",
     "output_type": "stream",
     "text": [
      "[2, 4, 6]\n",
      "['oneone', 'twotwo', 'threethree', 'fourfour']\n"
     ]
    }
   ],
   "source": [
    "#map function : map(<function>, <sequence iterable>)\n",
    "def Add(a):\n",
    "    return a + a\n",
    "\n",
    "d1 = {1:'one', 2:'two', 3:'three', 4:'four'}\n",
    "\n",
    "re1 = list(map(Add, [1, 2, 3]))\n",
    "re2 = list(map(Add, [d1[i] for i in d1]))\n",
    "\n",
    "print(re1)\n",
    "print(re2)"
   ]
  },
  {
   "cell_type": "code",
   "execution_count": null,
   "metadata": {},
   "outputs": [],
   "source": []
  },
  {
   "cell_type": "code",
   "execution_count": null,
   "metadata": {},
   "outputs": [],
   "source": []
  }
 ],
 "metadata": {
  "kernelspec": {
   "display_name": "Python 3",
   "language": "python",
   "name": "python3"
  },
  "language_info": {
   "codemirror_mode": {
    "name": "ipython",
    "version": 3
   },
   "file_extension": ".py",
   "mimetype": "text/x-python",
   "name": "python",
   "nbconvert_exporter": "python",
   "pygments_lexer": "ipython3",
   "version": "3.6.4"
  }
 },
 "nbformat": 4,
 "nbformat_minor": 2
}
