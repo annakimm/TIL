{
 "cells": [
  {
   "cell_type": "markdown",
   "metadata": {
    "school_cell_uuid": "842c075d37ec443cb067c86a9a59e9bc"
   },
   "source": [
    "# 스케일링과 변수 변환"
   ]
  },
  {
   "cell_type": "markdown",
   "metadata": {
    "school_cell_uuid": "e1db296ec7b04d94a386edcb4df62c03"
   },
   "source": [
    "회귀분석에 사용되는 데이터는 그 자체로 사용하기 보다는 스케일링이나 함수 변환 등의 전처리 과정을 거치는 경우가 많다. 샘플 평균이 0, 샘플 표준편차가 1이 되도록 scaling한다. 전처리 과정은 공분산 행렬의 조건을 향상시키거나 데이터 간의 관계를 선형 모형에 맞게 바꾸기 위해 사용된다."
   ]
  },
  {
   "cell_type": "markdown",
   "metadata": {
    "school_cell_uuid": "b7282035a5db4853951d69feed4a40ef"
   },
   "source": [
    "## 조건수"
   ]
  },
  {
   "cell_type": "markdown",
   "metadata": {
    "school_cell_uuid": "f90f706b6ffa45138190a9ba182d1642"
   },
   "source": [
    "**조건수**(conditional number)는 공분산 행렬 $X^TX$의 가장 큰 고유치와 가장 작은 고유치의 비율을 뜻한다. $X^TX$는 고유분해 하면 양수가 나온다.\n",
    "\n",
    "$$ \\text{condition number} = \\dfrac{\\lambda_{\\text{max}}}{\\lambda_{\\text{min}}} $$\n",
    "\n"
   ]
  },
  {
   "cell_type": "markdown",
   "metadata": {
    "school_cell_uuid": "88802cbcdae545c8937020563c92e852"
   },
   "source": [
    "조건수가 크면  역행렬을 계산할 때 오차가 미치는 영향이 커진다. \n",
    "\n",
    "예를 들어 다음 연립방정식의 해를 구해보자.\n",
    "\n",
    "$$ Ax = b $$\n",
    "\n",
    "행렬 $A$는 covariance matrix이고, feature matrix에서 구해진다. 측정기기에서 단위 정밀성 부족 등으로 실제에서 조사오차가 발생할 수 있다. 이 때 행렬 $A$가 단위 행렬이면 조건수는 1이다. 조건수가 1일 때는 내가 조사할 때 생긴 오차만큼 동일하게 $x$값도 오차가 생긴다. 하지만 조건수가 커질 수록 내가 오차를 조금 만들어도 $x$값이 실제와 크게 달라진다."
   ]
  },
  {
   "cell_type": "code",
   "execution_count": 1,
   "metadata": {
    "school_cell_uuid": "86463891e277485f992954b4052ddf0c"
   },
   "outputs": [],
   "source": [
    "A = np.eye(4)"
   ]
  },
  {
   "cell_type": "markdown",
   "metadata": {
    "school_cell_uuid": "b465763bcf6f4f3d9c7c350ff8e2c5b1"
   },
   "source": [
    "이 행렬 $A$와 곱해져서 상수 벡터 $b$가 되는 벡터 $x$를 역행렬 $A^{-1}$을 사용하여 계산할 수 있다. 이 예에서는 상수 벡터 $b$가 1-벡터이다."
   ]
  },
  {
   "cell_type": "code",
   "execution_count": 2,
   "metadata": {
    "school_cell_uuid": "c22b1361e7ba4b698cddf390ae7628c6"
   },
   "outputs": [
    {
     "data": {
      "text/plain": [
       "array([1., 1., 1., 1.])"
      ]
     },
     "execution_count": 2,
     "metadata": {},
     "output_type": "execute_result"
    }
   ],
   "source": [
    "b = np.ones(4)\n",
    "sp.linalg.solve(A, b)"
   ]
  },
  {
   "cell_type": "markdown",
   "metadata": {
    "school_cell_uuid": "54169bed4dad4186b09844fc5d1e1ccf"
   },
   "source": [
    "만약 상수 벡터에 약간의 오차가 있었다면 연립방정식의 해에도 동일한 수준의 오차가 발행한다."
   ]
  },
  {
   "cell_type": "code",
   "execution_count": 3,
   "metadata": {
    "school_cell_uuid": "c785fd15b6a04333bf2806175fc8cfe2"
   },
   "outputs": [
    {
     "data": {
      "text/plain": [
       "array([0.99990001, 0.99990001, 0.99990001, 0.99990001])"
      ]
     },
     "execution_count": 3,
     "metadata": {},
     "output_type": "execute_result"
    }
   ],
   "source": [
    "sp.linalg.solve(A + 0.0001 * np.eye(4), b)"
   ]
  },
  {
   "cell_type": "markdown",
   "metadata": {
    "school_cell_uuid": "39b08779a63f4234b88a9b3b6a1b40e4"
   },
   "source": [
    "하지만 연립방정식을 이루는 행렬의 조건수가 커지면 상수항 오차가 작은 경우에도 해의 오차가 커지게 된다. 예를 들어 다음과 같은 행렬을 생각하자."
   ]
  },
  {
   "cell_type": "code",
   "execution_count": 4,
   "metadata": {
    "school_cell_uuid": "4c841728b1ee4fabbc3f827808002b4d"
   },
   "outputs": [
    {
     "data": {
      "text/plain": [
       "array([[1.        , 0.5       , 0.33333333, 0.25      ],\n",
       "       [0.5       , 0.33333333, 0.25      , 0.2       ],\n",
       "       [0.33333333, 0.25      , 0.2       , 0.16666667],\n",
       "       [0.25      , 0.2       , 0.16666667, 0.14285714]])"
      ]
     },
     "execution_count": 4,
     "metadata": {},
     "output_type": "execute_result"
    }
   ],
   "source": [
    "A = sp.linalg.hilbert(4)\n",
    "A"
   ]
  },
  {
   "cell_type": "code",
   "execution_count": 5,
   "metadata": {
    "school_cell_uuid": "273ba4dd8c234779b25f4597241693a4"
   },
   "outputs": [
    {
     "data": {
      "text/plain": [
       "15513.738738929038"
      ]
     },
     "execution_count": 5,
     "metadata": {},
     "output_type": "execute_result"
    }
   ],
   "source": [
    "np.linalg.cond(A)"
   ]
  },
  {
   "cell_type": "markdown",
   "metadata": {
    "school_cell_uuid": "929358be6458467fb6c0bfe6fab8c1b1"
   },
   "source": [
    "이 행렬과 곱해져서 상수 벡터가 되는 벡터를 역행렬을 사용하여 찾으면 다음과 같다."
   ]
  },
  {
   "cell_type": "code",
   "execution_count": 6,
   "metadata": {
    "school_cell_uuid": "57ae305ccc414f62ac247c10936789d7"
   },
   "outputs": [
    {
     "data": {
      "text/plain": [
       "array([  -4.,   60., -180.,  140.])"
      ]
     },
     "execution_count": 6,
     "metadata": {},
     "output_type": "execute_result"
    }
   ],
   "source": [
    "sp.linalg.solve(A, b)"
   ]
  },
  {
   "cell_type": "markdown",
   "metadata": {
    "school_cell_uuid": "bc748c5d954c45d4bf01744d1a081337"
   },
   "source": [
    "조건수가 크면 약간의 오차만 있어도 해가 전혀 다른 값을 가진다. 따라서 조건수가 크면 회귀분석을 사용한 예측값도 오차가 커지게 된다. 여기에서 역행렬 값이 틀렸다는 것을 의미하지는 않는다."
   ]
  },
  {
   "cell_type": "code",
   "execution_count": 7,
   "metadata": {
    "school_cell_uuid": "962d447d01c2419db2a06372d9a0f7f3"
   },
   "outputs": [
    {
     "data": {
      "text/plain": [
       "array([ -0.58897672,  21.1225671 , -85.75912499,  78.45650825])"
      ]
     },
     "execution_count": 7,
     "metadata": {},
     "output_type": "execute_result"
    }
   ],
   "source": [
    "sp.linalg.solve(A + 0.0001 * np.eye(4), b)"
   ]
  },
  {
   "cell_type": "markdown",
   "metadata": {
    "school_cell_uuid": "32da0b2d26b44fb5a0db672160e268a5"
   },
   "source": [
    "조건수가 높으면 회귀분석에서 구한 $w$가 자연계 $w$와 상관없을 수 있고, 새로운 데이터를 넣었을 때 이상한 값이 나올 것이다. 즉, 조건수가 높으면 그 모형을 믿을 수 없다. $X^TX$의 pdf가 원이 아니고 타원의 형태를 보이면 최대, 최소의 $\\lambda$값이 많이 차이나므로 조건수가 나빠진다.\n",
    "\n",
    "회귀분석에서 조건수가 커지는 경우는 크게 두 가지가 있다.\n",
    "\n",
    "1. 변수들의 단위 차이로 인해 숫자의 스케일이 크게 달라지는 경우. 이 경우에는 스케일링(scaling)으로 해결한다. - $x_1$(단위 mm)의 분산은 작은데 $x_2$(단위 km)의 분산은 클 때\n",
    "1. 다중 공선성 즉, 두 변수가 동일하지는 않으나 상관관계가 큰 독립 변수들이 있는 경우, 이 경우에는 변수 선택(둘 중 한 변수 제거)이나 PCA를 사용한 차원 축소(feature matrix를 회전시켜서 basis vector가 조금만 움직인 변수가 영향이 적을 것이라고 가정하고 그 변수를 제거) 등으로 해결한다."
   ]
  },
  {
   "cell_type": "markdown",
   "metadata": {
    "school_cell_uuid": "a591a94f242c499abf01e8423e81b39a"
   },
   "source": [
    "## 스케일링"
   ]
  },
  {
   "cell_type": "markdown",
   "metadata": {
    "school_cell_uuid": "5060590564f741b9a4a343e276951aa7"
   },
   "source": [
    "스케일링을 하면 $R^2$ 값은 동일하고 조건수만 감소한다. \n",
    "보스턴 집값 데이터의 경우 회귀분석을 하면 조건수가 15,000 정도로 크게 나오는데 이는 각 독립 변수들이 0.1 단위부터 수백 단위까지 제각각의 크기를 가지고 있기 때문이다."
   ]
  },
  {
   "cell_type": "code",
   "execution_count": 18,
   "metadata": {},
   "outputs": [
    {
     "name": "stdout",
     "output_type": "stream",
     "text": [
      "                            OLS Regression Results                            \n",
      "==============================================================================\n",
      "Dep. Variable:                   MEDV   R-squared:                       0.741\n",
      "Model:                            OLS   Adj. R-squared:                  0.734\n",
      "Method:                 Least Squares   F-statistic:                     108.1\n",
      "Date:                Mon, 09 Jul 2018   Prob (F-statistic):          6.95e-135\n",
      "Time:                        16:07:12   Log-Likelihood:                -1498.8\n",
      "No. Observations:                 506   AIC:                             3026.\n",
      "Df Residuals:                     492   BIC:                             3085.\n",
      "Df Model:                          13                                         \n",
      "Covariance Type:            nonrobust                                         \n",
      "==============================================================================\n",
      "                 coef    std err          t      P>|t|      [0.025      0.975]\n",
      "------------------------------------------------------------------------------\n",
      "Intercept     36.4911      5.104      7.149      0.000      26.462      46.520\n",
      "CRIM          -0.1072      0.033     -3.276      0.001      -0.171      -0.043\n",
      "ZN             0.0464      0.014      3.380      0.001       0.019       0.073\n",
      "INDUS          0.0209      0.061      0.339      0.735      -0.100       0.142\n",
      "NOX          -17.7958      3.821     -4.658      0.000     -25.302     -10.289\n",
      "RM             3.8048      0.418      9.102      0.000       2.983       4.626\n",
      "AGE            0.0008      0.013      0.057      0.955      -0.025       0.027\n",
      "DIS           -1.4758      0.199     -7.398      0.000      -1.868      -1.084\n",
      "RAD            0.3057      0.066      4.608      0.000       0.175       0.436\n",
      "TAX           -0.0123      0.004     -3.278      0.001      -0.020      -0.005\n",
      "PTRATIO       -0.9535      0.131     -7.287      0.000      -1.211      -0.696\n",
      "B              0.0094      0.003      3.500      0.001       0.004       0.015\n",
      "LSTAT         -0.5255      0.051    -10.366      0.000      -0.625      -0.426\n",
      "CHAS           2.6886      0.862      3.120      0.002       0.996       4.381\n",
      "==============================================================================\n",
      "Omnibus:                      178.029   Durbin-Watson:                   1.078\n",
      "Prob(Omnibus):                  0.000   Jarque-Bera (JB):              782.015\n",
      "Skew:                           1.521   Prob(JB):                    1.54e-170\n",
      "Kurtosis:                       8.276   Cond. No.                     1.51e+04\n",
      "==============================================================================\n",
      "\n",
      "Warnings:\n",
      "[1] Standard Errors assume that the covariance matrix of the errors is correctly specified.\n",
      "[2] The condition number is large, 1.51e+04. This might indicate that there are\n",
      "strong multicollinearity or other numerical problems.\n"
     ]
    }
   ],
   "source": [
    "from sklearn.datasets import load_boston\n",
    "boston = load_boston()\n",
    "dfX = pd.DataFrame(boston.data, columns=boston.feature_names)\n",
    "dfy = pd.DataFrame(boston.target, columns=[\"MEDV\"])\n",
    "df = pd.concat([dfX, dfy], axis=1)\n",
    "\n",
    "model1 = sm.OLS.from_formula(\"MEDV ~ CRIM + ZN + INDUS + NOX + RM + AGE + \"\n",
    "                             \"DIS + RAD + TAX + PTRATIO + B + LSTAT + CHAS\", data=df)\n",
    "result1 = model1.fit()\n",
    "print(result1.summary())"
   ]
  },
  {
   "cell_type": "markdown",
   "metadata": {},
   "source": [
    "- 각각의 회귀계수는 다른 독립변수는 고정되어 있고 특정 독립변수가 1단위 변할 때 종속변수가 변화하는 평균을 의미한다. 예를 들어 모든 독립변수가 동일한 두 집을 비교할 때 한 집의 NOX 농도가 1단위 증가하면 그 집의 가격은 평균적으로 17.8 감소한다는 뜻이다.\n",
    "- 상수항은 모든 독립변수가 0인 경우에 예측되는 가격이다.\n",
    "\n",
    "$*$ 클린턴 브라운리, '파이썬 데이터 분석 입문', 한빛미디어, 2017"
   ]
  },
  {
   "cell_type": "code",
   "execution_count": 10,
   "metadata": {
    "school_cell_uuid": "b4c86238f1294ecfbcbe53ac23dd372c"
   },
   "outputs": [
    {
     "data": {
      "text/plain": [
       "0    30.008213\n",
       "dtype: float64"
      ]
     },
     "execution_count": 10,
     "metadata": {},
     "output_type": "execute_result"
    }
   ],
   "source": [
    "result1.predict(df[:1])"
   ]
  },
  {
   "cell_type": "markdown",
   "metadata": {
    "school_cell_uuid": "db7b5f7d04fb4ced970f479cf533993b"
   },
   "source": [
    "- StatsModels에서는 모형지정 문자열에서 `scale` 명령을 사용하여 스케일링을 할 수 있다. 이 방식으로 스케일을 하면 스케일링에 사용된 평균과 표준편차를 저장하였다가 나중에 `predict` 명령을 사용할 때도 같은 스케일을 사용하기 때문에 편리하다. Scikit-Learn의 파이프라인과 같은 역할을 한다."
   ]
  },
  {
   "cell_type": "code",
   "execution_count": 11,
   "metadata": {
    "school_cell_uuid": "f117ea14afb4466c9e8fe5f799aeac6f"
   },
   "outputs": [
    {
     "name": "stdout",
     "output_type": "stream",
     "text": [
      "                            OLS Regression Results                            \n",
      "==============================================================================\n",
      "Dep. Variable:                   MEDV   R-squared:                       0.741\n",
      "Model:                            OLS   Adj. R-squared:                  0.734\n",
      "Method:                 Least Squares   F-statistic:                     108.1\n",
      "Date:                Mon, 09 Jul 2018   Prob (F-statistic):          6.95e-135\n",
      "Time:                        16:03:37   Log-Likelihood:                -1498.8\n",
      "No. Observations:                 506   AIC:                             3026.\n",
      "Df Residuals:                     492   BIC:                             3085.\n",
      "Df Model:                          13                                         \n",
      "Covariance Type:            nonrobust                                         \n",
      "==================================================================================\n",
      "                     coef    std err          t      P>|t|      [0.025      0.975]\n",
      "----------------------------------------------------------------------------------\n",
      "Intercept         22.3468      0.219    101.936      0.000      21.916      22.778\n",
      "scale(CRIM)       -0.9204      0.281     -3.276      0.001      -1.472      -0.368\n",
      "scale(ZN)          1.0810      0.320      3.380      0.001       0.453       1.709\n",
      "scale(INDUS)       0.1430      0.421      0.339      0.735      -0.685       0.971\n",
      "scale(NOX)        -2.0601      0.442     -4.658      0.000      -2.929      -1.191\n",
      "scale(RM)          2.6706      0.293      9.102      0.000       2.094       3.247\n",
      "scale(AGE)         0.0211      0.371      0.057      0.955      -0.709       0.751\n",
      "scale(DIS)        -3.1044      0.420     -7.398      0.000      -3.929      -2.280\n",
      "scale(RAD)         2.6588      0.577      4.608      0.000       1.525       3.792\n",
      "scale(TAX)        -2.0759      0.633     -3.278      0.001      -3.320      -0.832\n",
      "scale(PTRATIO)    -2.0622      0.283     -7.287      0.000      -2.618      -1.506\n",
      "scale(B)           0.8566      0.245      3.500      0.001       0.376       1.338\n",
      "scale(LSTAT)      -3.7487      0.362    -10.366      0.000      -4.459      -3.038\n",
      "CHAS               2.6886      0.862      3.120      0.002       0.996       4.381\n",
      "==============================================================================\n",
      "Omnibus:                      178.029   Durbin-Watson:                   1.078\n",
      "Prob(Omnibus):                  0.000   Jarque-Bera (JB):              782.015\n",
      "Skew:                           1.521   Prob(JB):                    1.54e-170\n",
      "Kurtosis:                       8.276   Cond. No.                         10.6\n",
      "==============================================================================\n",
      "\n",
      "Warnings:\n",
      "[1] Standard Errors assume that the covariance matrix of the errors is correctly specified.\n"
     ]
    }
   ],
   "source": [
    "model2 = sm.OLS.from_formula(\"MEDV ~ \"\n",
    "                             \"scale(CRIM) + scale(ZN) + scale(INDUS) + scale(NOX) + scale(RM) + scale(AGE) + \"\n",
    "                             \"scale(DIS) + scale(RAD) + scale(TAX) + scale(PTRATIO) + scale(B) + scale(LSTAT) + CHAS\", \n",
    "                             data=df)\n",
    "result2 = model2.fit()\n",
    "print(result2.summary())"
   ]
  },
  {
   "cell_type": "markdown",
   "metadata": {},
   "source": [
    "- 독립변수가 표준화되면 회귀계수의 해석도 달라진다. 표준화 후 분석한 회귀계수는 다른 독립변수는 고정되어 있고 특정 독립변수가 1표준편차만큼 변할 때 종속변수가 변화하는 표준편차의 평균을 의미한다. 모든 독립변수가 동일한 두 집을 비교할 때 한 집의 NOX가 1표준편차만큼 증가하면 그 집의 가격은 평균적으로 약 2.06표준편차만큼 감소한다는 뜻이다. \n",
    "- 절편에 대한 해석도 달라지는데 모든 독립변수가 평균일 때에 해당하는 종속변수의 평균을 의미한다. 이 회귀모형에서 집의 모든 특성이 평균일 때 가격의 평균은 절편에 해당하는 22.3468이고 표준오차는 0.219가 되리라고 기대할 수 있다.\n",
    "\n",
    "$*$ 클린턴 브라운리, '파이썬 데이터 분석 입문', 한빛미디어, 2017"
   ]
  },
  {
   "cell_type": "code",
   "execution_count": 12,
   "metadata": {
    "school_cell_uuid": "11e4ea4ce0f44c7d9762ead256ac860f"
   },
   "outputs": [
    {
     "data": {
      "text/plain": [
       "0    30.008213\n",
       "dtype: float64"
      ]
     },
     "execution_count": 12,
     "metadata": {},
     "output_type": "execute_result"
    }
   ],
   "source": [
    "result2.predict(df[:1])"
   ]
  },
  {
   "cell_type": "markdown",
   "metadata": {
    "school_cell_uuid": "fb78b14845714c7f979aa0a39bdf1554"
   },
   "source": [
    "## 변수 변환"
   ]
  },
  {
   "cell_type": "markdown",
   "metadata": {
    "school_cell_uuid": "e6038bea24174934a93ba7df06c61f5a"
   },
   "source": [
    "다음과 같은 경우에는 로그 함수 혹은 제곱근 함수 등을 사용하여 변환된 변수를 사용하면 회귀 성능이 향상될 수도 있다. 실제로 비선형 관계에 있는 변수를 변수변환해서 선형모델로 분석할 수 있게 하는 것이다.\n",
    "\n",
    "* 독립 변수나 종속 변수가 심하게 한쪽으로 치우친 분포를 보이는 경우 \n",
    "* 독립 변수와 종속 변수간의 관계가 곱셈 혹은 나눗셈으로 연결된 경우\n",
    "* 종속 변수와 예측치가 비선형 관계를 보이는 경우\n",
    "\n",
    "**원래 선형회귀모형의 가정에는 독립 변수나 종속 변수가 반드시 대칭 분포를 보여야 한다는 가정은 없지만 정규 분포에 가까운 분포를 보일 수록 선형회귀모형의 성능이 좋아지는 경우가 많다.** partial regression, CCPR, 변수분포를 보고 어떤 관계인지, 변수를 어떻게 처리해야 하는지 고민해서 처리한다."
   ]
  },
  {
   "cell_type": "markdown",
   "metadata": {
    "school_cell_uuid": "b9e5753bc288415294f99dd6a0a86c5b"
   },
   "source": [
    "보스턴 집값 데이터에서는 가격, DIS, PTRATIO, LSTAT 등이 비대칭 분포를 이루거나 가격과 반비례 관계를 가지므로 이 변수들을 로그로 변환한 후에 선형회귀분석을 하면 성능을 향상시킬 수 있다."
   ]
  },
  {
   "cell_type": "code",
   "execution_count": 13,
   "metadata": {
    "school_cell_uuid": "4a20e6c34b1a42408bd1d429d9b30ad4"
   },
   "outputs": [
    {
     "name": "stdout",
     "output_type": "stream",
     "text": [
      "                            OLS Regression Results                            \n",
      "==============================================================================\n",
      "Dep. Variable:           np.log(MEDV)   R-squared:                       0.817\n",
      "Model:                            OLS   Adj. R-squared:                  0.811\n",
      "Method:                 Least Squares   F-statistic:                     145.4\n",
      "Date:                Mon, 09 Jul 2018   Prob (F-statistic):          1.97e-169\n",
      "Time:                        16:03:40   Log-Likelihood:                 164.24\n",
      "No. Observations:                 506   AIC:                            -296.5\n",
      "Df Residuals:                     490   BIC:                            -228.9\n",
      "Df Model:                          15                                         \n",
      "Covariance Type:            nonrobust                                         \n",
      "==========================================================================================\n",
      "                             coef    std err          t      P>|t|      [0.025      0.975]\n",
      "------------------------------------------------------------------------------------------\n",
      "Intercept                  3.0290      0.008    368.850      0.000       3.013       3.045\n",
      "scale(CRIM)               -0.2548      0.030     -8.409      0.000      -0.314      -0.195\n",
      "scale(I(CRIM ** 2))        0.1225      0.024      5.143      0.000       0.076       0.169\n",
      "scale(ZN)                 -0.0388      0.031     -1.247      0.213      -0.100       0.022\n",
      "scale(I(ZN ** 2))          0.0359      0.028      1.296      0.196      -0.019       0.090\n",
      "scale(INDUS)               0.0009      0.016      0.055      0.957      -0.031       0.032\n",
      "scale(NOX)                -0.1134      0.017     -6.518      0.000      -0.148      -0.079\n",
      "scale(RM)                  0.0372      0.012      3.204      0.001       0.014       0.060\n",
      "scale(AGE)                 0.0092      0.014      0.637      0.524      -0.019       0.038\n",
      "scale(np.log(DIS))        -0.1260      0.018     -6.848      0.000      -0.162      -0.090\n",
      "scale(RAD)                 0.1812      0.024      7.560      0.000       0.134       0.228\n",
      "scale(TAX)                -0.1107      0.024     -4.660      0.000      -0.157      -0.064\n",
      "scale(np.log(PTRATIO))    -0.0830      0.011     -7.607      0.000      -0.104      -0.062\n",
      "scale(B)                   0.0296      0.009      3.195      0.001       0.011       0.048\n",
      "scale(np.log(LSTAT))      -0.2243      0.014    -15.467      0.000      -0.253      -0.196\n",
      "CHAS                       0.0797      0.032      2.463      0.014       0.016       0.143\n",
      "==============================================================================\n",
      "Omnibus:                       38.120   Durbin-Watson:                   1.185\n",
      "Prob(Omnibus):                  0.000   Jarque-Bera (JB):              164.197\n",
      "Skew:                           0.029   Prob(JB):                     2.21e-36\n",
      "Kurtosis:                       5.790   Cond. No.                         13.5\n",
      "==============================================================================\n",
      "\n",
      "Warnings:\n",
      "[1] Standard Errors assume that the covariance matrix of the errors is correctly specified.\n"
     ]
    }
   ],
   "source": [
    "model3 = sm.OLS.from_formula(\"np.log(MEDV) ~ \"\n",
    "                             \"scale(CRIM) + scale(I(CRIM ** 2)) + scale(ZN) + scale(I(ZN ** 2)) + \"\n",
    "                             \"scale(INDUS) + scale(NOX) + scale(RM) + scale(AGE) + \"\n",
    "                             \"scale(np.log(DIS)) + scale(RAD) + scale(TAX) + \"\n",
    "                             \"scale(np.log(PTRATIO)) + scale(B) + scale(np.log(LSTAT)) + CHAS\", \n",
    "                             data=df)\n",
    "result3 = model3.fit()\n",
    "print(result3.summary())"
   ]
  },
  {
   "cell_type": "code",
   "execution_count": 14,
   "metadata": {
    "school_cell_uuid": "7f464876b46d448e96634eced6be2d84"
   },
   "outputs": [
    {
     "data": {
      "text/plain": [
       "array([  7,  54, 148, 152, 160, 214, 253, 267, 364, 365, 367, 368, 369,\n",
       "       371, 372, 374, 380, 385, 397, 398, 399, 400, 401, 405, 409, 410,\n",
       "       412, 413, 414, 415, 416, 418, 419, 426, 445, 489, 490, 492, 505,\n",
       "       161, 162, 163, 166, 186, 195, 204, 225, 257, 267, 283, 368, 369,\n",
       "       370, 371, 372], dtype=int64)"
      ]
     },
     "execution_count": 14,
     "metadata": {},
     "output_type": "execute_result"
    }
   ],
   "source": [
    "# 아웃라이어 제거\n",
    "influence3 = result3.get_influence()\n",
    "cooks_d2, pvals = influence3.cooks_distance\n",
    "fox_cr = 4 / (len(df) - 2)\n",
    "idx_outlier = np.where(cooks_d2 > fox_cr)[0]\n",
    "# MEDV = 50 제거\n",
    "idx_outlier = np.hstack([idx_outlier, np.where(boston.target == 50)[0]])\n",
    "idx_outlier"
   ]
  },
  {
   "cell_type": "code",
   "execution_count": 15,
   "metadata": {
    "school_cell_uuid": "484bfb770a684028971f6eaa1bdf84da"
   },
   "outputs": [
    {
     "data": {
      "image/png": "[encoded data removed]",
      "text/plain": [
       "<Figure size 432x288 with 1 Axes>"
      ]
     },
     "metadata": {},
     "output_type": "display_data"
    }
   ],
   "source": [
    "%matplotlib inline\n",
    "pred = result3.predict(df)\n",
    "ax = plt.subplot()\n",
    "plt.scatter(np.log(dfy), pred)\n",
    "plt.scatter(np.log(dfy.MEDV[idx_outlier]), pred[idx_outlier], s=300, c=\"r\", alpha=0.5)\n",
    "plt.show()"
   ]
  },
  {
   "cell_type": "code",
   "execution_count": 16,
   "metadata": {
    "school_cell_uuid": "000af7d0b0bf4eb69aadf44287776a25"
   },
   "outputs": [],
   "source": [
    "idx = list(set(range(len(df))).difference(idx_outlier))\n",
    "df4 = df.iloc[idx, :].reset_index(drop=True)"
   ]
  },
  {
   "cell_type": "code",
   "execution_count": 17,
   "metadata": {
    "school_cell_uuid": "b4f1429c6faf4175b9468955eb5ee052"
   },
   "outputs": [
    {
     "name": "stdout",
     "output_type": "stream",
     "text": [
      "                            OLS Regression Results                            \n",
      "==============================================================================\n",
      "Dep. Variable:           np.log(MEDV)   R-squared:                       0.872\n",
      "Model:                            OLS   Adj. R-squared:                  0.868\n",
      "Method:                 Least Squares   F-statistic:                     199.9\n",
      "Date:                Mon, 09 Jul 2018   Prob (F-statistic):          1.56e-185\n",
      "Time:                        16:03:43   Log-Likelihood:                 317.45\n",
      "No. Observations:                 456   AIC:                            -602.9\n",
      "Df Residuals:                     440   BIC:                            -536.9\n",
      "Df Model:                          15                                         \n",
      "Covariance Type:            nonrobust                                         \n",
      "==========================================================================================\n",
      "                             coef    std err          t      P>|t|      [0.025      0.975]\n",
      "------------------------------------------------------------------------------------------\n",
      "Intercept                  3.0383      0.006    512.183      0.000       3.027       3.050\n",
      "scale(CRIM)               -0.2115      0.027     -7.976      0.000      -0.264      -0.159\n",
      "scale(I(CRIM ** 2))        0.0796      0.018      4.331      0.000       0.043       0.116\n",
      "scale(ZN)                 -0.0464      0.022     -2.110      0.035      -0.090      -0.003\n",
      "scale(I(ZN ** 2))          0.0435      0.020      2.206      0.028       0.005       0.082\n",
      "scale(INDUS)               0.0036      0.011      0.323      0.747      -0.018       0.026\n",
      "scale(NOX)                -0.0648      0.013     -5.001      0.000      -0.090      -0.039\n",
      "scale(RM)                  0.0852      0.009      9.195      0.000       0.067       0.103\n",
      "scale(AGE)                -0.0271      0.011     -2.438      0.015      -0.049      -0.005\n",
      "scale(np.log(DIS))        -0.0968      0.013     -7.368      0.000      -0.123      -0.071\n",
      "scale(RAD)                 0.1564      0.019      8.106      0.000       0.118       0.194\n",
      "scale(TAX)                -0.0894      0.017     -5.153      0.000      -0.124      -0.055\n",
      "scale(np.log(PTRATIO))    -0.0681      0.008     -8.872      0.000      -0.083      -0.053\n",
      "scale(B)                   0.0446      0.007      6.699      0.000       0.031       0.058\n",
      "scale(np.log(LSTAT))      -0.1378      0.012    -11.074      0.000      -0.162      -0.113\n",
      "CHAS                       0.0659      0.026      2.580      0.010       0.016       0.116\n",
      "==============================================================================\n",
      "Omnibus:                       28.653   Durbin-Watson:                   1.309\n",
      "Prob(Omnibus):                  0.000   Jarque-Bera (JB):               43.266\n",
      "Skew:                           0.465   Prob(JB):                     4.03e-10\n",
      "Kurtosis:                       4.188   Cond. No.                         15.7\n",
      "==============================================================================\n",
      "\n",
      "Warnings:\n",
      "[1] Standard Errors assume that the covariance matrix of the errors is correctly specified.\n"
     ]
    }
   ],
   "source": [
    "model4 = sm.OLS.from_formula(\"np.log(MEDV) ~ \"\n",
    "                             \"scale(CRIM) + scale(I(CRIM ** 2)) + scale(ZN) + scale(I(ZN ** 2)) + \"\n",
    "                             \"scale(INDUS) + scale(NOX) + scale(RM) + scale(AGE) + \"\n",
    "                             \"scale(np.log(DIS)) + scale(RAD) + scale(TAX) + \"\n",
    "                             \"scale(np.log(PTRATIO)) + scale(B) + scale(np.log(LSTAT)) + CHAS\", \n",
    "                             data=df4)\n",
    "result4 = model4.fit()\n",
    "print(result4.summary())"
   ]
  }
 ],
 "metadata": {
  "kernelspec": {
   "display_name": "Python 3",
   "language": "python",
   "name": "python3"
  },
  "language_info": {
   "codemirror_mode": {
    "name": "ipython",
    "version": 3
   },
   "file_extension": ".py",
   "mimetype": "text/x-python",
   "name": "python",
   "nbconvert_exporter": "python",
   "pygments_lexer": "ipython3",
   "version": "3.6.4"
  }
 },
 "nbformat": 4,
 "nbformat_minor": 2
}
