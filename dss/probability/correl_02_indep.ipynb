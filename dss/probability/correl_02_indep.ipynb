{
 "cells": [
  {
   "cell_type": "markdown",
   "metadata": {},
   "source": [
    "## 독립과 상관관계\n",
    "### 확률 밀도 함수의 독립\n",
    "#### 상관과 독립\n",
    "두 확률 변수가 있을 때, 한 확률 변수의 값이 달라지면 다른 확률 변수의 조건부 분포가 달라지는 것을 서로 상관 관계가 있다고 한다. 즉 결합 확률 분포에서 한 확률 변수를 고정했을 때 생기는 함수나 분포의 단면의 모양(profile)이 달라지는 것을 말한다.\n",
    "\n",
    "반대로 두 확률 변수가 상관 관계가 아니면 서로 독립(independent)이라고 하는데 수학적으로 정의하면 다음과 같다.\n",
    "\n",
    "만약 두 확률 변수 $X$, $Y$의 결합 확률 밀도 함수(joint pdf)가 주변 확률 밀도 함수(marginal pdf)의 곱으로 나타나면 두 확률 변수가 서로 독립(independent)이다.\n",
    "\n",
    "$f_{XY}(x,y)=f_X(x)f_Y(y)$\n",
    " \n",
    "이 함수 식에서 볼 수 있듯이 독립인 경우에는 각각의 주변 확률 밀도 함수만으로 결합 확률 밀도 함수의 모양이 결정된다(높이는 달라질 수 있다). 즉, $Y$가 어떤 값을 가지더라도 확률 밀도 함수 $f(X,Y)$의 모양은 변하지 않는다."
   ]
  },
  {
   "cell_type": "markdown",
   "metadata": {},
   "source": [
    "#### 독립인 확률변수의 반복시행¶\n",
    "같은 확률 변수에서 여러개의 표본 데이터를 취하는 경우에는 독립인 두 개의 확률 변수에서 나온 표본으로 볼 수 있다.\n",
    "\n",
    "따라서 확률 밀도 함수가 $f(x)$이고 표본 데이터가 $\\{x_1, x_2, x_3, \\cdots, x_N \\}$이면 이 데이터, 즉 벡터 $(x1,x2,x3,⋯,xN)$가 나올 확률은 다음과 같다.\n",
    "\n",
    "$f(x_1, x_2) = f(x_1)f(x_2) = \\prod_{i=1}^2 f(x_i)$\n",
    "\n",
    "$f(x_1, x_2, x_3, \\cdots, x_N ) = \\prod_{i=1}^N f(x_i)$\n",
    "\n",
    "다시 말해 스칼라 확률 변수의 확률 밀도 함수가 있을 때 이 확률 변수를 확장한 벡터 확률 변수의 결합 확률 밀도 함수는 개별 확률 밀도 함수의 곱이다."
   ]
  },
  {
   "cell_type": "markdown",
   "metadata": {},
   "source": [
    "#### 조건부 확률분포¶\n",
    "독립인 두 확률 변수 $X,Y$의 조건부 확률 밀도 함수는 주변 확률 밀도 함수와 같다.\n",
    "\n",
    "$f_{X \\mid Y} (x | y) = \\dfrac{f_{XY}(x, y)}{f_{Y}(y)} = \\dfrac{f_{X}(x) f_{Y}(y)}{f_{Y}(y)} = f_{X}(x)$\n",
    " \n",
    "$f_{Y \\mid X} (y | x) = \\dfrac{f_{XY}(x, y)}{f_{X}(x)} = \\dfrac{f_{X}(x) f_{Y}(y)}{f_{X}(x)} = f_{Y}(y)$\n",
    " \n",
    "확률 변수  X 가 다른 확률 변수  Y 에 독립이면 조건부 확률 분포가 조건이 되는 확률 변수의 값에 영향을 받지 않는다. 즉,  Y  값이  y1 일 때와  y2 일 때의 조건부 확률 분포 $f(x∣y1)$과 $f(x∣y2)$이 같다는 의미이다.\n",
    "\n",
    "예를 들어 다음과 같은 두 이산 확률 변수의 결합 확률 분포를 보자."
   ]
  },
  {
   "cell_type": "code",
   "execution_count": 1,
   "metadata": {},
   "outputs": [
    {
     "data": {
      "text/plain": [
       "array([[0.0111, 0.0222, 0.0333, 0.0222, 0.0111],\n",
       "       [0.0222, 0.0444, 0.0667, 0.0444, 0.0222],\n",
       "       [0.0444, 0.0889, 0.1333, 0.0889, 0.0444],\n",
       "       [0.0222, 0.0444, 0.0667, 0.0444, 0.0222],\n",
       "       [0.0111, 0.0222, 0.0333, 0.0222, 0.0111]])"
      ]
     },
     "execution_count": 1,
     "metadata": {},
     "output_type": "execute_result"
    }
   ],
   "source": [
    "np.set_printoptions(precision=4)\n",
    "pmf1 = np.array([[1, 2, 3, 2, 1],\n",
    "                 [2, 4, 6, 4, 2],\n",
    "                 [4, 8,12, 8, 4],\n",
    "                 [2, 4, 6, 4, 2],\n",
    "                 [1, 2, 3, 2, 1]])\n",
    "pmf1 = pmf1/pmf1.sum()\n",
    "pmf1"
   ]
  },
  {
   "cell_type": "code",
   "execution_count": 2,
   "metadata": {},
   "outputs": [],
   "source": [
    "%matplotlib inline"
   ]
  },
  {
   "cell_type": "code",
   "execution_count": 3,
   "metadata": {},
   "outputs": [
    {
     "data": {
      "image/png": "[encoded data removed]",
      "text/plain": [
       "<matplotlib.figure.Figure at 0xb255f60>"
      ]
     },
     "metadata": {},
     "output_type": "display_data"
    }
   ],
   "source": [
    "sns.heatmap(pmf1, cmap=mpl.cm.bone_r)\n",
    "plt.xlabel(\"x\")\n",
    "plt.ylabel(\"y\")\n",
    "plt.title(\"Joint Probability (Independent)\")\n",
    "plt.show()"
   ]
  },
  {
   "cell_type": "markdown",
   "metadata": {},
   "source": [
    "이 확률 분포는 다음 식에서 보다시피 주변 확률 분포의 곱으로 표현된다."
   ]
  },
  {
   "cell_type": "code",
   "execution_count": 4,
   "metadata": {},
   "outputs": [
    {
     "data": {
      "text/plain": [
       "array([[0.0111, 0.0222, 0.0333, 0.0222, 0.0111],\n",
       "       [0.0222, 0.0444, 0.0667, 0.0444, 0.0222],\n",
       "       [0.0444, 0.0889, 0.1333, 0.0889, 0.0444],\n",
       "       [0.0222, 0.0444, 0.0667, 0.0444, 0.0222],\n",
       "       [0.0111, 0.0222, 0.0333, 0.0222, 0.0111]])"
      ]
     },
     "execution_count": 4,
     "metadata": {},
     "output_type": "execute_result"
    }
   ],
   "source": [
    "pmf1_marginal_x = pmf1.sum(axis=0)\n",
    "pmf1_marginal_y = pmf1.sum(axis=1)\n",
    "pmf = pmf1_marginal_x * pmf1_marginal_y[:, np.newaxis]\n",
    "pmf/pmf.sum()"
   ]
  },
  {
   "cell_type": "markdown",
   "metadata": {},
   "source": [
    "여러 가지 Y값을 바꾸어도 조건부 확률은 변하지 않는 것을 확인할 수 있다."
   ]
  },
  {
   "cell_type": "code",
   "execution_count": 12,
   "metadata": {},
   "outputs": [
    {
     "data": {
      "text/plain": [
       "array([0.1111, 0.2222, 0.3333, 0.2222, 0.1111])"
      ]
     },
     "execution_count": 12,
     "metadata": {},
     "output_type": "execute_result"
    }
   ],
   "source": [
    "cond_x_y0 = pmf1[0, :]/pmf1_marginal_y[0]\n",
    "cond_x_y0"
   ]
  },
  {
   "cell_type": "code",
   "execution_count": 13,
   "metadata": {},
   "outputs": [
    {
     "data": {
      "text/plain": [
       "array([0.1111, 0.2222, 0.3333, 0.2222, 0.1111])"
      ]
     },
     "execution_count": 13,
     "metadata": {},
     "output_type": "execute_result"
    }
   ],
   "source": [
    "cond_x_y1 = pmf1[1, :]/pmf1_marginal_y[1]\n",
    "cond_x_y1"
   ]
  },
  {
   "cell_type": "markdown",
   "metadata": {},
   "source": [
    "아래의 경우에는 독립 조건이 성립하지 않는다. 예를 들어 y = 1, 2, 3, 4 일 때 그래프의 단면이 다르다(최대값 위치, 분포모양 등, 하지만 상대확률은 scale조정이 가능하니 달라도 상관없음)"
   ]
  },
  {
   "cell_type": "code",
   "execution_count": 14,
   "metadata": {},
   "outputs": [
    {
     "data": {
      "text/plain": [
       "array([[0.  , 0.  , 0.  , 0.04, 0.04],\n",
       "       [0.  , 0.  , 0.08, 0.12, 0.04],\n",
       "       [0.  , 0.08, 0.2 , 0.08, 0.  ],\n",
       "       [0.04, 0.12, 0.08, 0.  , 0.  ],\n",
       "       [0.04, 0.04, 0.  , 0.  , 0.  ]])"
      ]
     },
     "execution_count": 14,
     "metadata": {},
     "output_type": "execute_result"
    }
   ],
   "source": [
    "pmf2 = np.array([[0, 0, 0, 1, 1],\n",
    "                 [0, 0, 2, 3, 1],\n",
    "                 [0, 2, 5, 2, 0],\n",
    "                 [1, 3, 2, 0, 0],\n",
    "                 [1, 1, 0, 0, 0]])\n",
    "pmf2 = pmf2/pmf2.sum()\n",
    "pmf2"
   ]
  },
  {
   "cell_type": "code",
   "execution_count": 15,
   "metadata": {},
   "outputs": [
    {
     "data": {
      "image/png": "[encoded data removed]",
      "text/plain": [
       "<matplotlib.figure.Figure at 0xb94ad68>"
      ]
     },
     "metadata": {},
     "output_type": "display_data"
    }
   ],
   "source": [
    "sns.heatmap(pmf2, cmap=mpl.cm.bone_r)\n",
    "plt.xlabel(\"x\")\n",
    "plt.ylabel(\"y\")\n",
    "plt.title(\"Joint Probability (Dependent)\")\n",
    "plt.show()"
   ]
  },
  {
   "cell_type": "markdown",
   "metadata": {},
   "source": [
    "이 경우에는 y값에 따라 x의 조건부 확률 분포가 달라지는 것을 확인할 수 있다."
   ]
  },
  {
   "cell_type": "code",
   "execution_count": 16,
   "metadata": {},
   "outputs": [],
   "source": [
    "pmf2_marginal_x = pmf2.sum(axis=0)\n",
    "pmf2_marginal_y = pmf2.sum(axis=1)"
   ]
  },
  {
   "cell_type": "code",
   "execution_count": 17,
   "metadata": {},
   "outputs": [
    {
     "data": {
      "text/plain": [
       "array([0. , 0. , 0. , 0.5, 0.5])"
      ]
     },
     "execution_count": 17,
     "metadata": {},
     "output_type": "execute_result"
    }
   ],
   "source": [
    "cond_x_y0 = pmf2[0, :]/pmf2_marginal_y[0]\n",
    "cond_x_y0"
   ]
  },
  {
   "cell_type": "code",
   "execution_count": 18,
   "metadata": {},
   "outputs": [
    {
     "data": {
      "text/plain": [
       "array([0.    , 0.    , 0.3333, 0.5   , 0.1667])"
      ]
     },
     "execution_count": 18,
     "metadata": {},
     "output_type": "execute_result"
    }
   ],
   "source": [
    "cond_x_y1 = pmf2[1, :]/pmf2_marginal_y[1]\n",
    "cond_x_y1"
   ]
  },
  {
   "cell_type": "markdown",
   "metadata": {},
   "source": [
    "두 확률 변수가 독립이 아닌 경우, 즉 결합 확률 분포(확률 밀도 함수 또는 확률 질량 함수)가 두 개의 주변 분포의 곱으로 나누어지지 않는 경우에는 두 확률 변수가 서로 의존(dependent)한다고 한다."
   ]
  },
  {
   "cell_type": "markdown",
   "metadata": {},
   "source": [
    "#### 독립 확률 변수의 기댓값¶\n",
    "독립인 두 확률 변수 $X,Y$의 기댓값은 다음 성질을 만족한다.\n",
    "\n",
    "$\\text{E}[XY] = \\text{E}[X]\\text{E}[Y]$\n",
    "\n",
    "$\\text{E}[(X - \\mu_X)(Y-\\mu_Y)] = 0$"
   ]
  },
  {
   "cell_type": "markdown",
   "metadata": {},
   "source": [
    "(증명)\n",
    "\n",
    "$\\begin{eqnarray}\n",
    "\\text{E}[XY] \n",
    "&=& \\iint xy \\;f_{XY}(x, y) \\; dx dy  \\\\\n",
    "&=& \\iint  xy \\;f_{X}(x)f_{Y}(y) \\; dx dy \\\\\n",
    "\\end{eqnarray}$"
   ]
  },
  {
   "cell_type": "markdown",
   "metadata": {},
   "source": [
    "Fubini의 정리에 의해 다중 적분의 값은 적분을 연속하여 한 값과 같다."
   ]
  },
  {
   "cell_type": "markdown",
   "metadata": {},
   "source": [
    "$\\begin{eqnarray}\n",
    "\\text{E}[XY] \n",
    "&=& \\int \\left( \\int xy \\;f_{X}(x)f_{Y}(y) dx \\right) dy \\\\\n",
    "&=& \\int \\left( y\\; f_{Y}(y) \\left( \\int x\\; f_{X}(x) \\; dx \\right) \\right) dy \\\\\n",
    "&=& \\left( \\int x\\;f_{X}(x) \\; dx \\right) \\left( \\int y\\;f_{Y}(y) \\; dy \\right) \\\\\n",
    "&=& \\text{E}[X] \\text{E}[Y] \\\\\n",
    "\\end{eqnarray}$"
   ]
  },
  {
   "cell_type": "markdown",
   "metadata": {},
   "source": [
    "$\\begin{eqnarray}\n",
    "\\text{E}[(X - \\mu_X)(Y-\\mu_Y)] \n",
    "&=& \\text{E}\\left[XY - \\mu_XY-\\mu_YX + \\mu_X\\mu_Y\\right] \\\\\n",
    "&=& \\text{E}[XY] - \\mu_X\\text{E}[Y]-\\mu_Y\\text{E}[X] + \\mu_X\\mu_Y  \\\\\n",
    "&=& \\text{E}[XY] - \\mu_X\\mu_Y  \\\\\n",
    "&=& \\text{E}[XY] - \\text{E}[X]\\text{E}[Y] = 0 \n",
    "\\end{eqnarray}$"
   ]
  },
  {
   "cell_type": "markdown",
   "metadata": {},
   "source": [
    "#### 독립 확률 변수의 분산\n",
    "독립인 두 확률 변수 $X,Y$의 분산은 다음 성질을 만족한다.\n",
    "\n",
    "$\\text{Var}[X+Y] = \\text{Var}[X] + \\text{Var}[Y]$"
   ]
  },
  {
   "cell_type": "markdown",
   "metadata": {},
   "source": [
    "(증명)\n",
    "\n",
    "$\\begin{eqnarray}\n",
    "\\text{Var}[X + Y] \n",
    "&=& \\text{E}[((X + Y) - (\\mu_X + \\mu_Y))^2] \\\\\n",
    "&=& \\text{E}[(X+Y)^2 - 2(X+Y)(\\mu_X + \\mu_Y) + (\\mu_X + \\mu_Y)^2] \\\\\n",
    "&=& \\text{E}[X^2+2XY+Y^2] - 2(\\mu_X + \\mu_Y)\\text{E}[X+Y] + (\\mu_X + \\mu_Y)^2 \\\\\n",
    "&=& \\text{E}[X^2+2XY+Y^2] - 2(\\mu_X + \\mu_Y)^2 + (\\mu_X + \\mu_Y)^2 \\\\\n",
    "&=& \\text{E}[X^2]+2\\text{E}[XY]+\\text{E}[Y^2] - (\\mu_X + \\mu_Y)^2 \\\\\n",
    "&=& \\text{E}[X^2]+2\\text{E}[X]\\text{E}[Y]+\\text{E}[Y^2] - (\\mu_X^2 + 2\\mu_X\\mu_Y + \\mu_Y^2) \\\\\n",
    "&=& \\text{E}[X^2]-\\mu_X^2+\\text{E}[Y^2]-\\mu_Y^2+2\\text{E}[X]\\text{E}[Y] - 2\\mu_X\\mu_Y \\\\\n",
    "&=& \\text{Var}[X]+\\text{Var}[Y] \\\\\n",
    "\\end{eqnarray}$"
   ]
  },
  {
   "cell_type": "markdown",
   "metadata": {},
   "source": [
    "#### 다변수 확률 변수의 샘플 공분산¶\n",
    "이번에는 스칼라가 아닌 벡터 표본값을 가지는 다변수 확률 변수의 공분산에 대해 알아본다. 예를 들어 $M$차원 확률 변수 $x=(x1,x2,⋯,xM)$를 생각하자. (지금까지는 확률 변수를 대문자로 표시했지만 여기에서는 데이터 행렬과 구분하기 위해 소문자로 표시한다.) $x1,x2,⋯,xM$ 각각은 스칼라 확률 변수가 된다.\n",
    "\n",
    "이 확률 변수의 $N$개의 표본값을 구하면 다음처럼 $N×M$차원의 특징 행렬(feature matrix) $X$가 나온다.\n",
    "\n",
    "$X = \n",
    "\\begin{bmatrix}\n",
    "x_{1, 1} & x_{1, 2} & \\cdots   & x_{1, M} \\\\\n",
    "x_{2, 1} & x_{2, 2} & \\cdots   & x_{2, M} \\\\\n",
    "\\vdots   & \\vdots   & \\ddots   & \\vdots   \\\\\n",
    "x_{N, 1} & x_{N, 2} & \\cdots   & x_{N, M} \\\\\n",
    "\\end{bmatrix}$"
   ]
  },
  {
   "cell_type": "markdown",
   "metadata": {},
   "source": [
    "이 행렬의 각 열은 각각 확률 변수 $x_1,x_2,⋯,x_M$의 표본이다. 예를 들어 $X$  행렬의 첫번째 열 $c_1$은 확률 변수 $x_1$의 표본 데이터이다.\n",
    "\n",
    "$c_1 = \n",
    "\\begin{bmatrix}\n",
    "x_{1, 1}\\\\\n",
    "x_{2, 1}\\\\\n",
    "\\vdots  \\\\\n",
    "x_{N, 1}\n",
    "\\end{bmatrix}$\n",
    "\n",
    "이러한 데이터가 있을 때, 각 확률 변수 $x_j(j=1,⋯,M)$의 기댓값은 다음처럼 계산할 수 있다.\n",
    "\n",
    "$\\text{E}[x_j] = \\bar{x}_j = \\dfrac{1}{N} \\sum_{i=1}^N x_{i,j}\n",
    " = \\dfrac{1}{N} \\mathbf{1}_N^T c_j = \\dfrac{1}{N} c_j^T \\mathbf{1}_N$ : 스칼라\n",
    " \n",
    "위 식에서 $1_N$은 $N$차원 일(ones) 벡터이다.\n",
    "\n",
    "이 기댓값을 벡터로 모은 기댓값 벡터는 다음처럼 정의한다.\n",
    "\n",
    "$\\bar{x} = \n",
    "\\begin{bmatrix}\n",
    "\\bar{x}_1 \\\\\n",
    "\\bar{x}_2 \\\\\n",
    "\\vdots  \\\\\n",
    "\\bar{x}_M\n",
    "\\\\\n",
    "\\end{bmatrix}$"
   ]
  },
  {
   "cell_type": "markdown",
   "metadata": {},
   "source": [
    "각 확률 변수  $x_j(j=1,⋯,M)$ 의 분산은 다음처럼 계산할 수 있다.\n",
    "\n",
    "$\\text{Var}[x_j] = s_j^2 = \\dfrac{1}{N} \\sum_{i=1}^N (x_{i,j} - \\bar{x}_j)^2$\n",
    "\n",
    "두 확률 변수  $x_j,x_k$ 의 공분산은 다음처럼 구한다.\n",
    "\n",
    "$\\text{Var}[x_j, x_k] = s_{j,k} = \\dfrac{1}{N} \\sum_{i=1}^N (x_{i,j} - \\bar{x}_j)(x_{i,k} - \\bar{x}_k)$"
   ]
  },
  {
   "cell_type": "markdown",
   "metadata": {},
   "source": [
    "모든 확률 변수의 조합에 대해 분산과 공분산을 구하면 다음처럼 샘플 공분산 행렬(Sample Covariance Matrix)을 정의할 수 있다."
   ]
  },
  {
   "cell_type": "markdown",
   "metadata": {},
   "source": [
    "$S =\n",
    "\\begin{bmatrix}\n",
    "\\begin{eqnarray}\n",
    "s_{x_1}^2     \\;\\;  &  s_{x_1x_2} \\;\\;&  s_{x_1x_3} \\;\\;&  \\cdots &  s_{x_1x_M} \\\\\n",
    "s_{x_1x_2}   \\;\\;    &  s_{x_2}^2 \\;\\;&  s_{x_2x_3} \\;\\;&  \\cdots &  s_{x_2x_M} \\\\\n",
    "\\vdots       &  \\vdots &  \\vdots &  \\ddots &  \\vdots \\\\\n",
    "s_{x_1x_M}   \\;\\;    &  s_{x_2x_M} \\;\\;&  s_{x_3x_M} \\;\\;&  \\cdots &  s_{x_M}^2 \\\\\n",
    "\\end{eqnarray}\n",
    "\\end{bmatrix}$\n",
    "\n",
    "샘플 공분산 행렬의 실제 계산은 다음처럼 한다. 여기에서  $X_0$는 평균을 제거하여 샘플 평균이 0이 된 데이터 행렬(zero-mean feature matrix)를 뜻한다. $N$은 데이터의 갯수이다.\n",
    "\n",
    "평균이 제거된 데이터 행렬 $X_0$는 다음과 같이 구한다.\n",
    "\n",
    "$\\bar{x} = \\dfrac{1}{N} X^T\\mathbf{1_N}$ : 열벡터 형태\n",
    "\n",
    "$X_0 = X - \\mathbf{1_M}\\bar{x}^T = X - \\dfrac{1}{N} \\mathbf{1_M}\\mathbf{1_N}^TX$"
   ]
  },
  {
   "cell_type": "markdown",
   "metadata": {},
   "source": [
    "#### 다변수 확률 변수의 공분산\n",
    "이론적 공분산 행렬은 $Σ$로 표기하며 다음처럼 정의한다. 이 식에서 확률 변수 $X$, 그리고 그 기댓값 $E[X]$는 다변수 즉 벡터임에 주의한다.\n",
    "\n",
    "$\\Sigma = \\text{Cov}[X] = \\text{E} \\left[ (X - \\text{E}[X])(X - \\text{E}[X])^T \\right] =\n",
    "\\begin{bmatrix}\n",
    "\\begin{eqnarray}\n",
    "\\sigma_{x_1}^2     \\;\\;  &  \\sigma_{x_1x_2} \\;\\;&  \\sigma_{x_1x_3} \\;\\;&  \\cdots &  \\sigma_{x_1x_M} \\\\\n",
    "\\sigma_{x_1x_2}   \\;\\;    &  \\sigma_{x_2}^2 \\;\\;&  \\sigma_{x_2x_3} \\;\\;&  \\cdots &  \\sigma_{x_2x_M} \\\\\n",
    "\\vdots       &  \\vdots &  \\vdots &  \\ddots &  \\vdots \\\\\n",
    "\\sigma_{x_1x_M}   \\;\\;    &  \\sigma_{x_2x_M} \\;\\;&  \\sigma_{x_3x_M} \\;\\;&  \\cdots &  \\sigma_{x_M}^2 \\\\\n",
    "\\end{eqnarray}\n",
    "\\end{bmatrix}$"
   ]
  },
  {
   "cell_type": "code",
   "execution_count": null,
   "metadata": {},
   "outputs": [],
   "source": []
  }
 ],
 "metadata": {
  "kernelspec": {
   "display_name": "Python 3",
   "language": "python",
   "name": "python3"
  },
  "language_info": {
   "codemirror_mode": {
    "name": "ipython",
    "version": 3
   },
   "file_extension": ".py",
   "mimetype": "text/x-python",
   "name": "python",
   "nbconvert_exporter": "python",
   "pygments_lexer": "ipython3",
   "version": "3.6.4"
  }
 },
 "nbformat": 4,
 "nbformat_minor": 2
}
