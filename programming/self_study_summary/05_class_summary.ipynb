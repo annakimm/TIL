{
 "cells": [
  {
   "cell_type": "markdown",
   "metadata": {},
   "source": [
    "#### 객체 지향 프로그래밍\n",
    "- 다양한 기능을 하는 소프트웨어 객체들이 존재하고 이러한 객체들의 공통적인 기능을 조합하여 기능을 구현하는 기법\n",
    "  (ex.TV와 리모컨은 소프트웨어 객체로 표현되며 이들 소프트웨어 객체들이 메시지를 전달하여 서로 상호작용하면서 원하는 작업을 수행)\n",
    "  - 다형성 : 같은 이름으로 파라미터에 따라 다른 코드를 수행하거나 객체에 따라서 다른 함수를 수행\n",
    "  - 캡슐화 : 외부에 변수나 함수를 감춤으로 정보 은닉 효과가 있는 개념(ex. 자동차의 구동원리가 아닌 기능방법만)\n",
    "  - 추상화 : 여러 요소를 하나로 통합하여 사용자가 코드를 몰라도 간단하게 사용할수 있는 개념, 불필요한 속성 삭제\n",
    "  - 상속 : 기존에 있던 클래스의 기능을 수정하거나 추가\n",
    "      \n",
    "##### 객체(Object)\n",
    "- 상태(state)와 동작(behavior)을 가지고 있음, 인스턴스 변수와 메소드로 이루어져 있는 소프트웨어의 묶음\n",
    "- 객체의 상태는 객체의 속성(ex. 텔레비전:객체, 채널번호, 볼륨, 전원상태:상태) == 소프트웨어의 instance variable\n",
    "- 객체의 동작은 객체가 취할 수 있는 동작(기능)(ex. 켜기, 끄기, 채널변경, 볼륨 변경:동작) == 소프트웨어의 method\n",
    "- instance variable == 객체 안에 정의된 변수, 객체의 상태 저장, 범위는 class 전체\n",
    "- method == 객체 안에 정의되어 특정한 작업을 수행, 객체의 동작 "
   ]
  },
  {
   "cell_type": "markdown",
   "metadata": {},
   "source": [
    "##### 클래스\n",
    "- 클래스는 공통적인 기능을 하는 함수를 묶은 사용자 정의 데이터 타입, 객체를 찍어내는 틀\n",
    "- 클래스 : 청사진, 설계도\n",
    "- 객체 : 클래스로 실제 만들어진 물건(그 클래스의 instance, 사례), 객체로 선언되어야 메모리에 할당\n",
    "     - (ex. 주인의 개성에 따라 꾸며지지만 동일한 공장에서 동일한 방법으로 생산된 자동차) \n",
    "- cf. 파이썬에서 제공하는 메소드는 공용 인터페이스(public interface)"
   ]
  },
  {
   "cell_type": "markdown",
   "metadata": {},
   "source": [
    "##### 클래스의 선언과 객체화\n",
    "```\n",
    "# 클래스 선언\n",
    "class <class_name(PasalCase)>(<상속받을 상위클래스명 1>, <상속받을 상위클래스명 2>) :\n",
    "    #함수 정의\n",
    "    def <method1>(self, ...):\n",
    "    def <method2>(self, ...):\n",
    "        #변수 정의\n",
    "        self.<variable name> = \n",
    "\n",
    "# 클래스의 객체화\n",
    "<class_name>(<변수나 함수의 식별자 삽입 가능(argument와 비슷>))\n",
    "cal = Calculator()\n",
    "\n",
    "cal.setdata(3,4)\n",
    "Calculator.setdata(cal, 5, 6)    # 잘 안쓰는 형태\n",
    "```"
   ]
  },
  {
   "cell_type": "code",
   "execution_count": 1,
   "metadata": {},
   "outputs": [],
   "source": [
    "#예시\n",
    "# 계산기 클래스 선언\n",
    "class Calculator:\n",
    "\n",
    "    # 두개의 수를 입력받는 함수\n",
    "    def setdata(self, num1, num2):     #self : 현재 객체, 메소드를 호출한 객체\n",
    "        self.num1 = num1\n",
    "        self.num2 = num2\n",
    "        self.result = 0\n",
    "        \n",
    "    def plus(self):\n",
    "        return self.num1 + self.num2\n",
    "    \n",
    "    def minus(self):\n",
    "        self.result = self.num1 - self.num2"
   ]
  },
  {
   "cell_type": "code",
   "execution_count": 3,
   "metadata": {},
   "outputs": [],
   "source": [
    "# 클래스의 객체화 - 객체생성(num1, num2가 없어도 메모리에 할당)\n",
    "cal = Calculator()"
   ]
  },
  {
   "cell_type": "code",
   "execution_count": 3,
   "metadata": {},
   "outputs": [],
   "source": [
    "cal.setdata(8, 6)    #객체의 함수에 접근"
   ]
  },
  {
   "cell_type": "code",
   "execution_count": 4,
   "metadata": {},
   "outputs": [
    {
     "data": {
      "text/plain": [
       "14"
      ]
     },
     "execution_count": 4,
     "metadata": {},
     "output_type": "execute_result"
    }
   ],
   "source": [
    "cal.plus()"
   ]
  },
  {
   "cell_type": "code",
   "execution_count": 5,
   "metadata": {},
   "outputs": [],
   "source": [
    "cal.minus()"
   ]
  },
  {
   "cell_type": "code",
   "execution_count": 6,
   "metadata": {},
   "outputs": [
    {
     "name": "stdout",
     "output_type": "stream",
     "text": [
      "2\n"
     ]
    }
   ],
   "source": [
    "print(cal.result)"
   ]
  },
  {
   "cell_type": "code",
   "execution_count": 59,
   "metadata": {},
   "outputs": [],
   "source": [
    "#Counter 클래스\n",
    "class Counter:\n",
    "    def reset(self):\n",
    "        self.count = 0\n",
    "        \n",
    "    def increment(self):\n",
    "        self.count += 1\n",
    "    \n",
    "    def get(self):\n",
    "        return self.count"
   ]
  },
  {
   "cell_type": "code",
   "execution_count": 60,
   "metadata": {},
   "outputs": [],
   "source": [
    "a = Counter()  "
   ]
  },
  {
   "cell_type": "code",
   "execution_count": 61,
   "metadata": {},
   "outputs": [],
   "source": [
    "a.reset()   "
   ]
  },
  {
   "cell_type": "code",
   "execution_count": 64,
   "metadata": {},
   "outputs": [],
   "source": [
    "a.increment()"
   ]
  },
  {
   "cell_type": "code",
   "execution_count": 65,
   "metadata": {},
   "outputs": [
    {
     "name": "stdout",
     "output_type": "stream",
     "text": [
      "카운트 a의 값은 3\n"
     ]
    }
   ],
   "source": [
    "print(\"카운트 a의 값은\", a.get())"
   ]
  },
  {
   "cell_type": "markdown",
   "metadata": {},
   "source": [
    "##### Constructor - 생성자\n",
    "- 클래스가 객체화 될 때, 변수의 초기값(기본값)을 설정하는 역할, 클래스 당 하나의 생성자만 허용\n",
    "- 클래스의 함수명을 `__init__`으로 하여 함수를 작성\n",
    "- 생성자를 사용하는 이유 : 변수가 선언되지 않은 상태의 객체에서 함수를 사용하게 되면 발생하는 error를 예방"
   ]
  },
  {
   "cell_type": "code",
   "execution_count": 71,
   "metadata": {},
   "outputs": [],
   "source": [
    "cal = Calculator()"
   ]
  },
  {
   "cell_type": "code",
   "execution_count": 72,
   "metadata": {
    "scrolled": true
   },
   "outputs": [
    {
     "ename": "AttributeError",
     "evalue": "'Calculator' object has no attribute 'num1'",
     "output_type": "error",
     "traceback": [
      "\u001b[1;31m---------------------------------------------------------------------------\u001b[0m",
      "\u001b[1;31mAttributeError\u001b[0m                            Traceback (most recent call last)",
      "\u001b[1;32m<ipython-input-72-6e01a8367d79>\u001b[0m in \u001b[0;36m<module>\u001b[1;34m()\u001b[0m\n\u001b[1;32m----> 1\u001b[1;33m \u001b[0mcal\u001b[0m\u001b[1;33m.\u001b[0m\u001b[0mplus\u001b[0m\u001b[1;33m(\u001b[0m\u001b[1;33m)\u001b[0m\u001b[1;33m\u001b[0m\u001b[0m\n\u001b[0m",
      "\u001b[1;32m<ipython-input-70-bdc8bceb6ab0>\u001b[0m in \u001b[0;36mplus\u001b[1;34m(self)\u001b[0m\n\u001b[0;32m     10\u001b[0m \u001b[1;33m\u001b[0m\u001b[0m\n\u001b[0;32m     11\u001b[0m     \u001b[1;32mdef\u001b[0m \u001b[0mplus\u001b[0m\u001b[1;33m(\u001b[0m\u001b[0mself\u001b[0m\u001b[1;33m)\u001b[0m\u001b[1;33m:\u001b[0m\u001b[1;33m\u001b[0m\u001b[0m\n\u001b[1;32m---> 12\u001b[1;33m         \u001b[1;32mreturn\u001b[0m \u001b[0mself\u001b[0m\u001b[1;33m.\u001b[0m\u001b[0mnum1\u001b[0m \u001b[1;33m+\u001b[0m \u001b[0mself\u001b[0m\u001b[1;33m.\u001b[0m\u001b[0mnum2\u001b[0m\u001b[1;33m\u001b[0m\u001b[0m\n\u001b[0m\u001b[0;32m     13\u001b[0m \u001b[1;33m\u001b[0m\u001b[0m\n\u001b[0;32m     14\u001b[0m     \u001b[1;32mdef\u001b[0m \u001b[0mminus\u001b[0m\u001b[1;33m(\u001b[0m\u001b[0mself\u001b[0m\u001b[1;33m)\u001b[0m\u001b[1;33m:\u001b[0m\u001b[1;33m\u001b[0m\u001b[0m\n",
      "\u001b[1;31mAttributeError\u001b[0m: 'Calculator' object has no attribute 'num1'"
     ]
    }
   ],
   "source": [
    "cal.plus()"
   ]
  },
  {
   "cell_type": "code",
   "execution_count": 73,
   "metadata": {},
   "outputs": [],
   "source": [
    "# 계산기 클래스 선언\n",
    "class Calculator2:\n",
    "    \n",
    "    def __init__(self, num1, num2=2):      #__init__으로 하면 num1, num2를 처음부터 넣어야 메모리에 할당\n",
    "        self.num1 = num1                   #객체화 할 때부터 num1의 초기값을 주지 않으면 에러 num2는 안 넣어도됨\n",
    "        self.num2 = num2\n",
    "        self.result = 0\n",
    "        self.count = 0\n",
    "    \n",
    "    # 두개의 수를 입력받는 함수\n",
    "    def setdata(self, num1, num2):\n",
    "        self.num1 = num1\n",
    "        self.num2 = num2\n",
    "        self.result = 0\n",
    "        \n",
    "    def plus(self):\n",
    "        return self.num1 + self.num2\n",
    "    \n",
    "    def minus(self):\n",
    "        self.result = self.num1 - self.num2\n",
    "    "
   ]
  },
  {
   "cell_type": "code",
   "execution_count": 74,
   "metadata": {},
   "outputs": [],
   "source": [
    "cal2 = Calculator2(1)"
   ]
  },
  {
   "cell_type": "code",
   "execution_count": 76,
   "metadata": {},
   "outputs": [
    {
     "data": {
      "text/plain": [
       "-1"
      ]
     },
     "execution_count": 76,
     "metadata": {},
     "output_type": "execute_result"
    }
   ],
   "source": [
    "cal2.minus()\n",
    "cal2.result"
   ]
  },
  {
   "cell_type": "markdown",
   "metadata": {},
   "source": [
    "##### inheritance - 상속\n",
    "- 기존 클래스에 기능을 추가할 때 상속을 사용\n",
    "- python에서는 단일상속, 다중상속 가능\n",
    "- overiding, overloading은 다형성의 특징을 구현\n",
    "- overiding : 상의클래스가 가지고 있는 함수를 하위 클래스가 재정의해서 사용\n",
    "- overloading : 같은 이름의 함수를 파라미터의 갯수 차이로 함수를 구분해서 다른 동작을 하게 하는 것\n",
    "  - (default parameter와 조건문을 이용)\n",
    "\n",
    "```\n",
    "class A() :                      #부모 class \n",
    "    method - send_mail\n",
    "    \n",
    "class B(A) :                     #자식 class\n",
    "    method - call_phone\n",
    "    \n",
    "class C(B) :                     #손자 class\n",
    "    method - show_image\n",
    "\n",
    "class D :                     \n",
    "    method - wifi, send_mail2    #똑같은 기능을 상속 class에 포함시키는 것은 좋지 않기 때문에 변형\n",
    "    \n",
    "class E(A, D) :                  #다중상속\n",
    "    method - game\n",
    "    \n",
    "    \n",
    "A - send_mail\n",
    "\n",
    "B - send_mail, call_phone\n",
    "\n",
    "C - send_mail, call_phone, show_image   #복잡해지기 때문에 대부분 3(또는 4)대까지 사용\n",
    "\n",
    "E - send_mail, wifi, send_mail2, game\n",
    "```"
   ]
  },
  {
   "cell_type": "code",
   "execution_count": 41,
   "metadata": {},
   "outputs": [],
   "source": [
    "def test():\n",
    "    return 10\n",
    "    \n",
    "def test(a):\n",
    "    return a\n",
    "\n",
    "def test(a=None):\n",
    "    if a is None:\n",
    "        #code1\n",
    "        return 10\n",
    "    else:\n",
    "        #code2\n",
    "        return a  "
   ]
  },
  {
   "cell_type": "code",
   "execution_count": 42,
   "metadata": {},
   "outputs": [
    {
     "data": {
      "text/plain": [
       "1"
      ]
     },
     "execution_count": 42,
     "metadata": {},
     "output_type": "execute_result"
    }
   ],
   "source": [
    "test() # -> 10\n",
    "test(1) #-> 1"
   ]
  },
  {
   "cell_type": "code",
   "execution_count": 31,
   "metadata": {},
   "outputs": [],
   "source": [
    "#Calculator2에서 제곱을 계산해주는 기능을 추가\n",
    "class ImproveCalc(Calculator2) :\n",
    "    \n",
    "    def pow_func(self):\n",
    "        return self.num1 ** self.num2"
   ]
  },
  {
   "cell_type": "code",
   "execution_count": 33,
   "metadata": {},
   "outputs": [],
   "source": [
    "ical = ImproveCalc(2, 3)"
   ]
  },
  {
   "cell_type": "code",
   "execution_count": 35,
   "metadata": {},
   "outputs": [
    {
     "data": {
      "text/plain": [
       "8"
      ]
     },
     "execution_count": 35,
     "metadata": {},
     "output_type": "execute_result"
    }
   ],
   "source": [
    "ical.pow_func()"
   ]
  },
  {
   "cell_type": "code",
   "execution_count": 36,
   "metadata": {},
   "outputs": [
    {
     "data": {
      "text/plain": [
       "5"
      ]
     },
     "execution_count": 36,
     "metadata": {},
     "output_type": "execute_result"
    }
   ],
   "source": [
    "ical.plus()"
   ]
  },
  {
   "cell_type": "code",
   "execution_count": 6,
   "metadata": {},
   "outputs": [],
   "source": [
    "#예시\n",
    "# 다중상속 - Human, Korean, Indian 클래스 생성\n",
    "class Human():\n",
    "    \n",
    "    def walk(self):\n",
    "        print(\"walking...\")\n",
    "        \n",
    "class Korean :\n",
    "    \n",
    "    def eat(self):\n",
    "        print(\"eat kimchi...\")\n",
    "        \n",
    "class Indian :\n",
    "    \n",
    "    def eat(self):\n",
    "        print(\"eat curry...\")"
   ]
  },
  {
   "cell_type": "code",
   "execution_count": 12,
   "metadata": {},
   "outputs": [],
   "source": [
    "class jin(Human, Korean):\n",
    "    \n",
    "    def skill(self):\n",
    "        print(\"coding\")\n",
    "        \n",
    "    # overiding 구현 - 덮어쓰기\n",
    "    def eat(self):\n",
    "        print(\"eat noodle...\")\n",
    "        \n",
    "class Anchal(Human, Indian):\n",
    "    \n",
    "    def skill(self):\n",
    "        print(\"english\")\n",
    "        \n",
    "    # overloading 구현 - argument로 다르게 코드 실행\n",
    "    def eat(self, place=None):\n",
    "        if place is None:\n",
    "            print(\"eat curry...\")\n",
    "        else :\n",
    "            print(\"eat curry on the\", place)"
   ]
  },
  {
   "cell_type": "code",
   "execution_count": 14,
   "metadata": {},
   "outputs": [],
   "source": [
    "j, a = jin(), Anchal() #j와 a에 객체를 만들어 넣음"
   ]
  },
  {
   "cell_type": "code",
   "execution_count": 9,
   "metadata": {},
   "outputs": [
    {
     "name": "stdout",
     "output_type": "stream",
     "text": [
      "walking...\n",
      "eat noodle...\n",
      "coding\n"
     ]
    }
   ],
   "source": [
    "j.walk()\n",
    "j.eat()\n",
    "j.skill()"
   ]
  },
  {
   "cell_type": "code",
   "execution_count": 10,
   "metadata": {},
   "outputs": [
    {
     "name": "stdout",
     "output_type": "stream",
     "text": [
      "walking...\n",
      "eat curry...\n",
      "english\n"
     ]
    }
   ],
   "source": [
    "a.walk()\n",
    "a.eat()\n",
    "a.skill()"
   ]
  },
  {
   "cell_type": "code",
   "execution_count": 15,
   "metadata": {},
   "outputs": [
    {
     "name": "stdout",
     "output_type": "stream",
     "text": [
      "eat curry on the seoul\n"
     ]
    }
   ],
   "source": [
    "a.eat(\"seoul\")"
   ]
  },
  {
   "cell_type": "markdown",
   "metadata": {},
   "source": [
    "#### Super\n",
    "- 부모 클래스(상위 클래스)의 생성자 변수를 가져올 때 사용\n",
    "- 여러 곳에서 공통된 부모 클래스를 상속받을 때 중복된 상속을 제거할 수 있음"
   ]
  },
  {
   "cell_type": "code",
   "execution_count": 55,
   "metadata": {},
   "outputs": [],
   "source": [
    "class Human:\n",
    "    \n",
    "    def __init__(self):\n",
    "        self.health = 40\n",
    "        \n",
    "    def set_health(self, val):\n",
    "        self.health += val\n",
    "        "
   ]
  },
  {
   "cell_type": "code",
   "execution_count": 56,
   "metadata": {},
   "outputs": [],
   "source": [
    "#예시\n",
    "class Marin(Human):\n",
    "    def __init__(self):\n",
    "        # self.health = 40\n",
    "        super(Marin, self).__init__()      #super : 부모쪽에 있는 생성자에서 선언된 변수들을 가져올 수 있음, \n",
    "        self.attack_power = 5              #health가 내려와서 사용됨\n",
    "        self.kill = 0\n",
    "        \n",
    "    def attack(self, obj):\n",
    "\n",
    "        obj.set_health(self.attack_power)\n",
    "        \n",
    "        if obj.health <= 0:\n",
    "            obj.health = 0\n",
    "            self.kill += 1\n",
    "            return \"die\"\n",
    "        \n",
    "        return \"alive [health:{}]\".format(obj.health)"
   ]
  },
  {
   "cell_type": "code",
   "execution_count": 57,
   "metadata": {},
   "outputs": [],
   "source": [
    "m1, m2 = Marin(), Marin()"
   ]
  },
  {
   "cell_type": "code",
   "execution_count": 59,
   "metadata": {},
   "outputs": [
    {
     "data": {
      "text/plain": [
       "(40, 40, 0)"
      ]
     },
     "execution_count": 59,
     "metadata": {},
     "output_type": "execute_result"
    }
   ],
   "source": [
    "m1.health, m2.health, m1.kill "
   ]
  },
  {
   "cell_type": "code",
   "execution_count": 60,
   "metadata": {},
   "outputs": [
    {
     "data": {
      "text/plain": [
       "'alive [health:45]'"
      ]
     },
     "execution_count": 60,
     "metadata": {},
     "output_type": "execute_result"
    }
   ],
   "source": [
    "m1.attack(m2)"
   ]
  },
  {
   "cell_type": "code",
   "execution_count": 61,
   "metadata": {},
   "outputs": [],
   "source": [
    "m3 = Marin()"
   ]
  },
  {
   "cell_type": "code",
   "execution_count": 62,
   "metadata": {},
   "outputs": [
    {
     "data": {
      "text/plain": [
       "'alive [health:45]'"
      ]
     },
     "execution_count": 62,
     "metadata": {},
     "output_type": "execute_result"
    }
   ],
   "source": [
    "m1.attack(m3)"
   ]
  },
  {
   "cell_type": "code",
   "execution_count": 64,
   "metadata": {},
   "outputs": [],
   "source": [
    "class Medic(Human):\n",
    "    \n",
    "    def __init_(self):\n",
    "        self.health = 20\n",
    "        self.heal_power = 3\n",
    "        \n",
    "    def heal(self, obj):                    #함수에서 return만 있으면 그 자리에서 빠져나옴(for문의 break)\n",
    "        if obj.health == 0:\n",
    "            print(\"already die\")\n",
    "            return\n",
    "        \n",
    "        obj.set_health(self.heal_power)\n",
    "        if obj.health > 40:\n",
    "            obj.health = 40\n",
    "        \n",
    "        return \"done healing : \", obj.health"
   ]
  },
  {
   "cell_type": "code",
   "execution_count": 66,
   "metadata": {},
   "outputs": [],
   "source": [
    "m1, m2 = Marin(), Marin()"
   ]
  },
  {
   "cell_type": "code",
   "execution_count": 65,
   "metadata": {},
   "outputs": [],
   "source": [
    "medic = Medic()"
   ]
  },
  {
   "cell_type": "code",
   "execution_count": 67,
   "metadata": {},
   "outputs": [
    {
     "data": {
      "text/plain": [
       "(40, 40)"
      ]
     },
     "execution_count": 67,
     "metadata": {},
     "output_type": "execute_result"
    }
   ],
   "source": [
    "m1.health, m2.health"
   ]
  },
  {
   "cell_type": "code",
   "execution_count": 68,
   "metadata": {},
   "outputs": [
    {
     "data": {
      "text/plain": [
       "'alive [health:45]'"
      ]
     },
     "execution_count": 68,
     "metadata": {},
     "output_type": "execute_result"
    }
   ],
   "source": [
    "m2.attack(m1)"
   ]
  },
  {
   "cell_type": "code",
   "execution_count": 70,
   "metadata": {
    "scrolled": true
   },
   "outputs": [
    {
     "ename": "AttributeError",
     "evalue": "'Medic' object has no attribute 'heal_power'",
     "output_type": "error",
     "traceback": [
      "\u001b[1;31m---------------------------------------------------------------------------\u001b[0m",
      "\u001b[1;31mAttributeError\u001b[0m                            Traceback (most recent call last)",
      "\u001b[1;32m<ipython-input-70-637b91d0be07>\u001b[0m in \u001b[0;36m<module>\u001b[1;34m()\u001b[0m\n\u001b[1;32m----> 1\u001b[1;33m \u001b[0mmedic\u001b[0m\u001b[1;33m.\u001b[0m\u001b[0mheal\u001b[0m\u001b[1;33m(\u001b[0m\u001b[0mm1\u001b[0m\u001b[1;33m)\u001b[0m\u001b[1;33m\u001b[0m\u001b[0m\n\u001b[0m",
      "\u001b[1;32m<ipython-input-64-627c55f8865f>\u001b[0m in \u001b[0;36mheal\u001b[1;34m(self, obj)\u001b[0m\n\u001b[0;32m     10\u001b[0m             \u001b[1;32mreturn\u001b[0m\u001b[1;33m\u001b[0m\u001b[0m\n\u001b[0;32m     11\u001b[0m \u001b[1;33m\u001b[0m\u001b[0m\n\u001b[1;32m---> 12\u001b[1;33m         \u001b[0mobj\u001b[0m\u001b[1;33m.\u001b[0m\u001b[0mset_health\u001b[0m\u001b[1;33m(\u001b[0m\u001b[0mself\u001b[0m\u001b[1;33m.\u001b[0m\u001b[0mheal_power\u001b[0m\u001b[1;33m)\u001b[0m\u001b[1;33m\u001b[0m\u001b[0m\n\u001b[0m\u001b[0;32m     13\u001b[0m         \u001b[1;32mif\u001b[0m \u001b[0mobj\u001b[0m\u001b[1;33m.\u001b[0m\u001b[0mhealth\u001b[0m \u001b[1;33m>\u001b[0m \u001b[1;36m40\u001b[0m\u001b[1;33m:\u001b[0m\u001b[1;33m\u001b[0m\u001b[0m\n\u001b[0;32m     14\u001b[0m             \u001b[0mobj\u001b[0m\u001b[1;33m.\u001b[0m\u001b[0mhealth\u001b[0m \u001b[1;33m=\u001b[0m \u001b[1;36m40\u001b[0m\u001b[1;33m\u001b[0m\u001b[0m\n",
      "\u001b[1;31mAttributeError\u001b[0m: 'Medic' object has no attribute 'heal_power'"
     ]
    }
   ],
   "source": [
    "medic.heal(m1)"
   ]
  },
  {
   "cell_type": "code",
   "execution_count": null,
   "metadata": {},
   "outputs": [],
   "source": []
  },
  {
   "cell_type": "markdown",
   "metadata": {},
   "source": [
    "### getter, setter\n",
    "- OOP객체지향(실제세계반영) : 캡슐화, 은닉화의 기능을 제공하기 위해 사용\n",
    "- 클래스 -> 변수 : 클래스의 변수에 접근할 때(가져오거나, 설정하거나) 바로 접근하는게 아니라 특정함수를 통해서 접근할 수 있게 하는 기능\n",
    "- 변수의 개수만큼 getter와 setter쌍이 존재\n",
    "- property와 decolator를 이용하는 두개의 방법이 있음"
   ]
  },
  {
   "cell_type": "code",
   "execution_count": 12,
   "metadata": {},
   "outputs": [],
   "source": [
    "#property로 구현\n",
    "class Person:\n",
    "    def __init__(self, input_name1, input_name2):\n",
    "        self.hidden_name1 = input_name1\n",
    "        self.hidden_name2 = input_name2\n",
    "        \n",
    "    def disp_name1(self):\n",
    "        print(\"getter_1\")\n",
    "        return self.hidden_name1\n",
    "#       return self.hidden_name1.upper()        가져올 때만 upper로 가져옴\n",
    "    \n",
    "    def disp_name2(self):\n",
    "        print(\"getter_2\")\n",
    "        return self.hidden_name2\n",
    "    \n",
    "    def setter1(self, input_name):\n",
    "        print(\"setter_1\")\n",
    "        self.hidden_name1 = input_name\n",
    "        # self.hidden_name1 = \"Mr. \" + input_name\n",
    "        \n",
    "    def setter2(self, input_name):\n",
    "        print(\"setter_2\")\n",
    "        self.hidden_name2 = input_name\n",
    "        \n",
    "    name1 = property(disp_name1, setter1)\n",
    "    name2 = property(disp_name2, setter2)\n",
    "    "
   ]
  },
  {
   "cell_type": "code",
   "execution_count": 13,
   "metadata": {},
   "outputs": [],
   "source": [
    "P = Person(\"park\", \"doojin\")"
   ]
  },
  {
   "cell_type": "code",
   "execution_count": 14,
   "metadata": {},
   "outputs": [
    {
     "data": {
      "text/plain": [
       "('park', 'doojin')"
      ]
     },
     "execution_count": 14,
     "metadata": {},
     "output_type": "execute_result"
    }
   ],
   "source": [
    "#직접 변수에 접근\n",
    "P.hidden_name1, P.hidden_name2"
   ]
  },
  {
   "cell_type": "code",
   "execution_count": 15,
   "metadata": {},
   "outputs": [
    {
     "name": "stdout",
     "output_type": "stream",
     "text": [
      "getter_1\n",
      "getter_2\n"
     ]
    },
    {
     "data": {
      "text/plain": [
       "('park', 'doojin')"
      ]
     },
     "execution_count": 15,
     "metadata": {},
     "output_type": "execute_result"
    }
   ],
   "source": [
    "#getter를 이용해서 변수에 접근\n",
    "P.name1, P.name2"
   ]
  },
  {
   "cell_type": "code",
   "execution_count": 11,
   "metadata": {},
   "outputs": [
    {
     "data": {
      "text/plain": [
       "'lee'"
      ]
     },
     "execution_count": 11,
     "metadata": {},
     "output_type": "execute_result"
    }
   ],
   "source": [
    "P.hidden_name1 = \"lee\"\n",
    "P.hidden_name1"
   ]
  },
  {
   "cell_type": "code",
   "execution_count": 16,
   "metadata": {},
   "outputs": [
    {
     "name": "stdout",
     "output_type": "stream",
     "text": [
      "setter_1\n",
      "getter_1\n"
     ]
    },
    {
     "data": {
      "text/plain": [
       "'lee'"
      ]
     },
     "execution_count": 16,
     "metadata": {},
     "output_type": "execute_result"
    }
   ],
   "source": [
    "P.name1 = \"lee\"       # setter\n",
    "P.name1               # getter"
   ]
  },
  {
   "cell_type": "code",
   "execution_count": 17,
   "metadata": {},
   "outputs": [],
   "source": [
    "#decolator를 이용한 구현\n",
    "class Person:\n",
    "    def __init__(self, input_name):\n",
    "        self.hidden_name = input_name\n",
    "\n",
    "    @property\n",
    "    def name(self):\n",
    "        print(\"getter\")\n",
    "        return self.hidden_name\n",
    "    \n",
    "    @name.setter\n",
    "    def name(self, input_name):\n",
    "        print(\"setter\")\n",
    "        self.hidden_name = input_name"
   ]
  },
  {
   "cell_type": "code",
   "execution_count": 18,
   "metadata": {},
   "outputs": [],
   "source": [
    "p = Person(\"park\")"
   ]
  },
  {
   "cell_type": "code",
   "execution_count": 19,
   "metadata": {},
   "outputs": [
    {
     "name": "stdout",
     "output_type": "stream",
     "text": [
      "setter\n"
     ]
    }
   ],
   "source": [
    "p.name = \"lee\""
   ]
  },
  {
   "cell_type": "code",
   "execution_count": 20,
   "metadata": {},
   "outputs": [
    {
     "name": "stdout",
     "output_type": "stream",
     "text": [
      "getter\n"
     ]
    },
    {
     "data": {
      "text/plain": [
       "'lee'"
      ]
     },
     "execution_count": 20,
     "metadata": {},
     "output_type": "execute_result"
    }
   ],
   "source": [
    "p.name"
   ]
  },
  {
   "cell_type": "markdown",
   "metadata": {},
   "source": [
    "### Private\n",
    "- 외부에서 접근할 수 없게 숨기고 싶은 기능\n",
    "- 클래스 내부 변수에 다이렉트로 접근하지 못하도록 하는 기능, getter, setter 함수를 통해서만 접근 가능\n",
    "- manglin(맨글링) : 클래스 생성자에서 변수 선언시 앞에 \"__\"를 추가\n",
    "- 완벽하게 접근을 차단하지는 못함 -> (객체)._(클래스명)(변수명)으로 접근 가능"
   ]
  },
  {
   "cell_type": "code",
   "execution_count": 14,
   "metadata": {},
   "outputs": [],
   "source": [
    "class Person:\n",
    "    def __init__(self, input_name):\n",
    "        self.__hidden_name = input_name\n",
    "\n",
    "    @property\n",
    "    def name(self):\n",
    "        print(\"getter\")\n",
    "        return self.hidden_name\n",
    "    \n",
    "    @name.setter\n",
    "    def name(self, input_name):\n",
    "        print(\"setter\")\n",
    "        self.hidden_name = input_name"
   ]
  },
  {
   "cell_type": "code",
   "execution_count": 15,
   "metadata": {},
   "outputs": [],
   "source": [
    "p = Person(\"park\")       #객체화"
   ]
  },
  {
   "cell_type": "code",
   "execution_count": 16,
   "metadata": {},
   "outputs": [
    {
     "ename": "AttributeError",
     "evalue": "'Person' object has no attribute '__hidden_name'",
     "output_type": "error",
     "traceback": [
      "\u001b[1;31m---------------------------------------------------------------------------\u001b[0m",
      "\u001b[1;31mAttributeError\u001b[0m                            Traceback (most recent call last)",
      "\u001b[1;32m<ipython-input-16-644e9aeb981a>\u001b[0m in \u001b[0;36m<module>\u001b[1;34m()\u001b[0m\n\u001b[1;32m----> 1\u001b[1;33m \u001b[0mp\u001b[0m\u001b[1;33m.\u001b[0m\u001b[0m__hidden_name\u001b[0m\u001b[1;33m\u001b[0m\u001b[0m\n\u001b[0m",
      "\u001b[1;31mAttributeError\u001b[0m: 'Person' object has no attribute '__hidden_name'"
     ]
    }
   ],
   "source": [
    "p.__hidden_name"
   ]
  },
  {
   "cell_type": "code",
   "execution_count": 18,
   "metadata": {},
   "outputs": [
    {
     "name": "stdout",
     "output_type": "stream",
     "text": [
      "setter\n"
     ]
    }
   ],
   "source": [
    "p.name = \"lee\""
   ]
  },
  {
   "cell_type": "code",
   "execution_count": 19,
   "metadata": {},
   "outputs": [
    {
     "name": "stdout",
     "output_type": "stream",
     "text": [
      "getter\n"
     ]
    },
    {
     "data": {
      "text/plain": [
       "'lee'"
      ]
     },
     "execution_count": 19,
     "metadata": {},
     "output_type": "execute_result"
    }
   ],
   "source": [
    "p.name"
   ]
  },
  {
   "cell_type": "code",
   "execution_count": 20,
   "metadata": {},
   "outputs": [
    {
     "data": {
      "text/plain": [
       "'park'"
      ]
     },
     "execution_count": 20,
     "metadata": {},
     "output_type": "execute_result"
    }
   ],
   "source": [
    "p._Person__hidden_name    #접근 가능"
   ]
  },
  {
   "cell_type": "code",
   "execution_count": null,
   "metadata": {},
   "outputs": [],
   "source": [
    "#### is a/has a\n",
    "- 클래스들을 설계할 때 사용되는 방법론, 개념\n",
    "- is a\n",
    "    - A is a B = A는 B 이다\n",
    "    - 상속을 이용\n",
    "- has a\n",
    "    - A has a B = A는 B를 가지고 있다\n",
    "    - 객체 안의 변수로 객체를 가짐"
   ]
  },
  {
   "cell_type": "code",
   "execution_count": null,
   "metadata": {},
   "outputs": [],
   "source": [
    "# Person - name, email"
   ]
  },
  {
   "cell_type": "code",
   "execution_count": 21,
   "metadata": {},
   "outputs": [],
   "source": [
    "# is-a : 상속을 이용하는 개념\n",
    "class Info():\n",
    "    def __init__(self, name, email):\n",
    "        self.name = name\n",
    "        self.email = email\n",
    "        \n",
    "class Person(Info):\n",
    "    def about(self):\n",
    "        return self.name, self.email"
   ]
  },
  {
   "cell_type": "code",
   "execution_count": 23,
   "metadata": {},
   "outputs": [],
   "source": [
    "p = Person(\"doojin\", \"as@gmail.com\")"
   ]
  },
  {
   "cell_type": "code",
   "execution_count": 24,
   "metadata": {},
   "outputs": [
    {
     "data": {
      "text/plain": [
       "('doojin', 'as@gmail.com')"
      ]
     },
     "execution_count": 24,
     "metadata": {},
     "output_type": "execute_result"
    }
   ],
   "source": [
    "p.about()"
   ]
  },
  {
   "cell_type": "code",
   "execution_count": 25,
   "metadata": {},
   "outputs": [],
   "source": [
    "# has-a\n",
    "class Name:\n",
    "    def __init__(self, name):\n",
    "        self.name = name\n",
    "        \n",
    "class Email:\n",
    "    def __init__(self, email):\n",
    "        self.email = email\n",
    "        \n",
    "class Person:\n",
    "    def __init__(self, name, email):\n",
    "        self.name_obj = name\n",
    "        self.email_obj = email\n",
    "    def about(self):\n",
    "        return self.name_obj.name, self.email_obj.email"
   ]
  },
  {
   "cell_type": "code",
   "execution_count": 26,
   "metadata": {},
   "outputs": [],
   "source": [
    "name = Name(\"dooji\")\n",
    "email = Email(\"ds@gmail.com\")"
   ]
  },
  {
   "cell_type": "code",
   "execution_count": 27,
   "metadata": {},
   "outputs": [
    {
     "data": {
      "text/plain": [
       "('dooji', 'ds@gmail.com')"
      ]
     },
     "execution_count": 27,
     "metadata": {},
     "output_type": "execute_result"
    }
   ],
   "source": [
    "p = Person(name, email)  #Person 객체 안에 name과 email객체를 포함\n",
    "p.about()"
   ]
  },
  {
   "cell_type": "markdown",
   "metadata": {},
   "source": [
    "### Magic(spacial) Method\n",
    "- 비교\n",
    "    - `__eq__` : ==\n",
    "    - `__ne__` : !=\n",
    "    - `__lt__` : <\n",
    "    - `__gt__` : >\n",
    "    - `__le__` : <=\n",
    "    - `__ge__` : >=\n",
    "- 연산 :\n",
    "    - `__add__` : +\n",
    "    - `__sub__` : -\n",
    "    - `__mul__` : *\n",
    "    - `__pow__` : **\n",
    "    - ...\n",
    "- `__repr__`, `__str__`, `__len__`, ..."
   ]
  },
  {
   "cell_type": "code",
   "execution_count": 36,
   "metadata": {},
   "outputs": [],
   "source": [
    "# __eq__\n",
    "\n",
    "class Txt:\n",
    "    def __init__(self, txt):\n",
    "        self.txt = txt\n",
    "    def equals(self, txt_obj):\n",
    "        return self.txt.lower() == txt_obj.txt.lower()"
   ]
  },
  {
   "cell_type": "code",
   "execution_count": 37,
   "metadata": {},
   "outputs": [],
   "source": [
    "txt1 = Txt(\"fast\")\n",
    "txt2 = Txt(\"FAst\")\n",
    "txt3 = Txt(\"data\")\n",
    "txt4 = Txt(\"fast\")\n",
    "txt5 = txt1"
   ]
  },
  {
   "cell_type": "code",
   "execution_count": 39,
   "metadata": {},
   "outputs": [
    {
     "data": {
      "text/plain": [
       "(True, False, True, True)"
      ]
     },
     "execution_count": 39,
     "metadata": {},
     "output_type": "execute_result"
    }
   ],
   "source": [
    "txt1.equals(txt2), txt1.equals(txt3), txt1.equals(txt4), txt1.equals(txt5)"
   ]
  },
  {
   "cell_type": "code",
   "execution_count": 43,
   "metadata": {},
   "outputs": [
    {
     "data": {
      "text/plain": [
       "['b', 'a', 'c', 'a']"
      ]
     },
     "execution_count": 43,
     "metadata": {},
     "output_type": "execute_result"
    }
   ],
   "source": [
    "# __ne__\n",
    "ls = [\"a\",\"b\",\"a\",\"c\",\"a\"]\n",
    "ls.remove(\"a\")\n",
    "ls"
   ]
  },
  {
   "cell_type": "code",
   "execution_count": 45,
   "metadata": {},
   "outputs": [
    {
     "data": {
      "text/plain": [
       "['b', 'c']"
      ]
     },
     "execution_count": 45,
     "metadata": {},
     "output_type": "execute_result"
    }
   ],
   "source": [
    "# comprehention\n",
    "ls = [\"a\",\"b\",\"a\",\"c\",\"a\"]\n",
    "s = \"a\"\n",
    "ls = [data for data in ls if data != s]\n",
    "ls"
   ]
  },
  {
   "cell_type": "code",
   "execution_count": 46,
   "metadata": {},
   "outputs": [
    {
     "data": {
      "text/plain": [
       "['b', 'c']"
      ]
     },
     "execution_count": 46,
     "metadata": {},
     "output_type": "execute_result"
    }
   ],
   "source": [
    "ls = [\"a\",\"b\",\"a\",\"c\",\"a\"]\n",
    "s = \"a\"\n",
    "list(filter(s.__ne__, ls))"
   ]
  },
  {
   "cell_type": "code",
   "execution_count": null,
   "metadata": {},
   "outputs": [],
   "source": [
    "# __add__\n",
    "int.__add__"
   ]
  },
  {
   "cell_type": "code",
   "execution_count": 47,
   "metadata": {},
   "outputs": [
    {
     "data": {
      "text/plain": [
       "(5, 5)"
      ]
     },
     "execution_count": 47,
     "metadata": {},
     "output_type": "execute_result"
    }
   ],
   "source": [
    "2 + 3, (2).__add__(3)"
   ]
  },
  {
   "cell_type": "code",
   "execution_count": 48,
   "metadata": {},
   "outputs": [],
   "source": [
    "class Number:\n",
    "    def  __init__(self, num):\n",
    "        self.num = num\n",
    "    def __add__(self, other_obj):\n",
    "        return self.num + other_obj.num"
   ]
  },
  {
   "cell_type": "code",
   "execution_count": 49,
   "metadata": {},
   "outputs": [
    {
     "data": {
      "text/plain": [
       "5"
      ]
     },
     "execution_count": 49,
     "metadata": {},
     "output_type": "execute_result"
    }
   ],
   "source": [
    "n1 = Number(2)\n",
    "n2 = Number(3)\n",
    "n1 + n2"
   ]
  },
  {
   "cell_type": "code",
   "execution_count": 53,
   "metadata": {},
   "outputs": [],
   "source": [
    "class Number:\n",
    "    def  __init__(self, num):\n",
    "        self.num = num\n",
    "    def __add__(self, other_obj):\n",
    "        return self.num - other_obj.num"
   ]
  },
  {
   "cell_type": "code",
   "execution_count": 54,
   "metadata": {},
   "outputs": [
    {
     "data": {
      "text/plain": [
       "-1"
      ]
     },
     "execution_count": 54,
     "metadata": {},
     "output_type": "execute_result"
    }
   ],
   "source": [
    "n1 = Number(2)\n",
    "n2 = Number(3)\n",
    "n1 + n2"
   ]
  },
  {
   "cell_type": "markdown",
   "metadata": {},
   "source": [
    "### __str__, __repr__\n",
    "- `__str__` : 값을 출력할 때 사용 (사용자 대상으로 보여주는 정보)\n",
    "- `__repr__` : 객체를 출력할 때 사용 (개발자 대상으로 보여주는 정보) 실행하면 같은 객체가 만들어지도록 출력"
   ]
  },
  {
   "cell_type": "code",
   "execution_count": 55,
   "metadata": {},
   "outputs": [],
   "source": [
    "class Number:\n",
    "    def __init__(self, num):\n",
    "        self.num = num"
   ]
  },
  {
   "cell_type": "code",
   "execution_count": 56,
   "metadata": {},
   "outputs": [],
   "source": [
    "n = Number(5)"
   ]
  },
  {
   "cell_type": "code",
   "execution_count": 57,
   "metadata": {},
   "outputs": [
    {
     "name": "stdout",
     "output_type": "stream",
     "text": [
      "<__main__.Number object at 0x000000000B694A58>\n"
     ]
    }
   ],
   "source": [
    "# __str__\n",
    "print(n)"
   ]
  },
  {
   "cell_type": "code",
   "execution_count": 58,
   "metadata": {},
   "outputs": [
    {
     "data": {
      "text/plain": [
       "<__main__.Number at 0xb694a58>"
      ]
     },
     "execution_count": 58,
     "metadata": {},
     "output_type": "execute_result"
    }
   ],
   "source": [
    "# __repr__\n",
    "n"
   ]
  },
  {
   "cell_type": "code",
   "execution_count": null,
   "metadata": {},
   "outputs": [],
   "source": []
  },
  {
   "cell_type": "code",
   "execution_count": null,
   "metadata": {},
   "outputs": [],
   "source": []
  },
  {
   "cell_type": "code",
   "execution_count": null,
   "metadata": {},
   "outputs": [],
   "source": []
  },
  {
   "cell_type": "code",
   "execution_count": null,
   "metadata": {},
   "outputs": [],
   "source": []
  },
  {
   "cell_type": "code",
   "execution_count": null,
   "metadata": {},
   "outputs": [],
   "source": []
  }
 ],
 "metadata": {
  "kernelspec": {
   "display_name": "Python 3",
   "language": "python",
   "name": "python3"
  },
  "language_info": {
   "codemirror_mode": {
    "name": "ipython",
    "version": 3
   },
   "file_extension": ".py",
   "mimetype": "text/x-python",
   "name": "python",
   "nbconvert_exporter": "python",
   "pygments_lexer": "ipython3",
   "version": "3.6.4"
  }
 },
 "nbformat": 4,
 "nbformat_minor": 2
}
