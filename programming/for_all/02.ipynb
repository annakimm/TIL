{
 "cells": [
  {
   "cell_type": "markdown",
   "metadata": {},
   "source": [
    "#### 최대값 찾기"
   ]
  },
  {
   "cell_type": "code",
   "execution_count": 1,
   "metadata": {},
   "outputs": [
    {
     "data": {
      "text/plain": [
       "92"
      ]
     },
     "execution_count": 1,
     "metadata": {},
     "output_type": "execute_result"
    }
   ],
   "source": [
    "def find_max(a):\n",
    "    list_f = a[0]\n",
    "    for i in range(len(a)):\n",
    "        if a[i] > list_f:\n",
    "            list_f = a[i]\n",
    "    return list_f\n",
    "v = [17, 92, 18, 33, 58, 7, 33, 42]\n",
    "find_max(v)"
   ]
  },
  {
   "cell_type": "markdown",
   "metadata": {},
   "source": [
    "리스트에 숫자가 n개 있을 때 가장 큰 값이 있는 위치 번호를 돌려주는 알고리즘"
   ]
  },
  {
   "cell_type": "code",
   "execution_count": 2,
   "metadata": {},
   "outputs": [
    {
     "data": {
      "text/plain": [
       "1"
      ]
     },
     "execution_count": 2,
     "metadata": {},
     "output_type": "execute_result"
    }
   ],
   "source": [
    "# 입력 : 숫자가 n개 들어있는 리스트\n",
    "# 출력 : 숫자 n개 중에서 최대값의 위치(0부터 n-1의 값)\n",
    "def max_s(a):\n",
    "    list_l = 0\n",
    "    for i in range(1, len(a)):\n",
    "        if a[i] > a[list_l]:\n",
    "            list_l = i\n",
    "    return list_l\n",
    "v = [17, 92, 18, 33, 58, 7, 33, 42]    \n",
    "max_s(v)"
   ]
  },
  {
   "cell_type": "markdown",
   "metadata": {},
   "source": [
    "숫자 n개를 리스트로 입력 받아 최소값을 구하는 프로그램을 만들어 보세요"
   ]
  },
  {
   "cell_type": "code",
   "execution_count": 3,
   "metadata": {},
   "outputs": [
    {
     "data": {
      "text/plain": [
       "7"
      ]
     },
     "execution_count": 3,
     "metadata": {},
     "output_type": "execute_result"
    }
   ],
   "source": [
    "# 입력 : 숫자가 n개 들어있는 리스트\n",
    "# 출력 : 숫자 n개 중에서 최대값\n",
    "def min_l(a):\n",
    "    min_i = a[0]\n",
    "    for i in range(1, len(a)):\n",
    "        if a[i] < min_i:\n",
    "            min_i = a[i]\n",
    "    return min_i\n",
    "v = [17, 92, 18, 33, 58, 7, 33, 42]  \n",
    "min_l(v)"
   ]
  },
  {
   "cell_type": "code",
   "execution_count": null,
   "metadata": {},
   "outputs": [],
   "source": []
  },
  {
   "cell_type": "code",
   "execution_count": null,
   "metadata": {},
   "outputs": [],
   "source": []
  },
  {
   "cell_type": "code",
   "execution_count": null,
   "metadata": {},
   "outputs": [],
   "source": []
  }
 ],
 "metadata": {
  "kernelspec": {
   "display_name": "Python 3",
   "language": "python",
   "name": "python3"
  },
  "language_info": {
   "codemirror_mode": {
    "name": "ipython",
    "version": 3
   },
   "file_extension": ".py",
   "mimetype": "text/x-python",
   "name": "python",
   "nbconvert_exporter": "python",
   "pygments_lexer": "ipython3",
   "version": "3.6.4"
  }
 },
 "nbformat": 4,
 "nbformat_minor": 2
}
