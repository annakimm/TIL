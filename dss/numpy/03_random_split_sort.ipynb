{
 "cells": [
  {
   "cell_type": "markdown",
   "metadata": {},
   "source": [
    "- numpy random.seed / 어떤 특정한 시작 숫자를 정해주어 난수를 발생, 그 다음에 만들어지는 난수\n",
    "- numpy random.rand / 0과 1사이 무작위로 난수 생성\n",
    "- numpy random.shuffle / 데이터의 순서 바꾸기\n",
    "- numpy random.choice / 샘플링, 데이터 집합에서 일부를 무작위로 선택함\n",
    "##### numpy rand,randn,randint / 난수생성\n",
    "- numpy.random.randn / 기댓값이 0이고 표준편차가 1인 가우시안 표준 정규 분포를 따르는 난수를 생성\n",
    "- numpy.random.randint / numpy.random.randint(low, high=None, size=None)\n",
    "##### numpy unique, bincount / 난수가 정수 값이라면 데이터 값 분석\n",
    "- numpy.bincount / bincount에 minlength를 설정하여 0부터 minlength-1까지 숫자에 대해 각 카운트 한다.\n",
    "- random.randrange(x,y) / x부터 y까지의 숫자를 random하게 뽑는다\n",
    "- numpy random.normal / 정규분포로부터 무작위 샘플을 만듬\n",
    "- numpy random.binomial / 이항분포로부터 무작위 표본 추출\n",
    "- numpy random.poisson / 포아송분포로부터 무작위 표본 추출"
   ]
  },
  {
   "cell_type": "markdown",
   "metadata": {},
   "source": [
    "seed : 어떤 특정한 시작 숫자를 정해 주면 컴퓨터가 정해진 알고리즘에 의해 마치 난수처럼 보이는 수열을 생성하는데, 이런 시작 숫자를 시드(seed)라고 한다. 일단 생성된 난수는 다음번 난수 생성을 위한 시드값이 된다. 따라서 시드값은 한 번만 정해주면 된다. "
   ]
  },
  {
   "cell_type": "code",
   "execution_count": 1,
   "metadata": {},
   "outputs": [
    {
     "data": {
      "text/plain": [
       "(array([0.54340494, 0.27836939, 0.42451759, 0.84477613, 0.00471886,\n",
       "        0.12156912, 0.67074908, 0.82585276, 0.13670659, 0.57509333]),\n",
       " array([-0.18949583,  0.25500144, -0.45802699,  0.43516349, -0.58359505,\n",
       "         0.81684707,  0.67272081, -0.10441114, -0.53128038,  1.02973269]))"
      ]
     },
     "execution_count": 1,
     "metadata": {},
     "output_type": "execute_result"
    }
   ],
   "source": [
    "np.random.seed(100)\n",
    "rd = np.random.rand(10)     #uniform(균등분포)로 난수 발생\n",
    "rdn = np.random.randn(10)   #gaussian(정규분포)로 난수 발생\n",
    "rd, rdn"
   ]
  },
  {
   "cell_type": "code",
   "execution_count": 2,
   "metadata": {},
   "outputs": [
    {
     "data": {
      "text/plain": [
       "(array([[0.17541045, 0.37283205, 0.00568851],\n",
       "        [0.25242635, 0.79566251, 0.01525497]]),\n",
       " array([[ 1.61898166,  1.54160517, -0.25187914],\n",
       "        [-0.84243574,  0.18451869,  0.9370822 ],\n",
       "        [ 0.73100034,  1.36155613, -0.32623806]]))"
      ]
     },
     "execution_count": 2,
     "metadata": {},
     "output_type": "execute_result"
    }
   ],
   "source": [
    "rd = np.random.rand(2, 3)     #uniform(균등분포)로 난수 발생\n",
    "rdn = np.random.randn(3, 3)   #gaussian(정규분포)로 난수 발생\n",
    "rd, rdn"
   ]
  },
  {
   "cell_type": "code",
   "execution_count": 3,
   "metadata": {},
   "outputs": [
    {
     "data": {
      "text/plain": [
       "array([[ 4,  6,  1, 10],\n",
       "       [ 4,  7,  4,  5],\n",
       "       [ 8,  7,  4, 10]])"
      ]
     },
     "execution_count": 3,
     "metadata": {},
     "output_type": "execute_result"
    }
   ],
   "source": [
    "a = np.random.randint(1, 11, (3, 4))\n",
    "a"
   ]
  },
  {
   "cell_type": "code",
   "execution_count": 4,
   "metadata": {},
   "outputs": [
    {
     "data": {
      "text/plain": [
       "array([[ 4,  7,  4,  5],\n",
       "       [ 8,  7,  4, 10],\n",
       "       [ 4,  6,  1, 10]])"
      ]
     },
     "execution_count": 4,
     "metadata": {},
     "output_type": "execute_result"
    }
   ],
   "source": [
    "np.random.shuffle(a)\n",
    "a"
   ]
  },
  {
   "cell_type": "markdown",
   "metadata": {},
   "source": [
    "numpy.random.choice(a, size=None, replace=True, p=None)\n",
    "\n",
    "- a : 배열이면 원래의 데이터, 정수이면 range(a) 명령으로 데이터 생성\n",
    "- size : 정수. 샘플 숫자\n",
    "- replace : 불리언. True이면 한번 선택한 데이터를 다시 선택 가능\n",
    "- p : 배열. 각 데이터가 선택될 수 있는 확률"
   ]
  },
  {
   "cell_type": "code",
   "execution_count": 5,
   "metadata": {},
   "outputs": [
    {
     "data": {
      "text/plain": [
       "array([2, 2, 0, 3, 2, 3, 3, 2, 3, 3], dtype=int64)"
      ]
     },
     "execution_count": 5,
     "metadata": {},
     "output_type": "execute_result"
    }
   ],
   "source": [
    "np.random.choice(5, 10, replace=True, p=[0.1, 0, 0.3, 0.6, 0])"
   ]
  },
  {
   "cell_type": "code",
   "execution_count": 6,
   "metadata": {},
   "outputs": [
    {
     "data": {
      "text/plain": [
       "array([ 1,  4,  5,  6,  7,  8, 10])"
      ]
     },
     "execution_count": 6,
     "metadata": {},
     "output_type": "execute_result"
    }
   ],
   "source": [
    "# np.unique : 중복된 요소 제거\n",
    "np.unique(a)"
   ]
  },
  {
   "cell_type": "code",
   "execution_count": 7,
   "metadata": {},
   "outputs": [
    {
     "data": {
      "text/plain": [
       "(array([ 1,  4,  5,  6,  7,  8, 10]),\n",
       " array([1, 4, 1, 1, 2, 1, 2], dtype=int64))"
      ]
     },
     "execution_count": 7,
     "metadata": {},
     "output_type": "execute_result"
    }
   ],
   "source": [
    "index, count = np.unique(a, return_counts=True)\n",
    "index, count    #return_counts 옵션은 요소의 개수"
   ]
  },
  {
   "cell_type": "code",
   "execution_count": 8,
   "metadata": {},
   "outputs": [
    {
     "data": {
      "text/plain": [
       "(array(['a', 'b', 'c'], dtype='<U1'), array([2, 2, 1], dtype=int64))"
      ]
     },
     "execution_count": 8,
     "metadata": {},
     "output_type": "execute_result"
    }
   ],
   "source": [
    "u = np.array(['a', 'b', 'b', 'c', 'a'])\n",
    "index, count = np.unique(u, return_counts=True)\n",
    "index, count"
   ]
  },
  {
   "cell_type": "code",
   "execution_count": 9,
   "metadata": {},
   "outputs": [
    {
     "data": {
      "text/plain": [
       "array([0, 2, 3, 1, 0, 0], dtype=int64)"
      ]
     },
     "execution_count": 9,
     "metadata": {},
     "output_type": "execute_result"
    }
   ],
   "source": [
    "# 요소의 개수, 요소에 없어도 minlength를 통해 0값을 return\n",
    "np.bincount([1, 1, 2, 2, 2, 3], minlength=6)"
   ]
  },
  {
   "cell_type": "markdown",
   "metadata": {},
   "source": [
    "#### split\n",
    "np.split(<인수>, [n]) : n번째 뒤에서 분리"
   ]
  },
  {
   "cell_type": "code",
   "execution_count": 10,
   "metadata": {},
   "outputs": [
    {
     "data": {
      "text/plain": [
       "[array([0, 1, 2, 3, 4]), array([5, 6, 7, 8, 9])]"
      ]
     },
     "execution_count": 10,
     "metadata": {},
     "output_type": "execute_result"
    }
   ],
   "source": [
    "r = np.arange(0, 10)\n",
    "r1 = np.split(r, [5])\n",
    "r1"
   ]
  },
  {
   "cell_type": "code",
   "execution_count": 11,
   "metadata": {},
   "outputs": [
    {
     "name": "stdout",
     "output_type": "stream",
     "text": [
      "[0 1 2 3 4]\n",
      "[5 6 7 8 9]\n"
     ]
    }
   ],
   "source": [
    "r2, r3 = np.split(r, [5])\n",
    "print(r2, r3, sep=\"\\n\")"
   ]
  },
  {
   "cell_type": "code",
   "execution_count": 12,
   "metadata": {},
   "outputs": [
    {
     "data": {
      "text/plain": [
       "array([[0, 7, 2, 3, 5, 4],\n",
       "       [2, 4, 3, 7, 9, 0],\n",
       "       [0, 5, 9, 6, 6, 5],\n",
       "       [6, 4, 7, 3, 9, 2]])"
      ]
     },
     "execution_count": 12,
     "metadata": {},
     "output_type": "execute_result"
    }
   ],
   "source": [
    "# vsplit\n",
    "r = np.random.randint(10, size=(4, 6))\n",
    "r"
   ]
  },
  {
   "cell_type": "code",
   "execution_count": 13,
   "metadata": {},
   "outputs": [
    {
     "name": "stdout",
     "output_type": "stream",
     "text": [
      "[[0 7 2 3 5 4]\n",
      " [2 4 3 7 9 0]]\n",
      "[[0 5 9 6 6 5]]\n",
      "[[6 4 7 3 9 2]]\n"
     ]
    }
   ],
   "source": [
    "r1, r2, r3 = np.vsplit(r, [2, 3])\n",
    "print(r1, r2, r3, sep=\"\\n\")"
   ]
  },
  {
   "cell_type": "code",
   "execution_count": 14,
   "metadata": {},
   "outputs": [
    {
     "name": "stdout",
     "output_type": "stream",
     "text": [
      "[[0 7]\n",
      " [2 4]\n",
      " [0 5]\n",
      " [6 4]]\n",
      "[[2 3]\n",
      " [3 7]\n",
      " [9 6]\n",
      " [7 3]]\n",
      "[[5 4]\n",
      " [9 0]\n",
      " [6 5]\n",
      " [9 2]]\n"
     ]
    }
   ],
   "source": [
    "h1, h2, h3 = np.hsplit(r, [2, 4])\n",
    "print(h1, h2, h3, sep=\"\\n\")"
   ]
  },
  {
   "cell_type": "markdown",
   "metadata": {},
   "source": [
    "#### sort : 행이나 열 내에서 정렬"
   ]
  },
  {
   "cell_type": "code",
   "execution_count": 15,
   "metadata": {},
   "outputs": [
    {
     "data": {
      "text/plain": [
       "array([[3, 8, 7],\n",
       "       [1, 5, 9],\n",
       "       [3, 0, 6]])"
      ]
     },
     "execution_count": 15,
     "metadata": {},
     "output_type": "execute_result"
    }
   ],
   "source": [
    "s1 = np.random.randint(10, size=(3,3))\n",
    "s1"
   ]
  },
  {
   "cell_type": "code",
   "execution_count": 16,
   "metadata": {},
   "outputs": [
    {
     "data": {
      "text/plain": [
       "array([[3, 7, 8],\n",
       "       [1, 5, 9],\n",
       "       [0, 3, 6]])"
      ]
     },
     "execution_count": 16,
     "metadata": {},
     "output_type": "execute_result"
    }
   ],
   "source": [
    "s1.sort()\n",
    "s1"
   ]
  },
  {
   "cell_type": "code",
   "execution_count": 17,
   "metadata": {},
   "outputs": [
    {
     "data": {
      "text/plain": [
       "array([[2, 3, 4],\n",
       "       [8, 9, 8],\n",
       "       [5, 2, 7]])"
      ]
     },
     "execution_count": 17,
     "metadata": {},
     "output_type": "execute_result"
    }
   ],
   "source": [
    "s2 = np.random.randint(10, size=(3,3))\n",
    "s2"
   ]
  },
  {
   "cell_type": "code",
   "execution_count": 18,
   "metadata": {},
   "outputs": [
    {
     "data": {
      "text/plain": [
       "array([[2, 2, 4],\n",
       "       [5, 3, 7],\n",
       "       [8, 9, 8]])"
      ]
     },
     "execution_count": 18,
     "metadata": {},
     "output_type": "execute_result"
    }
   ],
   "source": [
    "np.sort(s2, axis=0)"
   ]
  },
  {
   "cell_type": "code",
   "execution_count": 19,
   "metadata": {},
   "outputs": [
    {
     "data": {
      "text/plain": [
       "array([[2, 3, 4],\n",
       "       [8, 8, 9],\n",
       "       [2, 5, 7]])"
      ]
     },
     "execution_count": 19,
     "metadata": {},
     "output_type": "execute_result"
    }
   ],
   "source": [
    "s2.sort(axis=-1)\n",
    "s2"
   ]
  },
  {
   "cell_type": "code",
   "execution_count": 20,
   "metadata": {},
   "outputs": [
    {
     "data": {
      "text/plain": [
       "array([[[13,  1, 10,  9,  3],\n",
       "        [17,  6,  3,  4, 15],\n",
       "        [14,  2, 15,  2,  9],\n",
       "        [19, 19,  8,  3, 18]],\n",
       "\n",
       "       [[ 3, 18, 14,  1, 11],\n",
       "        [ 4,  6, 19,  7, 18],\n",
       "        [11, 14, 18,  3, 16],\n",
       "        [13, 12,  6, 13,  7]],\n",
       "\n",
       "       [[17, 19, 18,  2, 11],\n",
       "        [13, 17,  5, 11,  6],\n",
       "        [17, 17, 18,  4,  3],\n",
       "        [ 4, 18, 17,  7,  3]]])"
      ]
     },
     "execution_count": 20,
     "metadata": {},
     "output_type": "execute_result"
    }
   ],
   "source": [
    "s3 = np.random.randint(1, 20, size=(3, 4, 5))\n",
    "s3"
   ]
  },
  {
   "cell_type": "code",
   "execution_count": 21,
   "metadata": {},
   "outputs": [
    {
     "data": {
      "text/plain": [
       "array([[63, 28, 36, 18, 45],\n",
       "       [31, 50, 57, 24, 52],\n",
       "       [51, 71, 58, 24, 23]])"
      ]
     },
     "execution_count": 21,
     "metadata": {},
     "output_type": "execute_result"
    }
   ],
   "source": [
    "np.sum(s3, axis=1)"
   ]
  },
  {
   "cell_type": "markdown",
   "metadata": {},
   "source": [
    "(3, 4, 5)인 3차원 배열일 경우 axis=(0, -1, 1)"
   ]
  },
  {
   "cell_type": "markdown",
   "metadata": {},
   "source": [
    "(3, 4)인 2차원 배열일 경우 axis=(-1 | 1, 0)"
   ]
  },
  {
   "cell_type": "code",
   "execution_count": 22,
   "metadata": {},
   "outputs": [
    {
     "data": {
      "text/plain": [
       "(array([2, 3, 1, 0], dtype=int64), array([12, 16, 38, 42]))"
      ]
     },
     "execution_count": 22,
     "metadata": {},
     "output_type": "execute_result"
    }
   ],
   "source": [
    "# 요소에 대한 순서만 알고 싶을 때\n",
    "# argsort():정렬을 한 후 그 자리에 와야 하는 요소의 현재 위치 출력\n",
    "a = np.array([42, 38, 12, 16])\n",
    "np.argsort(a), a[a.argsort()]"
   ]
  },
  {
   "cell_type": "markdown",
   "metadata": {},
   "source": [
    "#### 연습 문제 2¶\n",
    "다음 배열은 첫번째 행(row)에 학번, 두번째 행에 영어 성적, 세번째 행에 수학 성적을 적은 배열이다. 영어 성적을 기준으로 각 열(column)을 재정렬하라.\n",
    "\n",
    "array([[  1,    2,    3,    4],\n",
    "       [ 46,   99,  100,   71],\n",
    "       [ 81,   59,   90,  100]])"
   ]
  },
  {
   "cell_type": "code",
   "execution_count": 23,
   "metadata": {
    "scrolled": true
   },
   "outputs": [
    {
     "data": {
      "text/plain": [
       "array([[  1,   2,   3,   4],\n",
       "       [ 46,  99, 100,  71],\n",
       "       [ 81,  59,  90, 100]])"
      ]
     },
     "execution_count": 23,
     "metadata": {},
     "output_type": "execute_result"
    }
   ],
   "source": [
    "score = np.array([[1,2,3,4],[46,99,100,71],[81,59,90,100]])\n",
    "score"
   ]
  },
  {
   "cell_type": "code",
   "execution_count": 24,
   "metadata": {},
   "outputs": [
    {
     "data": {
      "text/plain": [
       "(array([[0, 1, 2, 3],\n",
       "        [0, 3, 1, 2],\n",
       "        [1, 0, 2, 3]], dtype=int64), array([0, 3, 1, 2], dtype=int64))"
      ]
     },
     "execution_count": 24,
     "metadata": {},
     "output_type": "execute_result"
    }
   ],
   "source": [
    "a = score.argsort()\n",
    "a, a[1, :]"
   ]
  },
  {
   "cell_type": "code",
   "execution_count": 25,
   "metadata": {},
   "outputs": [
    {
     "data": {
      "text/plain": [
       "array([[  1,   4,   2,   3],\n",
       "       [ 46,  71,  99, 100],\n",
       "       [ 81, 100,  59,  90]])"
      ]
     },
     "execution_count": 25,
     "metadata": {},
     "output_type": "execute_result"
    }
   ],
   "source": [
    "a1 = score[:,score.argsort()[1,0]]\n",
    "a2 = score[:,score.argsort()[1,1]]\n",
    "a3 = score[:,score.argsort()[1,2]]\n",
    "a4 = score[:,score.argsort()[1,3]]\n",
    "np.vstack([a1, a2, a3, a4]).T"
   ]
  }
 ],
 "metadata": {
  "kernelspec": {
   "display_name": "Python 3",
   "language": "python",
   "name": "python3"
  },
  "language_info": {
   "codemirror_mode": {
    "name": "ipython",
    "version": 3
   },
   "file_extension": ".py",
   "mimetype": "text/x-python",
   "name": "python",
   "nbconvert_exporter": "python",
   "pygments_lexer": "ipython3",
   "version": "3.6.4"
  }
 },
 "nbformat": 4,
 "nbformat_minor": 2
}
